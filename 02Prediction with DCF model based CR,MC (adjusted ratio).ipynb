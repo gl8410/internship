{
 "cells": [
  {
   "cell_type": "code",
   "execution_count": 1,
   "metadata": {},
   "outputs": [],
   "source": [
    "import pandas as pd\n",
    "import numpy as np\n",
    "import os\n",
    "import time\n",
    "import warnings\n",
    "warnings.filterwarnings('ignore')"
   ]
  },
  {
   "cell_type": "markdown",
   "metadata": {},
   "source": [
    "# Adjust CR dataset to balanced dataset"
   ]
  },
  {
   "cell_type": "code",
   "execution_count": 2,
   "metadata": {},
   "outputs": [],
   "source": [
    "df_CRTR = pd.read_csv('C:/Python/internship/Crystal_Features_new/df_CRTR_selRFE')\n",
    "df_CRTE = pd.read_csv('C:/Python/internship/Crystal_Features_new/df_CRTE_selRFE')"
   ]
  },
  {
   "cell_type": "code",
   "execution_count": 3,
   "metadata": {},
   "outputs": [],
   "source": [
    "dy_CRTR = pd.read_csv('C:/Python/internship/Crystal_y_label_Csv/df_CR_TR_Label')\n",
    "dy_CRTE = pd.read_csv('C:/Python/internship/Crystal_y_label_Csv/df_CR_TE_label')"
   ]
  },
  {
   "cell_type": "code",
   "execution_count": 4,
   "metadata": {},
   "outputs": [
    {
     "data": {
      "text/html": [
       "<div>\n",
       "<style scoped>\n",
       "    .dataframe tbody tr th:only-of-type {\n",
       "        vertical-align: middle;\n",
       "    }\n",
       "\n",
       "    .dataframe tbody tr th {\n",
       "        vertical-align: top;\n",
       "    }\n",
       "\n",
       "    .dataframe thead th {\n",
       "        text-align: right;\n",
       "    }\n",
       "</style>\n",
       "<table border=\"1\" class=\"dataframe\">\n",
       "  <thead>\n",
       "    <tr style=\"text-align: right;\">\n",
       "      <th></th>\n",
       "      <th>Unnamed: 0</th>\n",
       "      <th>AAC_D</th>\n",
       "      <th>AAC_E</th>\n",
       "      <th>AAC_L</th>\n",
       "      <th>AAC_M</th>\n",
       "      <th>AAC_R</th>\n",
       "      <th>AAC_S</th>\n",
       "      <th>AAC_Y</th>\n",
       "      <th>APAAC_Pc1.R</th>\n",
       "      <th>APAAC_Pc1.Q</th>\n",
       "      <th>...</th>\n",
       "      <th>QSOrder_Grantham.Xd.18</th>\n",
       "      <th>QSOrder_Grantham.Xd.19</th>\n",
       "      <th>QSOrder_Grantham.Xd.20</th>\n",
       "      <th>QSOrder_Grantham.Xd.21</th>\n",
       "      <th>QSOrder_Grantham.Xd.23</th>\n",
       "      <th>QSOrder_Grantham.Xd.25</th>\n",
       "      <th>QSOrder_Grantham.Xd.26</th>\n",
       "      <th>QSOrder_Grantham.Xd.27</th>\n",
       "      <th>QSOrder_Grantham.Xd.28</th>\n",
       "      <th>QSOrder_Grantham.Xd.30</th>\n",
       "    </tr>\n",
       "  </thead>\n",
       "  <tbody>\n",
       "    <tr>\n",
       "      <th>0</th>\n",
       "      <td>0</td>\n",
       "      <td>0.070155</td>\n",
       "      <td>0.048751</td>\n",
       "      <td>0.102259</td>\n",
       "      <td>0.010702</td>\n",
       "      <td>0.027943</td>\n",
       "      <td>0.065398</td>\n",
       "      <td>0.029727</td>\n",
       "      <td>46.388532</td>\n",
       "      <td>63.167363</td>\n",
       "      <td>...</td>\n",
       "      <td>0.033621</td>\n",
       "      <td>0.031979</td>\n",
       "      <td>0.034244</td>\n",
       "      <td>0.03439</td>\n",
       "      <td>0.035338</td>\n",
       "      <td>0.031261</td>\n",
       "      <td>0.034983</td>\n",
       "      <td>0.033995</td>\n",
       "      <td>0.032082</td>\n",
       "      <td>0.033454</td>\n",
       "    </tr>\n",
       "  </tbody>\n",
       "</table>\n",
       "<p>1 rows × 559 columns</p>\n",
       "</div>"
      ],
      "text/plain": [
       "   Unnamed: 0     AAC_D     AAC_E     AAC_L     AAC_M     AAC_R     AAC_S  \\\n",
       "0           0  0.070155  0.048751  0.102259  0.010702  0.027943  0.065398   \n",
       "\n",
       "      AAC_Y  APAAC_Pc1.R  APAAC_Pc1.Q  ...  QSOrder_Grantham.Xd.18  \\\n",
       "0  0.029727    46.388532    63.167363  ...                0.033621   \n",
       "\n",
       "   QSOrder_Grantham.Xd.19  QSOrder_Grantham.Xd.20  QSOrder_Grantham.Xd.21  \\\n",
       "0                0.031979                0.034244                 0.03439   \n",
       "\n",
       "   QSOrder_Grantham.Xd.23  QSOrder_Grantham.Xd.25  QSOrder_Grantham.Xd.26  \\\n",
       "0                0.035338                0.031261                0.034983   \n",
       "\n",
       "   QSOrder_Grantham.Xd.27  QSOrder_Grantham.Xd.28  QSOrder_Grantham.Xd.30  \n",
       "0                0.033995                0.032082                0.033454  \n",
       "\n",
       "[1 rows x 559 columns]"
      ]
     },
     "execution_count": 4,
     "metadata": {},
     "output_type": "execute_result"
    }
   ],
   "source": [
    "df_CRTR.head(1)"
   ]
  },
  {
   "cell_type": "code",
   "execution_count": 5,
   "metadata": {},
   "outputs": [
    {
     "data": {
      "text/html": [
       "<div>\n",
       "<style scoped>\n",
       "    .dataframe tbody tr th:only-of-type {\n",
       "        vertical-align: middle;\n",
       "    }\n",
       "\n",
       "    .dataframe tbody tr th {\n",
       "        vertical-align: top;\n",
       "    }\n",
       "\n",
       "    .dataframe thead th {\n",
       "        text-align: right;\n",
       "    }\n",
       "</style>\n",
       "<table border=\"1\" class=\"dataframe\">\n",
       "  <thead>\n",
       "    <tr style=\"text-align: right;\">\n",
       "      <th></th>\n",
       "      <th>Unnamed: 0</th>\n",
       "      <th>id</th>\n",
       "      <th>y</th>\n",
       "    </tr>\n",
       "  </thead>\n",
       "  <tbody>\n",
       "    <tr>\n",
       "      <th>0</th>\n",
       "      <td>0</td>\n",
       "      <td>CPX_91662_05666_CSGID</td>\n",
       "      <td>-1</td>\n",
       "    </tr>\n",
       "  </tbody>\n",
       "</table>\n",
       "</div>"
      ],
      "text/plain": [
       "   Unnamed: 0                     id  y\n",
       "0           0  CPX_91662_05666_CSGID -1"
      ]
     },
     "execution_count": 5,
     "metadata": {},
     "output_type": "execute_result"
    }
   ],
   "source": [
    "dy_CRTR.head(1)"
   ]
  },
  {
   "cell_type": "code",
   "execution_count": 6,
   "metadata": {},
   "outputs": [],
   "source": [
    "CRTR = df_CRTR.merge(dy_CRTR,on='Unnamed: 0')\n",
    "CRTE = df_CRTE.merge(dy_CRTE,on='Unnamed: 0')"
   ]
  },
  {
   "cell_type": "markdown",
   "metadata": {},
   "source": [
    "## Adjust CRTR and create new CRTR"
   ]
  },
  {
   "cell_type": "code",
   "execution_count": 7,
   "metadata": {},
   "outputs": [
    {
     "data": {
      "text/plain": [
       "(19791, 561)"
      ]
     },
     "execution_count": 7,
     "metadata": {},
     "output_type": "execute_result"
    }
   ],
   "source": [
    "CRTR.drop_duplicates()\n",
    "CRTR.shape"
   ]
  },
  {
   "cell_type": "code",
   "execution_count": 8,
   "metadata": {},
   "outputs": [
    {
     "data": {
      "text/plain": [
       "(4947, 561)"
      ]
     },
     "execution_count": 8,
     "metadata": {},
     "output_type": "execute_result"
    }
   ],
   "source": [
    "CRTE.drop_duplicates()\n",
    "CRTE.shape"
   ]
  },
  {
   "cell_type": "code",
   "execution_count": 9,
   "metadata": {},
   "outputs": [
    {
     "data": {
      "text/html": [
       "<div>\n",
       "<style scoped>\n",
       "    .dataframe tbody tr th:only-of-type {\n",
       "        vertical-align: middle;\n",
       "    }\n",
       "\n",
       "    .dataframe tbody tr th {\n",
       "        vertical-align: top;\n",
       "    }\n",
       "\n",
       "    .dataframe thead th {\n",
       "        text-align: right;\n",
       "    }\n",
       "</style>\n",
       "<table border=\"1\" class=\"dataframe\">\n",
       "  <thead>\n",
       "    <tr style=\"text-align: right;\">\n",
       "      <th></th>\n",
       "      <th>Unnamed: 0</th>\n",
       "      <th>AAC_D</th>\n",
       "      <th>AAC_E</th>\n",
       "      <th>AAC_L</th>\n",
       "      <th>AAC_M</th>\n",
       "      <th>AAC_R</th>\n",
       "      <th>AAC_S</th>\n",
       "      <th>AAC_Y</th>\n",
       "      <th>APAAC_Pc1.R</th>\n",
       "      <th>APAAC_Pc1.Q</th>\n",
       "      <th>...</th>\n",
       "      <th>QSOrder_Grantham.Xd.20</th>\n",
       "      <th>QSOrder_Grantham.Xd.21</th>\n",
       "      <th>QSOrder_Grantham.Xd.23</th>\n",
       "      <th>QSOrder_Grantham.Xd.25</th>\n",
       "      <th>QSOrder_Grantham.Xd.26</th>\n",
       "      <th>QSOrder_Grantham.Xd.27</th>\n",
       "      <th>QSOrder_Grantham.Xd.28</th>\n",
       "      <th>QSOrder_Grantham.Xd.30</th>\n",
       "      <th>id</th>\n",
       "      <th>y</th>\n",
       "    </tr>\n",
       "  </thead>\n",
       "  <tbody>\n",
       "    <tr>\n",
       "      <th>0</th>\n",
       "      <td>0</td>\n",
       "      <td>0.070155</td>\n",
       "      <td>0.048751</td>\n",
       "      <td>0.102259</td>\n",
       "      <td>0.010702</td>\n",
       "      <td>0.027943</td>\n",
       "      <td>0.065398</td>\n",
       "      <td>0.029727</td>\n",
       "      <td>46.388532</td>\n",
       "      <td>63.167363</td>\n",
       "      <td>...</td>\n",
       "      <td>0.034244</td>\n",
       "      <td>0.03439</td>\n",
       "      <td>0.035338</td>\n",
       "      <td>0.031261</td>\n",
       "      <td>0.034983</td>\n",
       "      <td>0.033995</td>\n",
       "      <td>0.032082</td>\n",
       "      <td>0.033454</td>\n",
       "      <td>CPX_91662_05666_CSGID</td>\n",
       "      <td>-1</td>\n",
       "    </tr>\n",
       "  </tbody>\n",
       "</table>\n",
       "<p>1 rows × 561 columns</p>\n",
       "</div>"
      ],
      "text/plain": [
       "   Unnamed: 0     AAC_D     AAC_E     AAC_L     AAC_M     AAC_R     AAC_S  \\\n",
       "0           0  0.070155  0.048751  0.102259  0.010702  0.027943  0.065398   \n",
       "\n",
       "      AAC_Y  APAAC_Pc1.R  APAAC_Pc1.Q  ...  QSOrder_Grantham.Xd.20  \\\n",
       "0  0.029727    46.388532    63.167363  ...                0.034244   \n",
       "\n",
       "   QSOrder_Grantham.Xd.21  QSOrder_Grantham.Xd.23  QSOrder_Grantham.Xd.25  \\\n",
       "0                 0.03439                0.035338                0.031261   \n",
       "\n",
       "   QSOrder_Grantham.Xd.26  QSOrder_Grantham.Xd.27  QSOrder_Grantham.Xd.28  \\\n",
       "0                0.034983                0.033995                0.032082   \n",
       "\n",
       "   QSOrder_Grantham.Xd.30                     id  y  \n",
       "0                0.033454  CPX_91662_05666_CSGID -1  \n",
       "\n",
       "[1 rows x 561 columns]"
      ]
     },
     "execution_count": 9,
     "metadata": {},
     "output_type": "execute_result"
    }
   ],
   "source": [
    "CRTR.head(1)"
   ]
  },
  {
   "cell_type": "code",
   "execution_count": 10,
   "metadata": {},
   "outputs": [],
   "source": [
    "#class count\n",
    "CRTR_Class_1 = CRTR[CRTR['y'] == 1]\n",
    "CRTR_Class_0 = CRTR[CRTR['y'] == -1]"
   ]
  },
  {
   "cell_type": "code",
   "execution_count": 11,
   "metadata": {},
   "outputs": [
    {
     "data": {
      "text/plain": [
       "(1234, 561)"
      ]
     },
     "execution_count": 11,
     "metadata": {},
     "output_type": "execute_result"
    }
   ],
   "source": [
    "CRTR_Class_1.shape"
   ]
  },
  {
   "cell_type": "code",
   "execution_count": 12,
   "metadata": {},
   "outputs": [
    {
     "data": {
      "text/plain": [
       "(18557, 561)"
      ]
     },
     "execution_count": 12,
     "metadata": {},
     "output_type": "execute_result"
    }
   ],
   "source": [
    "CRTR_Class_0.shape"
   ]
  },
  {
   "cell_type": "code",
   "execution_count": 13,
   "metadata": {},
   "outputs": [
    {
     "data": {
      "text/plain": [
       "(4200, 561)"
      ]
     },
     "execution_count": 13,
     "metadata": {},
     "output_type": "execute_result"
    }
   ],
   "source": [
    "CRTR_Class_0_under = CRTR_Class_0.sample(4200)\n",
    "CRTR_Class_0_under.shape"
   ]
  },
  {
   "cell_type": "code",
   "execution_count": 14,
   "metadata": {},
   "outputs": [],
   "source": [
    "CRTR_N = pd.concat([CRTR_Class_0_under,CRTR_Class_1],axis=0)"
   ]
  },
  {
   "cell_type": "code",
   "execution_count": 15,
   "metadata": {},
   "outputs": [
    {
     "data": {
      "text/plain": [
       "(5434, 561)"
      ]
     },
     "execution_count": 15,
     "metadata": {},
     "output_type": "execute_result"
    }
   ],
   "source": [
    "CRTR_N.shape"
   ]
  },
  {
   "cell_type": "markdown",
   "metadata": {},
   "source": [
    "## Adjust CRTE and create new CRTE"
   ]
  },
  {
   "cell_type": "code",
   "execution_count": 16,
   "metadata": {},
   "outputs": [
    {
     "data": {
      "text/plain": [
       "(4947, 561)"
      ]
     },
     "execution_count": 16,
     "metadata": {},
     "output_type": "execute_result"
    }
   ],
   "source": [
    "CRTE.drop_duplicates()\n",
    "CRTE.shape"
   ]
  },
  {
   "cell_type": "code",
   "execution_count": 17,
   "metadata": {},
   "outputs": [],
   "source": [
    "#class count\n",
    "CRTE_Class_1 = CRTE[CRTE['y'] == 1]\n",
    "CRTE_Class_0 = CRTE[CRTE['y'] == -1]"
   ]
  },
  {
   "cell_type": "code",
   "execution_count": 18,
   "metadata": {},
   "outputs": [
    {
     "name": "stdout",
     "output_type": "stream",
     "text": [
      "(321, 561)\n",
      "(4626, 561)\n"
     ]
    }
   ],
   "source": [
    "print(CRTE_Class_1.shape)\n",
    "print(CRTE_Class_0.shape)"
   ]
  },
  {
   "cell_type": "code",
   "execution_count": 19,
   "metadata": {},
   "outputs": [
    {
     "data": {
      "text/plain": [
       "(1100, 561)"
      ]
     },
     "execution_count": 19,
     "metadata": {},
     "output_type": "execute_result"
    }
   ],
   "source": [
    "CRTE_Class_0_under = CRTE_Class_0.sample(1100)\n",
    "CRTE_Class_0_under.shape"
   ]
  },
  {
   "cell_type": "code",
   "execution_count": 20,
   "metadata": {},
   "outputs": [
    {
     "data": {
      "text/plain": [
       "(1421, 561)"
      ]
     },
     "execution_count": 20,
     "metadata": {},
     "output_type": "execute_result"
    }
   ],
   "source": [
    "CRTE_N = pd.concat([CRTE_Class_0_under,CRTE_Class_1],axis=0)\n",
    "CRTE_N.shape"
   ]
  },
  {
   "cell_type": "markdown",
   "metadata": {},
   "source": [
    "## Prediction based on Deep-cascade forest"
   ]
  },
  {
   "cell_type": "code",
   "execution_count": 21,
   "metadata": {},
   "outputs": [],
   "source": [
    "from deepforest import CascadeForestClassifier\n",
    "from sklearn.metrics import classification_report,confusion_matrix\n",
    "from sklearn.metrics import matthews_corrcoef"
   ]
  },
  {
   "cell_type": "code",
   "execution_count": 22,
   "metadata": {},
   "outputs": [],
   "source": [
    "X = CRTR_N.iloc[:,1:-2]\n",
    "Y = CRTR_N.iloc[:,-1]"
   ]
  },
  {
   "cell_type": "code",
   "execution_count": 23,
   "metadata": {},
   "outputs": [],
   "source": [
    "x = CRTE_N.iloc[:,1:-2]\n",
    "y = CRTE_N.iloc[:,-1]"
   ]
  },
  {
   "cell_type": "code",
   "execution_count": 24,
   "metadata": {},
   "outputs": [
    {
     "data": {
      "text/plain": [
       "((5434, 558), (5434,))"
      ]
     },
     "execution_count": 24,
     "metadata": {},
     "output_type": "execute_result"
    }
   ],
   "source": [
    "X.shape,Y.shape"
   ]
  },
  {
   "cell_type": "code",
   "execution_count": 25,
   "metadata": {},
   "outputs": [
    {
     "data": {
      "text/plain": [
       "((1421, 558), (1421,))"
      ]
     },
     "execution_count": 25,
     "metadata": {},
     "output_type": "execute_result"
    }
   ],
   "source": [
    "x.shape,y.shape"
   ]
  },
  {
   "cell_type": "code",
   "execution_count": 28,
   "metadata": {},
   "outputs": [
    {
     "name": "stdout",
     "output_type": "stream",
     "text": [
      "[2022-04-23 07:25:42.939] Start to fit the model:\n",
      "[2022-04-23 07:25:42.939] Fitting cascade layer = 0 \n",
      "[2022-04-23 07:25:55.895] layer = 0  | Val Acc = 79.076 % | Elapsed = 12.957 s\n",
      "[2022-04-23 07:25:55.908] Fitting cascade layer = 1 \n",
      "[2022-04-23 07:26:07.090] layer = 1  | Val Acc = 79.849 % | Elapsed = 11.182 s\n",
      "[2022-04-23 07:26:07.097] Fitting cascade layer = 2 \n",
      "[2022-04-23 07:26:18.314] layer = 2  | Val Acc = 79.996 % | Elapsed = 11.217 s\n",
      "[2022-04-23 07:26:18.321] Fitting cascade layer = 3 \n",
      "[2022-04-23 07:26:29.614] layer = 3  | Val Acc = 80.180 % | Elapsed = 11.294 s\n",
      "[2022-04-23 07:26:29.623] Fitting cascade layer = 4 \n",
      "[2022-04-23 07:26:40.861] layer = 4  | Val Acc = 79.886 % | Elapsed = 11.238 s\n",
      "[2022-04-23 07:26:40.862] Early stopping counter: 1 out of 2\n",
      "[2022-04-23 07:26:40.870] Fitting cascade layer = 5 \n",
      "[2022-04-23 07:26:52.146] layer = 5  | Val Acc = 79.702 % | Elapsed = 11.277 s\n",
      "[2022-04-23 07:26:52.147] Early stopping counter: 2 out of 2\n",
      "[2022-04-23 07:26:52.147] Handling early stopping\n",
      "[2022-04-23 07:26:52.148] The optimal number of layers: 4\n",
      "[2022-04-23 07:26:52.151] Start to evalute the model:\n",
      "[2022-04-23 07:26:52.176] Evaluating cascade layer = 0 \n",
      "[2022-04-23 07:26:52.245] Evaluating cascade layer = 1 \n",
      "[2022-04-23 07:26:52.314] Evaluating cascade layer = 2 \n",
      "[2022-04-23 07:26:52.385] Evaluating cascade layer = 3 \n",
      "[2022-04-23 07:26:52.454] Start to evalute the model:\n",
      "[2022-04-23 07:26:52.478] Evaluating cascade layer = 0 \n",
      "[2022-04-23 07:26:52.547] Evaluating cascade layer = 1 \n",
      "[2022-04-23 07:26:52.618] Evaluating cascade layer = 2 \n",
      "[2022-04-23 07:26:52.689] Evaluating cascade layer = 3 \n",
      "0.7945109078114004\n",
      "              precision    recall  f1-score   support\n",
      "\n",
      "          -1       0.82      0.94      0.88      1100\n",
      "           1       0.59      0.29      0.39       321\n",
      "\n",
      "    accuracy                           0.79      1421\n",
      "   macro avg       0.71      0.62      0.63      1421\n",
      "weighted avg       0.77      0.79      0.77      1421\n",
      "\n",
      "0.30884986299914385\n"
     ]
    }
   ],
   "source": [
    "model_DCF = CascadeForestClassifier(random_state=0)\n",
    "model_DCF.fit(X.values,Y)\n",
    "y_CR_pre = model_DCF.predict(x)\n",
    "print(model_DCF.score(x,y))\n",
    "print(classification_report(y,y_CR_pre))\n",
    "print(matthews_corrcoef(y,y_CR_pre))"
   ]
  },
  {
   "cell_type": "markdown",
   "metadata": {},
   "source": [
    "# Adjust MC dataset to balanced dataset"
   ]
  },
  {
   "cell_type": "code",
   "execution_count": 60,
   "metadata": {},
   "outputs": [],
   "source": [
    "df_MCTR = pd.read_csv('C:/Python/internship/Crystal_Features_new/df_MCTR_selRFE')\n",
    "df_MCTE = pd.read_csv('C:/Python/internship/Crystal_Features_new/df_MCTE_selRFE')"
   ]
  },
  {
   "cell_type": "code",
   "execution_count": 61,
   "metadata": {},
   "outputs": [],
   "source": [
    "dy_MCTR = pd.read_csv('C:/Python/internship/Crystal_y_label_Csv/df_MC_TR_Label')\n",
    "dy_MCTE = pd.read_csv('C:/Python/internship/Crystal_y_label_Csv/df_MC_TE_label')"
   ]
  },
  {
   "cell_type": "code",
   "execution_count": 62,
   "metadata": {},
   "outputs": [],
   "source": [
    "MCTR = df_MCTR.merge(dy_MCTR,on='Unnamed: 0')\n",
    "MCTE = df_MCTE.merge(dy_MCTE,on='Unnamed: 0')"
   ]
  },
  {
   "cell_type": "code",
   "execution_count": 63,
   "metadata": {},
   "outputs": [
    {
     "data": {
      "text/plain": [
       "((4080, 186), (1020, 186))"
      ]
     },
     "execution_count": 63,
     "metadata": {},
     "output_type": "execute_result"
    }
   ],
   "source": [
    "MCTR.drop_duplicates()\n",
    "MCTE.drop_duplicates()\n",
    "MCTR.shape,MCTE.shape"
   ]
  },
  {
   "cell_type": "markdown",
   "metadata": {},
   "source": [
    "## Adjust MCTR and create new MCTR"
   ]
  },
  {
   "cell_type": "code",
   "execution_count": 64,
   "metadata": {},
   "outputs": [
    {
     "data": {
      "text/plain": [
       "((511, 186), (3569, 186))"
      ]
     },
     "execution_count": 64,
     "metadata": {},
     "output_type": "execute_result"
    }
   ],
   "source": [
    "#class count\n",
    "MCTR_Class_1 = MCTR[MCTR['y'] == 1]\n",
    "MCTR_Class_0 = MCTR[MCTR['y'] == -1]\n",
    "MCTR_Class_1.shape,MCTR_Class_0.shape"
   ]
  },
  {
   "cell_type": "code",
   "execution_count": 65,
   "metadata": {},
   "outputs": [
    {
     "data": {
      "text/plain": [
       "1703"
      ]
     },
     "execution_count": 65,
     "metadata": {},
     "output_type": "execute_result"
    }
   ],
   "source": [
    "int(MCTR_Class_1.shape[0]/0.3)"
   ]
  },
  {
   "cell_type": "code",
   "execution_count": 66,
   "metadata": {},
   "outputs": [
    {
     "data": {
      "text/plain": [
       "(1703, 186)"
      ]
     },
     "execution_count": 66,
     "metadata": {},
     "output_type": "execute_result"
    }
   ],
   "source": [
    "MCTR_Class_0_under = MCTR_Class_0.sample(int(MCTR_Class_1.shape[0]/0.3))\n",
    "MCTR_Class_0_under.shape"
   ]
  },
  {
   "cell_type": "code",
   "execution_count": 67,
   "metadata": {},
   "outputs": [
    {
     "data": {
      "text/plain": [
       "(2214, 186)"
      ]
     },
     "execution_count": 67,
     "metadata": {},
     "output_type": "execute_result"
    }
   ],
   "source": [
    "MCTR_N = pd.concat([MCTR_Class_0_under,MCTR_Class_1],axis=0)\n",
    "MCTR_N.shape"
   ]
  },
  {
   "cell_type": "markdown",
   "metadata": {},
   "source": [
    "## Adjust MCTE and create new MCTE"
   ]
  },
  {
   "cell_type": "code",
   "execution_count": 68,
   "metadata": {},
   "outputs": [],
   "source": [
    "#class count\n",
    "MCTE_Class_1 = MCTE[MCTE['y'] == 1]\n",
    "MCTE_Class_0 = MCTE[MCTE['y'] == -1]"
   ]
  },
  {
   "cell_type": "code",
   "execution_count": 69,
   "metadata": {},
   "outputs": [
    {
     "name": "stdout",
     "output_type": "stream",
     "text": [
      "(129, 186)\n",
      "(891, 186)\n"
     ]
    }
   ],
   "source": [
    "print(MCTE_Class_1.shape)\n",
    "print(MCTE_Class_0.shape)"
   ]
  },
  {
   "cell_type": "code",
   "execution_count": 70,
   "metadata": {},
   "outputs": [
    {
     "data": {
      "text/plain": [
       "430"
      ]
     },
     "execution_count": 70,
     "metadata": {},
     "output_type": "execute_result"
    }
   ],
   "source": [
    "int(MCTE_Class_1.shape[0]/0.3)"
   ]
  },
  {
   "cell_type": "code",
   "execution_count": 71,
   "metadata": {},
   "outputs": [
    {
     "data": {
      "text/plain": [
       "(430, 186)"
      ]
     },
     "execution_count": 71,
     "metadata": {},
     "output_type": "execute_result"
    }
   ],
   "source": [
    "MCTE_Class_0_under = MCTE_Class_0.sample(int(MCTE_Class_1.shape[0]/0.3))\n",
    "MCTE_Class_0_under.shape"
   ]
  },
  {
   "cell_type": "code",
   "execution_count": 72,
   "metadata": {},
   "outputs": [
    {
     "data": {
      "text/plain": [
       "(559, 186)"
      ]
     },
     "execution_count": 72,
     "metadata": {},
     "output_type": "execute_result"
    }
   ],
   "source": [
    "MCTE_N = pd.concat([MCTE_Class_0_under,MCTE_Class_1],axis=0)\n",
    "MCTE_N.shape"
   ]
  },
  {
   "cell_type": "markdown",
   "metadata": {},
   "source": [
    "# Prediction based on Deep-cascade forest"
   ]
  },
  {
   "cell_type": "code",
   "execution_count": 73,
   "metadata": {},
   "outputs": [],
   "source": [
    "X1 = MCTR_N.iloc[:,1:-2]\n",
    "Y1 = MCTR_N.iloc[:,-1]"
   ]
  },
  {
   "cell_type": "code",
   "execution_count": 74,
   "metadata": {},
   "outputs": [],
   "source": [
    "x1 = MCTE_N.iloc[:,1:-2]\n",
    "y1 = MCTE_N.iloc[:,-1]"
   ]
  },
  {
   "cell_type": "code",
   "execution_count": 76,
   "metadata": {},
   "outputs": [
    {
     "name": "stdout",
     "output_type": "stream",
     "text": [
      "[2022-04-06 02:58:42.133] Start to fit the model:\n",
      "[2022-04-06 02:58:42.133] Fitting cascade layer = 0 \n",
      "[2022-04-06 02:58:45.362] layer = 0  | Val Acc = 88.573 % | Elapsed = 3.229 s\n",
      "[2022-04-06 02:58:45.367] Fitting cascade layer = 1 \n",
      "[2022-04-06 02:58:48.010] layer = 1  | Val Acc = 88.708 % | Elapsed = 2.643 s\n",
      "[2022-04-06 02:58:48.014] Fitting cascade layer = 2 \n",
      "[2022-04-06 02:58:50.741] layer = 2  | Val Acc = 88.708 % | Elapsed = 2.728 s\n",
      "[2022-04-06 02:58:50.741] Early stopping counter: 1 out of 2\n",
      "[2022-04-06 02:58:50.746] Fitting cascade layer = 3 \n",
      "[2022-04-06 02:58:53.488] layer = 3  | Val Acc = 88.889 % | Elapsed = 2.742 s\n",
      "[2022-04-06 02:58:53.492] Fitting cascade layer = 4 \n",
      "[2022-04-06 02:58:56.251] layer = 4  | Val Acc = 88.844 % | Elapsed = 2.759 s\n",
      "[2022-04-06 02:58:56.251] Early stopping counter: 1 out of 2\n",
      "[2022-04-06 02:58:56.256] Fitting cascade layer = 5 \n",
      "[2022-04-06 02:58:59.110] layer = 5  | Val Acc = 88.889 % | Elapsed = 2.855 s\n",
      "[2022-04-06 02:58:59.110] Early stopping counter: 2 out of 2\n",
      "[2022-04-06 02:58:59.110] Handling early stopping\n",
      "[2022-04-06 02:58:59.112] The optimal number of layers: 4\n",
      "[2022-04-06 02:58:59.113] Start to evalute the model:\n",
      "[2022-04-06 02:58:59.118] Evaluating cascade layer = 0 \n",
      "[2022-04-06 02:58:59.154] Evaluating cascade layer = 1 \n",
      "[2022-04-06 02:58:59.188] Evaluating cascade layer = 2 \n",
      "[2022-04-06 02:58:59.221] Evaluating cascade layer = 3 \n",
      "[2022-04-06 02:58:59.258] Start to evalute the model:\n",
      "[2022-04-06 02:58:59.263] Evaluating cascade layer = 0 \n",
      "[2022-04-06 02:58:59.300] Evaluating cascade layer = 1 \n",
      "[2022-04-06 02:58:59.336] Evaluating cascade layer = 2 \n",
      "[2022-04-06 02:58:59.370] Evaluating cascade layer = 3 \n",
      "0.9123434704830053\n",
      "              precision    recall  f1-score   support\n",
      "\n",
      "          -1       0.91      0.99      0.95       430\n",
      "           1       0.94      0.66      0.78       129\n",
      "\n",
      "    accuracy                           0.91       559\n",
      "   macro avg       0.93      0.82      0.86       559\n",
      "weighted avg       0.92      0.91      0.91       559\n",
      "\n",
      "0.7420243754314964\n"
     ]
    }
   ],
   "source": [
    "model_DCF = CascadeForestClassifier(random_state=0)\n",
    "model_DCF.fit(X1.values,Y1)\n",
    "y_MC_pre = model_DCF.predict(x1)\n",
    "print(model_DCF.score(x1,y1))\n",
    "print(classification_report(y1,y_MC_pre))\n",
    "print(matthews_corrcoef(y1,y_MC_pre))"
   ]
  },
  {
   "cell_type": "markdown",
   "metadata": {},
   "source": [
    "# Adjust CF dataset to balanced dataset"
   ]
  },
  {
   "cell_type": "code",
   "execution_count": 84,
   "metadata": {},
   "outputs": [],
   "source": [
    "df_CFTR = pd.read_csv('C:/Python/internship/Crystal_Features_new/df_CFTR_selRFE')\n",
    "df_CFTE = pd.read_csv('C:/Python/internship/Crystal_Features_new/df_CFTE_selRFE')"
   ]
  },
  {
   "cell_type": "code",
   "execution_count": 85,
   "metadata": {},
   "outputs": [],
   "source": [
    "dy_CFTR = pd.read_csv('C:/Python/internship/Crystal_y_label_Csv/df_CF_TR_Label')\n",
    "dy_CFTE = pd.read_csv('C:/Python/internship/Crystal_y_label_Csv/df_CF_TE_label')"
   ]
  },
  {
   "cell_type": "code",
   "execution_count": 86,
   "metadata": {},
   "outputs": [],
   "source": [
    "CFTR = df_CFTR.merge(dy_CFTR,on='Unnamed: 0')\n",
    "CFTE = df_CFTE.merge(dy_CFTE,on='Unnamed: 0')"
   ]
  },
  {
   "cell_type": "code",
   "execution_count": 87,
   "metadata": {},
   "outputs": [
    {
     "data": {
      "text/plain": [
       "((2184, 278), (546, 278))"
      ]
     },
     "execution_count": 87,
     "metadata": {},
     "output_type": "execute_result"
    }
   ],
   "source": [
    "CFTR.drop_duplicates()\n",
    "CFTE.drop_duplicates()\n",
    "CFTR.shape,CFTE.shape"
   ]
  },
  {
   "cell_type": "code",
   "execution_count": 88,
   "metadata": {},
   "outputs": [
    {
     "data": {
      "text/plain": [
       "((1581, 278), (603, 278))"
      ]
     },
     "execution_count": 88,
     "metadata": {},
     "output_type": "execute_result"
    }
   ],
   "source": [
    "#Adjust CFTR and create new CFTR\n",
    "#class count\n",
    "CFTR_Class_1 = CFTR[CFTR['y'] == 1]\n",
    "CFTR_Class_0 = CFTR[CFTR['y'] == -1]\n",
    "CFTR_Class_1.shape,CFTR_Class_0.shape"
   ]
  },
  {
   "cell_type": "markdown",
   "metadata": {},
   "source": [
    "### CF dataset is balanced."
   ]
  },
  {
   "cell_type": "markdown",
   "metadata": {},
   "source": [
    "# Adjust MF dataset to balanced dataset"
   ]
  },
  {
   "cell_type": "code",
   "execution_count": 90,
   "metadata": {},
   "outputs": [],
   "source": [
    "df_MFTR = pd.read_csv('C:/Python/internship/Crystal_Features_new/df_MFTR_selRFE')\n",
    "df_MFTE = pd.read_csv('C:/Python/internship/Crystal_Features_new/df_MFTE_selRFE')"
   ]
  },
  {
   "cell_type": "code",
   "execution_count": 91,
   "metadata": {},
   "outputs": [],
   "source": [
    "dy_MFTR = pd.read_csv('C:/Python/internship/Crystal_y_label_Csv/df_MF_TR_Label')\n",
    "dy_MFTE = pd.read_csv('C:/Python/internship/Crystal_y_label_Csv/df_MF_TE_label')"
   ]
  },
  {
   "cell_type": "code",
   "execution_count": 92,
   "metadata": {},
   "outputs": [],
   "source": [
    "MFTR = df_MFTR.merge(dy_MFTR,on='Unnamed: 0')\n",
    "MFTE = df_MFTE.merge(dy_MFTE,on='Unnamed: 0')"
   ]
  },
  {
   "cell_type": "code",
   "execution_count": 93,
   "metadata": {},
   "outputs": [
    {
     "data": {
      "text/plain": [
       "((19791, 468), (4947, 468))"
      ]
     },
     "execution_count": 93,
     "metadata": {},
     "output_type": "execute_result"
    }
   ],
   "source": [
    "MFTR.drop_duplicates()\n",
    "MFTE.drop_duplicates()\n",
    "MFTR.shape,MFTE.shape"
   ]
  },
  {
   "cell_type": "code",
   "execution_count": 98,
   "metadata": {},
   "outputs": [
    {
     "data": {
      "text/plain": [
       "((5769, 468), (14022, 468))"
      ]
     },
     "execution_count": 98,
     "metadata": {},
     "output_type": "execute_result"
    }
   ],
   "source": [
    "#Adjust MFTR and create new MFTR\n",
    "#class count\n",
    "MFTR_Class_1 = MFTR[MFTR['y'] == 1]\n",
    "MFTR_Class_0 = MFTR[MFTR['y'] == -1]\n",
    "MFTR_Class_1.shape,MFTR_Class_0.shape"
   ]
  },
  {
   "cell_type": "markdown",
   "metadata": {},
   "source": [
    "### MF dataset is balanced"
   ]
  },
  {
   "cell_type": "markdown",
   "metadata": {},
   "source": [
    "# Adjust PF dataset to balanced dataset"
   ]
  },
  {
   "cell_type": "code",
   "execution_count": 94,
   "metadata": {},
   "outputs": [],
   "source": [
    "df_PFTR = pd.read_csv('C:/Python/internship/Crystal_Features_new/df_PFTR_selRFE')\n",
    "df_PFTE = pd.read_csv('C:/Python/internship/Crystal_Features_new/df_PFTE_selRFE')"
   ]
  },
  {
   "cell_type": "code",
   "execution_count": 95,
   "metadata": {},
   "outputs": [],
   "source": [
    "dy_PFTR = pd.read_csv('C:/Python/internship/Crystal_y_label_Csv/df_PF_TR_Label')\n",
    "dy_PFTE = pd.read_csv('C:/Python/internship/Crystal_y_label_Csv/df_PF_TE_label')"
   ]
  },
  {
   "cell_type": "code",
   "execution_count": 96,
   "metadata": {},
   "outputs": [],
   "source": [
    "PFTR = df_PFTR.merge(dy_PFTR,on='Unnamed: 0')\n",
    "PFTE = df_PFTE.merge(dy_PFTE,on='Unnamed: 0')"
   ]
  },
  {
   "cell_type": "code",
   "execution_count": 97,
   "metadata": {},
   "outputs": [
    {
     "data": {
      "text/plain": [
       "((7399, 276), (1849, 276))"
      ]
     },
     "execution_count": 97,
     "metadata": {},
     "output_type": "execute_result"
    }
   ],
   "source": [
    "PFTR.drop_duplicates()\n",
    "PFTE.drop_duplicates()\n",
    "PFTR.shape,PFTE.shape"
   ]
  },
  {
   "cell_type": "code",
   "execution_count": 99,
   "metadata": {},
   "outputs": [
    {
     "data": {
      "text/plain": [
       "((1840, 276), (5559, 276))"
      ]
     },
     "execution_count": 99,
     "metadata": {},
     "output_type": "execute_result"
    }
   ],
   "source": [
    "#Adjust PFTR and create new PFTR\n",
    "#class count\n",
    "PFTR_Class_1 = PFTR[PFTR['y'] == 1]\n",
    "PFTR_Class_0 = PFTR[PFTR['y'] == -1]\n",
    "PFTR_Class_1.shape,PFTR_Class_0.shape"
   ]
  },
  {
   "cell_type": "markdown",
   "metadata": {},
   "source": [
    "### MF dataset is balanced"
   ]
  },
  {
   "cell_type": "code",
   "execution_count": null,
   "metadata": {},
   "outputs": [],
   "source": []
  }
 ],
 "metadata": {
  "kernelspec": {
   "display_name": "Python 3",
   "language": "python",
   "name": "python3"
  },
  "language_info": {
   "codemirror_mode": {
    "name": "ipython",
    "version": 3
   },
   "file_extension": ".py",
   "mimetype": "text/x-python",
   "name": "python",
   "nbconvert_exporter": "python",
   "pygments_lexer": "ipython3",
   "version": "3.8.3"
  }
 },
 "nbformat": 4,
 "nbformat_minor": 4
}
