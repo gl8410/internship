{
 "cells": [
  {
   "cell_type": "markdown",
   "metadata": {},
   "source": [
    "# Data Preparation"
   ]
  },
  {
   "cell_type": "code",
   "execution_count": 1,
   "metadata": {},
   "outputs": [],
   "source": [
    "import pandas as pd\n",
    "import numpy as np\n",
    "import os\n",
    "import warnings\n",
    "import re\n",
    "from Bio import SeqIO\n",
    "warnings.filterwarnings('ignore')"
   ]
  },
  {
   "cell_type": "markdown",
   "metadata": {},
   "source": [
    "## Creat loop to open fasta files to save into csv format"
   ]
  },
  {
   "cell_type": "code",
   "execution_count": 7,
   "metadata": {},
   "outputs": [
    {
     "name": "stdout",
     "output_type": "stream",
     "text": [
      "C:\\Python\\internship\n"
     ]
    }
   ],
   "source": [
    "cwd = os.getcwd()  # get the path of files(当前工作路径)\n",
    "print(cwd)"
   ]
  },
  {
   "cell_type": "code",
   "execution_count": 8,
   "metadata": {},
   "outputs": [],
   "source": [
    "base_dir = os.path.dirname('C:/Python/internship/') "
   ]
  },
  {
   "cell_type": "code",
   "execution_count": 9,
   "metadata": {},
   "outputs": [
    {
     "data": {
      "text/plain": [
       "'C:/Python/internship\\\\Crystal_Features'"
      ]
     },
     "execution_count": 9,
     "metadata": {},
     "output_type": "execute_result"
    }
   ],
   "source": [
    "data_dir = os.path.join(base_dir,'Crystal_Features')  # 特征集做为Fasta文件的路径\n",
    "data_dir"
   ]
  },
  {
   "cell_type": "code",
   "execution_count": 10,
   "metadata": {
    "scrolled": true
   },
   "outputs": [
    {
     "data": {
      "text/plain": [
       "['CF_TE_SequenceAAC',\n",
       " 'CF_TE_SequenceAPAAC',\n",
       " 'CF_TE_SequenceCKSAAP',\n",
       " 'CF_TE_SequenceCTDC',\n",
       " 'CF_TE_SequenceCTDD',\n",
       " 'CF_TE_SequenceCTDT',\n",
       " 'CF_TE_SequenceCTriad',\n",
       " 'CF_TE_SequenceDDE',\n",
       " 'CF_TE_SequenceDPC',\n",
       " 'CF_TE_SequenceGAAC',\n",
       " 'CF_TE_SequenceMoran',\n",
       " 'CF_TE_SequenceNMBroto',\n",
       " 'CF_TE_SequencePAAC',\n",
       " 'CF_TE_SequenceQSOrder',\n",
       " 'CF_TE_SequenceSOCNumber',\n",
       " 'CF_TR_SequenceAAC',\n",
       " 'CF_TR_SequenceAPAAC',\n",
       " 'CF_TR_SequenceCKSAAP',\n",
       " 'CF_TR_SequenceCTDC',\n",
       " 'CF_TR_SequenceCTDD',\n",
       " 'CF_TR_SequenceCTDT',\n",
       " 'CF_TR_SequenceCTriad',\n",
       " 'CF_TR_SequenceDDE',\n",
       " 'CF_TR_SequenceDPC',\n",
       " 'CF_TR_SequenceGAAC',\n",
       " 'CF_TR_SequenceMoran',\n",
       " 'CF_TR_SequenceNMBroto',\n",
       " 'CF_TR_SequencePAAC',\n",
       " 'CF_TR_SequenceQSOrder',\n",
       " 'CF_TR_SequenceSOCNumber',\n",
       " 'CR_TE_SequenceAAC',\n",
       " 'CR_TE_SequenceAPAAC',\n",
       " 'CR_TE_SequenceCKSAAP',\n",
       " 'CR_TE_SequenceCTDC',\n",
       " 'CR_TE_SequenceCTDD',\n",
       " 'CR_TE_SequenceCTDT',\n",
       " 'CR_TE_SequenceCTriad',\n",
       " 'CR_TE_SequenceDDE',\n",
       " 'CR_TE_SequenceDPC',\n",
       " 'CR_TE_SequenceGAAC',\n",
       " 'CR_TE_SequenceMoran',\n",
       " 'CR_TE_SequenceNMBroto',\n",
       " 'CR_TE_SequencePAAC',\n",
       " 'CR_TE_SequenceQSOrder',\n",
       " 'CR_TE_SequenceSOCNumber',\n",
       " 'CR_TR_SequenceAAC',\n",
       " 'CR_TR_SequenceAPAAC',\n",
       " 'CR_TR_SequenceCKSAAP',\n",
       " 'CR_TR_SequenceCTDC',\n",
       " 'CR_TR_SequenceCTDD',\n",
       " 'CR_TR_SequenceCTDT',\n",
       " 'CR_TR_SequenceCTriad',\n",
       " 'CR_TR_SequenceDDE',\n",
       " 'CR_TR_SequenceDPC',\n",
       " 'CR_TR_SequenceGAAC',\n",
       " 'CR_TR_SequenceMoran',\n",
       " 'CR_TR_SequenceNMBroto',\n",
       " 'CR_TR_SequencePAAC',\n",
       " 'CR_TR_SequenceQSOrder',\n",
       " 'CR_TR_SequenceSOCNumber',\n",
       " 'MC_TE_SequenceAAC',\n",
       " 'MC_TE_SequenceAPAAC',\n",
       " 'MC_TE_SequenceCKSAAP',\n",
       " 'MC_TE_SequenceCTDC',\n",
       " 'MC_TE_SequenceCTDD',\n",
       " 'MC_TE_SequenceCTDT',\n",
       " 'MC_TE_SequenceCTriad',\n",
       " 'MC_TE_SequenceDDE',\n",
       " 'MC_TE_SequenceDPC',\n",
       " 'MC_TE_SequenceGAAC',\n",
       " 'MC_TE_SequenceMoran',\n",
       " 'MC_TE_SequenceNMBroto',\n",
       " 'MC_TE_SequencePAAC',\n",
       " 'MC_TE_SequenceQSOrder',\n",
       " 'MC_TE_SequenceSOCNumber',\n",
       " 'MC_TR_SequenceAAC',\n",
       " 'MC_TR_SequenceAPAAC',\n",
       " 'MC_TR_SequenceCKSAAP',\n",
       " 'MC_TR_SequenceCTDC',\n",
       " 'MC_TR_SequenceCTDD',\n",
       " 'MC_TR_SequenceCTDT',\n",
       " 'MC_TR_SequenceCTriad',\n",
       " 'MC_TR_SequenceDDE',\n",
       " 'MC_TR_SequenceDPC',\n",
       " 'MC_TR_SequenceGAAC',\n",
       " 'MC_TR_SequenceMoran',\n",
       " 'MC_TR_SequenceNMBroto',\n",
       " 'MC_TR_SequencePAAC',\n",
       " 'MC_TR_SequenceQSOrder',\n",
       " 'MC_TR_SequenceSOCNumber',\n",
       " 'MF_TE_SequenceAAC',\n",
       " 'MF_TE_SequenceAPAAC',\n",
       " 'MF_TE_SequenceCKSAAP',\n",
       " 'MF_TE_SequenceCTDC',\n",
       " 'MF_TE_SequenceCTDD',\n",
       " 'MF_TE_SequenceCTDT',\n",
       " 'MF_TE_SequenceCTriad',\n",
       " 'MF_TE_SequenceDDE',\n",
       " 'MF_TE_SequenceDPC',\n",
       " 'MF_TE_SequenceGAAC',\n",
       " 'MF_TE_SequenceMoran',\n",
       " 'MF_TE_SequenceNMBroto',\n",
       " 'MF_TE_SequencePAAC',\n",
       " 'MF_TE_SequenceQSOrder',\n",
       " 'MF_TE_SequenceSOCNumber',\n",
       " 'MF_TR_SequenceAAC',\n",
       " 'MF_TR_SequenceAPAAC',\n",
       " 'MF_TR_SequenceCKSAAP',\n",
       " 'MF_TR_SequenceCTDC',\n",
       " 'MF_TR_SequenceCTDD',\n",
       " 'MF_TR_SequenceCTDT',\n",
       " 'MF_TR_SequenceCTriad',\n",
       " 'MF_TR_SequenceDDE',\n",
       " 'MF_TR_SequenceDPC',\n",
       " 'MF_TR_SequenceGAAC',\n",
       " 'MF_TR_SequenceMoran',\n",
       " 'MF_TR_SequenceNMBroto',\n",
       " 'MF_TR_SequencePAAC',\n",
       " 'MF_TR_SequenceQSOrder',\n",
       " 'MF_TR_SequenceSOCNumber',\n",
       " 'PF_TE_SequenceAAC',\n",
       " 'PF_TE_SequenceAPAAC',\n",
       " 'PF_TE_SequenceCKSAAP',\n",
       " 'PF_TE_SequenceCTDC',\n",
       " 'PF_TE_SequenceCTDD',\n",
       " 'PF_TE_SequenceCTDT',\n",
       " 'PF_TE_SequenceCTriad',\n",
       " 'PF_TE_SequenceDDE',\n",
       " 'PF_TE_SequenceDPC',\n",
       " 'PF_TE_SequenceGAAC',\n",
       " 'PF_TE_SequenceMoran',\n",
       " 'PF_TE_SequenceNMBroto',\n",
       " 'PF_TE_SequencePAAC',\n",
       " 'PF_TE_SequenceQSOrder',\n",
       " 'PF_TE_SequenceSOCNumber',\n",
       " 'PF_TR_SequenceAAC',\n",
       " 'PF_TR_SequenceAPAAC',\n",
       " 'PF_TR_SequenceCKSAAP',\n",
       " 'PF_TR_SequenceCTDC',\n",
       " 'PF_TR_SequenceCTDD',\n",
       " 'PF_TR_SequenceCTDT',\n",
       " 'PF_TR_SequenceCTriad',\n",
       " 'PF_TR_SequenceDDE',\n",
       " 'PF_TR_SequenceDPC',\n",
       " 'PF_TR_SequenceGAAC',\n",
       " 'PF_TR_SequenceMoran',\n",
       " 'PF_TR_SequenceNMBroto',\n",
       " 'PF_TR_SequencePAAC',\n",
       " 'PF_TR_SequenceQSOrder',\n",
       " 'PF_TR_SequenceSOCNumber']"
      ]
     },
     "execution_count": 10,
     "metadata": {},
     "output_type": "execute_result"
    }
   ],
   "source": [
    "files = os.listdir(data_dir)\n",
    "files"
   ]
  },
  {
   "cell_type": "code",
   "execution_count": 11,
   "metadata": {},
   "outputs": [
    {
     "data": {
      "text/plain": [
       "150"
      ]
     },
     "execution_count": 11,
     "metadata": {},
     "output_type": "execute_result"
    }
   ],
   "source": [
    "len(files)"
   ]
  },
  {
   "cell_type": "code",
   "execution_count": 7,
   "metadata": {},
   "outputs": [],
   "source": [
    "for b in files:\n",
    "    df = pd.read_csv('C:/Python/internship/Crystal_Features/'+ b,sep='\\t')\n",
    "    for a in df.columns:\n",
    "        df = df.rename(columns={a:b[14:]+'_'+a})\n",
    "    #print(df.shape)\n",
    "    df.to_csv('C:\\Python\\internship\\Crystal_Features_Csv\\df_'+b)"
   ]
  },
  {
   "cell_type": "markdown",
   "metadata": {},
   "source": [
    "## Create train and test dataset with loop"
   ]
  },
  {
   "cell_type": "code",
   "execution_count": 12,
   "metadata": {},
   "outputs": [],
   "source": [
    "# set up the absolute path to read train dataset\n",
    "base_Dir = os.path.dirname('C:/Python/internship/')"
   ]
  },
  {
   "cell_type": "code",
   "execution_count": 13,
   "metadata": {},
   "outputs": [
    {
     "data": {
      "text/plain": [
       "'C:/Python/internship\\\\Crystal_Features_Csv'"
      ]
     },
     "execution_count": 13,
     "metadata": {},
     "output_type": "execute_result"
    }
   ],
   "source": [
    "# join path and files\n",
    "data_Dir = os.path.join(base_Dir,'Crystal_Features_Csv')\n",
    "data_Dir"
   ]
  },
  {
   "cell_type": "code",
   "execution_count": 14,
   "metadata": {
    "scrolled": true
   },
   "outputs": [
    {
     "data": {
      "text/plain": [
       "['df_CF_TE_SequenceAAC',\n",
       " 'df_CF_TE_SequenceAPAAC',\n",
       " 'df_CF_TE_SequenceCKSAAP',\n",
       " 'df_CF_TE_SequenceCTDC',\n",
       " 'df_CF_TE_SequenceCTDD',\n",
       " 'df_CF_TE_SequenceCTDT',\n",
       " 'df_CF_TE_SequenceCTriad',\n",
       " 'df_CF_TE_SequenceDDE',\n",
       " 'df_CF_TE_SequenceDPC',\n",
       " 'df_CF_TE_SequenceGAAC',\n",
       " 'df_CF_TE_SequenceMoran',\n",
       " 'df_CF_TE_SequenceNMBroto',\n",
       " 'df_CF_TE_SequencePAAC',\n",
       " 'df_CF_TE_SequenceQSOrder',\n",
       " 'df_CF_TE_SequenceSOCNumber',\n",
       " 'df_CF_TR_SequenceAAC',\n",
       " 'df_CF_TR_SequenceAPAAC',\n",
       " 'df_CF_TR_SequenceCKSAAP',\n",
       " 'df_CF_TR_SequenceCTDC',\n",
       " 'df_CF_TR_SequenceCTDD',\n",
       " 'df_CF_TR_SequenceCTDT',\n",
       " 'df_CF_TR_SequenceCTriad',\n",
       " 'df_CF_TR_SequenceDDE',\n",
       " 'df_CF_TR_SequenceDPC',\n",
       " 'df_CF_TR_SequenceGAAC',\n",
       " 'df_CF_TR_SequenceMoran',\n",
       " 'df_CF_TR_SequenceNMBroto',\n",
       " 'df_CF_TR_SequencePAAC',\n",
       " 'df_CF_TR_SequenceQSOrder',\n",
       " 'df_CF_TR_SequenceSOCNumber',\n",
       " 'df_CR_TE_SequenceAAC',\n",
       " 'df_CR_TE_SequenceAPAAC',\n",
       " 'df_CR_TE_SequenceCKSAAP',\n",
       " 'df_CR_TE_SequenceCTDC',\n",
       " 'df_CR_TE_SequenceCTDD',\n",
       " 'df_CR_TE_SequenceCTDT',\n",
       " 'df_CR_TE_SequenceCTriad',\n",
       " 'df_CR_TE_SequenceDDE',\n",
       " 'df_CR_TE_SequenceDPC',\n",
       " 'df_CR_TE_SequenceGAAC',\n",
       " 'df_CR_TE_SequenceMoran',\n",
       " 'df_CR_TE_SequenceNMBroto',\n",
       " 'df_CR_TE_SequencePAAC',\n",
       " 'df_CR_TE_SequenceQSOrder',\n",
       " 'df_CR_TE_SequenceSOCNumber',\n",
       " 'df_CR_TR_SequenceAAC',\n",
       " 'df_CR_TR_SequenceAPAAC',\n",
       " 'df_CR_TR_SequenceCKSAAP',\n",
       " 'df_CR_TR_SequenceCTDC',\n",
       " 'df_CR_TR_SequenceCTDD',\n",
       " 'df_CR_TR_SequenceCTDT',\n",
       " 'df_CR_TR_SequenceCTriad',\n",
       " 'df_CR_TR_SequenceDDE',\n",
       " 'df_CR_TR_SequenceDPC',\n",
       " 'df_CR_TR_SequenceGAAC',\n",
       " 'df_CR_TR_SequenceMoran',\n",
       " 'df_CR_TR_SequenceNMBroto',\n",
       " 'df_CR_TR_SequencePAAC',\n",
       " 'df_CR_TR_SequenceQSOrder',\n",
       " 'df_CR_TR_SequenceSOCNumber',\n",
       " 'df_MC_TE_SequenceAAC',\n",
       " 'df_MC_TE_SequenceAPAAC',\n",
       " 'df_MC_TE_SequenceCKSAAP',\n",
       " 'df_MC_TE_SequenceCTDC',\n",
       " 'df_MC_TE_SequenceCTDD',\n",
       " 'df_MC_TE_SequenceCTDT',\n",
       " 'df_MC_TE_SequenceCTriad',\n",
       " 'df_MC_TE_SequenceDDE',\n",
       " 'df_MC_TE_SequenceDPC',\n",
       " 'df_MC_TE_SequenceGAAC',\n",
       " 'df_MC_TE_SequenceMoran',\n",
       " 'df_MC_TE_SequenceNMBroto',\n",
       " 'df_MC_TE_SequencePAAC',\n",
       " 'df_MC_TE_SequenceQSOrder',\n",
       " 'df_MC_TE_SequenceSOCNumber',\n",
       " 'df_MC_TR_SequenceAAC',\n",
       " 'df_MC_TR_SequenceAPAAC',\n",
       " 'df_MC_TR_SequenceCKSAAP',\n",
       " 'df_MC_TR_SequenceCTDC',\n",
       " 'df_MC_TR_SequenceCTDD',\n",
       " 'df_MC_TR_SequenceCTDT',\n",
       " 'df_MC_TR_SequenceCTriad',\n",
       " 'df_MC_TR_SequenceDDE',\n",
       " 'df_MC_TR_SequenceDPC',\n",
       " 'df_MC_TR_SequenceGAAC',\n",
       " 'df_MC_TR_SequenceMoran',\n",
       " 'df_MC_TR_SequenceNMBroto',\n",
       " 'df_MC_TR_SequencePAAC',\n",
       " 'df_MC_TR_SequenceQSOrder',\n",
       " 'df_MC_TR_SequenceSOCNumber',\n",
       " 'df_MF_TE_SequenceAAC',\n",
       " 'df_MF_TE_SequenceAPAAC',\n",
       " 'df_MF_TE_SequenceCKSAAP',\n",
       " 'df_MF_TE_SequenceCTDC',\n",
       " 'df_MF_TE_SequenceCTDD',\n",
       " 'df_MF_TE_SequenceCTDT',\n",
       " 'df_MF_TE_SequenceCTriad',\n",
       " 'df_MF_TE_SequenceDDE',\n",
       " 'df_MF_TE_SequenceDPC',\n",
       " 'df_MF_TE_SequenceGAAC',\n",
       " 'df_MF_TE_SequenceMoran',\n",
       " 'df_MF_TE_SequenceNMBroto',\n",
       " 'df_MF_TE_SequencePAAC',\n",
       " 'df_MF_TE_SequenceQSOrder',\n",
       " 'df_MF_TE_SequenceSOCNumber',\n",
       " 'df_MF_TR_SequenceAAC',\n",
       " 'df_MF_TR_SequenceAPAAC',\n",
       " 'df_MF_TR_SequenceCKSAAP',\n",
       " 'df_MF_TR_SequenceCTDC',\n",
       " 'df_MF_TR_SequenceCTDD',\n",
       " 'df_MF_TR_SequenceCTDT',\n",
       " 'df_MF_TR_SequenceCTriad',\n",
       " 'df_MF_TR_SequenceDDE',\n",
       " 'df_MF_TR_SequenceDPC',\n",
       " 'df_MF_TR_SequenceGAAC',\n",
       " 'df_MF_TR_SequenceMoran',\n",
       " 'df_MF_TR_SequenceNMBroto',\n",
       " 'df_MF_TR_SequencePAAC',\n",
       " 'df_MF_TR_SequenceQSOrder',\n",
       " 'df_MF_TR_SequenceSOCNumber',\n",
       " 'df_PF_TE_SequenceAAC',\n",
       " 'df_PF_TE_SequenceAPAAC',\n",
       " 'df_PF_TE_SequenceCKSAAP',\n",
       " 'df_PF_TE_SequenceCTDC',\n",
       " 'df_PF_TE_SequenceCTDD',\n",
       " 'df_PF_TE_SequenceCTDT',\n",
       " 'df_PF_TE_SequenceCTriad',\n",
       " 'df_PF_TE_SequenceDDE',\n",
       " 'df_PF_TE_SequenceDPC',\n",
       " 'df_PF_TE_SequenceGAAC',\n",
       " 'df_PF_TE_SequenceMoran',\n",
       " 'df_PF_TE_SequenceNMBroto',\n",
       " 'df_PF_TE_SequencePAAC',\n",
       " 'df_PF_TE_SequenceQSOrder',\n",
       " 'df_PF_TE_SequenceSOCNumber',\n",
       " 'df_PF_TR_SequenceAAC',\n",
       " 'df_PF_TR_SequenceAPAAC',\n",
       " 'df_PF_TR_SequenceCKSAAP',\n",
       " 'df_PF_TR_SequenceCTDC',\n",
       " 'df_PF_TR_SequenceCTDD',\n",
       " 'df_PF_TR_SequenceCTDT',\n",
       " 'df_PF_TR_SequenceCTriad',\n",
       " 'df_PF_TR_SequenceDDE',\n",
       " 'df_PF_TR_SequenceDPC',\n",
       " 'df_PF_TR_SequenceGAAC',\n",
       " 'df_PF_TR_SequenceMoran',\n",
       " 'df_PF_TR_SequenceNMBroto',\n",
       " 'df_PF_TR_SequencePAAC',\n",
       " 'df_PF_TR_SequenceQSOrder',\n",
       " 'df_PF_TR_SequenceSOCNumber']"
      ]
     },
     "execution_count": 14,
     "metadata": {},
     "output_type": "execute_result"
    }
   ],
   "source": [
    "files = os.listdir(data_Dir)\n",
    "files"
   ]
  },
  {
   "cell_type": "code",
   "execution_count": 15,
   "metadata": {
    "scrolled": true
   },
   "outputs": [
    {
     "name": "stdout",
     "output_type": "stream",
     "text": [
      "['df_CF_TR_SequenceAAC', 'df_CF_TR_SequenceAPAAC', 'df_CF_TR_SequenceCKSAAP', 'df_CF_TR_SequenceCTDC', 'df_CF_TR_SequenceCTDD', 'df_CF_TR_SequenceCTDT', 'df_CF_TR_SequenceCTriad', 'df_CF_TR_SequenceDDE', 'df_CF_TR_SequenceDPC', 'df_CF_TR_SequenceGAAC', 'df_CF_TR_SequenceMoran', 'df_CF_TR_SequenceNMBroto', 'df_CF_TR_SequencePAAC', 'df_CF_TR_SequenceQSOrder', 'df_CF_TR_SequenceSOCNumber', 'df_CR_TR_SequenceAAC', 'df_CR_TR_SequenceAPAAC', 'df_CR_TR_SequenceCKSAAP', 'df_CR_TR_SequenceCTDC', 'df_CR_TR_SequenceCTDD', 'df_CR_TR_SequenceCTDT', 'df_CR_TR_SequenceCTriad', 'df_CR_TR_SequenceDDE', 'df_CR_TR_SequenceDPC', 'df_CR_TR_SequenceGAAC', 'df_CR_TR_SequenceMoran', 'df_CR_TR_SequenceNMBroto', 'df_CR_TR_SequencePAAC', 'df_CR_TR_SequenceQSOrder', 'df_CR_TR_SequenceSOCNumber', 'df_MC_TR_SequenceAAC', 'df_MC_TR_SequenceAPAAC', 'df_MC_TR_SequenceCKSAAP', 'df_MC_TR_SequenceCTDC', 'df_MC_TR_SequenceCTDD', 'df_MC_TR_SequenceCTDT', 'df_MC_TR_SequenceCTriad', 'df_MC_TR_SequenceDDE', 'df_MC_TR_SequenceDPC', 'df_MC_TR_SequenceGAAC', 'df_MC_TR_SequenceMoran', 'df_MC_TR_SequenceNMBroto', 'df_MC_TR_SequencePAAC', 'df_MC_TR_SequenceQSOrder', 'df_MC_TR_SequenceSOCNumber', 'df_MF_TR_SequenceAAC', 'df_MF_TR_SequenceAPAAC', 'df_MF_TR_SequenceCKSAAP', 'df_MF_TR_SequenceCTDC', 'df_MF_TR_SequenceCTDD', 'df_MF_TR_SequenceCTDT', 'df_MF_TR_SequenceCTriad', 'df_MF_TR_SequenceDDE', 'df_MF_TR_SequenceDPC', 'df_MF_TR_SequenceGAAC', 'df_MF_TR_SequenceMoran', 'df_MF_TR_SequenceNMBroto', 'df_MF_TR_SequencePAAC', 'df_MF_TR_SequenceQSOrder', 'df_MF_TR_SequenceSOCNumber', 'df_PF_TR_SequenceAAC', 'df_PF_TR_SequenceAPAAC', 'df_PF_TR_SequenceCKSAAP', 'df_PF_TR_SequenceCTDC', 'df_PF_TR_SequenceCTDD', 'df_PF_TR_SequenceCTDT', 'df_PF_TR_SequenceCTriad', 'df_PF_TR_SequenceDDE', 'df_PF_TR_SequenceDPC', 'df_PF_TR_SequenceGAAC', 'df_PF_TR_SequenceMoran', 'df_PF_TR_SequenceNMBroto', 'df_PF_TR_SequencePAAC', 'df_PF_TR_SequenceQSOrder', 'df_PF_TR_SequenceSOCNumber']\n",
      "['df_CF_TE_SequenceAAC', 'df_CF_TE_SequenceAPAAC', 'df_CF_TE_SequenceCKSAAP', 'df_CF_TE_SequenceCTDC', 'df_CF_TE_SequenceCTDD', 'df_CF_TE_SequenceCTDT', 'df_CF_TE_SequenceCTriad', 'df_CF_TE_SequenceDDE', 'df_CF_TE_SequenceDPC', 'df_CF_TE_SequenceGAAC', 'df_CF_TE_SequenceMoran', 'df_CF_TE_SequenceNMBroto', 'df_CF_TE_SequencePAAC', 'df_CF_TE_SequenceQSOrder', 'df_CF_TE_SequenceSOCNumber', 'df_CR_TE_SequenceAAC', 'df_CR_TE_SequenceAPAAC', 'df_CR_TE_SequenceCKSAAP', 'df_CR_TE_SequenceCTDC', 'df_CR_TE_SequenceCTDD', 'df_CR_TE_SequenceCTDT', 'df_CR_TE_SequenceCTriad', 'df_CR_TE_SequenceDDE', 'df_CR_TE_SequenceDPC', 'df_CR_TE_SequenceGAAC', 'df_CR_TE_SequenceMoran', 'df_CR_TE_SequenceNMBroto', 'df_CR_TE_SequencePAAC', 'df_CR_TE_SequenceQSOrder', 'df_CR_TE_SequenceSOCNumber', 'df_MC_TE_SequenceAAC', 'df_MC_TE_SequenceAPAAC', 'df_MC_TE_SequenceCKSAAP', 'df_MC_TE_SequenceCTDC', 'df_MC_TE_SequenceCTDD', 'df_MC_TE_SequenceCTDT', 'df_MC_TE_SequenceCTriad', 'df_MC_TE_SequenceDDE', 'df_MC_TE_SequenceDPC', 'df_MC_TE_SequenceGAAC', 'df_MC_TE_SequenceMoran', 'df_MC_TE_SequenceNMBroto', 'df_MC_TE_SequencePAAC', 'df_MC_TE_SequenceQSOrder', 'df_MC_TE_SequenceSOCNumber', 'df_MF_TE_SequenceAAC', 'df_MF_TE_SequenceAPAAC', 'df_MF_TE_SequenceCKSAAP', 'df_MF_TE_SequenceCTDC', 'df_MF_TE_SequenceCTDD', 'df_MF_TE_SequenceCTDT', 'df_MF_TE_SequenceCTriad', 'df_MF_TE_SequenceDDE', 'df_MF_TE_SequenceDPC', 'df_MF_TE_SequenceGAAC', 'df_MF_TE_SequenceMoran', 'df_MF_TE_SequenceNMBroto', 'df_MF_TE_SequencePAAC', 'df_MF_TE_SequenceQSOrder', 'df_MF_TE_SequenceSOCNumber', 'df_PF_TE_SequenceAAC', 'df_PF_TE_SequenceAPAAC', 'df_PF_TE_SequenceCKSAAP', 'df_PF_TE_SequenceCTDC', 'df_PF_TE_SequenceCTDD', 'df_PF_TE_SequenceCTDT', 'df_PF_TE_SequenceCTriad', 'df_PF_TE_SequenceDDE', 'df_PF_TE_SequenceDPC', 'df_PF_TE_SequenceGAAC', 'df_PF_TE_SequenceMoran', 'df_PF_TE_SequenceNMBroto', 'df_PF_TE_SequencePAAC', 'df_PF_TE_SequenceQSOrder', 'df_PF_TE_SequenceSOCNumber']\n"
     ]
    }
   ],
   "source": [
    "files_TR = []\n",
    "files_TE = []\n",
    "for f in files:\n",
    "    if f[7] == 'E':\n",
    "        files_TE.append(f)\n",
    "    else:\n",
    "        files_TR.append(f)\n",
    "print(files_TR)\n",
    "print(files_TE)"
   ]
  },
  {
   "cell_type": "code",
   "execution_count": 16,
   "metadata": {},
   "outputs": [
    {
     "data": {
      "text/plain": [
       "'CF'"
      ]
     },
     "execution_count": 16,
     "metadata": {},
     "output_type": "execute_result"
    }
   ],
   "source": [
    "files_TR[0][3:5]"
   ]
  },
  {
   "cell_type": "code",
   "execution_count": 17,
   "metadata": {},
   "outputs": [
    {
     "name": "stdout",
     "output_type": "stream",
     "text": [
      "15\n",
      "15\n",
      "15\n",
      "15\n",
      "15\n",
      "15\n",
      "15\n",
      "15\n",
      "15\n",
      "15\n"
     ]
    }
   ],
   "source": [
    "files_CFTR = []\n",
    "files_CFTE = []\n",
    "\n",
    "files_MFTR = []\n",
    "files_MFTE = []\n",
    "\n",
    "files_PFTR = []\n",
    "files_PFTE = []\n",
    "\n",
    "files_MCTR = []\n",
    "files_MCTE = []\n",
    "\n",
    "files_CRTR = []\n",
    "files_CRTE = []\n",
    "\n",
    "for r in files_TR:\n",
    "    if r[3:5] == 'CF':\n",
    "        files_CFTR.append(r)\n",
    "    elif r[3:5] == 'CR':\n",
    "        files_CRTR.append(r)\n",
    "    elif r[3:5] == 'MF':\n",
    "        files_MFTR.append(r)\n",
    "    elif r[3:5] == 'MC':\n",
    "        files_MCTR.append(r)\n",
    "    elif r[3:5] == 'PF':\n",
    "        files_PFTR.append(r)\n",
    "    else:\n",
    "        pass\n",
    "print(len(files_CFTR))\n",
    "print(len(files_CRTR))\n",
    "print(len(files_MFTR))\n",
    "print(len(files_MCTR))\n",
    "print(len(files_PFTR))\n",
    "\n",
    "for e in files_TE:\n",
    "    if e[3:5] == 'CF':\n",
    "        files_CFTE.append(e)\n",
    "    elif e[3:5] == 'CR':\n",
    "        files_CRTE.append(e)\n",
    "    elif e[3:5] == 'MF':\n",
    "        files_MFTE.append(e)\n",
    "    elif e[3:5] == 'MC':\n",
    "        files_MCTE.append(e)\n",
    "    elif e[3:5] == 'PF':\n",
    "        files_PFTE.append(e)\n",
    "    else:\n",
    "        pass\n",
    "print(len(files_CFTE))\n",
    "print(len(files_CRTE))\n",
    "print(len(files_MFTE))\n",
    "print(len(files_MCTE))\n",
    "print(len(files_PFTE))"
   ]
  },
  {
   "cell_type": "markdown",
   "metadata": {},
   "source": [
    "## merge the files of features to one file with loop "
   ]
  },
  {
   "cell_type": "code",
   "execution_count": 18,
   "metadata": {},
   "outputs": [],
   "source": [
    "concatDir=os.path.dirname('C:/Python/internship/Crystal_FeaturesConcat/')\n",
    "dataSet=['CF','CR','MC','MF','PF']\n",
    "typeSet=['TR','TE']\n",
    "categorySet=['AAC','DPC','PAAC','CKSAAP','DDE','GAAC','Moran','NMBroto','CTDC','CTDT','CTDD','CTriad','SOCNumber','QSOrder','APAAC']\n",
    "positionSet=[2,2,2,2,2,2,2,2,2,2,2,2,2,2,2]\n",
    "nameColumn=1"
   ]
  },
  {
   "cell_type": "code",
   "execution_count": 19,
   "metadata": {},
   "outputs": [],
   "source": [
    "def Get_File_by_Data_Type(cate, datadir, flist:list, data:str=\"CF\", type:str=\"TE\"):\n",
    "    cflist=[]\n",
    "    outname=data+\"_\"+type\n",
    "    for c in cate:\n",
    "        outname = outname + \"_\" + c\n",
    "        reMode=r'''.*'''+data+'''.*_.*'''+type+'''.*_.*'''+c\n",
    "        for f in flist:\n",
    "            if re.match(reMode,f):\n",
    "                f=datadir+\"/\"+f\n",
    "                if f not in cflist:\n",
    "                    cflist.append(f)\n",
    "    return cflist\n",
    "\n",
    "def Read_and_Concat(flist:list,postions:list,namec):\n",
    "    out=pd.DataFrame()\n",
    "    colnames=[]\n",
    "    dfs=[]\n",
    "    slice=[]\n",
    "    for f, p in zip(flist,postions):\n",
    "        s=[]\n",
    "        s.append(p)\n",
    "        df=pd.read_csv(f)\n",
    "        print(df.shape)\n",
    "        print(\"Merging {0}\".format(f))\n",
    "        colnames=colnames+list(df.columns)\n",
    "        dfs.append(df)\n",
    "        s.append(len(df.columns))\n",
    "        slice.append(s)\n",
    "    out = pd.concat(dfs,ignore_index=True,axis=1)\n",
    "    out.columns=colnames\n",
    "    cols=Slice_Handling(slice,namec)\n",
    "    out=out.iloc[:,cols]\n",
    "    return out\n",
    "\n",
    "def Slice_Handling(slist:list,namec:int):\n",
    "    out=[]\n",
    "    out2=[]\n",
    "    i=0\n",
    "    while(i<len(slist)):\n",
    "        if i==0:\n",
    "            out.append(slist[i])\n",
    "        else:\n",
    "            s=out[i-1][1] + slist[i][0]\n",
    "            e=s + slist[i][1]-slist[i][0]\n",
    "            out.append([s,e])\n",
    "        i+=1\n",
    "    for o in out:\n",
    "        i=o[0]\n",
    "        while(i<o[1]):\n",
    "            out2.append(i)\n",
    "            i+=1\n",
    "    out2.insert(0,namec)\n",
    "    return out2\n",
    "def Main_Processing(dset:list,tset:list):\n",
    "    for d in dset:\n",
    "        for t in tset:\n",
    "            fl=Get_File_by_Data_Type(categorySet,data_Dir,files,d,t)\n",
    "            out=Read_and_Concat(fl,positionSet,nameColumn)\n",
    "            out.head(10) \n",
    "            out.to_csv(concatDir+\"/\"+d+\"_\"+t+\".csv\")\n",
    "            print(\"Saved {0} data for type {1} to {2}\".format(d,t,concatDir))\n",
    "    print(\"jobs done!\")"
   ]
  },
  {
   "cell_type": "code",
   "execution_count": 20,
   "metadata": {
    "scrolled": true
   },
   "outputs": [
    {
     "name": "stdout",
     "output_type": "stream",
     "text": [
      "(2184, 22)\n",
      "Merging C:/Python/internship\\Crystal_Features_Csv/df_CF_TR_SequenceAAC\n",
      "(2184, 82)\n",
      "Merging C:/Python/internship\\Crystal_Features_Csv/df_CF_TR_SequenceAPAAC\n",
      "(2184, 7)\n",
      "Merging C:/Python/internship\\Crystal_Features_Csv/df_CF_TR_SequenceGAAC\n",
      "(2184, 52)\n",
      "Merging C:/Python/internship\\Crystal_Features_Csv/df_CF_TR_SequencePAAC\n",
      "(2184, 402)\n",
      "Merging C:/Python/internship\\Crystal_Features_Csv/df_CF_TR_SequenceDPC\n",
      "(2184, 2402)\n",
      "Merging C:/Python/internship\\Crystal_Features_Csv/df_CF_TR_SequenceCKSAAP\n",
      "(2184, 402)\n",
      "Merging C:/Python/internship\\Crystal_Features_Csv/df_CF_TR_SequenceDDE\n",
      "(2184, 242)\n",
      "Merging C:/Python/internship\\Crystal_Features_Csv/df_CF_TR_SequenceMoran\n",
      "(2184, 242)\n",
      "Merging C:/Python/internship\\Crystal_Features_Csv/df_CF_TR_SequenceNMBroto\n",
      "(2184, 41)\n",
      "Merging C:/Python/internship\\Crystal_Features_Csv/df_CF_TR_SequenceCTDC\n",
      "(2184, 41)\n",
      "Merging C:/Python/internship\\Crystal_Features_Csv/df_CF_TR_SequenceCTDT\n",
      "(2184, 197)\n",
      "Merging C:/Python/internship\\Crystal_Features_Csv/df_CF_TR_SequenceCTDD\n",
      "(2184, 345)\n",
      "Merging C:/Python/internship\\Crystal_Features_Csv/df_CF_TR_SequenceCTriad\n",
      "(2184, 62)\n",
      "Merging C:/Python/internship\\Crystal_Features_Csv/df_CF_TR_SequenceSOCNumber\n",
      "(2184, 102)\n",
      "Merging C:/Python/internship\\Crystal_Features_Csv/df_CF_TR_SequenceQSOrder\n",
      "Saved CF data for type TR to C:/Python/internship/Crystal_FeaturesConcat\n",
      "(546, 22)\n",
      "Merging C:/Python/internship\\Crystal_Features_Csv/df_CF_TE_SequenceAAC\n",
      "(546, 82)\n",
      "Merging C:/Python/internship\\Crystal_Features_Csv/df_CF_TE_SequenceAPAAC\n",
      "(546, 7)\n",
      "Merging C:/Python/internship\\Crystal_Features_Csv/df_CF_TE_SequenceGAAC\n",
      "(546, 52)\n",
      "Merging C:/Python/internship\\Crystal_Features_Csv/df_CF_TE_SequencePAAC\n",
      "(546, 402)\n",
      "Merging C:/Python/internship\\Crystal_Features_Csv/df_CF_TE_SequenceDPC\n",
      "(546, 2402)\n",
      "Merging C:/Python/internship\\Crystal_Features_Csv/df_CF_TE_SequenceCKSAAP\n",
      "(546, 402)\n",
      "Merging C:/Python/internship\\Crystal_Features_Csv/df_CF_TE_SequenceDDE\n",
      "(546, 242)\n",
      "Merging C:/Python/internship\\Crystal_Features_Csv/df_CF_TE_SequenceMoran\n",
      "(546, 242)\n",
      "Merging C:/Python/internship\\Crystal_Features_Csv/df_CF_TE_SequenceNMBroto\n",
      "(546, 41)\n",
      "Merging C:/Python/internship\\Crystal_Features_Csv/df_CF_TE_SequenceCTDC\n",
      "(546, 41)\n",
      "Merging C:/Python/internship\\Crystal_Features_Csv/df_CF_TE_SequenceCTDT\n",
      "(546, 197)\n",
      "Merging C:/Python/internship\\Crystal_Features_Csv/df_CF_TE_SequenceCTDD\n",
      "(546, 345)\n",
      "Merging C:/Python/internship\\Crystal_Features_Csv/df_CF_TE_SequenceCTriad\n",
      "(546, 62)\n",
      "Merging C:/Python/internship\\Crystal_Features_Csv/df_CF_TE_SequenceSOCNumber\n",
      "(546, 102)\n",
      "Merging C:/Python/internship\\Crystal_Features_Csv/df_CF_TE_SequenceQSOrder\n",
      "Saved CF data for type TE to C:/Python/internship/Crystal_FeaturesConcat\n",
      "(19791, 22)\n",
      "Merging C:/Python/internship\\Crystal_Features_Csv/df_CR_TR_SequenceAAC\n",
      "(19791, 82)\n",
      "Merging C:/Python/internship\\Crystal_Features_Csv/df_CR_TR_SequenceAPAAC\n",
      "(19791, 7)\n",
      "Merging C:/Python/internship\\Crystal_Features_Csv/df_CR_TR_SequenceGAAC\n",
      "(19791, 52)\n",
      "Merging C:/Python/internship\\Crystal_Features_Csv/df_CR_TR_SequencePAAC\n",
      "(19791, 402)\n",
      "Merging C:/Python/internship\\Crystal_Features_Csv/df_CR_TR_SequenceDPC\n",
      "(19791, 2402)\n",
      "Merging C:/Python/internship\\Crystal_Features_Csv/df_CR_TR_SequenceCKSAAP\n",
      "(19791, 402)\n",
      "Merging C:/Python/internship\\Crystal_Features_Csv/df_CR_TR_SequenceDDE\n",
      "(19791, 242)\n",
      "Merging C:/Python/internship\\Crystal_Features_Csv/df_CR_TR_SequenceMoran\n",
      "(19791, 242)\n",
      "Merging C:/Python/internship\\Crystal_Features_Csv/df_CR_TR_SequenceNMBroto\n",
      "(19791, 41)\n",
      "Merging C:/Python/internship\\Crystal_Features_Csv/df_CR_TR_SequenceCTDC\n",
      "(19791, 41)\n",
      "Merging C:/Python/internship\\Crystal_Features_Csv/df_CR_TR_SequenceCTDT\n",
      "(19791, 197)\n",
      "Merging C:/Python/internship\\Crystal_Features_Csv/df_CR_TR_SequenceCTDD\n",
      "(19791, 345)\n",
      "Merging C:/Python/internship\\Crystal_Features_Csv/df_CR_TR_SequenceCTriad\n",
      "(19791, 62)\n",
      "Merging C:/Python/internship\\Crystal_Features_Csv/df_CR_TR_SequenceSOCNumber\n",
      "(19791, 102)\n",
      "Merging C:/Python/internship\\Crystal_Features_Csv/df_CR_TR_SequenceQSOrder\n",
      "Saved CR data for type TR to C:/Python/internship/Crystal_FeaturesConcat\n",
      "(4947, 22)\n",
      "Merging C:/Python/internship\\Crystal_Features_Csv/df_CR_TE_SequenceAAC\n",
      "(4947, 82)\n",
      "Merging C:/Python/internship\\Crystal_Features_Csv/df_CR_TE_SequenceAPAAC\n",
      "(4947, 7)\n",
      "Merging C:/Python/internship\\Crystal_Features_Csv/df_CR_TE_SequenceGAAC\n",
      "(4947, 52)\n",
      "Merging C:/Python/internship\\Crystal_Features_Csv/df_CR_TE_SequencePAAC\n",
      "(4947, 402)\n",
      "Merging C:/Python/internship\\Crystal_Features_Csv/df_CR_TE_SequenceDPC\n",
      "(4947, 2402)\n",
      "Merging C:/Python/internship\\Crystal_Features_Csv/df_CR_TE_SequenceCKSAAP\n",
      "(4947, 402)\n",
      "Merging C:/Python/internship\\Crystal_Features_Csv/df_CR_TE_SequenceDDE\n",
      "(4947, 242)\n",
      "Merging C:/Python/internship\\Crystal_Features_Csv/df_CR_TE_SequenceMoran\n",
      "(4947, 242)\n",
      "Merging C:/Python/internship\\Crystal_Features_Csv/df_CR_TE_SequenceNMBroto\n",
      "(4947, 41)\n",
      "Merging C:/Python/internship\\Crystal_Features_Csv/df_CR_TE_SequenceCTDC\n",
      "(4947, 41)\n",
      "Merging C:/Python/internship\\Crystal_Features_Csv/df_CR_TE_SequenceCTDT\n",
      "(4947, 197)\n",
      "Merging C:/Python/internship\\Crystal_Features_Csv/df_CR_TE_SequenceCTDD\n",
      "(4947, 345)\n",
      "Merging C:/Python/internship\\Crystal_Features_Csv/df_CR_TE_SequenceCTriad\n",
      "(4947, 62)\n",
      "Merging C:/Python/internship\\Crystal_Features_Csv/df_CR_TE_SequenceSOCNumber\n",
      "(4947, 102)\n",
      "Merging C:/Python/internship\\Crystal_Features_Csv/df_CR_TE_SequenceQSOrder\n",
      "Saved CR data for type TE to C:/Python/internship/Crystal_FeaturesConcat\n",
      "(4080, 22)\n",
      "Merging C:/Python/internship\\Crystal_Features_Csv/df_MC_TR_SequenceAAC\n",
      "(4080, 82)\n",
      "Merging C:/Python/internship\\Crystal_Features_Csv/df_MC_TR_SequenceAPAAC\n",
      "(4080, 7)\n",
      "Merging C:/Python/internship\\Crystal_Features_Csv/df_MC_TR_SequenceGAAC\n",
      "(4080, 52)\n",
      "Merging C:/Python/internship\\Crystal_Features_Csv/df_MC_TR_SequencePAAC\n",
      "(4080, 402)\n",
      "Merging C:/Python/internship\\Crystal_Features_Csv/df_MC_TR_SequenceDPC\n",
      "(4080, 2402)\n",
      "Merging C:/Python/internship\\Crystal_Features_Csv/df_MC_TR_SequenceCKSAAP\n",
      "(4080, 402)\n",
      "Merging C:/Python/internship\\Crystal_Features_Csv/df_MC_TR_SequenceDDE\n",
      "(4080, 242)\n",
      "Merging C:/Python/internship\\Crystal_Features_Csv/df_MC_TR_SequenceMoran\n",
      "(4080, 242)\n",
      "Merging C:/Python/internship\\Crystal_Features_Csv/df_MC_TR_SequenceNMBroto\n",
      "(4080, 41)\n",
      "Merging C:/Python/internship\\Crystal_Features_Csv/df_MC_TR_SequenceCTDC\n",
      "(4080, 41)\n",
      "Merging C:/Python/internship\\Crystal_Features_Csv/df_MC_TR_SequenceCTDT\n",
      "(4080, 197)\n",
      "Merging C:/Python/internship\\Crystal_Features_Csv/df_MC_TR_SequenceCTDD\n",
      "(4080, 345)\n",
      "Merging C:/Python/internship\\Crystal_Features_Csv/df_MC_TR_SequenceCTriad\n",
      "(4080, 62)\n",
      "Merging C:/Python/internship\\Crystal_Features_Csv/df_MC_TR_SequenceSOCNumber\n",
      "(4080, 102)\n",
      "Merging C:/Python/internship\\Crystal_Features_Csv/df_MC_TR_SequenceQSOrder\n",
      "Saved MC data for type TR to C:/Python/internship/Crystal_FeaturesConcat\n",
      "(1020, 22)\n",
      "Merging C:/Python/internship\\Crystal_Features_Csv/df_MC_TE_SequenceAAC\n",
      "(1020, 82)\n",
      "Merging C:/Python/internship\\Crystal_Features_Csv/df_MC_TE_SequenceAPAAC\n",
      "(1020, 7)\n",
      "Merging C:/Python/internship\\Crystal_Features_Csv/df_MC_TE_SequenceGAAC\n",
      "(1020, 52)\n",
      "Merging C:/Python/internship\\Crystal_Features_Csv/df_MC_TE_SequencePAAC\n",
      "(1020, 402)\n",
      "Merging C:/Python/internship\\Crystal_Features_Csv/df_MC_TE_SequenceDPC\n",
      "(1020, 2402)\n",
      "Merging C:/Python/internship\\Crystal_Features_Csv/df_MC_TE_SequenceCKSAAP\n",
      "(1020, 402)\n",
      "Merging C:/Python/internship\\Crystal_Features_Csv/df_MC_TE_SequenceDDE\n",
      "(1020, 242)\n",
      "Merging C:/Python/internship\\Crystal_Features_Csv/df_MC_TE_SequenceMoran\n",
      "(1020, 242)\n",
      "Merging C:/Python/internship\\Crystal_Features_Csv/df_MC_TE_SequenceNMBroto\n",
      "(1020, 41)\n",
      "Merging C:/Python/internship\\Crystal_Features_Csv/df_MC_TE_SequenceCTDC\n",
      "(1020, 41)\n",
      "Merging C:/Python/internship\\Crystal_Features_Csv/df_MC_TE_SequenceCTDT\n",
      "(1020, 197)\n",
      "Merging C:/Python/internship\\Crystal_Features_Csv/df_MC_TE_SequenceCTDD\n",
      "(1020, 345)\n",
      "Merging C:/Python/internship\\Crystal_Features_Csv/df_MC_TE_SequenceCTriad\n",
      "(1020, 62)\n",
      "Merging C:/Python/internship\\Crystal_Features_Csv/df_MC_TE_SequenceSOCNumber\n",
      "(1020, 102)\n",
      "Merging C:/Python/internship\\Crystal_Features_Csv/df_MC_TE_SequenceQSOrder\n",
      "Saved MC data for type TE to C:/Python/internship/Crystal_FeaturesConcat\n",
      "(19791, 22)\n",
      "Merging C:/Python/internship\\Crystal_Features_Csv/df_MF_TR_SequenceAAC\n",
      "(19791, 82)\n",
      "Merging C:/Python/internship\\Crystal_Features_Csv/df_MF_TR_SequenceAPAAC\n",
      "(19791, 7)\n",
      "Merging C:/Python/internship\\Crystal_Features_Csv/df_MF_TR_SequenceGAAC\n",
      "(19791, 52)\n",
      "Merging C:/Python/internship\\Crystal_Features_Csv/df_MF_TR_SequencePAAC\n"
     ]
    },
    {
     "name": "stdout",
     "output_type": "stream",
     "text": [
      "(19791, 402)\n",
      "Merging C:/Python/internship\\Crystal_Features_Csv/df_MF_TR_SequenceDPC\n",
      "(19791, 2402)\n",
      "Merging C:/Python/internship\\Crystal_Features_Csv/df_MF_TR_SequenceCKSAAP\n",
      "(19791, 402)\n",
      "Merging C:/Python/internship\\Crystal_Features_Csv/df_MF_TR_SequenceDDE\n",
      "(19791, 242)\n",
      "Merging C:/Python/internship\\Crystal_Features_Csv/df_MF_TR_SequenceMoran\n",
      "(19791, 242)\n",
      "Merging C:/Python/internship\\Crystal_Features_Csv/df_MF_TR_SequenceNMBroto\n",
      "(19791, 41)\n",
      "Merging C:/Python/internship\\Crystal_Features_Csv/df_MF_TR_SequenceCTDC\n",
      "(19791, 41)\n",
      "Merging C:/Python/internship\\Crystal_Features_Csv/df_MF_TR_SequenceCTDT\n",
      "(19791, 197)\n",
      "Merging C:/Python/internship\\Crystal_Features_Csv/df_MF_TR_SequenceCTDD\n",
      "(19791, 345)\n",
      "Merging C:/Python/internship\\Crystal_Features_Csv/df_MF_TR_SequenceCTriad\n",
      "(19791, 62)\n",
      "Merging C:/Python/internship\\Crystal_Features_Csv/df_MF_TR_SequenceSOCNumber\n",
      "(19791, 102)\n",
      "Merging C:/Python/internship\\Crystal_Features_Csv/df_MF_TR_SequenceQSOrder\n",
      "Saved MF data for type TR to C:/Python/internship/Crystal_FeaturesConcat\n",
      "(4947, 22)\n",
      "Merging C:/Python/internship\\Crystal_Features_Csv/df_MF_TE_SequenceAAC\n",
      "(4947, 82)\n",
      "Merging C:/Python/internship\\Crystal_Features_Csv/df_MF_TE_SequenceAPAAC\n",
      "(4947, 7)\n",
      "Merging C:/Python/internship\\Crystal_Features_Csv/df_MF_TE_SequenceGAAC\n",
      "(4947, 52)\n",
      "Merging C:/Python/internship\\Crystal_Features_Csv/df_MF_TE_SequencePAAC\n",
      "(4947, 402)\n",
      "Merging C:/Python/internship\\Crystal_Features_Csv/df_MF_TE_SequenceDPC\n",
      "(4947, 2402)\n",
      "Merging C:/Python/internship\\Crystal_Features_Csv/df_MF_TE_SequenceCKSAAP\n",
      "(4947, 402)\n",
      "Merging C:/Python/internship\\Crystal_Features_Csv/df_MF_TE_SequenceDDE\n",
      "(4947, 242)\n",
      "Merging C:/Python/internship\\Crystal_Features_Csv/df_MF_TE_SequenceMoran\n",
      "(4947, 242)\n",
      "Merging C:/Python/internship\\Crystal_Features_Csv/df_MF_TE_SequenceNMBroto\n",
      "(4947, 41)\n",
      "Merging C:/Python/internship\\Crystal_Features_Csv/df_MF_TE_SequenceCTDC\n",
      "(4947, 41)\n",
      "Merging C:/Python/internship\\Crystal_Features_Csv/df_MF_TE_SequenceCTDT\n",
      "(4947, 197)\n",
      "Merging C:/Python/internship\\Crystal_Features_Csv/df_MF_TE_SequenceCTDD\n",
      "(4947, 345)\n",
      "Merging C:/Python/internship\\Crystal_Features_Csv/df_MF_TE_SequenceCTriad\n",
      "(4947, 62)\n",
      "Merging C:/Python/internship\\Crystal_Features_Csv/df_MF_TE_SequenceSOCNumber\n",
      "(4947, 102)\n",
      "Merging C:/Python/internship\\Crystal_Features_Csv/df_MF_TE_SequenceQSOrder\n",
      "Saved MF data for type TE to C:/Python/internship/Crystal_FeaturesConcat\n",
      "(7399, 22)\n",
      "Merging C:/Python/internship\\Crystal_Features_Csv/df_PF_TR_SequenceAAC\n",
      "(7399, 82)\n",
      "Merging C:/Python/internship\\Crystal_Features_Csv/df_PF_TR_SequenceAPAAC\n",
      "(7399, 7)\n",
      "Merging C:/Python/internship\\Crystal_Features_Csv/df_PF_TR_SequenceGAAC\n",
      "(7399, 52)\n",
      "Merging C:/Python/internship\\Crystal_Features_Csv/df_PF_TR_SequencePAAC\n",
      "(7399, 402)\n",
      "Merging C:/Python/internship\\Crystal_Features_Csv/df_PF_TR_SequenceDPC\n",
      "(7399, 2402)\n",
      "Merging C:/Python/internship\\Crystal_Features_Csv/df_PF_TR_SequenceCKSAAP\n",
      "(7399, 402)\n",
      "Merging C:/Python/internship\\Crystal_Features_Csv/df_PF_TR_SequenceDDE\n",
      "(7399, 242)\n",
      "Merging C:/Python/internship\\Crystal_Features_Csv/df_PF_TR_SequenceMoran\n",
      "(7399, 242)\n",
      "Merging C:/Python/internship\\Crystal_Features_Csv/df_PF_TR_SequenceNMBroto\n",
      "(7399, 41)\n",
      "Merging C:/Python/internship\\Crystal_Features_Csv/df_PF_TR_SequenceCTDC\n",
      "(7399, 41)\n",
      "Merging C:/Python/internship\\Crystal_Features_Csv/df_PF_TR_SequenceCTDT\n",
      "(7399, 197)\n",
      "Merging C:/Python/internship\\Crystal_Features_Csv/df_PF_TR_SequenceCTDD\n",
      "(7399, 345)\n",
      "Merging C:/Python/internship\\Crystal_Features_Csv/df_PF_TR_SequenceCTriad\n",
      "(7399, 62)\n",
      "Merging C:/Python/internship\\Crystal_Features_Csv/df_PF_TR_SequenceSOCNumber\n",
      "(7399, 102)\n",
      "Merging C:/Python/internship\\Crystal_Features_Csv/df_PF_TR_SequenceQSOrder\n",
      "Saved PF data for type TR to C:/Python/internship/Crystal_FeaturesConcat\n",
      "(1849, 22)\n",
      "Merging C:/Python/internship\\Crystal_Features_Csv/df_PF_TE_SequenceAAC\n",
      "(1849, 82)\n",
      "Merging C:/Python/internship\\Crystal_Features_Csv/df_PF_TE_SequenceAPAAC\n",
      "(1849, 7)\n",
      "Merging C:/Python/internship\\Crystal_Features_Csv/df_PF_TE_SequenceGAAC\n",
      "(1849, 52)\n",
      "Merging C:/Python/internship\\Crystal_Features_Csv/df_PF_TE_SequencePAAC\n",
      "(1849, 402)\n",
      "Merging C:/Python/internship\\Crystal_Features_Csv/df_PF_TE_SequenceDPC\n",
      "(1849, 2402)\n",
      "Merging C:/Python/internship\\Crystal_Features_Csv/df_PF_TE_SequenceCKSAAP\n",
      "(1849, 402)\n",
      "Merging C:/Python/internship\\Crystal_Features_Csv/df_PF_TE_SequenceDDE\n",
      "(1849, 242)\n",
      "Merging C:/Python/internship\\Crystal_Features_Csv/df_PF_TE_SequenceMoran\n",
      "(1849, 242)\n",
      "Merging C:/Python/internship\\Crystal_Features_Csv/df_PF_TE_SequenceNMBroto\n",
      "(1849, 41)\n",
      "Merging C:/Python/internship\\Crystal_Features_Csv/df_PF_TE_SequenceCTDC\n",
      "(1849, 41)\n",
      "Merging C:/Python/internship\\Crystal_Features_Csv/df_PF_TE_SequenceCTDT\n",
      "(1849, 197)\n",
      "Merging C:/Python/internship\\Crystal_Features_Csv/df_PF_TE_SequenceCTDD\n",
      "(1849, 345)\n",
      "Merging C:/Python/internship\\Crystal_Features_Csv/df_PF_TE_SequenceCTriad\n",
      "(1849, 62)\n",
      "Merging C:/Python/internship\\Crystal_Features_Csv/df_PF_TE_SequenceSOCNumber\n",
      "(1849, 102)\n",
      "Merging C:/Python/internship\\Crystal_Features_Csv/df_PF_TE_SequenceQSOrder\n",
      "Saved PF data for type TE to C:/Python/internship/Crystal_FeaturesConcat\n",
      "jobs done!\n"
     ]
    }
   ],
   "source": [
    "# Pressing here to generate files\n",
    "Main_Processing(dataSet,typeSet)"
   ]
  },
  {
   "cell_type": "markdown",
   "metadata": {},
   "source": [
    "## Check data again"
   ]
  },
  {
   "cell_type": "code",
   "execution_count": 27,
   "metadata": {},
   "outputs": [],
   "source": [
    "data_Dir_csv = os.path.join(base_dir,'Crystal_FeaturesConcat/')"
   ]
  },
  {
   "cell_type": "code",
   "execution_count": 28,
   "metadata": {},
   "outputs": [
    {
     "name": "stdout",
     "output_type": "stream",
     "text": [
      "10\n",
      "['CF_TE.csv', 'CF_TR.csv', 'CR_TE.csv', 'CR_TR.csv', 'MC_TE.csv', 'MC_TR.csv', 'MF_TE.csv', 'MF_TR.csv', 'PF_TE.csv', 'PF_TR.csv']\n"
     ]
    }
   ],
   "source": [
    "# get list of files' name of features that be saved in csv(获取保存为CSV特征文件的名字列表)\n",
    "files_csv = os.listdir(data_Dir_csv)\n",
    "print(len(files_csv))\n",
    "print(files_csv)"
   ]
  },
  {
   "cell_type": "code",
   "execution_count": 43,
   "metadata": {},
   "outputs": [
    {
     "name": "stdout",
     "output_type": "stream",
     "text": [
      "(546, 4613)\n",
      "(2184, 4613)\n",
      "(4947, 4613)\n",
      "(19791, 4613)\n",
      "(1020, 4613)\n",
      "(4080, 4613)\n",
      "(4947, 4613)\n",
      "(19791, 4613)\n",
      "(1849, 4613)\n",
      "(7399, 4613)\n",
      "<class 'pandas.core.frame.DataFrame'>\n",
      "RangeIndex: 7399 entries, 0 to 7398\n",
      "Columns: 4613 entries, Unnamed: 0 to QSOrder_Grantham.Xd.30\n",
      "dtypes: float64(4611), int64(1), object(1)\n",
      "memory usage: 260.4+ MB\n"
     ]
    }
   ],
   "source": [
    "#read files to dataframe with loop and check the head(1) and shape of each dataframe. 批量读取文件到dataframe,查看每个DF的形状和第一列\n",
    "for f in files_csv:\n",
    "    df = pd.read_csv(data_Dir_csv+f)\n",
    "    #print(df.shape)"
   ]
  },
  {
   "cell_type": "code",
   "execution_count": 32,
   "metadata": {},
   "outputs": [
    {
     "data": {
      "text/plain": [
       "'df_CF_TE'"
      ]
     },
     "execution_count": 32,
     "metadata": {},
     "output_type": "execute_result"
    }
   ],
   "source": [
    "'df_'+files_csv[0][0:5]"
   ]
  },
  {
   "cell_type": "markdown",
   "metadata": {},
   "source": [
    "## creart y_label csv with loop"
   ]
  },
  {
   "cell_type": "code",
   "execution_count": 19,
   "metadata": {},
   "outputs": [],
   "source": [
    "base_dir_y = os.path.dirname('C:/Python/internship/')"
   ]
  },
  {
   "cell_type": "code",
   "execution_count": 20,
   "metadata": {},
   "outputs": [
    {
     "data": {
      "text/plain": [
       "'C:/Python/internship\\\\Crystal_y_label/'"
      ]
     },
     "execution_count": 20,
     "metadata": {},
     "output_type": "execute_result"
    }
   ],
   "source": [
    "data_dir_y = os.path.join(base_dir_y,'Crystal_y_label/')\n",
    "data_dir_y"
   ]
  },
  {
   "cell_type": "code",
   "execution_count": 21,
   "metadata": {},
   "outputs": [
    {
     "data": {
      "text/plain": [
       "['35_TE_Label',\n",
       " '35_TR_Label',\n",
       " '50_TE_Label',\n",
       " '50_TR_Label',\n",
       " 'CF_TE_Label',\n",
       " 'CF_TR_Label',\n",
       " 'CR_TE_label',\n",
       " 'CR_TR_Label',\n",
       " 'MC_TE_Label',\n",
       " 'MC_TR_Label',\n",
       " 'MF_TE_Label',\n",
       " 'MF_TR_Label',\n",
       " 'PF_TE_Label',\n",
       " 'PF_TR_Label']"
      ]
     },
     "execution_count": 21,
     "metadata": {},
     "output_type": "execute_result"
    }
   ],
   "source": [
    "files_y = os.listdir(data_dir_y)# label 做为Fasta文件的路径\n",
    "files_y"
   ]
  },
  {
   "cell_type": "code",
   "execution_count": 22,
   "metadata": {},
   "outputs": [
    {
     "data": {
      "text/plain": [
       "14"
      ]
     },
     "execution_count": 22,
     "metadata": {},
     "output_type": "execute_result"
    }
   ],
   "source": [
    "len(files_y)"
   ]
  },
  {
   "cell_type": "code",
   "execution_count": 23,
   "metadata": {},
   "outputs": [
    {
     "name": "stdout",
     "output_type": "stream",
     "text": [
      "3585\n",
      "NYSGXRC_20028A_1_0\n",
      "-1\n",
      "(3585, 2)\n",
      "3587\n",
      "NYSGXRC_10202B_0_0\n",
      "-1\n",
      "(3587, 2)\n",
      "500\n",
      "HR14081\n",
      "-1\n",
      "(500, 2)\n",
      "1500\n",
      "GO1022482\n",
      "-1\n",
      "(1500, 2)\n",
      "546\n",
      "IDP92036_CSGID\n",
      "-1\n",
      "(546, 2)\n",
      "2184\n",
      "IDP06156_CSGID\n",
      "-1\n",
      "(2184, 2)\n",
      "4947\n",
      "CPX_91686_91680_CSGID\n",
      "-1\n",
      "(4947, 2)\n",
      "19791\n",
      "CPX_91662_05666_CSGID\n",
      "-1\n",
      "(19791, 2)\n",
      "1020\n",
      "CSMP_CSMP-1788M\n",
      "-1\n",
      "(1020, 2)\n",
      "4080\n",
      "CSMP_4311C\n",
      "1\n",
      "(4080, 2)\n",
      "4947\n",
      "CPX_91686_91680_CSGID\n",
      "-1\n",
      "(4947, 2)\n",
      "19791\n",
      "CPX_91662_05666_CSGID\n",
      "-1\n",
      "(19791, 2)\n",
      "1849\n",
      "IDP06042_CSGID\n",
      "-1\n",
      "(1849, 2)\n",
      "7399\n",
      "IDP00042_CSGID\n",
      "-1\n",
      "(7399, 2)\n"
     ]
    }
   ],
   "source": [
    "for y in files_y:\n",
    "    y_label= SeqIO.parse('C:/Python/internship/Crystal_y_label/'+y,'fasta')\n",
    "    y_label_list = []\n",
    "    for r in y_label:\n",
    "        y_label_list.append(r)\n",
    "    print(len(y_label_list))\n",
    "    \n",
    "    y_label_ids=[]\n",
    "    y_label_seqs=[]\n",
    "    for s in y_label_list:\n",
    "        y_id=s.id\n",
    "        y_seq=s.seq\n",
    "    \n",
    "        y_label_ids.append(y_id)\n",
    "        y_label_seqs.append(y_seq)\n",
    "    print(y_label_ids[0])\n",
    "    print(y_label_seqs[0])\n",
    "    \n",
    "    df_y=pd.DataFrame()\n",
    "    df_y['id'] = y_label_ids\n",
    "    df_y['y'] = y_label_seqs\n",
    "    print(df_y.shape)\n",
    "    df_y.to_csv('C:\\Python\\internship\\Crystal_y_label_Csv\\df_'+y)"
   ]
  },
  {
   "cell_type": "markdown",
   "metadata": {},
   "source": [
    "## Data Exploration"
   ]
  },
  {
   "cell_type": "code",
   "execution_count": 28,
   "metadata": {},
   "outputs": [
    {
     "data": {
      "text/plain": [
       "'C:/Python/internship\\\\DCFCrystal_Fasta/'"
      ]
     },
     "execution_count": 28,
     "metadata": {},
     "output_type": "execute_result"
    }
   ],
   "source": [
    "fasta_dir = os.path.join(base_dir,'DCFCrystal_Fasta/')# 蛋白质序列做为fasta文件的路径\n",
    "fasta_dir"
   ]
  },
  {
   "cell_type": "code",
   "execution_count": 29,
   "metadata": {},
   "outputs": [
    {
     "data": {
      "text/plain": [
       "['35_TE_Sequence.fasta',\n",
       " '35_TR_Sequence.fasta',\n",
       " '50_TE_Sequence.fasta',\n",
       " '50_TR_Sequence.fasta',\n",
       " 'CF_TE_Sequence.fasta',\n",
       " 'CF_TR_Sequence.fasta',\n",
       " 'CR_TE_Sequence.fasta',\n",
       " 'CR_TR_Sequence.fasta',\n",
       " 'MC_TE_Sequence.fasta',\n",
       " 'MC_TR_Sequence.fasta',\n",
       " 'MF_TE_Sequence.fasta',\n",
       " 'MF_TR_Sequence.fasta',\n",
       " 'PF_TE_Sequence.fasta',\n",
       " 'PF_TR_Sequence.fasta']"
      ]
     },
     "execution_count": 29,
     "metadata": {},
     "output_type": "execute_result"
    }
   ],
   "source": [
    "fasta_files = os.listdir(fasta_dir) \n",
    "fasta_files"
   ]
  },
  {
   "cell_type": "code",
   "execution_count": 37,
   "metadata": {},
   "outputs": [
    {
     "data": {
      "text/plain": [
       "'C:/Python/internship\\\\Crystal_y_label_Csv/'"
      ]
     },
     "execution_count": 37,
     "metadata": {},
     "output_type": "execute_result"
    }
   ],
   "source": [
    "label_dir = os.path.join(base_dir,'Crystal_y_label_Csv/') #label做为csv文件的路径\n",
    "label_dir"
   ]
  },
  {
   "cell_type": "code",
   "execution_count": 43,
   "metadata": {},
   "outputs": [
    {
     "data": {
      "text/plain": [
       "['df_35_TE_Label',\n",
       " 'df_35_TR_Label',\n",
       " 'df_50_TE_Label',\n",
       " 'df_50_TR_Label',\n",
       " 'df_CF_TE_Label',\n",
       " 'df_CF_TR_Label',\n",
       " 'df_CR_TE_label',\n",
       " 'df_CR_TR_Label',\n",
       " 'df_MC_TE_Label',\n",
       " 'df_MC_TR_Label',\n",
       " 'df_MF_TE_Label',\n",
       " 'df_MF_TR_Label',\n",
       " 'df_PF_TE_Label',\n",
       " 'df_PF_TR_Label']"
      ]
     },
     "execution_count": 43,
     "metadata": {},
     "output_type": "execute_result"
    }
   ],
   "source": [
    "lable_files = os.listdir(label_dir)\n",
    "lable_files"
   ]
  },
  {
   "cell_type": "code",
   "execution_count": 44,
   "metadata": {},
   "outputs": [
    {
     "data": {
      "text/plain": [
       "'C:/Python/internship\\\\DCFCrystal_Csv/'"
      ]
     },
     "execution_count": 44,
     "metadata": {},
     "output_type": "execute_result"
    }
   ],
   "source": [
    "DCFCrystal_dir = os.path.join(base_dir,'DCFCrystal_Csv/') # 蛋白质序列做为csv文件的路径\n",
    "DCFCrystal_dir"
   ]
  },
  {
   "cell_type": "code",
   "execution_count": 57,
   "metadata": {
    "scrolled": false
   },
   "outputs": [
    {
     "name": "stdout",
     "output_type": "stream",
     "text": [
      "(3585, 3)\n",
      "(3587, 3)\n",
      "(500, 3)\n",
      "(1500, 3)\n",
      "(546, 3)\n",
      "(2184, 3)\n",
      "(4947, 3)\n",
      "(19791, 3)\n",
      "(1020, 3)\n",
      "(4080, 3)\n",
      "(4947, 3)\n",
      "(19791, 3)\n",
      "(1849, 3)\n",
      "(7399, 3)\n",
      "Done\n"
     ]
    }
   ],
   "source": [
    "for f in fasta_files:\n",
    "    seq_objects0 = SeqIO.parse(fasta_dir+f,'fasta')\n",
    "    seq = []\n",
    "    for i in seq_objects0:\n",
    "        seq.append(i)\n",
    "    \n",
    "    seq_ids=[]\n",
    "    seq_seqs=[]\n",
    "    seq_lengths=[]\n",
    "    for s in seq:\n",
    "        s_id = s.id\n",
    "        s_seq = s.seq\n",
    "        s_len = len(s)\n",
    "    \n",
    "        seq_ids.append(s_id)\n",
    "        seq_seqs.append(s_seq)\n",
    "        seq_lengths.append(s_len)\n",
    "    \n",
    "    df = pd.DataFrame()\n",
    "    df['id'] = seq_ids\n",
    "    df['seq'] = seq_seqs\n",
    "    df['lengths'] = seq_lengths\n",
    "    print(df.shape)\n",
    "    df.to_csv(DCFCrystal_dir+f[0:14])\n",
    "print('Done')"
   ]
  },
  {
   "cell_type": "code",
   "execution_count": 58,
   "metadata": {},
   "outputs": [
    {
     "data": {
      "text/plain": [
       "['35_TE_Sequence',\n",
       " '35_TR_Sequence',\n",
       " '50_TE_Sequence',\n",
       " '50_TR_Sequence',\n",
       " 'CF_TE_Sequence',\n",
       " 'CF_TR_Sequence',\n",
       " 'CR_TE_Sequence',\n",
       " 'CR_TR_Sequence',\n",
       " 'MC_TE_Sequence',\n",
       " 'MC_TR_Sequence',\n",
       " 'MF_TE_Sequence',\n",
       " 'MF_TR_Sequence',\n",
       " 'PF_TE_Sequence',\n",
       " 'PF_TR_Sequence']"
      ]
     },
     "execution_count": 58,
     "metadata": {},
     "output_type": "execute_result"
    }
   ],
   "source": [
    "DCFCrystal_files = os.listdir(DCFCrystal_dir) \n",
    "DCFCrystal_files"
   ]
  },
  {
   "cell_type": "code",
   "execution_count": 71,
   "metadata": {},
   "outputs": [
    {
     "data": {
      "text/plain": [
       "'C:/Python/internship\\\\DCFCrystal_Concat_Csv/'"
      ]
     },
     "execution_count": 71,
     "metadata": {},
     "output_type": "execute_result"
    }
   ],
   "source": [
    "DCFCrystal_Concat_dir = os.path.join(base_dir,'DCFCrystal_Concat_Csv/')\n",
    "DCFCrystal_Concat_dir"
   ]
  },
  {
   "cell_type": "code",
   "execution_count": 76,
   "metadata": {},
   "outputs": [
    {
     "name": "stdout",
     "output_type": "stream",
     "text": [
      "(3585, 4)\n",
      "(3587, 4)\n",
      "(500, 4)\n",
      "(1500, 4)\n",
      "(546, 4)\n",
      "(2184, 4)\n",
      "(4947, 4)\n",
      "(19791, 4)\n",
      "(1020, 4)\n",
      "(4080, 4)\n",
      "(4947, 4)\n",
      "(19791, 4)\n",
      "(1849, 4)\n",
      "(7399, 4)\n",
      "Done\n"
     ]
    }
   ],
   "source": [
    "for f,y in zip(DCFCrystal_files,lable_files):\n",
    "    df = pd.read_csv(DCFCrystal_dir+f)\n",
    "    dy = pd.read_csv(label_dir+y)\n",
    "    df_merge = df.merge(dy,on='id')\n",
    "    df_merge = df_merge.drop(['Unnamed: 0_x','Unnamed: 0_y'],axis=1)\n",
    "    print(df_merge.shape)\n",
    "    df_merge.to_csv(DCFCrystal_Concat_dir+f+'_'+'Con')\n",
    "print('Done')"
   ]
  },
  {
   "cell_type": "code",
   "execution_count": null,
   "metadata": {},
   "outputs": [],
   "source": []
  },
  {
   "cell_type": "code",
   "execution_count": null,
   "metadata": {},
   "outputs": [],
   "source": []
  }
 ],
 "metadata": {
  "kernelspec": {
   "display_name": "Python 3",
   "language": "python",
   "name": "python3"
  },
  "language_info": {
   "codemirror_mode": {
    "name": "ipython",
    "version": 3
   },
   "file_extension": ".py",
   "mimetype": "text/x-python",
   "name": "python",
   "nbconvert_exporter": "python",
   "pygments_lexer": "ipython3",
   "version": "3.8.3"
  }
 },
 "nbformat": 4,
 "nbformat_minor": 4
}
