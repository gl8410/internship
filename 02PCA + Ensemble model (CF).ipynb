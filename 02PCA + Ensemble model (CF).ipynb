{
 "cells": [
  {
   "cell_type": "code",
   "execution_count": 11,
   "metadata": {},
   "outputs": [],
   "source": [
    "import pandas as pd\n",
    "import numpy as np\n",
    "import os\n",
    "import time\n",
    "import warnings\n",
    "warnings.filterwarnings('ignore')\n",
    "from matplotlib import pyplot as plt\n",
    "%matplotlib inline"
   ]
  },
  {
   "cell_type": "code",
   "execution_count": 12,
   "metadata": {},
   "outputs": [
    {
     "data": {
      "text/plain": [
       "'C:\\\\Python\\\\internship'"
      ]
     },
     "execution_count": 12,
     "metadata": {},
     "output_type": "execute_result"
    }
   ],
   "source": [
    "cwd = os.getcwd()\n",
    "cwd"
   ]
  },
  {
   "cell_type": "code",
   "execution_count": 13,
   "metadata": {},
   "outputs": [
    {
     "data": {
      "text/plain": [
       "'C:\\\\Python\\\\internship\\\\Crystal_Features_Selected/'"
      ]
     },
     "execution_count": 13,
     "metadata": {},
     "output_type": "execute_result"
    }
   ],
   "source": [
    "feature_dir = os.path.join(cwd,'Crystal_Features_Selected/')  #join路径和文件夹（此文件夹为选出来的特征文件夹）\n",
    "feature_dir"
   ]
  },
  {
   "cell_type": "markdown",
   "metadata": {},
   "source": [
    "# Read RFE files"
   ]
  },
  {
   "cell_type": "code",
   "execution_count": 14,
   "metadata": {},
   "outputs": [
    {
     "data": {
      "text/plain": [
       "['df_CFTE_selRFE',\n",
       " 'df_CFTR_selRFE',\n",
       " 'df_CRTE_selRFE',\n",
       " 'df_CRTR_selRFE',\n",
       " 'df_MCTE_selRFE',\n",
       " 'df_MCTR_selRFE',\n",
       " 'df_MFTE_selRFE',\n",
       " 'df_MFTR_selRFE',\n",
       " 'df_PFTE_selRFE',\n",
       " 'df_PFTR_selRFE']"
      ]
     },
     "execution_count": 14,
     "metadata": {},
     "output_type": "execute_result"
    }
   ],
   "source": [
    "features_files = os.listdir(feature_dir)  #利用os.listdir()获得文件夹中的文件名\n",
    "features_files"
   ]
  },
  {
   "cell_type": "code",
   "execution_count": 15,
   "metadata": {},
   "outputs": [
    {
     "name": "stdout",
     "output_type": "stream",
     "text": [
      "['df_CFTE_selRFE', 'df_CRTE_selRFE', 'df_MCTE_selRFE', 'df_MFTE_selRFE', 'df_PFTE_selRFE'] ['df_CFTR_selRFE', 'df_CRTR_selRFE', 'df_MCTR_selRFE', 'df_MFTR_selRFE', 'df_PFTR_selRFE']\n"
     ]
    }
   ],
   "source": [
    "TE = []\n",
    "TR = []\n",
    "for f in features_files:\n",
    "    if f[5:7] == 'TE':\n",
    "        TE.append(f)\n",
    "    else:\n",
    "        TR.append(f)\n",
    "print(TE,TR)"
   ]
  },
  {
   "cell_type": "markdown",
   "metadata": {},
   "source": [
    "# Read label files"
   ]
  },
  {
   "cell_type": "code",
   "execution_count": 16,
   "metadata": {},
   "outputs": [
    {
     "data": {
      "text/plain": [
       "'C:\\\\Python\\\\internship\\\\Crystal_y_label_Csv/'"
      ]
     },
     "execution_count": 16,
     "metadata": {},
     "output_type": "execute_result"
    }
   ],
   "source": [
    "label_dir = os.path.join(cwd,'Crystal_y_label_Csv/')\n",
    "label_dir"
   ]
  },
  {
   "cell_type": "code",
   "execution_count": 17,
   "metadata": {},
   "outputs": [
    {
     "data": {
      "text/plain": [
       "['df_CF_TE_Label',\n",
       " 'df_CF_TR_Label',\n",
       " 'df_CR_TE_label',\n",
       " 'df_CR_TR_Label',\n",
       " 'df_MC_TE_Label',\n",
       " 'df_MC_TR_Label',\n",
       " 'df_MF_TE_Label',\n",
       " 'df_MF_TR_Label',\n",
       " 'df_PF_TE_Label',\n",
       " 'df_PF_TR_Label']"
      ]
     },
     "execution_count": 17,
     "metadata": {},
     "output_type": "execute_result"
    }
   ],
   "source": [
    "label_files = os.listdir(label_dir)\n",
    "label_files"
   ]
  },
  {
   "cell_type": "code",
   "execution_count": 18,
   "metadata": {},
   "outputs": [
    {
     "name": "stdout",
     "output_type": "stream",
     "text": [
      "['df_CF_TE_Label', 'df_CR_TE_label', 'df_MC_TE_Label', 'df_MF_TE_Label', 'df_PF_TE_Label'] ['df_CF_TR_Label', 'df_CR_TR_Label', 'df_MC_TR_Label', 'df_MF_TR_Label', 'df_PF_TR_Label']\n"
     ]
    }
   ],
   "source": [
    "te = []\n",
    "tr = []\n",
    "for y in label_files:\n",
    "    if y[6:8] == 'TE':\n",
    "        te.append(y)\n",
    "    else:\n",
    "        tr.append(y)\n",
    "print(te,tr)"
   ]
  },
  {
   "cell_type": "code",
   "execution_count": 19,
   "metadata": {},
   "outputs": [],
   "source": [
    "Y = pd.read_csv(label_dir+tr[0])\n",
    "Y = Y.iloc[:,2]"
   ]
  },
  {
   "cell_type": "code",
   "execution_count": 20,
   "metadata": {},
   "outputs": [],
   "source": [
    "y = pd.read_csv(label_dir+te[0])\n",
    "y = y.iloc[:,2]"
   ]
  },
  {
   "cell_type": "markdown",
   "metadata": {},
   "source": [
    "# Reduction dimension by using PCA"
   ]
  },
  {
   "cell_type": "markdown",
   "metadata": {},
   "source": [
    "## CF Dataset"
   ]
  },
  {
   "cell_type": "code",
   "execution_count": 21,
   "metadata": {},
   "outputs": [],
   "source": [
    "from sklearn.preprocessing import StandardScaler\n",
    "from sklearn.decomposition import PCA\n",
    "from sklearn import decomposition"
   ]
  },
  {
   "cell_type": "code",
   "execution_count": 22,
   "metadata": {},
   "outputs": [
    {
     "data": {
      "text/html": [
       "<div>\n",
       "<style scoped>\n",
       "    .dataframe tbody tr th:only-of-type {\n",
       "        vertical-align: middle;\n",
       "    }\n",
       "\n",
       "    .dataframe tbody tr th {\n",
       "        vertical-align: top;\n",
       "    }\n",
       "\n",
       "    .dataframe thead th {\n",
       "        text-align: right;\n",
       "    }\n",
       "</style>\n",
       "<table border=\"1\" class=\"dataframe\">\n",
       "  <thead>\n",
       "    <tr style=\"text-align: right;\">\n",
       "      <th></th>\n",
       "      <th>AAC_E</th>\n",
       "      <th>AAC_M</th>\n",
       "      <th>AAC_N</th>\n",
       "      <th>AAC_W</th>\n",
       "      <th>AAC_Y</th>\n",
       "      <th>APAAC_Pc1.A</th>\n",
       "      <th>APAAC_Pc1.R</th>\n",
       "      <th>APAAC_Pc1.C</th>\n",
       "      <th>APAAC_Pc1.G</th>\n",
       "      <th>APAAC_Pc1.H</th>\n",
       "      <th>...</th>\n",
       "      <th>QSOrder_Schneider.Xd.27</th>\n",
       "      <th>QSOrder_Schneider.Xd.28</th>\n",
       "      <th>QSOrder_Grantham.Xd.4</th>\n",
       "      <th>QSOrder_Grantham.Xd.5</th>\n",
       "      <th>QSOrder_Grantham.Xd.7</th>\n",
       "      <th>QSOrder_Grantham.Xd.10</th>\n",
       "      <th>QSOrder_Grantham.Xd.23</th>\n",
       "      <th>QSOrder_Grantham.Xd.24</th>\n",
       "      <th>QSOrder_Grantham.Xd.29</th>\n",
       "      <th>QSOrder_Grantham.Xd.30</th>\n",
       "    </tr>\n",
       "  </thead>\n",
       "  <tbody>\n",
       "    <tr>\n",
       "      <th>0</th>\n",
       "      <td>0.075949</td>\n",
       "      <td>0.069620</td>\n",
       "      <td>0.037975</td>\n",
       "      <td>0.000000</td>\n",
       "      <td>0.025316</td>\n",
       "      <td>11.561583</td>\n",
       "      <td>2.890396</td>\n",
       "      <td>1.926930</td>\n",
       "      <td>11.561583</td>\n",
       "      <td>3.853861</td>\n",
       "      <td>...</td>\n",
       "      <td>0.028942</td>\n",
       "      <td>0.033679</td>\n",
       "      <td>0.034080</td>\n",
       "      <td>0.035378</td>\n",
       "      <td>0.039857</td>\n",
       "      <td>0.036980</td>\n",
       "      <td>0.032772</td>\n",
       "      <td>0.032417</td>\n",
       "      <td>0.030037</td>\n",
       "      <td>0.029594</td>\n",
       "    </tr>\n",
       "    <tr>\n",
       "      <th>1</th>\n",
       "      <td>0.102151</td>\n",
       "      <td>0.026882</td>\n",
       "      <td>0.021505</td>\n",
       "      <td>0.000000</td>\n",
       "      <td>0.032258</td>\n",
       "      <td>10.047024</td>\n",
       "      <td>16.440584</td>\n",
       "      <td>0.000000</td>\n",
       "      <td>10.960389</td>\n",
       "      <td>4.566829</td>\n",
       "      <td>...</td>\n",
       "      <td>0.030136</td>\n",
       "      <td>0.028091</td>\n",
       "      <td>0.037485</td>\n",
       "      <td>0.037443</td>\n",
       "      <td>0.037370</td>\n",
       "      <td>0.034131</td>\n",
       "      <td>0.032169</td>\n",
       "      <td>0.030400</td>\n",
       "      <td>0.030660</td>\n",
       "      <td>0.032344</td>\n",
       "    </tr>\n",
       "    <tr>\n",
       "      <th>2</th>\n",
       "      <td>0.067729</td>\n",
       "      <td>0.025896</td>\n",
       "      <td>0.049801</td>\n",
       "      <td>0.007968</td>\n",
       "      <td>0.039841</td>\n",
       "      <td>37.180149</td>\n",
       "      <td>20.973417</td>\n",
       "      <td>5.720023</td>\n",
       "      <td>40.993497</td>\n",
       "      <td>6.673360</td>\n",
       "      <td>...</td>\n",
       "      <td>0.032150</td>\n",
       "      <td>0.032450</td>\n",
       "      <td>0.034725</td>\n",
       "      <td>0.037094</td>\n",
       "      <td>0.034971</td>\n",
       "      <td>0.031988</td>\n",
       "      <td>0.032322</td>\n",
       "      <td>0.031103</td>\n",
       "      <td>0.034296</td>\n",
       "      <td>0.032059</td>\n",
       "    </tr>\n",
       "    <tr>\n",
       "      <th>3</th>\n",
       "      <td>0.061303</td>\n",
       "      <td>0.030651</td>\n",
       "      <td>0.042146</td>\n",
       "      <td>0.019157</td>\n",
       "      <td>0.015326</td>\n",
       "      <td>44.899307</td>\n",
       "      <td>11.712863</td>\n",
       "      <td>1.952144</td>\n",
       "      <td>21.473582</td>\n",
       "      <td>6.832503</td>\n",
       "      <td>...</td>\n",
       "      <td>0.033193</td>\n",
       "      <td>0.029773</td>\n",
       "      <td>0.036532</td>\n",
       "      <td>0.034556</td>\n",
       "      <td>0.033680</td>\n",
       "      <td>0.034746</td>\n",
       "      <td>0.032307</td>\n",
       "      <td>0.031945</td>\n",
       "      <td>0.029459</td>\n",
       "      <td>0.031425</td>\n",
       "    </tr>\n",
       "    <tr>\n",
       "      <th>4</th>\n",
       "      <td>0.040650</td>\n",
       "      <td>0.024390</td>\n",
       "      <td>0.048780</td>\n",
       "      <td>0.016260</td>\n",
       "      <td>0.008130</td>\n",
       "      <td>50.454589</td>\n",
       "      <td>0.951973</td>\n",
       "      <td>0.951973</td>\n",
       "      <td>18.087494</td>\n",
       "      <td>2.855920</td>\n",
       "      <td>...</td>\n",
       "      <td>0.034967</td>\n",
       "      <td>0.033889</td>\n",
       "      <td>0.028962</td>\n",
       "      <td>0.035762</td>\n",
       "      <td>0.028811</td>\n",
       "      <td>0.033718</td>\n",
       "      <td>0.033589</td>\n",
       "      <td>0.036047</td>\n",
       "      <td>0.031615</td>\n",
       "      <td>0.030699</td>\n",
       "    </tr>\n",
       "  </tbody>\n",
       "</table>\n",
       "<p>5 rows × 275 columns</p>\n",
       "</div>"
      ],
      "text/plain": [
       "      AAC_E     AAC_M     AAC_N     AAC_W     AAC_Y  APAAC_Pc1.A  APAAC_Pc1.R  \\\n",
       "0  0.075949  0.069620  0.037975  0.000000  0.025316    11.561583     2.890396   \n",
       "1  0.102151  0.026882  0.021505  0.000000  0.032258    10.047024    16.440584   \n",
       "2  0.067729  0.025896  0.049801  0.007968  0.039841    37.180149    20.973417   \n",
       "3  0.061303  0.030651  0.042146  0.019157  0.015326    44.899307    11.712863   \n",
       "4  0.040650  0.024390  0.048780  0.016260  0.008130    50.454589     0.951973   \n",
       "\n",
       "   APAAC_Pc1.C  APAAC_Pc1.G  APAAC_Pc1.H  ...  QSOrder_Schneider.Xd.27  \\\n",
       "0     1.926930    11.561583     3.853861  ...                 0.028942   \n",
       "1     0.000000    10.960389     4.566829  ...                 0.030136   \n",
       "2     5.720023    40.993497     6.673360  ...                 0.032150   \n",
       "3     1.952144    21.473582     6.832503  ...                 0.033193   \n",
       "4     0.951973    18.087494     2.855920  ...                 0.034967   \n",
       "\n",
       "   QSOrder_Schneider.Xd.28  QSOrder_Grantham.Xd.4  QSOrder_Grantham.Xd.5  \\\n",
       "0                 0.033679               0.034080               0.035378   \n",
       "1                 0.028091               0.037485               0.037443   \n",
       "2                 0.032450               0.034725               0.037094   \n",
       "3                 0.029773               0.036532               0.034556   \n",
       "4                 0.033889               0.028962               0.035762   \n",
       "\n",
       "   QSOrder_Grantham.Xd.7  QSOrder_Grantham.Xd.10  QSOrder_Grantham.Xd.23  \\\n",
       "0               0.039857                0.036980                0.032772   \n",
       "1               0.037370                0.034131                0.032169   \n",
       "2               0.034971                0.031988                0.032322   \n",
       "3               0.033680                0.034746                0.032307   \n",
       "4               0.028811                0.033718                0.033589   \n",
       "\n",
       "   QSOrder_Grantham.Xd.24  QSOrder_Grantham.Xd.29  QSOrder_Grantham.Xd.30  \n",
       "0                0.032417                0.030037                0.029594  \n",
       "1                0.030400                0.030660                0.032344  \n",
       "2                0.031103                0.034296                0.032059  \n",
       "3                0.031945                0.029459                0.031425  \n",
       "4                0.036047                0.031615                0.030699  \n",
       "\n",
       "[5 rows x 275 columns]"
      ]
     },
     "execution_count": 22,
     "metadata": {},
     "output_type": "execute_result"
    }
   ],
   "source": [
    "df_X = pd.read_csv(feature_dir+TR[0])\n",
    "df_X = df_X.iloc[:,1:]\n",
    "df_X.head()"
   ]
  },
  {
   "cell_type": "code",
   "execution_count": 23,
   "metadata": {},
   "outputs": [],
   "source": [
    "scaler = StandardScaler()\n",
    "df_S = scaler.fit_transform(df_X)"
   ]
  },
  {
   "cell_type": "code",
   "execution_count": 24,
   "metadata": {},
   "outputs": [
    {
     "data": {
      "text/plain": [
       "(2184, 100)"
      ]
     },
     "execution_count": 24,
     "metadata": {},
     "output_type": "execute_result"
    }
   ],
   "source": [
    "model_pca = PCA(n_components=100)\n",
    "X = model_pca.fit_transform(df_S)\n",
    "X.shape"
   ]
  },
  {
   "cell_type": "code",
   "execution_count": 25,
   "metadata": {},
   "outputs": [
    {
     "data": {
      "text/html": [
       "<div>\n",
       "<style scoped>\n",
       "    .dataframe tbody tr th:only-of-type {\n",
       "        vertical-align: middle;\n",
       "    }\n",
       "\n",
       "    .dataframe tbody tr th {\n",
       "        vertical-align: top;\n",
       "    }\n",
       "\n",
       "    .dataframe thead th {\n",
       "        text-align: right;\n",
       "    }\n",
       "</style>\n",
       "<table border=\"1\" class=\"dataframe\">\n",
       "  <thead>\n",
       "    <tr style=\"text-align: right;\">\n",
       "      <th></th>\n",
       "      <th>AAC_E</th>\n",
       "      <th>AAC_M</th>\n",
       "      <th>AAC_N</th>\n",
       "      <th>AAC_W</th>\n",
       "      <th>AAC_Y</th>\n",
       "      <th>APAAC_Pc1.A</th>\n",
       "      <th>APAAC_Pc1.R</th>\n",
       "      <th>APAAC_Pc1.C</th>\n",
       "      <th>APAAC_Pc1.G</th>\n",
       "      <th>APAAC_Pc1.H</th>\n",
       "      <th>...</th>\n",
       "      <th>QSOrder_Schneider.Xd.27</th>\n",
       "      <th>QSOrder_Schneider.Xd.28</th>\n",
       "      <th>QSOrder_Grantham.Xd.4</th>\n",
       "      <th>QSOrder_Grantham.Xd.5</th>\n",
       "      <th>QSOrder_Grantham.Xd.7</th>\n",
       "      <th>QSOrder_Grantham.Xd.10</th>\n",
       "      <th>QSOrder_Grantham.Xd.23</th>\n",
       "      <th>QSOrder_Grantham.Xd.24</th>\n",
       "      <th>QSOrder_Grantham.Xd.29</th>\n",
       "      <th>QSOrder_Grantham.Xd.30</th>\n",
       "    </tr>\n",
       "  </thead>\n",
       "  <tbody>\n",
       "    <tr>\n",
       "      <th>0</th>\n",
       "      <td>0.073826</td>\n",
       "      <td>0.026846</td>\n",
       "      <td>0.020134</td>\n",
       "      <td>0.006711</td>\n",
       "      <td>0.046980</td>\n",
       "      <td>9.668838</td>\n",
       "      <td>11.602606</td>\n",
       "      <td>2.900651</td>\n",
       "      <td>7.735071</td>\n",
       "      <td>2.900651</td>\n",
       "      <td>...</td>\n",
       "      <td>0.029255</td>\n",
       "      <td>0.027886</td>\n",
       "      <td>0.034903</td>\n",
       "      <td>0.040215</td>\n",
       "      <td>0.035869</td>\n",
       "      <td>0.033418</td>\n",
       "      <td>0.029084</td>\n",
       "      <td>0.033031</td>\n",
       "      <td>0.026172</td>\n",
       "      <td>0.030052</td>\n",
       "    </tr>\n",
       "    <tr>\n",
       "      <th>1</th>\n",
       "      <td>0.087805</td>\n",
       "      <td>0.024390</td>\n",
       "      <td>0.058537</td>\n",
       "      <td>0.004878</td>\n",
       "      <td>0.029268</td>\n",
       "      <td>11.720839</td>\n",
       "      <td>20.736869</td>\n",
       "      <td>2.704809</td>\n",
       "      <td>4.508015</td>\n",
       "      <td>3.606412</td>\n",
       "      <td>...</td>\n",
       "      <td>0.029923</td>\n",
       "      <td>0.030041</td>\n",
       "      <td>0.035124</td>\n",
       "      <td>0.037572</td>\n",
       "      <td>0.039731</td>\n",
       "      <td>0.033460</td>\n",
       "      <td>0.030841</td>\n",
       "      <td>0.031635</td>\n",
       "      <td>0.028907</td>\n",
       "      <td>0.028552</td>\n",
       "    </tr>\n",
       "    <tr>\n",
       "      <th>2</th>\n",
       "      <td>0.074766</td>\n",
       "      <td>0.014019</td>\n",
       "      <td>0.028037</td>\n",
       "      <td>0.014019</td>\n",
       "      <td>0.028037</td>\n",
       "      <td>46.361539</td>\n",
       "      <td>13.522116</td>\n",
       "      <td>5.795192</td>\n",
       "      <td>33.805289</td>\n",
       "      <td>7.726923</td>\n",
       "      <td>...</td>\n",
       "      <td>0.034215</td>\n",
       "      <td>0.032661</td>\n",
       "      <td>0.035428</td>\n",
       "      <td>0.034339</td>\n",
       "      <td>0.033862</td>\n",
       "      <td>0.033751</td>\n",
       "      <td>0.032269</td>\n",
       "      <td>0.032535</td>\n",
       "      <td>0.031283</td>\n",
       "      <td>0.031961</td>\n",
       "    </tr>\n",
       "    <tr>\n",
       "      <th>3</th>\n",
       "      <td>0.079800</td>\n",
       "      <td>0.024938</td>\n",
       "      <td>0.027431</td>\n",
       "      <td>0.014963</td>\n",
       "      <td>0.037406</td>\n",
       "      <td>40.775175</td>\n",
       "      <td>14.223898</td>\n",
       "      <td>4.741299</td>\n",
       "      <td>31.292576</td>\n",
       "      <td>4.741299</td>\n",
       "      <td>...</td>\n",
       "      <td>0.033215</td>\n",
       "      <td>0.030404</td>\n",
       "      <td>0.034010</td>\n",
       "      <td>0.033544</td>\n",
       "      <td>0.033737</td>\n",
       "      <td>0.034882</td>\n",
       "      <td>0.034349</td>\n",
       "      <td>0.032010</td>\n",
       "      <td>0.032283</td>\n",
       "      <td>0.031141</td>\n",
       "    </tr>\n",
       "    <tr>\n",
       "      <th>4</th>\n",
       "      <td>0.066514</td>\n",
       "      <td>0.027523</td>\n",
       "      <td>0.068807</td>\n",
       "      <td>0.016055</td>\n",
       "      <td>0.045872</td>\n",
       "      <td>28.072215</td>\n",
       "      <td>8.020633</td>\n",
       "      <td>1.002579</td>\n",
       "      <td>27.069636</td>\n",
       "      <td>2.005158</td>\n",
       "      <td>...</td>\n",
       "      <td>0.031298</td>\n",
       "      <td>0.033493</td>\n",
       "      <td>0.033387</td>\n",
       "      <td>0.036489</td>\n",
       "      <td>0.032307</td>\n",
       "      <td>0.034226</td>\n",
       "      <td>0.031678</td>\n",
       "      <td>0.033558</td>\n",
       "      <td>0.033711</td>\n",
       "      <td>0.033603</td>\n",
       "    </tr>\n",
       "  </tbody>\n",
       "</table>\n",
       "<p>5 rows × 275 columns</p>\n",
       "</div>"
      ],
      "text/plain": [
       "      AAC_E     AAC_M     AAC_N     AAC_W     AAC_Y  APAAC_Pc1.A  APAAC_Pc1.R  \\\n",
       "0  0.073826  0.026846  0.020134  0.006711  0.046980     9.668838    11.602606   \n",
       "1  0.087805  0.024390  0.058537  0.004878  0.029268    11.720839    20.736869   \n",
       "2  0.074766  0.014019  0.028037  0.014019  0.028037    46.361539    13.522116   \n",
       "3  0.079800  0.024938  0.027431  0.014963  0.037406    40.775175    14.223898   \n",
       "4  0.066514  0.027523  0.068807  0.016055  0.045872    28.072215     8.020633   \n",
       "\n",
       "   APAAC_Pc1.C  APAAC_Pc1.G  APAAC_Pc1.H  ...  QSOrder_Schneider.Xd.27  \\\n",
       "0     2.900651     7.735071     2.900651  ...                 0.029255   \n",
       "1     2.704809     4.508015     3.606412  ...                 0.029923   \n",
       "2     5.795192    33.805289     7.726923  ...                 0.034215   \n",
       "3     4.741299    31.292576     4.741299  ...                 0.033215   \n",
       "4     1.002579    27.069636     2.005158  ...                 0.031298   \n",
       "\n",
       "   QSOrder_Schneider.Xd.28  QSOrder_Grantham.Xd.4  QSOrder_Grantham.Xd.5  \\\n",
       "0                 0.027886               0.034903               0.040215   \n",
       "1                 0.030041               0.035124               0.037572   \n",
       "2                 0.032661               0.035428               0.034339   \n",
       "3                 0.030404               0.034010               0.033544   \n",
       "4                 0.033493               0.033387               0.036489   \n",
       "\n",
       "   QSOrder_Grantham.Xd.7  QSOrder_Grantham.Xd.10  QSOrder_Grantham.Xd.23  \\\n",
       "0               0.035869                0.033418                0.029084   \n",
       "1               0.039731                0.033460                0.030841   \n",
       "2               0.033862                0.033751                0.032269   \n",
       "3               0.033737                0.034882                0.034349   \n",
       "4               0.032307                0.034226                0.031678   \n",
       "\n",
       "   QSOrder_Grantham.Xd.24  QSOrder_Grantham.Xd.29  QSOrder_Grantham.Xd.30  \n",
       "0                0.033031                0.026172                0.030052  \n",
       "1                0.031635                0.028907                0.028552  \n",
       "2                0.032535                0.031283                0.031961  \n",
       "3                0.032010                0.032283                0.031141  \n",
       "4                0.033558                0.033711                0.033603  \n",
       "\n",
       "[5 rows x 275 columns]"
      ]
     },
     "execution_count": 25,
     "metadata": {},
     "output_type": "execute_result"
    }
   ],
   "source": [
    "df_x = pd.read_csv(feature_dir+TE[0])\n",
    "df_x = df_x.iloc[:,1:]\n",
    "df_x.head()"
   ]
  },
  {
   "cell_type": "code",
   "execution_count": 26,
   "metadata": {},
   "outputs": [],
   "source": [
    "scaler = StandardScaler()\n",
    "df_s = scaler.fit_transform(df_x)"
   ]
  },
  {
   "cell_type": "code",
   "execution_count": 35,
   "metadata": {},
   "outputs": [
    {
     "data": {
      "text/plain": [
       "(546, 275)"
      ]
     },
     "execution_count": 35,
     "metadata": {},
     "output_type": "execute_result"
    }
   ],
   "source": [
    "model_pca = PCA(n_components=275)\n",
    "x = model_pca.fit_transform(df_s)\n",
    "x.shape"
   ]
  },
  {
   "cell_type": "code",
   "execution_count": 36,
   "metadata": {},
   "outputs": [
    {
     "name": "stdout",
     "output_type": "stream",
     "text": [
      "[1.00561842e-01 5.20425125e-02 4.30467707e-02 3.67939070e-02\n",
      " 3.17586950e-02 2.64228479e-02 2.28909180e-02 1.88235891e-02\n",
      " 1.83347579e-02 1.70491544e-02 1.67188088e-02 1.61199910e-02\n",
      " 1.42531952e-02 1.33097074e-02 1.29703523e-02 1.23520054e-02\n",
      " 1.18731143e-02 1.16303900e-02 1.11581909e-02 1.07088960e-02\n",
      " 1.02407370e-02 9.84342936e-03 9.60558846e-03 9.15143696e-03\n",
      " 9.12641404e-03 8.92563275e-03 8.90798228e-03 8.36829862e-03\n",
      " 8.06262118e-03 7.99543979e-03 7.76623718e-03 7.52890655e-03\n",
      " 7.38072240e-03 7.06140556e-03 6.82659411e-03 6.63917985e-03\n",
      " 6.59961575e-03 6.38937986e-03 6.32366778e-03 6.16590031e-03\n",
      " 5.95681196e-03 5.91833756e-03 5.81831335e-03 5.75543955e-03\n",
      " 5.52229942e-03 5.45399050e-03 5.29715596e-03 5.26471831e-03\n",
      " 5.19799305e-03 5.05304093e-03 4.92932525e-03 4.88646887e-03\n",
      " 4.70417056e-03 4.66071222e-03 4.61047224e-03 4.56181252e-03\n",
      " 4.49427426e-03 4.40907440e-03 4.35710240e-03 4.26598279e-03\n",
      " 4.18004576e-03 4.12719705e-03 4.09172359e-03 4.01043710e-03\n",
      " 3.87837487e-03 3.80604751e-03 3.78275852e-03 3.74440292e-03\n",
      " 3.69003636e-03 3.63433677e-03 3.57560203e-03 3.55027314e-03\n",
      " 3.49976059e-03 3.41588075e-03 3.36325583e-03 3.33396058e-03\n",
      " 3.26274385e-03 3.22416623e-03 3.18513895e-03 3.15504087e-03\n",
      " 3.10753909e-03 3.03948107e-03 3.00317966e-03 2.98089571e-03\n",
      " 2.94511221e-03 2.93168805e-03 2.84736906e-03 2.82608308e-03\n",
      " 2.78305208e-03 2.76550440e-03 2.68099781e-03 2.67145746e-03\n",
      " 2.59135663e-03 2.55727621e-03 2.50902762e-03 2.50178200e-03\n",
      " 2.47773401e-03 2.44314696e-03 2.39978671e-03 2.36386727e-03\n",
      " 2.34329051e-03 2.31011371e-03 2.26186864e-03 2.24408887e-03\n",
      " 2.20090449e-03 2.13969809e-03 2.11860705e-03 2.09167883e-03\n",
      " 2.05556902e-03 2.02851034e-03 1.95296903e-03 1.90859891e-03\n",
      " 1.89961894e-03 1.89114067e-03 1.84082582e-03 1.80600033e-03\n",
      " 1.76398257e-03 1.75736998e-03 1.74223730e-03 1.70648033e-03\n",
      " 1.68442373e-03 1.65440846e-03 1.62117809e-03 1.61147536e-03\n",
      " 1.58580076e-03 1.57017033e-03 1.51336854e-03 1.49449069e-03\n",
      " 1.45014620e-03 1.42847762e-03 1.40043182e-03 1.39032900e-03\n",
      " 1.37366062e-03 1.34584922e-03 1.33765558e-03 1.30292175e-03\n",
      " 1.28383484e-03 1.26136243e-03 1.23852721e-03 1.21915905e-03\n",
      " 1.19718215e-03 1.16336586e-03 1.15332936e-03 1.13750183e-03\n",
      " 1.11392982e-03 1.09566973e-03 1.07226451e-03 1.05331758e-03\n",
      " 1.03780614e-03 9.93107095e-04 9.82634662e-04 9.70889664e-04\n",
      " 9.47726387e-04 9.28430925e-04 9.01945296e-04 8.97006530e-04\n",
      " 8.72316208e-04 8.54453211e-04 7.97525844e-04 7.94663663e-04\n",
      " 7.78570543e-04 7.63252204e-04 7.44869314e-04 7.13428377e-04\n",
      " 7.06253508e-04 6.90037502e-04 6.78219672e-04 6.70575218e-04\n",
      " 6.57758283e-04 6.36261929e-04 6.24997232e-04 6.11696735e-04\n",
      " 6.01654735e-04 5.73577661e-04 5.63219216e-04 5.56134265e-04\n",
      " 5.42370498e-04 5.18341480e-04 4.88360704e-04 4.76139917e-04\n",
      " 4.67690942e-04 4.52637207e-04 4.32673215e-04 4.17579612e-04\n",
      " 4.14180325e-04 4.02831502e-04 3.93882743e-04 3.78637161e-04\n",
      " 3.67982148e-04 3.63041733e-04 3.55497284e-04 3.42368899e-04\n",
      " 3.32219389e-04 3.25101466e-04 3.12445807e-04 3.07781086e-04\n",
      " 2.95535692e-04 2.93590201e-04 2.76168566e-04 2.65486158e-04\n",
      " 2.61124615e-04 2.43117160e-04 2.37402619e-04 2.28430203e-04\n",
      " 2.18702512e-04 2.15019257e-04 2.02626938e-04 1.94257252e-04\n",
      " 1.85227516e-04 1.83361567e-04 1.70233492e-04 1.62840260e-04\n",
      " 1.56927143e-04 1.52772422e-04 1.48150246e-04 1.44729191e-04\n",
      " 1.42414836e-04 1.37168029e-04 1.33671465e-04 1.27060056e-04\n",
      " 1.22040088e-04 1.19272671e-04 1.13636006e-04 1.11880102e-04\n",
      " 1.05179440e-04 1.01877846e-04 9.50961751e-05 8.97068170e-05\n",
      " 8.61904866e-05 7.74017435e-05 7.59657769e-05 6.93046341e-05\n",
      " 6.85760748e-05 6.49392552e-05 6.03844625e-05 5.76731327e-05\n",
      " 5.12198390e-05 4.94491991e-05 4.78084112e-05 4.56939624e-05\n",
      " 4.25223622e-05 3.83270278e-05 3.44567100e-05 3.29187589e-05\n",
      " 2.64235640e-05 2.55187366e-05 2.45353364e-05 2.34103580e-05\n",
      " 2.03953497e-05 1.86583714e-05 1.38215265e-05 1.20795923e-05\n",
      " 9.58131041e-06 8.95615496e-06 8.28555399e-06 6.58471200e-06\n",
      " 5.62145769e-06 4.22043054e-06 3.74637191e-06 2.66948019e-06\n",
      " 2.00101091e-06 1.32033219e-06 9.39549482e-07 7.30139961e-07\n",
      " 5.49128373e-07 1.98323265e-32 3.52333412e-33 3.26048487e-33\n",
      " 1.71222749e-33 1.12684870e-33 4.46319142e-34 3.68097447e-34\n",
      " 3.68097447e-34 3.68097447e-34 1.88142680e-35]\n",
      "275\n",
      "[2.77052489e+01 1.43379509e+01 1.18595828e+01 1.01368901e+01\n",
      " 8.74966615e+00 7.27961580e+00 6.30655291e+00 5.18598515e+00\n",
      " 5.05130992e+00 4.69712024e+00 4.60610851e+00 4.44113145e+00\n",
      " 3.92682067e+00 3.66688544e+00 3.57339155e+00 3.40303413e+00\n",
      " 3.27109746e+00 3.20422580e+00 3.07413279e+00 2.95034998e+00\n",
      " 2.82137002e+00 2.71190994e+00 2.64638368e+00 2.52126286e+00\n",
      " 2.51436893e+00 2.45905276e+00 2.45418998e+00 2.30550466e+00\n",
      " 2.22128912e+00 2.20278034e+00 2.13963397e+00 2.07424829e+00\n",
      " 2.03342288e+00 1.94544962e+00 1.88075799e+00 1.82912450e+00\n",
      " 1.81822441e+00 1.76030346e+00 1.74219948e+00 1.69873382e+00\n",
      " 1.64112902e+00 1.63052915e+00 1.60297202e+00 1.58565000e+00\n",
      " 1.52141882e+00 1.50259940e+00 1.45939077e+00 1.45045404e+00\n",
      " 1.43207093e+00 1.39213596e+00 1.35805172e+00 1.34624459e+00\n",
      " 1.29602057e+00 1.28404760e+00 1.27020625e+00 1.25680028e+00\n",
      " 1.23819318e+00 1.21472022e+00 1.20040170e+00 1.17529783e+00\n",
      " 1.15162178e+00 1.13706172e+00 1.12728862e+00 1.10489382e+00\n",
      " 1.06851007e+00 1.04858355e+00 1.04216732e+00 1.03160018e+00\n",
      " 1.01662194e+00 1.00127645e+00 9.85094761e-01 9.78116536e-01\n",
      " 9.64200096e-01 9.41090816e-01 9.26592410e-01 9.18521434e-01\n",
      " 8.98900897e-01 8.88272585e-01 8.77520392e-01 8.69228232e-01\n",
      " 8.56141274e-01 8.37390976e-01 8.27389773e-01 8.21250441e-01\n",
      " 8.11391923e-01 8.07693507e-01 7.84463236e-01 7.78598852e-01\n",
      " 7.66743615e-01 7.61909147e-01 7.38627194e-01 7.35998784e-01\n",
      " 7.13930638e-01 7.04541325e-01 6.91248620e-01 6.89252418e-01\n",
      " 6.82627084e-01 6.73098193e-01 6.61152246e-01 6.51256277e-01\n",
      " 6.45587286e-01 6.36446923e-01 6.23155186e-01 6.18256778e-01\n",
      " 6.06359282e-01 5.89496638e-01 5.83685959e-01 5.76267113e-01\n",
      " 5.66318695e-01 5.58863904e-01 5.38051925e-01 5.25827754e-01\n",
      " 5.23353733e-01 5.21017929e-01 5.07155959e-01 4.97561377e-01\n",
      " 4.85985289e-01 4.84163492e-01 4.79994369e-01 4.70143158e-01\n",
      " 4.64066463e-01 4.55797119e-01 4.46641999e-01 4.43968854e-01\n",
      " 4.36895383e-01 4.32589128e-01 4.16939975e-01 4.11739040e-01\n",
      " 3.99521932e-01 3.93552137e-01 3.85825391e-01 3.83042017e-01\n",
      " 3.78449802e-01 3.70787633e-01 3.68530249e-01 3.58960920e-01\n",
      " 3.53702386e-01 3.47511136e-01 3.41219927e-01 3.35883912e-01\n",
      " 3.29829173e-01 3.20512630e-01 3.17747530e-01 3.13386973e-01\n",
      " 3.06892776e-01 3.01862036e-01 2.95413792e-01 2.90193825e-01\n",
      " 2.85920353e-01 2.73605560e-01 2.70720357e-01 2.67484556e-01\n",
      " 2.61102967e-01 2.55786979e-01 2.48490066e-01 2.47129414e-01\n",
      " 2.40327117e-01 2.35405779e-01 2.19722028e-01 2.18933484e-01\n",
      " 2.14499756e-01 2.10279483e-01 2.05214913e-01 1.96552791e-01\n",
      " 1.94576081e-01 1.90108497e-01 1.86852631e-01 1.84746548e-01\n",
      " 1.81215424e-01 1.75293080e-01 1.72189604e-01 1.68525256e-01\n",
      " 1.65758639e-01 1.58023277e-01 1.55169478e-01 1.53217541e-01\n",
      " 1.49425560e-01 1.42805455e-01 1.34545614e-01 1.31178731e-01\n",
      " 1.28851000e-01 1.24703627e-01 1.19203455e-01 1.15045099e-01\n",
      " 1.14108579e-01 1.10981927e-01 1.08516502e-01 1.04316275e-01\n",
      " 1.01380770e-01 1.00019663e-01 9.79411326e-02 9.43242022e-02\n",
      " 9.15279655e-02 8.95669451e-02 8.60802531e-02 8.47951011e-02\n",
      " 8.14214388e-02 8.08854470e-02 7.60857067e-02 7.31426543e-02\n",
      " 7.19410293e-02 6.69798929e-02 6.54055107e-02 6.29335689e-02\n",
      " 6.02535452e-02 5.92387917e-02 5.58246509e-02 5.35187641e-02\n",
      " 5.10310303e-02 5.05169529e-02 4.69001078e-02 4.48632385e-02\n",
      " 4.32341478e-02 4.20895030e-02 4.08160722e-02 3.98735559e-02\n",
      " 3.92359406e-02 3.77904213e-02 3.68271018e-02 3.50056282e-02\n",
      " 3.36226040e-02 3.28601679e-02 3.13072409e-02 3.08234812e-02\n",
      " 2.89774183e-02 2.80678140e-02 2.61994325e-02 2.47146396e-02\n",
      " 2.37458744e-02 2.13245354e-02 2.09289200e-02 1.90937446e-02\n",
      " 1.88930232e-02 1.78910627e-02 1.66361964e-02 1.58892126e-02\n",
      " 1.41113006e-02 1.36234812e-02 1.31714366e-02 1.25888963e-02\n",
      " 1.17151059e-02 1.05592720e-02 9.49298167e-03 9.06926908e-03\n",
      " 7.27981310e-03 7.03052899e-03 6.75959773e-03 6.44966103e-03\n",
      " 5.61901239e-03 5.14046691e-03 3.80789394e-03 3.32798310e-03\n",
      " 2.63969497e-03 2.46746178e-03 2.28270813e-03 1.81411836e-03\n",
      " 1.54873738e-03 1.16274797e-03 1.03214265e-03 7.35454037e-04\n",
      " 5.51287685e-04 3.63757574e-04 2.58850192e-04 2.01156909e-04\n",
      " 1.51287386e-04 5.46389692e-30 9.70694711e-31 8.98278538e-31\n",
      " 4.71726527e-31 3.10451986e-31 1.22962971e-31 1.01412535e-31\n",
      " 1.01412535e-31 1.01412535e-31 5.18341714e-33]\n"
     ]
    }
   ],
   "source": [
    "print(model_pca.explained_variance_ratio_) \n",
    "print(len(model_pca.explained_variance_ratio_))\n",
    "print(model_pca.explained_variance_)"
   ]
  },
  {
   "cell_type": "code",
   "execution_count": 37,
   "metadata": {},
   "outputs": [
    {
     "data": {
      "text/plain": [
       "Text(0, 0.5, 'cumulative explained variance')"
      ]
     },
     "execution_count": 37,
     "metadata": {},
     "output_type": "execute_result"
    },
    {
     "data": {
      "image/png": "[encoded data removed]",
      "text/plain": [
       "<Figure size 432x288 with 1 Axes>"
      ]
     },
     "metadata": {
      "needs_background": "light"
     },
     "output_type": "display_data"
    }
   ],
   "source": [
    "plt.plot(np.cumsum(model_pca.explained_variance_ratio_))\n",
    "plt.xlabel('number of components')\n",
    "plt.ylabel('cumulative explained variance')"
   ]
  },
  {
   "cell_type": "markdown",
   "metadata": {},
   "source": [
    "# Prediction by using pipeline"
   ]
  },
  {
   "cell_type": "code",
   "execution_count": 30,
   "metadata": {},
   "outputs": [],
   "source": [
    "from sklearn.pipeline import Pipeline\n",
    "from sklearn.decomposition import PCA\n",
    "from sklearn.metrics import accuracy_score\n",
    "from sklearn.metrics import matthews_corrcoef\n",
    "from sklearn.metrics import classification_report,confusion_matrix\n",
    "from deepforest import CascadeForestClassifier\n",
    "from sklearn.svm import SVC\n",
    "import xgboost as xgb"
   ]
  },
  {
   "cell_type": "code",
   "execution_count": 39,
   "metadata": {},
   "outputs": [
    {
     "name": "stdout",
     "output_type": "stream",
     "text": [
      "[2022-04-23 09:13:43.216] Start to fit the model:\n",
      "[2022-04-23 09:13:43.216] Fitting cascade layer = 0 \n",
      "[2022-04-23 09:13:46.917] layer = 0  | Val Acc = 72.619 % | Elapsed = 3.701 s\n",
      "[2022-04-23 09:13:46.923] Fitting cascade layer = 1 \n",
      "[2022-04-23 09:13:50.324] layer = 1  | Val Acc = 74.176 % | Elapsed = 3.401 s\n",
      "[2022-04-23 09:13:50.329] Fitting cascade layer = 2 \n",
      "[2022-04-23 09:13:53.662] layer = 2  | Val Acc = 74.725 % | Elapsed = 3.333 s\n",
      "[2022-04-23 09:13:53.667] Fitting cascade layer = 3 \n",
      "[2022-04-23 09:13:57.014] layer = 3  | Val Acc = 74.588 % | Elapsed = 3.347 s\n",
      "[2022-04-23 09:13:57.014] Early stopping counter: 1 out of 2\n",
      "[2022-04-23 09:13:57.019] Fitting cascade layer = 4 \n",
      "[2022-04-23 09:14:00.330] layer = 4  | Val Acc = 74.954 % | Elapsed = 3.311 s\n",
      "[2022-04-23 09:14:00.334] Fitting cascade layer = 5 \n",
      "[2022-04-23 09:14:03.672] layer = 5  | Val Acc = 74.634 % | Elapsed = 3.339 s\n",
      "[2022-04-23 09:14:03.672] Early stopping counter: 1 out of 2\n",
      "[2022-04-23 09:14:03.677] Fitting cascade layer = 6 \n",
      "[2022-04-23 09:14:07.015] layer = 6  | Val Acc = 74.679 % | Elapsed = 3.338 s\n",
      "[2022-04-23 09:14:07.015] Early stopping counter: 2 out of 2\n",
      "[2022-04-23 09:14:07.015] Handling early stopping\n",
      "[2022-04-23 09:14:07.017] The optimal number of layers: 5\n",
      "[2022-04-23 09:14:07.026] Start to evalute the model:\n",
      "[2022-04-23 09:14:07.031] Evaluating cascade layer = 0 \n",
      "[2022-04-23 09:14:07.067] Evaluating cascade layer = 1 \n",
      "[2022-04-23 09:14:07.103] Evaluating cascade layer = 2 \n",
      "[2022-04-23 09:14:07.142] Evaluating cascade layer = 3 \n",
      "[2022-04-23 09:14:07.182] Evaluating cascade layer = 4 \n",
      "[2022-04-23 09:14:07.223] Start to evalute the model:\n",
      "[2022-04-23 09:14:07.229] Evaluating cascade layer = 0 \n",
      "[2022-04-23 09:14:07.266] Evaluating cascade layer = 1 \n",
      "[2022-04-23 09:14:07.306] Evaluating cascade layer = 2 \n",
      "[2022-04-23 09:14:07.341] Evaluating cascade layer = 3 \n",
      "[2022-04-23 09:14:07.380] Evaluating cascade layer = 4 \n",
      "              precision    recall  f1-score   support\n",
      "\n",
      "          -1       0.75      0.13      0.22       143\n",
      "           1       0.76      0.99      0.86       403\n",
      "\n",
      "    accuracy                           0.76       546\n",
      "   macro avg       0.76      0.56      0.54       546\n",
      "weighted avg       0.76      0.76      0.69       546\n",
      "\n",
      "0.76007326007326 0.238038410122044\n"
     ]
    }
   ],
   "source": [
    "# DCF model prediction\n",
    "pipeline_cf = Pipeline([('pca1',PCA(n_components=275)),\n",
    "                     ('cf_classifier',CascadeForestClassifier(random_state=1))])\n",
    "model_1 = pipeline_cf.fit(df_X, Y)\n",
    "acc_1 = model_1.score(df_x,y)\n",
    "y_pred1 = model_1.predict(df_x)\n",
    "mcc_1 = matthews_corrcoef(y,y_pred1)\n",
    "print(classification_report(y,y_pred1))\n",
    "print(acc_1,mcc_1)"
   ]
  },
  {
   "cell_type": "code",
   "execution_count": 42,
   "metadata": {},
   "outputs": [
    {
     "name": "stdout",
     "output_type": "stream",
     "text": [
      "              precision    recall  f1-score   support\n",
      "\n",
      "          -1       0.00      0.00      0.00       143\n",
      "           1       0.74      1.00      0.85       403\n",
      "\n",
      "    accuracy                           0.74       546\n",
      "   macro avg       0.37      0.50      0.42       546\n",
      "weighted avg       0.54      0.74      0.63       546\n",
      "\n",
      "0.7380952380952381 0.0\n"
     ]
    }
   ],
   "source": [
    "# SVM prediction\n",
    "pipeline_svc = Pipeline([('pca1',PCA(n_components=275)),\n",
    "                     (\"svc\", SVC(gamma=\"auto\"))])\n",
    "model_2 = pipeline_svc.fit(df_X, Y)\n",
    "acc_2 = model_2.score(df_x,y)\n",
    "y_pred2 = model_2.predict(df_x)\n",
    "mcc_2 = matthews_corrcoef(y,y_pred2)\n",
    "print(classification_report(y,y_pred2))\n",
    "print(acc_2,mcc_2)"
   ]
  },
  {
   "cell_type": "code",
   "execution_count": 43,
   "metadata": {},
   "outputs": [
    {
     "name": "stdout",
     "output_type": "stream",
     "text": [
      "[17:19:24] WARNING: C:/Users/Administrator/workspace/xgboost-win64_release_1.5.1/src/learner.cc:1115: Starting in XGBoost 1.3.0, the default evaluation metric used with the objective 'binary:logistic' was changed from 'error' to 'logloss'. Explicitly set eval_metric if you'd like to restore the old behavior.\n",
      "              precision    recall  f1-score   support\n",
      "\n",
      "          -1       0.54      0.09      0.16       143\n",
      "           1       0.75      0.97      0.85       403\n",
      "\n",
      "    accuracy                           0.74       546\n",
      "   macro avg       0.65      0.53      0.50       546\n",
      "weighted avg       0.70      0.74      0.67       546\n",
      "\n",
      "0.7417582417582418 0.13643664970409838\n"
     ]
    }
   ],
   "source": [
    "# XGBoost prediction\n",
    "pipeline_xgb = Pipeline([('pca1',PCA(n_components=275)),\n",
    "                     (\"xgb\", xgb.XGBClassifier())])\n",
    "model_3 = pipeline_xgb.fit(df_X, Y)\n",
    "acc_3 = model_3.score(df_x,y)\n",
    "y_pred3 = model_3.predict(df_x)\n",
    "mcc_3 = matthews_corrcoef(y,y_pred3)\n",
    "print(classification_report(y,y_pred3))\n",
    "print(acc_3,mcc_3)"
   ]
  },
  {
   "cell_type": "code",
   "execution_count": null,
   "metadata": {},
   "outputs": [],
   "source": []
  }
 ],
 "metadata": {
  "kernelspec": {
   "display_name": "Python 3",
   "language": "python",
   "name": "python3"
  },
  "language_info": {
   "codemirror_mode": {
    "name": "ipython",
    "version": 3
   },
   "file_extension": ".py",
   "mimetype": "text/x-python",
   "name": "python",
   "nbconvert_exporter": "python",
   "pygments_lexer": "ipython3",
   "version": "3.8.3"
  }
 },
 "nbformat": 4,
 "nbformat_minor": 4
}
