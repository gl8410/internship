{
 "cells": [
  {
   "cell_type": "code",
   "execution_count": 1,
   "metadata": {},
   "outputs": [],
   "source": [
    "\"\"\"\n",
    "    处理文件，读入，配对并保存到一个数据集\n",
    "\n",
    "\"\"\"\n",
    "# 在当前目录下定义的数据集文件夹\n",
    "dataDir = \"Proteinfasta\"\n",
    "# 在当前目录下定义的模型集文件夹\n",
    "modelDir= \"Models\"\n",
    "# CNN的训练参数组\n",
    "cnnHyperParamsSets=[]\n",
    "# 数据集定义，一共有5个数据集\n",
    "DataPairs=[\n",
    "    [\"CF_TR_Sequence.fasta.csv\",\"CF_TE_Sequence.fasta.csv\"],\n",
    "    [\"CRYS_TR_Sequence.fasta.csv\",\"CRYS_TE_Sequence.fasta.csv\"],\n",
    "    [\"MC_TR_Sequence.fasta.csv\",\"MC_TE_Sequence.fasta.csv\"],\n",
    "    [\"MF_TR_Sequence.fasta.csv\",\"MF_TE_Sequence.fasta.csv\"],\n",
    "    [\"PF_TR_Sequence.fasta.csv\",\"PF_TE_Sequence.fasta.csv\"]\n",
    "]\n",
    "\"\"\"\n",
    "    其他的随便写点什么\n",
    "\n",
    "\"\"\"\n",
    "# 获取指定目录下的文件名称，对文件名称进行配对提取，等待处理\n",
    "import os\n",
    "import re\n",
    "import pandas as pd\n",
    "\n",
    "def GetPair(ls:list,sux):\n",
    "    out=[]\n",
    "    for l in ls:\n",
    "        if re.match(sux,l):\n",
    "            na=l[:l.find(\"_Sequence.fasta\")] #Look at the define of suffix\n",
    "            pat=na+r'.*'+r'abel'\n",
    "            for l2 in ls:\n",
    "                if re.match(pat,l2):\n",
    "                    il=[l,l2]\n",
    "                    if il not in out:\n",
    "                        out.append(il)\n",
    "    return out\n",
    "# 将每个pair合成，分别写成对应的Train与Test文件\n",
    "def WritePair2(p):\n",
    "    dfp=pd.read_csv(dataDir+\"/\"+p[0],header=None)\n",
    "    dfl=pd.read_csv(dataDir+\"/\"+p[1],header=None)\n",
    "    content=dfp[dfp.index%2!=0]\n",
    "    content.reset_index(inplace=True,drop=True)\n",
    "    name1=dfp[dfp.index%2==0]\n",
    "    name1.reset_index(inplace=True,drop=True)\n",
    "    dfp=pd.concat([name1,content],axis=1,ignore_index=True)\n",
    "    dfp.columns=[\"Name\",\"Text\"]\n",
    "    y=dfl[dfl.index%2!=0]\n",
    "    y.reset_index(inplace=True,drop=True)\n",
    "    dflName=dfl[dfl.index%2==0]\n",
    "    dflName.reset_index(inplace=True,drop=True)\n",
    "    dfl=pd.concat([dflName,y],axis=1,ignore_index=True)\n",
    "    dfl.columns=[\"Name\",\"y\"]\n",
    "    dfl=dfl.merge(dfp,on=\"Name\",how=\"inner\")\n",
    "    dfl[\"y\"]=dfl[\"y\"].astype(\"int32\")\n",
    "    dfl[\"y\"]=dfl[\"y\"].apply(lambda x: 1 if x>0 else 0)\n",
    "    dfl.to_csv(dataDir+\"/\"+str(p[0])+\".csv\",index=False)\n",
    "    print(\"Write File: {0} and Length is {1} \".format(p[0],len(dfl)))\n",
    "# 数据探索函数\n",
    "def Load_Exploring(pair,pos,length:int=1000):\n",
    "    df=pd.read_csv(dataDir+\"/\"+pair[pos])\n",
    "    df[\"Length\"]=df[\"Text\"].apply(len)\n",
    "    print(\"Data set is %s \" % pair[pos])\n",
    "    print(\"Max length of Text on this data set: \"+ str(df[\"Length\"].max()))\n",
    "    print(\"Labels are: \"+ str(df[\"y\"].unique()))\n",
    "    df[\"Length\"].plot(kind=\"hist\",bins=50,title=pair[pos]+\" Length distribution\")\n",
    "    # for d in df.groupby([\"y\"]):\n",
    "    #     d[1].plot(kind=\"hist\",bins=100,title=str(d[0])+ \" Length distribution\")\n",
    "    #     print(str(d[0])+\" shape is \"+ str(d[1].shape))\n",
    "    print(\"{0}  of the proteins have a Length less than {1}\".format(round(((df[df[\"Length\"]<length].shape[0]/df.shape[0])*100),2),length))"
   ]
  },
  {
   "cell_type": "code",
   "execution_count": 2,
   "metadata": {},
   "outputs": [
    {
     "name": "stdout",
     "output_type": "stream",
     "text": [
      "---------------------Pairs of all data--------------------\n",
      "[['CF_TE_Sequence.fasta', 'CF_TE_Label'], ['CF_TE_Sequence.fasta.csv', 'CF_TE_Label'], ['CF_TR_Sequence.fasta', 'CF_TR_Label'], ['CF_TR_Sequence.fasta.csv', 'CF_TR_Label'], ['CRYS_TE_Sequence.fasta', 'CRYS_TE_label'], ['CRYS_TE_Sequence.fasta.csv', 'CRYS_TE_label'], ['CRYS_TR_Sequence.fasta', 'CRYS_TR_Label'], ['CRYS_TR_Sequence.fasta.csv', 'CRYS_TR_Label'], ['MC_TE_Sequence.fasta', 'MC_TE_Label'], ['MC_TE_Sequence.fasta.csv', 'MC_TE_Label'], ['MC_TR_Sequence.fasta', 'MC_TR_Label'], ['MC_TR_Sequence.fasta.csv', 'MC_TR_Label'], ['MF_TE_Sequence.fasta', 'MF_TE_Label'], ['MF_TE_Sequence.fasta.csv', 'MF_TE_Label'], ['MF_TR_Sequence.fasta', 'MF_TR_Label'], ['MF_TR_Sequence.fasta.csv', 'MF_TR_Label'], ['PF_TE_Sequence.fasta', 'PF_TE_Label'], ['PF_TE_Sequence.fasta.csv', 'PF_TE_Label'], ['PF_TR_Sequence.fasta', 'PF_TR_Label'], ['PF_TR_Sequence.fasta.csv', 'PF_TR_Label']]\n",
      "---------------------Writing Pairs to csv--------------------\n"
     ]
    }
   ],
   "source": [
    "# Write Data here\n",
    "#### 如果已经有csv数据，就不要再运行这里了\n",
    "files = os.listdir(dataDir)\n",
    "suffix=r'.*\\.fasta' \n",
    "pairs=GetPair(files,suffix)\n",
    "print(\"---------------------Pairs of all data--------------------\")\n",
    "print(pairs)\n",
    "print(\"---------------------Writing Pairs to csv--------------------\")\n",
    "# for p in pairs:\n",
    "#     WritePair2(p)"
   ]
  },
  {
   "cell_type": "code",
   "execution_count": 3,
   "metadata": {},
   "outputs": [
    {
     "name": "stdout",
     "output_type": "stream",
     "text": [
      "Data set is CF_TR_Sequence.fasta.csv \n",
      "Max length of Text on this data set: 8026\n",
      "Labels are: [0 1]\n",
      "99.08  of the proteins have a Length less than 1000\n",
      "Data set is CRYS_TR_Sequence.fasta.csv \n",
      "Max length of Text on this data set: 10827\n",
      "Labels are: [0 1]\n",
      "96.57  of the proteins have a Length less than 1000\n",
      "Data set is MC_TR_Sequence.fasta.csv \n",
      "Max length of Text on this data set: 5037\n",
      "Labels are: [1 0]\n",
      "98.82  of the proteins have a Length less than 1000\n",
      "Data set is MF_TR_Sequence.fasta.csv \n",
      "Max length of Text on this data set: 10827\n",
      "Labels are: [0 1]\n",
      "96.66  of the proteins have a Length less than 1000\n",
      "Data set is PF_TR_Sequence.fasta.csv \n",
      "Max length of Text on this data set: 9528\n",
      "Labels are: [0 1]\n",
      "98.68  of the proteins have a Length less than 1000\n"
     ]
    },
    {
     "data": {
      "image/png": "[encoded data removed]",
      "text/plain": [
       "<Figure size 432x288 with 1 Axes>"
      ]
     },
     "metadata": {
      "needs_background": "light"
     },
     "output_type": "display_data"
    }
   ],
   "source": [
    "\"\"\"\n",
    "这里进行数据探索\n",
    "\n",
    "\"\"\"\n",
    "for d in DataPairs:\n",
    "    Load_Exploring(d,0,1000)"
   ]
  },
  {
   "cell_type": "code",
   "execution_count": 4,
   "metadata": {},
   "outputs": [
    {
     "name": "stdout",
     "output_type": "stream",
     "text": [
      "Data set is CF_TR_Sequence.fasta.csv \n",
      "Max length of Text on this data set: 8026\n",
      "Labels are: [0 1]\n",
      "99.08  of the proteins have a Length less than 1000\n"
     ]
    },
    {
     "data": {
      "image/png": "[encoded data removed]",
      "text/plain": [
       "<Figure size 432x288 with 1 Axes>"
      ]
     },
     "metadata": {
      "needs_background": "light"
     },
     "output_type": "display_data"
    }
   ],
   "source": [
    "Load_Exploring(DataPairs[0],0,1000)"
   ]
  },
  {
   "cell_type": "code",
   "execution_count": 5,
   "metadata": {},
   "outputs": [
    {
     "name": "stdout",
     "output_type": "stream",
     "text": [
      "Data set is CRYS_TR_Sequence.fasta.csv \n",
      "Max length of Text on this data set: 10827\n",
      "Labels are: [0 1]\n",
      "96.57  of the proteins have a Length less than 1000\n"
     ]
    },
    {
     "data": {
      "image/png": "[encoded data removed]",
      "text/plain": [
       "<Figure size 432x288 with 1 Axes>"
      ]
     },
     "metadata": {
      "needs_background": "light"
     },
     "output_type": "display_data"
    }
   ],
   "source": [
    "Load_Exploring(DataPairs[1],0,1000)"
   ]
  },
  {
   "cell_type": "code",
   "execution_count": 6,
   "metadata": {},
   "outputs": [
    {
     "name": "stdout",
     "output_type": "stream",
     "text": [
      "Data set is MC_TR_Sequence.fasta.csv \n",
      "Max length of Text on this data set: 5037\n",
      "Labels are: [1 0]\n",
      "98.82  of the proteins have a Length less than 1000\n"
     ]
    },
    {
     "data": {
      "image/png": "[encoded data removed]",
      "text/plain": [
       "<Figure size 432x288 with 1 Axes>"
      ]
     },
     "metadata": {
      "needs_background": "light"
     },
     "output_type": "display_data"
    }
   ],
   "source": [
    "Load_Exploring(DataPairs[2],0,1000)"
   ]
  },
  {
   "cell_type": "code",
   "execution_count": 7,
   "metadata": {},
   "outputs": [
    {
     "name": "stdout",
     "output_type": "stream",
     "text": [
      "Data set is MF_TR_Sequence.fasta.csv \n",
      "Max length of Text on this data set: 10827\n",
      "Labels are: [0 1]\n",
      "96.66  of the proteins have a Length less than 1000\n"
     ]
    },
    {
     "data": {
      "image/png": "[encoded data removed]",
      "text/plain": [
       "<Figure size 432x288 with 1 Axes>"
      ]
     },
     "metadata": {
      "needs_background": "light"
     },
     "output_type": "display_data"
    }
   ],
   "source": [
    "Load_Exploring(DataPairs[3],0,1000)"
   ]
  },
  {
   "cell_type": "code",
   "execution_count": 8,
   "metadata": {},
   "outputs": [
    {
     "name": "stdout",
     "output_type": "stream",
     "text": [
      "Data set is PF_TR_Sequence.fasta.csv \n",
      "Max length of Text on this data set: 9528\n",
      "Labels are: [0 1]\n",
      "98.68  of the proteins have a Length less than 1000\n"
     ]
    },
    {
     "data": {
      "image/png": "[encoded data removed]",
      "text/plain": [
       "<Figure size 432x288 with 1 Axes>"
      ]
     },
     "metadata": {
      "needs_background": "light"
     },
     "output_type": "display_data"
    }
   ],
   "source": [
    "Load_Exploring(DataPairs[4],0,1000)"
   ]
  },
  {
   "cell_type": "code",
   "execution_count": 2,
   "metadata": {},
   "outputs": [],
   "source": [
    "\"\"\"\n",
    "这里模型训练\n",
    "\n",
    "\"\"\"\n",
    "from keras.preprocessing.text import Tokenizer\n",
    "from keras.preprocessing.sequence import pad_sequences\n",
    "from keras.layers import Input, Dense, Embedding, Conv1D, Conv2D, MaxPooling1D, MaxPool2D, Reshape, Flatten, Dropout, Concatenate\n",
    "from keras.models import Model\n",
    "from keras.optimizers import Adam\n",
    "from keras.utils.vis_utils import plot_model\n",
    "\n",
    "def Tokenize(dftr,dfte,sent_dim):\n",
    "    word_dim = 50\n",
    "    sentence_dim = sent_dim\n",
    "    tokenizer = Tokenizer(num_words=word_dim)\n",
    "    dftr[\"Text\"]=dftr[\"Text\"].apply(Chars2Seq)\n",
    "    dfte[\"Text\"]=dfte[\"Text\"].apply(Chars2Seq)\n",
    "    tokenizer.fit_on_texts(dftr[\"Text\"])\n",
    "    train_sequence = tokenizer.texts_to_sequences(dftr[\"Text\"])\n",
    "    test_sequence = tokenizer.texts_to_sequences(dfte[\"Text\"])\n",
    "    padded_train_sequences = pad_sequences(train_sequence, maxlen = sentence_dim)\n",
    "    padded_test_sequences = pad_sequences(test_sequence, maxlen = sentence_dim)\n",
    "    return padded_train_sequences, padded_test_sequences\n",
    "\n",
    "def CNN2D(filter_sizes:list = [6, 12, 18],num_filters = 256):\n",
    "    word_dim = 50\n",
    "    sent_dim = 1024\n",
    "    embedding_dim = 32\n",
    "    drop = 0.3\n",
    "    inputs = Input(shape=(sent_dim,), dtype='int32')\n",
    "    embedding = Embedding(input_dim=word_dim, output_dim=embedding_dim,input_length=sent_dim)(inputs)\n",
    "    reshape = Reshape((sent_dim, embedding_dim, 1))(embedding)\n",
    "    conv2d_1 = Conv2D(num_filters, kernel_size=(filter_sizes[0], embedding_dim), padding='valid', kernel_initializer='normal', activation='relu')(reshape)\n",
    "    conv2d_2 = Conv2D(num_filters, kernel_size=(filter_sizes[1], embedding_dim), padding='valid', kernel_initializer='normal', activation='relu')(reshape)\n",
    "    conv2d_3 = Conv2D(num_filters, kernel_size=(filter_sizes[2], embedding_dim), padding='valid', kernel_initializer='normal', activation='relu')(reshape)\n",
    "    maxpool_1 = MaxPool2D(pool_size=(sent_dim - filter_sizes[0] + 1, 1), strides=(1,1), padding='valid')(conv2d_1)\n",
    "    maxpool_2 = MaxPool2D(pool_size=(sent_dim - filter_sizes[1] + 1, 1), strides=(1,1), padding='valid')(conv2d_2)\n",
    "    maxpool_3 = MaxPool2D(pool_size=(sent_dim - filter_sizes[2] + 1, 1), strides=(1,1), padding='valid')(conv2d_3)\n",
    "    concatenated_tensor = Concatenate(axis=1)([maxpool_1, maxpool_2, maxpool_3])\n",
    "    flatten = Flatten()(concatenated_tensor)\n",
    "    dropout = Dropout(drop)(flatten)\n",
    "    output = Dense(units=2, activation='softmax')(dropout)\n",
    "    model = Model(inputs=inputs, outputs=output)\n",
    "    model.compile(optimizer=\"adam\", loss='sparse_categorical_crossentropy', metrics=['accuracy'])\n",
    "    return model\n",
    "\n",
    "def Chars2Seq(chars):\n",
    "    out=\"\"\n",
    "    for c in chars:\n",
    "        out=out+c+\" \"\n",
    "    return out\n",
    "\n",
    "def CumstomeTrainOne(Dset,filter_sizes:list = [6, 12, 18],num_filters:int = 256):\n",
    "    cnn_model_2d = CNN2D(filter_sizes,num_filters)\n",
    "    batch_size = 32\n",
    "    epochs = 2\n",
    "    dftr=pd.read_csv(dataDir+\"/\"+Dset[0])\n",
    "    dfte=pd.read_csv(dataDir+\"/\"+Dset[1])\n",
    "    padded_train_sequences, padded_test_sequences = Tokenize(dftr,dfte,1024)\n",
    "    history = cnn_model_2d.fit(x=padded_train_sequences, y=dftr[\"y\"], validation_data=(padded_test_sequences, dfte[\"y\"]), batch_size=batch_size, epochs=epochs, verbose=1)\n",
    "    cnn_model_2d.save(modelDir+\"/\"+str(Dset[0])+\"protein_cnn_model.model\")\n",
    "    print(\"%s trained on CNN\" % str(Dset[0]))"
   ]
  },
  {
   "cell_type": "code",
   "execution_count": null,
   "metadata": {},
   "outputs": [
    {
     "name": "stdout",
     "output_type": "stream",
     "text": [
      "Epoch 1/2\n",
      "69/69 [==============================] - 7s 104ms/step - loss: 0.5987 - accuracy: 0.7239 - val_loss: 0.5769 - val_accuracy: 0.7381\n",
      "Epoch 2/2\n",
      "69/69 [==============================] - 6s 89ms/step - loss: 0.5895 - accuracy: 0.7239 - val_loss: 0.5755 - val_accuracy: 0.7381\n",
      "WARNING:tensorflow:From C:\\Anaconda3\\envs\\tensor38\\lib\\site-packages\\tensorflow\\python\\training\\tracking\\tracking.py:111: Model.state_updates (from tensorflow.python.keras.engine.training) is deprecated and will be removed in a future version.\n",
      "Instructions for updating:\n",
      "This property should not be used in TensorFlow 2.0, as updates are applied automatically.\n",
      "WARNING:tensorflow:From C:\\Anaconda3\\envs\\tensor38\\lib\\site-packages\\tensorflow\\python\\training\\tracking\\tracking.py:111: Layer.updates (from tensorflow.python.keras.engine.base_layer) is deprecated and will be removed in a future version.\n",
      "Instructions for updating:\n",
      "This property should not be used in TensorFlow 2.0, as updates are applied automatically.\n",
      "INFO:tensorflow:Assets written to: Models/CF_TR_Sequence.fasta.csvprotein_cnn_model.model\\assets\n",
      "CF_TR_Sequence.fasta.csv trained on CNN\n",
      "Epoch 1/2\n",
      "103/619 [===>..........................] - ETA: 43s - loss: 0.2483 - accuracy: 0.9372"
     ]
    }
   ],
   "source": [
    "# Train the model on each data set respectively and store the trained model\n",
    "for d in DataPairs:\n",
    "    CumstomeTrainOne(d,[6, 12, 18],256)"
   ]
  },
  {
   "cell_type": "code",
   "execution_count": 14,
   "metadata": {},
   "outputs": [
    {
     "name": "stdout",
     "output_type": "stream",
     "text": [
      "Epoch 1/10\n",
      "1415/1415 [==============================] - 326s 230ms/step - loss: 0.4825 - accuracy: 0.7934 - val_loss: 0.4579 - val_accuracy: 0.8013\n",
      "Epoch 2/10\n",
      "1415/1415 [==============================] - 322s 228ms/step - loss: 0.4196 - accuracy: 0.8316 - val_loss: 0.4330 - val_accuracy: 0.8437\n",
      "Epoch 3/10\n",
      "1415/1415 [==============================] - 325s 230ms/step - loss: 0.3592 - accuracy: 0.8563 - val_loss: 0.4538 - val_accuracy: 0.8524\n",
      "Epoch 4/10\n",
      "1415/1415 [==============================] - 318s 225ms/step - loss: 0.3262 - accuracy: 0.8692 - val_loss: 0.4452 - val_accuracy: 0.8490\n",
      "Epoch 5/10\n",
      "1415/1415 [==============================] - 318s 224ms/step - loss: 0.3070 - accuracy: 0.8720 - val_loss: 0.4640 - val_accuracy: 0.8196\n",
      "Epoch 6/10\n",
      "1415/1415 [==============================] - 316s 224ms/step - loss: 0.2991 - accuracy: 0.8770 - val_loss: 0.4510 - val_accuracy: 0.8380\n",
      "Epoch 7/10\n",
      "1415/1415 [==============================] - 316s 224ms/step - loss: 0.2900 - accuracy: 0.8792 - val_loss: 0.4813 - val_accuracy: 0.8019\n",
      "Epoch 8/10\n",
      "1415/1415 [==============================] - 318s 225ms/step - loss: 0.2869 - accuracy: 0.8791 - val_loss: 0.4828 - val_accuracy: 0.8031\n",
      "Epoch 9/10\n",
      "1415/1415 [==============================] - 317s 224ms/step - loss: 0.2813 - accuracy: 0.8813 - val_loss: 0.4803 - val_accuracy: 0.8141\n",
      "Epoch 10/10\n",
      "1415/1415 [==============================] - 316s 223ms/step - loss: 0.2742 - accuracy: 0.8816 - val_loss: 0.5158 - val_accuracy: 0.8504\n",
      "WARNING:tensorflow:From C:\\Anaconda3\\envs\\tensor38\\lib\\site-packages\\tensorflow\\python\\training\\tracking\\tracking.py:111: Model.state_updates (from tensorflow.python.keras.engine.training) is deprecated and will be removed in a future version.\n",
      "Instructions for updating:\n",
      "This property should not be used in TensorFlow 2.0, as updates are applied automatically.\n",
      "WARNING:tensorflow:From C:\\Anaconda3\\envs\\tensor38\\lib\\site-packages\\tensorflow\\python\\training\\tracking\\tracking.py:111: Layer.updates (from tensorflow.python.keras.engine.base_layer) is deprecated and will be removed in a future version.\n",
      "Instructions for updating:\n",
      "This property should not be used in TensorFlow 2.0, as updates are applied automatically.\n",
      "INFO:tensorflow:Assets written to: Models/testAllprotein_cnn_model.model\\assets\n",
      "trained on CNN for testAll\n"
     ]
    }
   ],
   "source": [
    "# Train the model on the data for combined train data together\n",
    "import math\n",
    "\n",
    "def GatherTrainAll(datapairs):\n",
    "    l=[]\n",
    "    for d in datapairs:\n",
    "        dftr=pd.read_csv(dataDir+\"/\"+d[0])\n",
    "        l.append(dftr)\n",
    "    df=pd.concat(l,axis=0)\n",
    "    return df\n",
    "\n",
    "def GetTr_Te(df,test_frac):\n",
    "    df=df.sample(frac=1).reset_index(drop=True)\n",
    "    num=len(df)\n",
    "    test_num=math.floor(num*test_frac)\n",
    "    return df[df.index>test_num], df[df.index<=test_num]\n",
    "\n",
    "def CumstomeTrainALL(df,filter_sizes:list = [6, 12, 18],num_filters:int = 256):\n",
    "    cnn_model_2d = CNN2D(filter_sizes,num_filters)\n",
    "    batch_size = 32\n",
    "    epochs = 10\n",
    "    dftr,dfte= GetTr_Te(df,0.15)\n",
    "    padded_train_sequences, padded_test_sequences = Tokenize(dftr,dfte,1024)\n",
    "    history = cnn_model_2d.fit(x=padded_train_sequences, y=dftr[\"y\"], validation_data=(padded_test_sequences, dfte[\"y\"]), batch_size=batch_size, epochs=epochs, verbose=1)\n",
    "    model_path=modelDir+\"/\"+\"testAll\"+\"protein_cnn_model.model\"\n",
    "    cnn_model_2d.save(model_path)\n",
    "    print(\"trained on CNN for testAll\")\n",
    "\n",
    "df=GatherTrainAll(DataPairs)\n",
    "CumstomeTrainALL(df,[32, 64, 128],256)\n"
   ]
  },
  {
   "cell_type": "code",
   "execution_count": 3,
   "metadata": {},
   "outputs": [],
   "source": [
    "from keras.models import load_model\n",
    "from sklearn.metrics import confusion_matrix,matthews_corrcoef,classification_report\n",
    "\n",
    "def GetSinglePair():\n",
    "    return None\n",
    "\n",
    "def EvaluatePair(Dset,model_path):\n",
    "    cnn_model = load_model(model_path)\n",
    "    dftr=pd.read_csv(dataDir+\"/\"+Dset[0])\n",
    "    dfte=pd.read_csv(dataDir+\"/\"+Dset[1])\n",
    "    padded_train_sequences, padded_test_sequences = Tokenize(dftr,dfte,1024)\n",
    "    predict_y=cnn_model.predict(padded_test_sequences)\n",
    "    dfpred=pd.DataFrame(predict_y,columns=[\"0\",\"1\"])\n",
    "    dfpred[\"Pred\"]=dfpred[\"0\"]>dfpred[\"1\"]\n",
    "    dfpred[\"Pred\"]=dfpred[\"Pred\"].apply(lambda x:0 if x==True else 1)\n",
    "    cm=confusion_matrix(dfte[\"y\"],dfpred[\"Pred\"])\n",
    "    mc=matthews_corrcoef(dfte[\"y\"],dfpred[\"Pred\"])\n",
    "    target_names = ['No crystal', 'Crystal']\n",
    "    print(\"-------%s Metrics on test set are: \" % Dset[0])\n",
    "    print(\"----Confusion Matrix:\")\n",
    "    print(cm)\n",
    "    print(\"----Matthews Corrcoef:\")\n",
    "    print(mc)\n",
    "    print(classification_report(dfte[\"y\"], dfpred[\"Pred\"], target_names=target_names))"
   ]
  },
  {
   "cell_type": "code",
   "execution_count": 4,
   "metadata": {},
   "outputs": [
    {
     "name": "stderr",
     "output_type": "stream",
     "text": [
      "C:\\Anaconda3\\envs\\tensor38\\lib\\site-packages\\sklearn\\metrics\\_classification.py:846: RuntimeWarning: invalid value encountered in double_scalars\n",
      "  mcc = cov_ytyp / np.sqrt(cov_ytyt * cov_ypyp)\n",
      "C:\\Anaconda3\\envs\\tensor38\\lib\\site-packages\\sklearn\\metrics\\_classification.py:1221: UndefinedMetricWarning: Precision and F-score are ill-defined and being set to 0.0 in labels with no predicted samples. Use `zero_division` parameter to control this behavior.\n",
      "  _warn_prf(average, modifier, msg_start, len(result))\n"
     ]
    },
    {
     "name": "stdout",
     "output_type": "stream",
     "text": [
      "CF_TR_Sequence.fasta.csv Metrics on test set are: \n",
      "Confusion Matrix:\n",
      "[[143   0]\n",
      " [403   0]]\n",
      "Matthews Corrcoef:\n",
      "0.0\n",
      "              precision    recall  f1-score   support\n",
      "\n",
      "  No crystal       0.26      1.00      0.42       143\n",
      "     Crystal       0.00      0.00      0.00       403\n",
      "\n",
      "    accuracy                           0.26       546\n",
      "   macro avg       0.13      0.50      0.21       546\n",
      "weighted avg       0.07      0.26      0.11       546\n",
      "\n",
      "CRYS_TR_Sequence.fasta.csv Metrics on test set are: \n",
      "Confusion Matrix:\n",
      "[[4608   18]\n",
      " [ 218  103]]\n",
      "Matthews Corrcoef:\n",
      "0.505478308984863\n",
      "              precision    recall  f1-score   support\n",
      "\n",
      "  No crystal       0.95      1.00      0.98      4626\n",
      "     Crystal       0.85      0.32      0.47       321\n",
      "\n",
      "    accuracy                           0.95      4947\n",
      "   macro avg       0.90      0.66      0.72      4947\n",
      "weighted avg       0.95      0.95      0.94      4947\n",
      "\n"
     ]
    },
    {
     "name": "stderr",
     "output_type": "stream",
     "text": [
      "C:\\Anaconda3\\envs\\tensor38\\lib\\site-packages\\sklearn\\metrics\\_classification.py:846: RuntimeWarning: invalid value encountered in double_scalars\n",
      "  mcc = cov_ytyp / np.sqrt(cov_ytyt * cov_ypyp)\n",
      "C:\\Anaconda3\\envs\\tensor38\\lib\\site-packages\\sklearn\\metrics\\_classification.py:1221: UndefinedMetricWarning: Precision and F-score are ill-defined and being set to 0.0 in labels with no predicted samples. Use `zero_division` parameter to control this behavior.\n",
      "  _warn_prf(average, modifier, msg_start, len(result))\n"
     ]
    },
    {
     "name": "stdout",
     "output_type": "stream",
     "text": [
      "MC_TR_Sequence.fasta.csv Metrics on test set are: \n",
      "Confusion Matrix:\n",
      "[[891   0]\n",
      " [129   0]]\n",
      "Matthews Corrcoef:\n",
      "0.0\n",
      "              precision    recall  f1-score   support\n",
      "\n",
      "  No crystal       0.87      1.00      0.93       891\n",
      "     Crystal       0.00      0.00      0.00       129\n",
      "\n",
      "    accuracy                           0.87      1020\n",
      "   macro avg       0.44      0.50      0.47      1020\n",
      "weighted avg       0.76      0.87      0.81      1020\n",
      "\n",
      "MF_TR_Sequence.fasta.csv Metrics on test set are: \n",
      "Confusion Matrix:\n",
      "[[3547    1]\n",
      " [1309   90]]\n",
      "Matthews Corrcoef:\n",
      "0.2146636540765035\n",
      "              precision    recall  f1-score   support\n",
      "\n",
      "  No crystal       0.73      1.00      0.84      3548\n",
      "     Crystal       0.99      0.06      0.12      1399\n",
      "\n",
      "    accuracy                           0.74      4947\n",
      "   macro avg       0.86      0.53      0.48      4947\n",
      "weighted avg       0.80      0.74      0.64      4947\n",
      "\n",
      "PF_TR_Sequence.fasta.csv Metrics on test set are: \n",
      "Confusion Matrix:\n",
      "[[1391    0]\n",
      " [ 458    0]]\n",
      "Matthews Corrcoef:\n",
      "0.0\n",
      "              precision    recall  f1-score   support\n",
      "\n",
      "  No crystal       0.75      1.00      0.86      1391\n",
      "     Crystal       0.00      0.00      0.00       458\n",
      "\n",
      "    accuracy                           0.75      1849\n",
      "   macro avg       0.38      0.50      0.43      1849\n",
      "weighted avg       0.57      0.75      0.65      1849\n",
      "\n"
     ]
    },
    {
     "name": "stderr",
     "output_type": "stream",
     "text": [
      "C:\\Anaconda3\\envs\\tensor38\\lib\\site-packages\\sklearn\\metrics\\_classification.py:846: RuntimeWarning: invalid value encountered in double_scalars\n",
      "  mcc = cov_ytyp / np.sqrt(cov_ytyt * cov_ypyp)\n",
      "C:\\Anaconda3\\envs\\tensor38\\lib\\site-packages\\sklearn\\metrics\\_classification.py:1221: UndefinedMetricWarning: Precision and F-score are ill-defined and being set to 0.0 in labels with no predicted samples. Use `zero_division` parameter to control this behavior.\n",
      "  _warn_prf(average, modifier, msg_start, len(result))\n"
     ]
    }
   ],
   "source": [
    "for d in DataPairs:\n",
    "    EvaluatePair(d,\"Models/testALLprotein_cnn_model.model\")"
   ]
  }
 ],
 "metadata": {
  "interpreter": {
   "hash": "83d10d3946bea8e4321c5d6440af788e7ef5dc77f92a0f72d0460162ccdc7a49"
  },
  "kernelspec": {
   "display_name": "Python [conda env:tensor38]",
   "language": "python",
   "name": "conda-env-tensor38-py"
  },
  "language_info": {
   "codemirror_mode": {
    "name": "ipython",
    "version": 3
   },
   "file_extension": ".py",
   "mimetype": "text/x-python",
   "name": "python",
   "nbconvert_exporter": "python",
   "pygments_lexer": "ipython3",
   "version": "3.8.5"
  }
 },
 "nbformat": 4,
 "nbformat_minor": 2
}
