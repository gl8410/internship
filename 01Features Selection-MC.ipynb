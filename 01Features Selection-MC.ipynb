{
 "cells": [
  {
   "cell_type": "markdown",
   "metadata": {},
   "source": [
    "# Features Selection"
   ]
  },
  {
   "cell_type": "code",
   "execution_count": 1,
   "metadata": {},
   "outputs": [],
   "source": [
    "import pandas as pd\n",
    "import numpy as np\n",
    "import os\n",
    "import time\n",
    "import warnings\n",
    "warnings.filterwarnings('ignore')"
   ]
  },
  {
   "cell_type": "code",
   "execution_count": 2,
   "metadata": {},
   "outputs": [
    {
     "data": {
      "text/plain": [
       "'C:\\\\Python\\\\internship'"
      ]
     },
     "execution_count": 2,
     "metadata": {},
     "output_type": "execute_result"
    }
   ],
   "source": [
    "cwd = os.getcwd()\n",
    "cwd"
   ]
  },
  {
   "cell_type": "markdown",
   "metadata": {},
   "source": [
    "## get list of files' name of features that be saved in csv"
   ]
  },
  {
   "cell_type": "code",
   "execution_count": 3,
   "metadata": {},
   "outputs": [
    {
     "data": {
      "text/plain": [
       "'C:\\\\Python\\\\internship\\\\Crystal_FeaturesConcat'"
      ]
     },
     "execution_count": 3,
     "metadata": {},
     "output_type": "execute_result"
    }
   ],
   "source": [
    "feature_dir = os.path.join(cwd,'Crystal_FeaturesConcat')  #join合并路径和文件夹名\n",
    "feature_dir"
   ]
  },
  {
   "cell_type": "code",
   "execution_count": 4,
   "metadata": {},
   "outputs": [
    {
     "data": {
      "text/plain": [
       "['CF_TE.csv',\n",
       " 'CF_TR.csv',\n",
       " 'CR_TE.csv',\n",
       " 'CR_TR.csv',\n",
       " 'MC_TE.csv',\n",
       " 'MC_TR.csv',\n",
       " 'MF_TE.csv',\n",
       " 'MF_TR.csv',\n",
       " 'PF_TE.csv',\n",
       " 'PF_TR.csv']"
      ]
     },
     "execution_count": 4,
     "metadata": {},
     "output_type": "execute_result"
    }
   ],
   "source": [
    "features_files = os.listdir(feature_dir)  #利用os.listdir()获得文件夹中的文件名\n",
    "features_files"
   ]
  },
  {
   "cell_type": "markdown",
   "metadata": {},
   "source": [
    "### Read MC Data"
   ]
  },
  {
   "cell_type": "code",
   "execution_count": 5,
   "metadata": {},
   "outputs": [
    {
     "data": {
      "text/plain": [
       "(4080, 4613)"
      ]
     },
     "execution_count": 5,
     "metadata": {},
     "output_type": "execute_result"
    }
   ],
   "source": [
    "#read CFTR data\n",
    "df_MCTR = pd.read_csv(feature_dir+'\\\\'+features_files[5])\n",
    "df_MCTR.shape"
   ]
  },
  {
   "cell_type": "code",
   "execution_count": 182,
   "metadata": {},
   "outputs": [
    {
     "name": "stdout",
     "output_type": "stream",
     "text": [
      "(1020, 4613)\n"
     ]
    },
    {
     "data": {
      "text/html": [
       "<div>\n",
       "<style scoped>\n",
       "    .dataframe tbody tr th:only-of-type {\n",
       "        vertical-align: middle;\n",
       "    }\n",
       "\n",
       "    .dataframe tbody tr th {\n",
       "        vertical-align: top;\n",
       "    }\n",
       "\n",
       "    .dataframe thead th {\n",
       "        text-align: right;\n",
       "    }\n",
       "</style>\n",
       "<table border=\"1\" class=\"dataframe\">\n",
       "  <thead>\n",
       "    <tr style=\"text-align: right;\">\n",
       "      <th></th>\n",
       "      <th>Unnamed: 0</th>\n",
       "      <th>AAC_#</th>\n",
       "      <th>AAC_A</th>\n",
       "      <th>AAC_C</th>\n",
       "      <th>AAC_D</th>\n",
       "      <th>AAC_E</th>\n",
       "      <th>AAC_F</th>\n",
       "      <th>AAC_G</th>\n",
       "      <th>AAC_H</th>\n",
       "      <th>AAC_I</th>\n",
       "      <th>...</th>\n",
       "      <th>QSOrder_Grantham.Xd.21</th>\n",
       "      <th>QSOrder_Grantham.Xd.22</th>\n",
       "      <th>QSOrder_Grantham.Xd.23</th>\n",
       "      <th>QSOrder_Grantham.Xd.24</th>\n",
       "      <th>QSOrder_Grantham.Xd.25</th>\n",
       "      <th>QSOrder_Grantham.Xd.26</th>\n",
       "      <th>QSOrder_Grantham.Xd.27</th>\n",
       "      <th>QSOrder_Grantham.Xd.28</th>\n",
       "      <th>QSOrder_Grantham.Xd.29</th>\n",
       "      <th>QSOrder_Grantham.Xd.30</th>\n",
       "    </tr>\n",
       "  </thead>\n",
       "  <tbody>\n",
       "    <tr>\n",
       "      <th>0</th>\n",
       "      <td>0</td>\n",
       "      <td>CSMP_CSMP-1788M</td>\n",
       "      <td>0.123134</td>\n",
       "      <td>0.003731</td>\n",
       "      <td>0.067164</td>\n",
       "      <td>0.041045</td>\n",
       "      <td>0.029851</td>\n",
       "      <td>0.078358</td>\n",
       "      <td>0.011194</td>\n",
       "      <td>0.082090</td>\n",
       "      <td>...</td>\n",
       "      <td>0.032440</td>\n",
       "      <td>0.035400</td>\n",
       "      <td>0.031828</td>\n",
       "      <td>0.033192</td>\n",
       "      <td>0.031615</td>\n",
       "      <td>0.032668</td>\n",
       "      <td>0.031493</td>\n",
       "      <td>0.031226</td>\n",
       "      <td>0.033953</td>\n",
       "      <td>0.030341</td>\n",
       "    </tr>\n",
       "    <tr>\n",
       "      <th>1</th>\n",
       "      <td>1</td>\n",
       "      <td>CSMP_CSMP-1799M</td>\n",
       "      <td>0.097166</td>\n",
       "      <td>0.004049</td>\n",
       "      <td>0.040486</td>\n",
       "      <td>0.044534</td>\n",
       "      <td>0.040486</td>\n",
       "      <td>0.072874</td>\n",
       "      <td>0.012146</td>\n",
       "      <td>0.089069</td>\n",
       "      <td>...</td>\n",
       "      <td>0.038467</td>\n",
       "      <td>0.030078</td>\n",
       "      <td>0.032353</td>\n",
       "      <td>0.033442</td>\n",
       "      <td>0.030612</td>\n",
       "      <td>0.031976</td>\n",
       "      <td>0.032018</td>\n",
       "      <td>0.031782</td>\n",
       "      <td>0.030654</td>\n",
       "      <td>0.031489</td>\n",
       "    </tr>\n",
       "    <tr>\n",
       "      <th>2</th>\n",
       "      <td>2</td>\n",
       "      <td>CSMP_CSMP-1915M</td>\n",
       "      <td>0.188811</td>\n",
       "      <td>0.000000</td>\n",
       "      <td>0.048951</td>\n",
       "      <td>0.055944</td>\n",
       "      <td>0.083916</td>\n",
       "      <td>0.083916</td>\n",
       "      <td>0.000000</td>\n",
       "      <td>0.076923</td>\n",
       "      <td>...</td>\n",
       "      <td>0.031378</td>\n",
       "      <td>0.034907</td>\n",
       "      <td>0.031706</td>\n",
       "      <td>0.031632</td>\n",
       "      <td>0.034043</td>\n",
       "      <td>0.033654</td>\n",
       "      <td>0.033748</td>\n",
       "      <td>0.030613</td>\n",
       "      <td>0.030624</td>\n",
       "      <td>0.032598</td>\n",
       "    </tr>\n",
       "    <tr>\n",
       "      <th>3</th>\n",
       "      <td>3</td>\n",
       "      <td>CSMP_CSMP-2256S</td>\n",
       "      <td>0.079174</td>\n",
       "      <td>0.029260</td>\n",
       "      <td>0.030981</td>\n",
       "      <td>0.063683</td>\n",
       "      <td>0.044750</td>\n",
       "      <td>0.074010</td>\n",
       "      <td>0.022375</td>\n",
       "      <td>0.072289</td>\n",
       "      <td>...</td>\n",
       "      <td>0.032909</td>\n",
       "      <td>0.035117</td>\n",
       "      <td>0.031329</td>\n",
       "      <td>0.033043</td>\n",
       "      <td>0.034637</td>\n",
       "      <td>0.032888</td>\n",
       "      <td>0.032939</td>\n",
       "      <td>0.032525</td>\n",
       "      <td>0.032544</td>\n",
       "      <td>0.031228</td>\n",
       "    </tr>\n",
       "    <tr>\n",
       "      <th>4</th>\n",
       "      <td>4</td>\n",
       "      <td>CSMP_CSMP-2325S</td>\n",
       "      <td>0.091518</td>\n",
       "      <td>0.022321</td>\n",
       "      <td>0.017857</td>\n",
       "      <td>0.029018</td>\n",
       "      <td>0.046875</td>\n",
       "      <td>0.055804</td>\n",
       "      <td>0.022321</td>\n",
       "      <td>0.116071</td>\n",
       "      <td>...</td>\n",
       "      <td>0.034652</td>\n",
       "      <td>0.034765</td>\n",
       "      <td>0.032681</td>\n",
       "      <td>0.033135</td>\n",
       "      <td>0.031745</td>\n",
       "      <td>0.032088</td>\n",
       "      <td>0.032849</td>\n",
       "      <td>0.031300</td>\n",
       "      <td>0.034015</td>\n",
       "      <td>0.031572</td>\n",
       "    </tr>\n",
       "    <tr>\n",
       "      <th>...</th>\n",
       "      <td>...</td>\n",
       "      <td>...</td>\n",
       "      <td>...</td>\n",
       "      <td>...</td>\n",
       "      <td>...</td>\n",
       "      <td>...</td>\n",
       "      <td>...</td>\n",
       "      <td>...</td>\n",
       "      <td>...</td>\n",
       "      <td>...</td>\n",
       "      <td>...</td>\n",
       "      <td>...</td>\n",
       "      <td>...</td>\n",
       "      <td>...</td>\n",
       "      <td>...</td>\n",
       "      <td>...</td>\n",
       "      <td>...</td>\n",
       "      <td>...</td>\n",
       "      <td>...</td>\n",
       "      <td>...</td>\n",
       "      <td>...</td>\n",
       "    </tr>\n",
       "    <tr>\n",
       "      <th>1015</th>\n",
       "      <td>1015</td>\n",
       "      <td>2yiu_A</td>\n",
       "      <td>0.088889</td>\n",
       "      <td>0.002222</td>\n",
       "      <td>0.031111</td>\n",
       "      <td>0.035556</td>\n",
       "      <td>0.071111</td>\n",
       "      <td>0.075556</td>\n",
       "      <td>0.055556</td>\n",
       "      <td>0.073333</td>\n",
       "      <td>...</td>\n",
       "      <td>0.034488</td>\n",
       "      <td>0.033602</td>\n",
       "      <td>0.034871</td>\n",
       "      <td>0.033563</td>\n",
       "      <td>0.032584</td>\n",
       "      <td>0.033291</td>\n",
       "      <td>0.035160</td>\n",
       "      <td>0.032320</td>\n",
       "      <td>0.032603</td>\n",
       "      <td>0.034415</td>\n",
       "    </tr>\n",
       "    <tr>\n",
       "      <th>1016</th>\n",
       "      <td>1016</td>\n",
       "      <td>2ynk_A</td>\n",
       "      <td>0.076754</td>\n",
       "      <td>0.000000</td>\n",
       "      <td>0.054825</td>\n",
       "      <td>0.046053</td>\n",
       "      <td>0.039474</td>\n",
       "      <td>0.114035</td>\n",
       "      <td>0.019737</td>\n",
       "      <td>0.039474</td>\n",
       "      <td>...</td>\n",
       "      <td>0.030911</td>\n",
       "      <td>0.033760</td>\n",
       "      <td>0.032468</td>\n",
       "      <td>0.032663</td>\n",
       "      <td>0.031937</td>\n",
       "      <td>0.033482</td>\n",
       "      <td>0.031112</td>\n",
       "      <td>0.033989</td>\n",
       "      <td>0.030500</td>\n",
       "      <td>0.033400</td>\n",
       "    </tr>\n",
       "    <tr>\n",
       "      <th>1017</th>\n",
       "      <td>1017</td>\n",
       "      <td>4ytp_C</td>\n",
       "      <td>0.071006</td>\n",
       "      <td>0.023669</td>\n",
       "      <td>0.005917</td>\n",
       "      <td>0.029586</td>\n",
       "      <td>0.029586</td>\n",
       "      <td>0.088757</td>\n",
       "      <td>0.047337</td>\n",
       "      <td>0.065089</td>\n",
       "      <td>...</td>\n",
       "      <td>0.030263</td>\n",
       "      <td>0.032100</td>\n",
       "      <td>0.031103</td>\n",
       "      <td>0.028426</td>\n",
       "      <td>0.032220</td>\n",
       "      <td>0.030464</td>\n",
       "      <td>0.033172</td>\n",
       "      <td>0.030541</td>\n",
       "      <td>0.030230</td>\n",
       "      <td>0.030127</td>\n",
       "    </tr>\n",
       "    <tr>\n",
       "      <th>1018</th>\n",
       "      <td>1018</td>\n",
       "      <td>4yzf_A</td>\n",
       "      <td>0.069155</td>\n",
       "      <td>0.005488</td>\n",
       "      <td>0.045005</td>\n",
       "      <td>0.071350</td>\n",
       "      <td>0.060373</td>\n",
       "      <td>0.068057</td>\n",
       "      <td>0.019759</td>\n",
       "      <td>0.053787</td>\n",
       "      <td>...</td>\n",
       "      <td>0.035321</td>\n",
       "      <td>0.034443</td>\n",
       "      <td>0.033998</td>\n",
       "      <td>0.034520</td>\n",
       "      <td>0.033013</td>\n",
       "      <td>0.033230</td>\n",
       "      <td>0.033837</td>\n",
       "      <td>0.032534</td>\n",
       "      <td>0.033203</td>\n",
       "      <td>0.032801</td>\n",
       "    </tr>\n",
       "    <tr>\n",
       "      <th>1019</th>\n",
       "      <td>1019</td>\n",
       "      <td>4zp0_A</td>\n",
       "      <td>0.117347</td>\n",
       "      <td>0.010204</td>\n",
       "      <td>0.012755</td>\n",
       "      <td>0.033163</td>\n",
       "      <td>0.053571</td>\n",
       "      <td>0.099490</td>\n",
       "      <td>0.007653</td>\n",
       "      <td>0.089286</td>\n",
       "      <td>...</td>\n",
       "      <td>0.032712</td>\n",
       "      <td>0.032448</td>\n",
       "      <td>0.032537</td>\n",
       "      <td>0.029082</td>\n",
       "      <td>0.032099</td>\n",
       "      <td>0.031361</td>\n",
       "      <td>0.033003</td>\n",
       "      <td>0.032735</td>\n",
       "      <td>0.031446</td>\n",
       "      <td>0.029619</td>\n",
       "    </tr>\n",
       "  </tbody>\n",
       "</table>\n",
       "<p>1020 rows × 4613 columns</p>\n",
       "</div>"
      ],
      "text/plain": [
       "      Unnamed: 0            AAC_#     AAC_A     AAC_C     AAC_D     AAC_E  \\\n",
       "0              0  CSMP_CSMP-1788M  0.123134  0.003731  0.067164  0.041045   \n",
       "1              1  CSMP_CSMP-1799M  0.097166  0.004049  0.040486  0.044534   \n",
       "2              2  CSMP_CSMP-1915M  0.188811  0.000000  0.048951  0.055944   \n",
       "3              3  CSMP_CSMP-2256S  0.079174  0.029260  0.030981  0.063683   \n",
       "4              4  CSMP_CSMP-2325S  0.091518  0.022321  0.017857  0.029018   \n",
       "...          ...              ...       ...       ...       ...       ...   \n",
       "1015        1015           2yiu_A  0.088889  0.002222  0.031111  0.035556   \n",
       "1016        1016           2ynk_A  0.076754  0.000000  0.054825  0.046053   \n",
       "1017        1017           4ytp_C  0.071006  0.023669  0.005917  0.029586   \n",
       "1018        1018           4yzf_A  0.069155  0.005488  0.045005  0.071350   \n",
       "1019        1019           4zp0_A  0.117347  0.010204  0.012755  0.033163   \n",
       "\n",
       "         AAC_F     AAC_G     AAC_H     AAC_I  ...  QSOrder_Grantham.Xd.21  \\\n",
       "0     0.029851  0.078358  0.011194  0.082090  ...                0.032440   \n",
       "1     0.040486  0.072874  0.012146  0.089069  ...                0.038467   \n",
       "2     0.083916  0.083916  0.000000  0.076923  ...                0.031378   \n",
       "3     0.044750  0.074010  0.022375  0.072289  ...                0.032909   \n",
       "4     0.046875  0.055804  0.022321  0.116071  ...                0.034652   \n",
       "...        ...       ...       ...       ...  ...                     ...   \n",
       "1015  0.071111  0.075556  0.055556  0.073333  ...                0.034488   \n",
       "1016  0.039474  0.114035  0.019737  0.039474  ...                0.030911   \n",
       "1017  0.029586  0.088757  0.047337  0.065089  ...                0.030263   \n",
       "1018  0.060373  0.068057  0.019759  0.053787  ...                0.035321   \n",
       "1019  0.053571  0.099490  0.007653  0.089286  ...                0.032712   \n",
       "\n",
       "      QSOrder_Grantham.Xd.22  QSOrder_Grantham.Xd.23  QSOrder_Grantham.Xd.24  \\\n",
       "0                   0.035400                0.031828                0.033192   \n",
       "1                   0.030078                0.032353                0.033442   \n",
       "2                   0.034907                0.031706                0.031632   \n",
       "3                   0.035117                0.031329                0.033043   \n",
       "4                   0.034765                0.032681                0.033135   \n",
       "...                      ...                     ...                     ...   \n",
       "1015                0.033602                0.034871                0.033563   \n",
       "1016                0.033760                0.032468                0.032663   \n",
       "1017                0.032100                0.031103                0.028426   \n",
       "1018                0.034443                0.033998                0.034520   \n",
       "1019                0.032448                0.032537                0.029082   \n",
       "\n",
       "      QSOrder_Grantham.Xd.25  QSOrder_Grantham.Xd.26  QSOrder_Grantham.Xd.27  \\\n",
       "0                   0.031615                0.032668                0.031493   \n",
       "1                   0.030612                0.031976                0.032018   \n",
       "2                   0.034043                0.033654                0.033748   \n",
       "3                   0.034637                0.032888                0.032939   \n",
       "4                   0.031745                0.032088                0.032849   \n",
       "...                      ...                     ...                     ...   \n",
       "1015                0.032584                0.033291                0.035160   \n",
       "1016                0.031937                0.033482                0.031112   \n",
       "1017                0.032220                0.030464                0.033172   \n",
       "1018                0.033013                0.033230                0.033837   \n",
       "1019                0.032099                0.031361                0.033003   \n",
       "\n",
       "      QSOrder_Grantham.Xd.28  QSOrder_Grantham.Xd.29  QSOrder_Grantham.Xd.30  \n",
       "0                   0.031226                0.033953                0.030341  \n",
       "1                   0.031782                0.030654                0.031489  \n",
       "2                   0.030613                0.030624                0.032598  \n",
       "3                   0.032525                0.032544                0.031228  \n",
       "4                   0.031300                0.034015                0.031572  \n",
       "...                      ...                     ...                     ...  \n",
       "1015                0.032320                0.032603                0.034415  \n",
       "1016                0.033989                0.030500                0.033400  \n",
       "1017                0.030541                0.030230                0.030127  \n",
       "1018                0.032534                0.033203                0.032801  \n",
       "1019                0.032735                0.031446                0.029619  \n",
       "\n",
       "[1020 rows x 4613 columns]"
      ]
     },
     "execution_count": 182,
     "metadata": {},
     "output_type": "execute_result"
    }
   ],
   "source": [
    "#read CFTE data\n",
    "df_MCTE = pd.read_csv(feature_dir+'\\\\'+features_files[4])\n",
    "print(df_MCTE.shape)\n",
    "df_MCTE.drop_duplicates()"
   ]
  },
  {
   "cell_type": "markdown",
   "metadata": {},
   "source": [
    "### Read PF Data"
   ]
  },
  {
   "cell_type": "code",
   "execution_count": 17,
   "metadata": {},
   "outputs": [
    {
     "data": {
      "text/plain": [
       "(7399, 4613)"
      ]
     },
     "execution_count": 17,
     "metadata": {},
     "output_type": "execute_result"
    }
   ],
   "source": [
    "#read CRTR data\n",
    "df_PFTR = pd.read_csv(feature_dir+'\\\\'+features_files[9])\n",
    "df_PFTR.shape"
   ]
  },
  {
   "cell_type": "code",
   "execution_count": 18,
   "metadata": {},
   "outputs": [
    {
     "data": {
      "text/plain": [
       "(1849, 4613)"
      ]
     },
     "execution_count": 18,
     "metadata": {},
     "output_type": "execute_result"
    }
   ],
   "source": [
    "#read CFTE data\n",
    "df_PFTE = pd.read_csv(feature_dir+'\\\\'+features_files[8])\n",
    "df_PFTE.shape"
   ]
  },
  {
   "cell_type": "markdown",
   "metadata": {},
   "source": [
    "## Read the lable data"
   ]
  },
  {
   "cell_type": "code",
   "execution_count": 19,
   "metadata": {},
   "outputs": [
    {
     "data": {
      "text/plain": [
       "'C:\\\\Python\\\\internship\\\\Crystal_y_label_Csv/'"
      ]
     },
     "execution_count": 19,
     "metadata": {},
     "output_type": "execute_result"
    }
   ],
   "source": [
    "label_dir = os.path.join(cwd,'Crystal_y_label_Csv/')\n",
    "label_dir"
   ]
  },
  {
   "cell_type": "code",
   "execution_count": 20,
   "metadata": {},
   "outputs": [
    {
     "data": {
      "text/plain": [
       "['df_CF_TE_Label',\n",
       " 'df_CF_TR_Label',\n",
       " 'df_CR_TE_label',\n",
       " 'df_CR_TR_Label',\n",
       " 'df_MC_TE_Label',\n",
       " 'df_MC_TR_Label',\n",
       " 'df_MF_TE_Label',\n",
       " 'df_MF_TR_Label',\n",
       " 'df_PF_TE_Label',\n",
       " 'df_PF_TR_Label']"
      ]
     },
     "execution_count": 20,
     "metadata": {},
     "output_type": "execute_result"
    }
   ],
   "source": [
    "label_files = os.listdir(label_dir)\n",
    "label_files "
   ]
  },
  {
   "cell_type": "markdown",
   "metadata": {},
   "source": [
    "### Read MC Label"
   ]
  },
  {
   "cell_type": "code",
   "execution_count": 177,
   "metadata": {},
   "outputs": [
    {
     "data": {
      "text/plain": [
       "Index(['Unnamed: 0', 'id', 'y'], dtype='object')"
      ]
     },
     "execution_count": 177,
     "metadata": {},
     "output_type": "execute_result"
    }
   ],
   "source": [
    "dy_MCTR = pd.read_csv(label_dir+'\\\\'+label_files[5])\n",
    "dy_MCTR.columns"
   ]
  },
  {
   "cell_type": "code",
   "execution_count": 178,
   "metadata": {},
   "outputs": [
    {
     "data": {
      "text/plain": [
       "Index(['Unnamed: 0', 'id', 'y'], dtype='object')"
      ]
     },
     "execution_count": 178,
     "metadata": {},
     "output_type": "execute_result"
    }
   ],
   "source": [
    "dy_MCTE = pd.read_csv(label_dir+'\\\\'+label_files[4])\n",
    "dy_MCTE.columns"
   ]
  },
  {
   "cell_type": "markdown",
   "metadata": {},
   "source": [
    "### Read PF Label"
   ]
  },
  {
   "cell_type": "code",
   "execution_count": 23,
   "metadata": {},
   "outputs": [
    {
     "data": {
      "text/plain": [
       "Index(['Unnamed: 0', 'id', 'y'], dtype='object')"
      ]
     },
     "execution_count": 23,
     "metadata": {},
     "output_type": "execute_result"
    }
   ],
   "source": [
    "dy_PFTR = pd.read_csv(label_dir+'\\\\'+label_files[9])\n",
    "dy_PFTR.columns"
   ]
  },
  {
   "cell_type": "code",
   "execution_count": 24,
   "metadata": {},
   "outputs": [
    {
     "data": {
      "text/plain": [
       "Index(['Unnamed: 0', 'id', 'y'], dtype='object')"
      ]
     },
     "execution_count": 24,
     "metadata": {},
     "output_type": "execute_result"
    }
   ],
   "source": [
    "dy_PFTE = pd.read_csv(label_dir+'\\\\'+label_files[8])\n",
    "dy_PFTE.columns"
   ]
  },
  {
   "cell_type": "markdown",
   "metadata": {},
   "source": [
    "### Create the train and test data of MC"
   ]
  },
  {
   "cell_type": "code",
   "execution_count": 183,
   "metadata": {},
   "outputs": [],
   "source": [
    "#create train and test dataset with label\n",
    "X_MCTR = df_MCTR.iloc[:,2:]\n",
    "Y_MCTR = dy_MCTR.iloc[:,2]\n",
    "X_MCTE = df_MCTE.iloc[:,2:]\n",
    "Y_MCTE = dy_MCTE.iloc[:,2]"
   ]
  },
  {
   "cell_type": "code",
   "execution_count": 184,
   "metadata": {},
   "outputs": [
    {
     "data": {
      "text/plain": [
       "((4080, 4611), (4080,))"
      ]
     },
     "execution_count": 184,
     "metadata": {},
     "output_type": "execute_result"
    }
   ],
   "source": [
    "X_MCTR.shape,Y_MCTR.shape"
   ]
  },
  {
   "cell_type": "code",
   "execution_count": 185,
   "metadata": {},
   "outputs": [
    {
     "data": {
      "text/plain": [
       "((1020, 4611), (1020,))"
      ]
     },
     "execution_count": 185,
     "metadata": {},
     "output_type": "execute_result"
    }
   ],
   "source": [
    "X_MCTE.shape,Y_MCTE.shape"
   ]
  },
  {
   "cell_type": "markdown",
   "metadata": {},
   "source": [
    "### Create the train and test data of PF"
   ]
  },
  {
   "cell_type": "code",
   "execution_count": 27,
   "metadata": {},
   "outputs": [],
   "source": [
    "#create train and test dataset with label\n",
    "X_PFTR = df_PFTR.iloc[:,2:]\n",
    "Y_PFTR = dy_PFTR.iloc[:,2]\n",
    "X_PFTE = df_PFTE.iloc[:,2:]\n",
    "Y_PFTE = dy_PFTE.iloc[:,2]"
   ]
  },
  {
   "cell_type": "code",
   "execution_count": 28,
   "metadata": {},
   "outputs": [
    {
     "data": {
      "text/plain": [
       "((7399, 4611), (7399,))"
      ]
     },
     "execution_count": 28,
     "metadata": {},
     "output_type": "execute_result"
    }
   ],
   "source": [
    "X_PFTR.shape,Y_PFTR.shape"
   ]
  },
  {
   "cell_type": "code",
   "execution_count": 29,
   "metadata": {},
   "outputs": [
    {
     "data": {
      "text/plain": [
       "((1849, 4611), (1849,))"
      ]
     },
     "execution_count": 29,
     "metadata": {},
     "output_type": "execute_result"
    }
   ],
   "source": [
    "X_PFTE.shape,Y_PFTE.shape"
   ]
  },
  {
   "cell_type": "markdown",
   "metadata": {},
   "source": [
    "# Method_1: fisher_score+importance+RFE+GradientBoosting"
   ]
  },
  {
   "cell_type": "markdown",
   "metadata": {},
   "source": [
    "## Step1:Select features based on Univariate(ANOVA) Test"
   ]
  },
  {
   "cell_type": "code",
   "execution_count": 186,
   "metadata": {},
   "outputs": [],
   "source": [
    "from sklearn.feature_selection import VarianceThreshold\n",
    "from sklearn.feature_selection import f_classif"
   ]
  },
  {
   "cell_type": "code",
   "execution_count": 187,
   "metadata": {},
   "outputs": [
    {
     "data": {
      "text/plain": [
       "VarianceThreshold(threshold=1e-05)"
      ]
     },
     "execution_count": 187,
     "metadata": {},
     "output_type": "execute_result"
    }
   ],
   "source": [
    "# Remove Constant, Quasi Constant and Correlated Features\n",
    "sel_Constant = VarianceThreshold(threshold=0.00001)\n",
    "sel_Constant.fit(X_MCTR)"
   ]
  },
  {
   "cell_type": "code",
   "execution_count": 188,
   "metadata": {},
   "outputs": [
    {
     "data": {
      "text/plain": [
       "array([[0.06989247, 0.        , 0.09139785, ..., 0.03137637, 0.02091758,\n",
       "        0.06798213],\n",
       "       [0.11141304, 0.        , 0.04347826, ..., 0.02590135, 0.03453513,\n",
       "        0.09209368],\n",
       "       [0.09230769, 0.03076923, 0.04615385, ..., 0.01519759, 0.09625143,\n",
       "        0.10638316],\n",
       "       ...,\n",
       "       [0.0878187 , 0.03116147, 0.01416431, ..., 0.02010985, 0.04692297,\n",
       "        0.11730743],\n",
       "       [0.07335907, 0.01544402, 0.02123552, ..., 0.01117244, 0.02011038,\n",
       "        0.09161398],\n",
       "       [0.06666667, 0.03333333, 0.03333333, ..., 0.01361798, 0.02723596,\n",
       "        0.10894383]])"
      ]
     },
     "execution_count": 188,
     "metadata": {},
     "output_type": "execute_result"
    }
   ],
   "source": [
    "X_MCTR_Constant = sel_Constant.transform(X_MCTR)\n",
    "X_MCTR_Constant"
   ]
  },
  {
   "cell_type": "code",
   "execution_count": 189,
   "metadata": {},
   "outputs": [
    {
     "data": {
      "text/plain": [
       "4080"
      ]
     },
     "execution_count": 189,
     "metadata": {},
     "output_type": "execute_result"
    }
   ],
   "source": [
    "len(X_MCTR_Constant)"
   ]
  },
  {
   "cell_type": "code",
   "execution_count": 190,
   "metadata": {},
   "outputs": [],
   "source": [
    "X_MCTR_ConstantT = X_MCTR_Constant.T # 倒置获取筛选后的特征集"
   ]
  },
  {
   "cell_type": "code",
   "execution_count": 191,
   "metadata": {},
   "outputs": [
    {
     "data": {
      "text/plain": [
       "2652"
      ]
     },
     "execution_count": 191,
     "metadata": {},
     "output_type": "execute_result"
    }
   ],
   "source": [
    "len(X_MCTR_ConstantT)                # remove some features in this step"
   ]
  },
  {
   "cell_type": "code",
   "execution_count": 192,
   "metadata": {},
   "outputs": [
    {
     "data": {
      "text/plain": [
       "Index(['AAC_A', 'AAC_C', 'AAC_D', 'AAC_E', 'AAC_F', 'AAC_G', 'AAC_H', 'AAC_I',\n",
       "       'AAC_K', 'AAC_L',\n",
       "       ...\n",
       "       'QSOrder_Schneider.Xr.L', 'QSOrder_Schneider.Xr.K',\n",
       "       'QSOrder_Schneider.Xr.M', 'QSOrder_Schneider.Xr.F',\n",
       "       'QSOrder_Schneider.Xr.P', 'QSOrder_Schneider.Xr.S',\n",
       "       'QSOrder_Schneider.Xr.T', 'QSOrder_Schneider.Xr.W',\n",
       "       'QSOrder_Schneider.Xr.Y', 'QSOrder_Schneider.Xr.V'],\n",
       "      dtype='object', length=2652)"
      ]
     },
     "execution_count": 192,
     "metadata": {},
     "output_type": "execute_result"
    }
   ],
   "source": [
    "sel_featuresConstant = X_MCTR.columns[sel_Constant.get_support()]\n",
    "sel_featuresConstant"
   ]
  },
  {
   "cell_type": "code",
   "execution_count": 198,
   "metadata": {},
   "outputs": [
    {
     "name": "stdout",
     "output_type": "stream",
     "text": [
      "(4080, 2652)\n"
     ]
    }
   ],
   "source": [
    "df_MCTR_selConstant = pd.DataFrame()\n",
    "for c in list(sel_featuresConstant):\n",
    "    df_MCTR_selConstant[c] = df_MCTR[c]\n",
    "print(df_MCTR_selConstant.shape)\n",
    "df_MCTR_selConstant.to_csv('C:/Python/internship/Crystal_Features_new/df_MCTR_selConstant')"
   ]
  },
  {
   "cell_type": "code",
   "execution_count": 199,
   "metadata": {},
   "outputs": [
    {
     "data": {
      "text/plain": [
       "(array([1.44808723e+01, 3.59529462e+00, 1.26971882e+02, ...,\n",
       "        1.25130295e-03, 4.11970000e+00, 2.27004425e+01]),\n",
       " array([1.43666402e-04, 5.80139776e-02, 5.03843071e-29, ...,\n",
       "        9.71783439e-01, 4.24513959e-02, 1.95912045e-06]))"
      ]
     },
     "execution_count": 199,
     "metadata": {},
     "output_type": "execute_result"
    }
   ],
   "source": [
    "# check  independence of features based on F-test\n",
    "sel_Ftest = f_classif(df_MCTR_selConstant,Y_MCTR)\n",
    "sel_Ftest"
   ]
  },
  {
   "cell_type": "code",
   "execution_count": 195,
   "metadata": {},
   "outputs": [
    {
     "data": {
      "text/plain": [
       "AAC_A                     1.436664e-04\n",
       "AAC_C                     5.801398e-02\n",
       "AAC_D                     5.038431e-29\n",
       "AAC_E                     1.545909e-11\n",
       "AAC_F                     7.897138e-08\n",
       "                              ...     \n",
       "QSOrder_Schneider.Xr.S    1.949833e-03\n",
       "QSOrder_Schneider.Xr.T    4.818963e-01\n",
       "QSOrder_Schneider.Xr.W    9.717834e-01\n",
       "QSOrder_Schneider.Xr.Y    4.245140e-02\n",
       "QSOrder_Schneider.Xr.V    1.959120e-06\n",
       "Length: 2652, dtype: float64"
      ]
     },
     "execution_count": 195,
     "metadata": {},
     "output_type": "execute_result"
    }
   ],
   "source": [
    "p_values = pd.Series(sel_Ftest[1])\n",
    "p_values.index = df_MCTR_selConstant.columns\n",
    "p_values"
   ]
  },
  {
   "cell_type": "code",
   "execution_count": 200,
   "metadata": {},
   "outputs": [
    {
     "data": {
      "text/plain": [
       "<matplotlib.axes._subplots.AxesSubplot at 0x18910932dc0>"
      ]
     },
     "execution_count": 200,
     "metadata": {},
     "output_type": "execute_result"
    },
    {
     "data": {
      "image/png": "[encoded data removed]",
      "text/plain": [
       "<Figure size 1152x360 with 1 Axes>"
      ]
     },
     "metadata": {
      "needs_background": "light"
     },
     "output_type": "display_data"
    }
   ],
   "source": [
    "P_vlues = p_values.sort_values(ascending=True,inplace=False)\n",
    "P_vlues.plot.bar(figsize=(16,5))"
   ]
  },
  {
   "cell_type": "code",
   "execution_count": 201,
   "metadata": {},
   "outputs": [
    {
     "data": {
      "text/plain": [
       "AAC_A                     1.436664e-04\n",
       "AAC_D                     5.038431e-29\n",
       "AAC_E                     1.545909e-11\n",
       "AAC_F                     7.897138e-08\n",
       "AAC_G                     9.569237e-04\n",
       "                              ...     \n",
       "QSOrder_Schneider.Xr.M    4.288549e-03\n",
       "QSOrder_Schneider.Xr.F    2.268163e-11\n",
       "QSOrder_Schneider.Xr.S    1.949833e-03\n",
       "QSOrder_Schneider.Xr.Y    4.245140e-02\n",
       "QSOrder_Schneider.Xr.V    1.959120e-06\n",
       "Length: 1511, dtype: float64"
      ]
     },
     "execution_count": 201,
     "metadata": {},
     "output_type": "execute_result"
    }
   ],
   "source": [
    "#Select features with p-value less than 0.05\n",
    "p_values[p_values<0.05]"
   ]
  },
  {
   "cell_type": "code",
   "execution_count": 202,
   "metadata": {},
   "outputs": [
    {
     "name": "stdout",
     "output_type": "stream",
     "text": [
      "(4080, 1511)\n"
     ]
    }
   ],
   "source": [
    "df_MCTR_selFest = pd.DataFrame()\n",
    "for v in p_values[p_values<0.05].index:\n",
    "    df_MCTR_selFest[v] = df_MCTR[v]\n",
    "print(df_MCTR_selFest.shape)\n",
    "df_MCTR_selFest.to_csv('C:/Python/internship/Crystal_Features_new/df_MCTR_selFest')"
   ]
  },
  {
   "cell_type": "code",
   "execution_count": 203,
   "metadata": {},
   "outputs": [
    {
     "name": "stdout",
     "output_type": "stream",
     "text": [
      "(1020, 1511)\n"
     ]
    }
   ],
   "source": [
    "df_MCTE_selFest = pd.DataFrame()\n",
    "for v in p_values[p_values<0.05].index:\n",
    "    df_MCTE_selFest[v] = df_MCTE[v]\n",
    "print(df_MCTE_selFest.shape)\n",
    "df_MCTE_selFest.to_csv('C:/Python/internship/Crystal_Features_new/df_MCTE_selFest')"
   ]
  },
  {
   "cell_type": "markdown",
   "metadata": {},
   "source": [
    "## Step2_1:Select features by feature importance of random forest classifier"
   ]
  },
  {
   "cell_type": "code",
   "execution_count": 50,
   "metadata": {},
   "outputs": [],
   "source": [
    "#conda upgrade scikit-learn"
   ]
  },
  {
   "cell_type": "code",
   "execution_count": 204,
   "metadata": {},
   "outputs": [],
   "source": [
    "import matplotlib.pyplot as plt\n",
    "from sklearn.feature_selection import RFE\n",
    "from sklearn.ensemble import RandomForestClassifier\n",
    "from sklearn.feature_selection import SelectFromModel\n",
    "from sklearn.metrics import accuracy_score\n",
    "%matplotlib inline"
   ]
  },
  {
   "cell_type": "code",
   "execution_count": 205,
   "metadata": {},
   "outputs": [
    {
     "data": {
      "text/plain": [
       "array([False,  True, False, ..., False,  True, False])"
      ]
     },
     "execution_count": 205,
     "metadata": {},
     "output_type": "execute_result"
    }
   ],
   "source": [
    "sel_importance = SelectFromModel(RandomForestClassifier(n_estimators=100,random_state=0,n_jobs=-1))\n",
    "sel_importance.fit(df_MCTR_selFest,Y_MCTR)\n",
    "sel_importance.get_support()\n",
    "# The features with true are selected."
   ]
  },
  {
   "cell_type": "code",
   "execution_count": 206,
   "metadata": {},
   "outputs": [
    {
     "data": {
      "text/plain": [
       "array([0.00038297, 0.00102108, 0.00051373, ..., 0.00064184, 0.00134875,\n",
       "       0.00041623])"
      ]
     },
     "execution_count": 206,
     "metadata": {},
     "output_type": "execute_result"
    }
   ],
   "source": [
    "#check the values of importance of each feature\n",
    "sel_importance.estimator_.feature_importances_"
   ]
  },
  {
   "cell_type": "code",
   "execution_count": 207,
   "metadata": {},
   "outputs": [
    {
     "data": {
      "text/plain": [
       "0.0006618133686300463"
      ]
     },
     "execution_count": 207,
     "metadata": {},
     "output_type": "execute_result"
    }
   ],
   "source": [
    "#check the mean value of importance of all feature\n",
    "np.mean(sel_importance.estimator_.feature_importances_)"
   ]
  },
  {
   "cell_type": "code",
   "execution_count": 208,
   "metadata": {},
   "outputs": [
    {
     "data": {
      "text/plain": [
       "Index(['AAC_D', 'AAC_F', 'AAC_H', 'AAC_L', 'AAC_V', 'AAC_Y', 'APAAC_Pc1.E',\n",
       "       'APAAC_Pc1.G', 'APAAC_Pc1.H', 'APAAC_Pc1.I',\n",
       "       ...\n",
       "       'SOCNumber_gGrantham.lag26', 'SOCNumber_gGrantham.lag27',\n",
       "       'SOCNumber_gGrantham.lag28', 'QSOrder_Schneider.Xr.N',\n",
       "       'QSOrder_Schneider.Xr.D', 'QSOrder_Schneider.Xr.C',\n",
       "       'QSOrder_Schneider.Xr.H', 'QSOrder_Schneider.Xr.L',\n",
       "       'QSOrder_Schneider.Xr.M', 'QSOrder_Schneider.Xr.Y'],\n",
       "      dtype='object', length=366)"
      ]
     },
     "execution_count": 208,
     "metadata": {},
     "output_type": "execute_result"
    }
   ],
   "source": [
    "sel_featuresImportance = df_MCTR_selFest.columns[sel_importance.get_support()]\n",
    "sel_featuresImportance"
   ]
  },
  {
   "cell_type": "code",
   "execution_count": 209,
   "metadata": {},
   "outputs": [
    {
     "data": {
      "text/plain": [
       "366"
      ]
     },
     "execution_count": 209,
     "metadata": {},
     "output_type": "execute_result"
    }
   ],
   "source": [
    "len(sel_featuresImportance)"
   ]
  },
  {
   "cell_type": "code",
   "execution_count": 210,
   "metadata": {},
   "outputs": [
    {
     "name": "stdout",
     "output_type": "stream",
     "text": [
      "(4080, 366)\n"
     ]
    }
   ],
   "source": [
    "df_MCTR_selImportance = pd.DataFrame()\n",
    "for i in list(sel_featuresImportance):\n",
    "    df_MCTR_selImportance[i] = df_MCTR[i]\n",
    "print(df_MCTR_selImportance.shape)\n",
    "df_MCTR_selImportance.to_csv('C:/Python/internship/Crystal_Features_new/df_MCTR_selImportance')"
   ]
  },
  {
   "cell_type": "code",
   "execution_count": 211,
   "metadata": {},
   "outputs": [
    {
     "name": "stdout",
     "output_type": "stream",
     "text": [
      "(1020, 366)\n"
     ]
    }
   ],
   "source": [
    "df_MCTE_selImportance = pd.DataFrame()\n",
    "for i in list(sel_featuresImportance):\n",
    "    df_MCTE_selImportance[i] = df_MCTE[i]\n",
    "print(df_MCTE_selImportance.shape)\n",
    "df_MCTE_selImportance.to_csv('C:/Python/internship/Crystal_Features_new/df_MCTE_selImportance')"
   ]
  },
  {
   "cell_type": "markdown",
   "metadata": {},
   "source": [
    "## Select features by Recursive Feature Elimination of random forest classifier"
   ]
  },
  {
   "cell_type": "code",
   "execution_count": 212,
   "metadata": {},
   "outputs": [
    {
     "name": "stdout",
     "output_type": "stream",
     "text": [
      "129.52665543556213\n"
     ]
    }
   ],
   "source": [
    "#create selector based on RFE\n",
    "start = time.time()\n",
    "sel_RFE = RFE(RandomForestClassifier(n_estimators=100,random_state=0,n_jobs=-1))\n",
    "sel_RFE.fit(df_MCTR_selImportance,Y_MCTR)\n",
    "end = time.time()\n",
    "print(end-start)"
   ]
  },
  {
   "cell_type": "code",
   "execution_count": 213,
   "metadata": {
    "scrolled": true
   },
   "outputs": [
    {
     "data": {
      "text/plain": [
       "array([ True, False,  True,  True, False, False, False,  True, False,\n",
       "       False, False, False, False,  True,  True,  True, False, False,\n",
       "       False, False, False,  True, False,  True,  True,  True, False,\n",
       "       False, False, False, False,  True, False,  True,  True, False,\n",
       "       False, False, False,  True, False,  True, False, False,  True,\n",
       "       False, False, False, False,  True,  True, False,  True, False,\n",
       "       False, False, False, False, False,  True, False, False, False,\n",
       "       False, False, False,  True, False,  True, False,  True, False,\n",
       "       False, False, False, False,  True, False, False,  True, False,\n",
       "       False, False, False, False, False,  True, False,  True,  True,\n",
       "       False,  True,  True, False, False, False, False,  True,  True,\n",
       "       False,  True,  True, False, False, False, False, False,  True,\n",
       "        True,  True,  True, False,  True, False, False, False,  True,\n",
       "       False,  True,  True, False, False, False, False,  True,  True,\n",
       "       False,  True, False,  True,  True,  True, False,  True, False,\n",
       "        True,  True, False,  True, False,  True, False, False,  True,\n",
       "        True,  True,  True, False, False, False,  True, False, False,\n",
       "       False,  True,  True,  True,  True,  True, False, False,  True,\n",
       "        True, False,  True,  True, False,  True,  True, False, False,\n",
       "       False, False,  True,  True, False, False,  True,  True,  True,\n",
       "        True,  True, False,  True,  True,  True, False,  True, False,\n",
       "        True, False, False,  True, False, False,  True, False, False,\n",
       "        True,  True, False,  True, False,  True,  True,  True,  True,\n",
       "       False, False,  True,  True, False, False,  True,  True, False,\n",
       "       False,  True, False, False,  True,  True, False,  True,  True,\n",
       "        True, False,  True, False,  True,  True,  True, False,  True,\n",
       "        True,  True,  True,  True, False,  True,  True, False,  True,\n",
       "        True, False,  True, False,  True,  True,  True, False, False,\n",
       "       False,  True,  True,  True, False,  True,  True,  True, False,\n",
       "        True, False,  True, False,  True, False,  True,  True,  True,\n",
       "        True,  True,  True, False,  True,  True, False,  True,  True,\n",
       "        True, False,  True,  True,  True,  True,  True,  True,  True,\n",
       "        True,  True,  True, False,  True, False,  True,  True, False,\n",
       "       False,  True, False,  True, False,  True, False, False,  True,\n",
       "        True, False,  True, False, False, False, False,  True,  True,\n",
       "        True, False,  True, False,  True,  True,  True,  True, False,\n",
       "       False,  True, False, False, False, False, False,  True, False,\n",
       "        True, False, False,  True, False, False, False, False,  True,\n",
       "       False, False, False, False,  True,  True, False,  True,  True,\n",
       "        True,  True, False, False,  True,  True,  True,  True, False,\n",
       "        True, False, False,  True,  True, False])"
      ]
     },
     "execution_count": 213,
     "metadata": {},
     "output_type": "execute_result"
    }
   ],
   "source": [
    "sel_RFE.get_support()"
   ]
  },
  {
   "cell_type": "code",
   "execution_count": 214,
   "metadata": {},
   "outputs": [
    {
     "data": {
      "text/plain": [
       "Index(['AAC_D', 'AAC_H', 'AAC_L', 'APAAC_Pc1.G', 'APAAC_Pc2.Hydrophobicity.1',\n",
       "       'APAAC_Pc2.Hydrophobicity.3', 'APAAC_Pc2.Hydrophobicity.5',\n",
       "       'APAAC_Pc2.Hydrophobicity.24', 'APAAC_Pc2.Hydrophobicity.26',\n",
       "       'APAAC_Pc2.Hydrophobicity.27',\n",
       "       ...\n",
       "       'SOCNumber_gGrantham.lag11', 'SOCNumber_gGrantham.lag19',\n",
       "       'SOCNumber_gGrantham.lag20', 'SOCNumber_gGrantham.lag24',\n",
       "       'SOCNumber_gGrantham.lag26', 'SOCNumber_gGrantham.lag27',\n",
       "       'SOCNumber_gGrantham.lag28', 'QSOrder_Schneider.Xr.D',\n",
       "       'QSOrder_Schneider.Xr.L', 'QSOrder_Schneider.Xr.M'],\n",
       "      dtype='object', length=183)"
      ]
     },
     "execution_count": 214,
     "metadata": {},
     "output_type": "execute_result"
    }
   ],
   "source": [
    "sel_featuresRFE = df_MCTR_selImportance.columns[sel_RFE.get_support()]\n",
    "sel_featuresRFE"
   ]
  },
  {
   "cell_type": "code",
   "execution_count": 252,
   "metadata": {},
   "outputs": [
    {
     "name": "stdout",
     "output_type": "stream",
     "text": [
      "(4080, 183)\n"
     ]
    }
   ],
   "source": [
    "df_MCTR_selRFE = pd.DataFrame()\n",
    "for i in list(sel_featuresRFE):\n",
    "    df_MCTR_selRFE[i] = df_MCTR[i]\n",
    "df_MCTR_selRFE['id'] = df_MCTR['id']\n",
    "print(df_MCTR_selRFE.shape)\n",
    "df_MCTR_selRFE.to_csv('C:/Python/internship/Crystal_Features_new/df_MCTR_selRFE')"
   ]
  },
  {
   "cell_type": "code",
   "execution_count": 254,
   "metadata": {},
   "outputs": [
    {
     "name": "stdout",
     "output_type": "stream",
     "text": [
      "(1020, 183)\n"
     ]
    }
   ],
   "source": [
    "df_MCTE_selRFE = pd.DataFrame()\n",
    "for i in list(sel_featuresRFE):\n",
    "    df_MCTE_selRFE[i] = df_MCTE[i]\n",
    "print(df_MCTE_selRFE.shape)\n",
    "df_MCTE_selRFE.to_csv('C:/Python/internship/Crystal_Features_new/df_MCTE_selRFE')"
   ]
  },
  {
   "cell_type": "markdown",
   "metadata": {},
   "source": [
    "## Select features by using Based on GradientBoost Tree Importance"
   ]
  },
  {
   "cell_type": "code",
   "execution_count": 137,
   "metadata": {},
   "outputs": [],
   "source": [
    "from sklearn.ensemble import GradientBoostingClassifier"
   ]
  },
  {
   "cell_type": "code",
   "execution_count": 217,
   "metadata": {},
   "outputs": [
    {
     "name": "stdout",
     "output_type": "stream",
     "text": [
      "28.174967527389526\n"
     ]
    }
   ],
   "source": [
    "start = time.time()\n",
    "sel_GB = RFE(GradientBoostingClassifier(n_estimators=100,random_state=0),n_features_to_select=547)\n",
    "sel_GB.fit(df_MCTR_selImportance,Y_MCTR)\n",
    "end = time.time()\n",
    "print(end-start)"
   ]
  },
  {
   "cell_type": "code",
   "execution_count": 218,
   "metadata": {
    "scrolled": true
   },
   "outputs": [
    {
     "data": {
      "text/plain": [
       "array([ True,  True,  True,  True,  True,  True,  True,  True,  True,\n",
       "        True,  True,  True,  True,  True,  True,  True,  True,  True,\n",
       "        True,  True,  True,  True,  True,  True,  True,  True,  True,\n",
       "        True,  True,  True,  True,  True,  True,  True,  True,  True,\n",
       "        True,  True,  True,  True,  True,  True,  True,  True,  True,\n",
       "        True,  True,  True,  True,  True,  True,  True,  True,  True,\n",
       "        True,  True,  True,  True,  True,  True,  True,  True,  True,\n",
       "        True,  True,  True,  True,  True,  True,  True,  True,  True,\n",
       "        True,  True,  True,  True,  True,  True,  True,  True,  True,\n",
       "        True,  True,  True,  True,  True,  True,  True,  True,  True,\n",
       "        True,  True,  True,  True,  True,  True,  True,  True,  True,\n",
       "        True,  True,  True,  True,  True,  True,  True,  True,  True,\n",
       "        True,  True,  True,  True,  True,  True,  True,  True,  True,\n",
       "        True,  True,  True,  True,  True,  True,  True,  True,  True,\n",
       "        True,  True,  True,  True,  True,  True,  True,  True,  True,\n",
       "        True,  True,  True,  True,  True,  True,  True,  True,  True,\n",
       "        True,  True,  True,  True,  True,  True,  True,  True,  True,\n",
       "        True,  True,  True,  True,  True,  True,  True,  True,  True,\n",
       "        True,  True,  True,  True,  True,  True,  True,  True,  True,\n",
       "        True,  True,  True,  True,  True,  True,  True,  True,  True,\n",
       "        True,  True,  True,  True,  True,  True,  True,  True,  True,\n",
       "        True,  True,  True,  True,  True,  True,  True,  True,  True,\n",
       "        True,  True,  True,  True,  True,  True,  True,  True,  True,\n",
       "        True,  True,  True,  True,  True,  True,  True,  True,  True,\n",
       "        True,  True,  True,  True,  True,  True,  True,  True,  True,\n",
       "        True,  True,  True,  True,  True,  True,  True,  True,  True,\n",
       "        True,  True,  True,  True,  True,  True,  True,  True,  True,\n",
       "        True,  True,  True,  True,  True,  True,  True,  True,  True,\n",
       "        True,  True,  True,  True,  True,  True,  True,  True,  True,\n",
       "        True,  True,  True,  True,  True,  True,  True,  True,  True,\n",
       "        True,  True,  True,  True,  True,  True,  True,  True,  True,\n",
       "        True,  True,  True,  True,  True,  True,  True,  True,  True,\n",
       "        True,  True,  True,  True,  True,  True,  True,  True,  True,\n",
       "        True,  True,  True,  True,  True,  True,  True,  True,  True,\n",
       "        True,  True,  True,  True,  True,  True,  True,  True,  True,\n",
       "        True,  True,  True,  True,  True,  True,  True,  True,  True,\n",
       "        True,  True,  True,  True,  True,  True,  True,  True,  True,\n",
       "        True,  True,  True,  True,  True,  True,  True,  True,  True,\n",
       "        True,  True,  True,  True,  True,  True,  True,  True,  True,\n",
       "        True,  True,  True,  True,  True,  True,  True,  True,  True,\n",
       "        True,  True,  True,  True,  True,  True])"
      ]
     },
     "execution_count": 218,
     "metadata": {},
     "output_type": "execute_result"
    }
   ],
   "source": [
    "sel_GB.get_support()"
   ]
  },
  {
   "cell_type": "code",
   "execution_count": 219,
   "metadata": {},
   "outputs": [
    {
     "data": {
      "text/plain": [
       "Index(['AAC_D', 'AAC_F', 'AAC_H', 'AAC_L', 'AAC_V', 'AAC_Y', 'APAAC_Pc1.E',\n",
       "       'APAAC_Pc1.G', 'APAAC_Pc1.H', 'APAAC_Pc1.I',\n",
       "       ...\n",
       "       'SOCNumber_gGrantham.lag26', 'SOCNumber_gGrantham.lag27',\n",
       "       'SOCNumber_gGrantham.lag28', 'QSOrder_Schneider.Xr.N',\n",
       "       'QSOrder_Schneider.Xr.D', 'QSOrder_Schneider.Xr.C',\n",
       "       'QSOrder_Schneider.Xr.H', 'QSOrder_Schneider.Xr.L',\n",
       "       'QSOrder_Schneider.Xr.M', 'QSOrder_Schneider.Xr.Y'],\n",
       "      dtype='object', length=366)"
      ]
     },
     "execution_count": 219,
     "metadata": {},
     "output_type": "execute_result"
    }
   ],
   "source": [
    "sel_featuresGB = df_MCTR_selImportance.columns[sel_GB.get_support()]\n",
    "sel_featuresGB"
   ]
  },
  {
   "cell_type": "code",
   "execution_count": 220,
   "metadata": {},
   "outputs": [
    {
     "name": "stdout",
     "output_type": "stream",
     "text": [
      "(4080, 366)\n"
     ]
    }
   ],
   "source": [
    "df_MCTR_selGB = pd.DataFrame()\n",
    "for i in list(sel_featuresGB):\n",
    "    df_MCTR_selGB[i] = df_MCTR[i]\n",
    "print(df_MCTR_selGB.shape)\n",
    "df_MCTR_selGB.to_csv('C:/Python/internship/Crystal_Features_new/df_MCTR_selGB')"
   ]
  },
  {
   "cell_type": "code",
   "execution_count": 221,
   "metadata": {},
   "outputs": [
    {
     "name": "stdout",
     "output_type": "stream",
     "text": [
      "(1020, 366)\n"
     ]
    }
   ],
   "source": [
    "df_MCTE_selGB = pd.DataFrame()\n",
    "for i in list(sel_featuresGB):\n",
    "    df_MCTE_selGB[i] = df_MCTE[i]\n",
    "print(df_MCTE_selGB.shape)\n",
    "df_MCTE_selGB.to_csv('C:/Python/internship/Crystal_Features_new/df_MCTE_selGB')"
   ]
  },
  {
   "cell_type": "markdown",
   "metadata": {},
   "source": [
    "## Step2_2:Select features by using Based on Mutual Information Gain"
   ]
  },
  {
   "cell_type": "code",
   "execution_count": 222,
   "metadata": {},
   "outputs": [],
   "source": [
    "from sklearn.feature_selection import SelectKBest,SelectPercentile\n",
    "import seaborn as sns\n",
    "from sklearn.ensemble import RandomForestClassifier\n",
    "from sklearn.feature_selection import mutual_info_classif"
   ]
  },
  {
   "cell_type": "code",
   "execution_count": 223,
   "metadata": {},
   "outputs": [
    {
     "name": "stdout",
     "output_type": "stream",
     "text": [
      "1511\n",
      "41.930158615112305\n"
     ]
    }
   ],
   "source": [
    "# Calculate the Mutual Information\n",
    "start = time.time()\n",
    "sel_MI = mutual_info_classif(df_MCTR_selFest,Y_MCTR)\n",
    "print(len(sel_MI))\n",
    "end = time.time()\n",
    "print(end-start)"
   ]
  },
  {
   "cell_type": "code",
   "execution_count": 224,
   "metadata": {},
   "outputs": [
    {
     "data": {
      "text/plain": [
       "AAC_A                     0.005107\n",
       "AAC_D                     0.021408\n",
       "AAC_E                     0.006545\n",
       "AAC_F                     0.000000\n",
       "AAC_G                     0.000000\n",
       "                            ...   \n",
       "QSOrder_Schneider.Xr.M    0.023254\n",
       "QSOrder_Schneider.Xr.F    0.005208\n",
       "QSOrder_Schneider.Xr.S    0.000000\n",
       "QSOrder_Schneider.Xr.Y    0.000000\n",
       "QSOrder_Schneider.Xr.V    0.009687\n",
       "Length: 1511, dtype: float64"
      ]
     },
     "execution_count": 224,
     "metadata": {},
     "output_type": "execute_result"
    }
   ],
   "source": [
    "sel_MI_s = pd.Series(sel_MI)\n",
    "sel_MI_s.index = df_MCTR_selFest.columns\n",
    "sel_MI_s"
   ]
  },
  {
   "cell_type": "code",
   "execution_count": 225,
   "metadata": {},
   "outputs": [
    {
     "data": {
      "text/plain": [
       "<matplotlib.axes._subplots.AxesSubplot at 0x18915201eb0>"
      ]
     },
     "execution_count": 225,
     "metadata": {},
     "output_type": "execute_result"
    },
    {
     "data": {
      "image/png": "[encoded data removed]",
      "text/plain": [
       "<Figure size 1152x360 with 1 Axes>"
      ]
     },
     "metadata": {
      "needs_background": "light"
     },
     "output_type": "display_data"
    }
   ],
   "source": [
    "sel_MI_s.sort_values(ascending=False,inplace=True)\n",
    "sel_MI_s.plot.bar(figsize = (16,5))"
   ]
  },
  {
   "cell_type": "code",
   "execution_count": 226,
   "metadata": {},
   "outputs": [
    {
     "data": {
      "text/plain": [
       "Index(['AAC_D', 'AAC_H', 'AAC_L', 'APAAC_Pc1.T', 'APAAC_Pc2.Hydrophobicity.1',\n",
       "       'APAAC_Pc2.Hydrophobicity.3', 'APAAC_Pc2.Hydrophobicity.5',\n",
       "       'APAAC_Pc2.Hydrophobicity.22', 'APAAC_Pc2.Hydrophobicity.25',\n",
       "       'APAAC_Pc2.Hydrophobicity.26',\n",
       "       ...\n",
       "       'SOCNumber_Schneider.lag21', 'SOCNumber_Schneider.lag22',\n",
       "       'SOCNumber_Schneider.lag23', 'SOCNumber_Schneider.lag24',\n",
       "       'SOCNumber_Schneider.lag27', 'SOCNumber_Schneider.lag29',\n",
       "       'SOCNumber_Schneider.lag30', 'QSOrder_Schneider.Xr.D',\n",
       "       'QSOrder_Schneider.Xr.L', 'QSOrder_Schneider.Xr.M'],\n",
       "      dtype='object', length=151)"
      ]
     },
     "execution_count": 226,
     "metadata": {},
     "output_type": "execute_result"
    }
   ],
   "source": [
    "sel_featuresMIG= SelectPercentile(mutual_info_classif,percentile=10).fit(df_MCTR_selFest,Y_MCTR)\n",
    "df_MCTR_selFest.columns[sel_featuresMIG.get_support()]"
   ]
  },
  {
   "cell_type": "code",
   "execution_count": 227,
   "metadata": {
    "scrolled": true
   },
   "outputs": [
    {
     "data": {
      "text/plain": [
       "['AAC_D',\n",
       " 'AAC_H',\n",
       " 'AAC_L',\n",
       " 'APAAC_Pc1.T',\n",
       " 'APAAC_Pc2.Hydrophobicity.1',\n",
       " 'APAAC_Pc2.Hydrophobicity.3',\n",
       " 'APAAC_Pc2.Hydrophobicity.5',\n",
       " 'APAAC_Pc2.Hydrophobicity.22',\n",
       " 'APAAC_Pc2.Hydrophobicity.25',\n",
       " 'APAAC_Pc2.Hydrophobicity.26',\n",
       " 'GAAC_postivecharge',\n",
       " 'PAAC_Xc1.L',\n",
       " 'DPC_HH',\n",
       " 'DPC_LL',\n",
       " 'CKSAAP_HH.gap0',\n",
       " 'CKSAAP_LL.gap0',\n",
       " 'CKSAAP_HH.gap1',\n",
       " 'CKSAAP_LL.gap1',\n",
       " 'CKSAAP_AL.gap2',\n",
       " 'CKSAAP_HH.gap2',\n",
       " 'CKSAAP_LI.gap2',\n",
       " 'CKSAAP_LL.gap2',\n",
       " 'CKSAAP_HH.gap3',\n",
       " 'CKSAAP_LL.gap3',\n",
       " 'CKSAAP_IL.gap4',\n",
       " 'CKSAAP_LL.gap4',\n",
       " 'CKSAAP_VL.gap4',\n",
       " 'CKSAAP_YA.gap4',\n",
       " 'CKSAAP_LL.gap5',\n",
       " 'CKSAAP_LV.gap5',\n",
       " 'CKSAAP_PL.gap5',\n",
       " 'DDE_AD',\n",
       " 'DDE_DD',\n",
       " 'DDE_DN',\n",
       " 'DDE_DV',\n",
       " 'DDE_DY',\n",
       " 'DDE_ED',\n",
       " 'DDE_EN',\n",
       " 'DDE_FI',\n",
       " 'DDE_HH',\n",
       " 'DDE_KF',\n",
       " 'DDE_KW',\n",
       " 'DDE_LL',\n",
       " 'DDE_MP',\n",
       " 'DDE_NF',\n",
       " 'DDE_NG',\n",
       " 'DDE_NW',\n",
       " 'DDE_QE',\n",
       " 'DDE_QK',\n",
       " 'DDE_WD',\n",
       " 'DDE_WK',\n",
       " 'DDE_WN',\n",
       " 'DDE_YD',\n",
       " 'DDE_YE',\n",
       " 'DDE_YK',\n",
       " 'DDE_YN',\n",
       " 'Moran_BHAR880101.lag2',\n",
       " 'Moran_DAYM780201.lag22',\n",
       " 'CTDC_hydrophobicity_PRAM900101.G3',\n",
       " 'CTDC_hydrophobicity_ARGP820101.G1',\n",
       " 'CTDC_hydrophobicity_ARGP820101.G3',\n",
       " 'CTDC_hydrophobicity_ZIMJ680101.G3',\n",
       " 'CTDC_hydrophobicity_PONP930101.G3',\n",
       " 'CTDC_hydrophobicity_CASG920101.G1',\n",
       " 'CTDC_hydrophobicity_ENGD860101.G1',\n",
       " 'CTDC_hydrophobicity_ENGD860101.G3',\n",
       " 'CTDC_hydrophobicity_FASG890101.G3',\n",
       " 'CTDC_normwaalsvolume.G2',\n",
       " 'CTDC_polarity.G1',\n",
       " 'CTDC_polarity.G3',\n",
       " 'CTDC_polarizability.G2',\n",
       " 'CTDC_charge.G2',\n",
       " 'CTDC_secondarystruct.G3',\n",
       " 'CTDC_solventaccess.G1',\n",
       " 'CTDT_hydrophobicity_PRAM900101.Tr1221',\n",
       " 'CTDT_hydrophobicity_PRAM900101.Tr2332',\n",
       " 'CTDT_hydrophobicity_ARGP820101.Tr2332',\n",
       " 'CTDT_hydrophobicity_ZIMJ680101.Tr1221',\n",
       " 'CTDT_hydrophobicity_CASG920101.Tr2332',\n",
       " 'CTDT_hydrophobicity_ENGD860101.Tr1221',\n",
       " 'CTDT_hydrophobicity_FASG890101.Tr1221',\n",
       " 'CTDT_polarity.Tr1221',\n",
       " 'CTDT_polarity.Tr2332',\n",
       " 'CTDT_secondarystruct.Tr1221',\n",
       " 'CTDD_hydrophobicity_PRAM900101.3.residue0',\n",
       " 'CTDD_hydrophobicity_ARGP820101.2.residue0',\n",
       " 'CTDD_hydrophobicity_ARGP820101.3.residue0',\n",
       " 'CTDD_hydrophobicity_ZIMJ680101.1.residue0',\n",
       " 'CTDD_hydrophobicity_ZIMJ680101.1.residue100',\n",
       " 'CTDD_hydrophobicity_ZIMJ680101.2.residue0',\n",
       " 'CTDD_hydrophobicity_ZIMJ680101.3.residue0',\n",
       " 'CTDD_hydrophobicity_PONP930101.1.residue100',\n",
       " 'CTDD_hydrophobicity_PONP930101.3.residue0',\n",
       " 'CTDD_hydrophobicity_CASG920101.1.residue100',\n",
       " 'CTDD_hydrophobicity_CASG920101.2.residue0',\n",
       " 'CTDD_hydrophobicity_ENGD860101.3.residue0',\n",
       " 'CTDD_hydrophobicity_FASG890101.3.residue0',\n",
       " 'CTDD_normwaalsvolume.2.residue0',\n",
       " 'CTDD_normwaalsvolume.2.residue100',\n",
       " 'CTDD_normwaalsvolume.3.residue0',\n",
       " 'CTDD_polarity.1.residue0',\n",
       " 'CTDD_polarizability.2.residue0',\n",
       " 'CTDD_polarizability.2.residue100',\n",
       " 'CTDD_polarizability.3.residue0',\n",
       " 'CTDD_charge.2.residue0',\n",
       " 'CTDD_secondarystruct.1.residue0',\n",
       " 'CTDD_secondarystruct.2.residue0',\n",
       " 'CTDD_solventaccess.1.residue0',\n",
       " 'CTDD_solventaccess.2.residue0',\n",
       " 'CTDD_solventaccess.3.residue0',\n",
       " 'CTDD_solventaccess.3.residue25',\n",
       " 'CTriad_g1.g1.g6',\n",
       " 'CTriad_g1.g3.g6',\n",
       " 'CTriad_g1.g4.g4',\n",
       " 'CTriad_g1.g5.g1',\n",
       " 'CTriad_g1.g6.g3',\n",
       " 'CTriad_g2.g1.g6',\n",
       " 'CTriad_g2.g2.g2',\n",
       " 'CTriad_g2.g2.g4',\n",
       " 'CTriad_g2.g5.g1',\n",
       " 'CTriad_g2.g6.g1',\n",
       " 'CTriad_g3.g1.g3',\n",
       " 'CTriad_g3.g1.g5',\n",
       " 'CTriad_g3.g1.g6',\n",
       " 'CTriad_g3.g2.g2',\n",
       " 'CTriad_g3.g3.g1',\n",
       " 'CTriad_g3.g4.g2',\n",
       " 'CTriad_g3.g5.g4',\n",
       " 'CTriad_g4.g3.g6',\n",
       " 'CTriad_g4.g4.g4',\n",
       " 'CTriad_g5.g1.g1',\n",
       " 'CTriad_g5.g1.g3',\n",
       " 'CTriad_g5.g4.g3',\n",
       " 'CTriad_g5.g6.g2',\n",
       " 'CTriad_g6.g5.g2',\n",
       " 'SOCNumber_Schneider.lag1',\n",
       " 'SOCNumber_Schneider.lag3',\n",
       " 'SOCNumber_Schneider.lag4',\n",
       " 'SOCNumber_Schneider.lag13',\n",
       " 'SOCNumber_Schneider.lag15',\n",
       " 'SOCNumber_Schneider.lag16',\n",
       " 'SOCNumber_Schneider.lag21',\n",
       " 'SOCNumber_Schneider.lag22',\n",
       " 'SOCNumber_Schneider.lag23',\n",
       " 'SOCNumber_Schneider.lag24',\n",
       " 'SOCNumber_Schneider.lag27',\n",
       " 'SOCNumber_Schneider.lag29',\n",
       " 'SOCNumber_Schneider.lag30',\n",
       " 'QSOrder_Schneider.Xr.D',\n",
       " 'QSOrder_Schneider.Xr.L',\n",
       " 'QSOrder_Schneider.Xr.M']"
      ]
     },
     "execution_count": 227,
     "metadata": {},
     "output_type": "execute_result"
    }
   ],
   "source": [
    "sel_MIGlist = list(df_MCTR_selFest.columns[sel_featuresMIG.get_support()])\n",
    "sel_MIGlist"
   ]
  },
  {
   "cell_type": "code",
   "execution_count": 229,
   "metadata": {},
   "outputs": [
    {
     "name": "stdout",
     "output_type": "stream",
     "text": [
      "(4080, 151)\n"
     ]
    }
   ],
   "source": [
    "# remove features and create new dataframe\n",
    "df_MCTR_selMIG = pd.DataFrame()\n",
    "for s in sel_MIGlist:\n",
    "    df_MCTR_selMIG[s] = df_MCTR[s]\n",
    "print(df_MCTR_selMIG.shape)\n",
    "df_MCTR_selMIG.to_csv('C:/Python/internship/Crystal_Features_new/df_MCTR_selMIG')"
   ]
  },
  {
   "cell_type": "code",
   "execution_count": 230,
   "metadata": {},
   "outputs": [
    {
     "name": "stdout",
     "output_type": "stream",
     "text": [
      "(1020, 151)\n"
     ]
    }
   ],
   "source": [
    "df_MCTE_selMIG = pd.DataFrame()\n",
    "for s in sel_MIGlist:\n",
    "    df_MCTE_selMIG[s] = df_MCTE[s]\n",
    "print(df_MCTE_selMIG.shape)\n",
    "df_MCTE_selMIG.to_csv('C:/Python/internship/Crystal_Features_new/df_MCTE_selMIG')"
   ]
  },
  {
   "cell_type": "markdown",
   "metadata": {},
   "source": [
    "## Step Forward Feature Selection of Wrapper Method"
   ]
  },
  {
   "cell_type": "code",
   "execution_count": 109,
   "metadata": {
    "collapsed": true
   },
   "outputs": [
    {
     "name": "stdout",
     "output_type": "stream",
     "text": [
      "Collecting mlxtend\n",
      "  Downloading mlxtend-0.19.0-py2.py3-none-any.whl (1.3 MB)\n",
      "Requirement already satisfied: matplotlib>=3.0.0 in c:\\anaconda3\\lib\\site-packages (from mlxtend) (3.2.2)\n",
      "Requirement already satisfied: numpy>=1.16.2 in c:\\anaconda3\\lib\\site-packages (from mlxtend) (1.18.5)\n",
      "Requirement already satisfied: joblib>=0.13.2 in c:\\anaconda3\\lib\\site-packages (from mlxtend) (0.16.0)\n",
      "Requirement already satisfied: scipy>=1.2.1 in c:\\anaconda3\\lib\\site-packages (from mlxtend) (1.5.0)\n",
      "Requirement already satisfied: scikit-learn>=0.20.3 in c:\\anaconda3\\lib\\site-packages (from mlxtend) (0.23.1)\n",
      "Requirement already satisfied: setuptools in c:\\anaconda3\\lib\\site-packages (from mlxtend) (49.2.0.post20200714)\n",
      "Requirement already satisfied: pandas>=0.24.2 in c:\\anaconda3\\lib\\site-packages (from mlxtend) (1.0.5)\n",
      "Requirement already satisfied: python-dateutil>=2.1 in c:\\anaconda3\\lib\\site-packages (from matplotlib>=3.0.0->mlxtend) (2.8.1)\n",
      "Requirement already satisfied: kiwisolver>=1.0.1 in c:\\anaconda3\\lib\\site-packages (from matplotlib>=3.0.0->mlxtend) (1.2.0)\n",
      "Requirement already satisfied: pyparsing!=2.0.4,!=2.1.2,!=2.1.6,>=2.0.1 in c:\\anaconda3\\lib\\site-packages (from matplotlib>=3.0.0->mlxtend) (2.4.7)\n",
      "Requirement already satisfied: cycler>=0.10 in c:\\anaconda3\\lib\\site-packages (from matplotlib>=3.0.0->mlxtend) (0.10.0)\n",
      "Requirement already satisfied: threadpoolctl>=2.0.0 in c:\\anaconda3\\lib\\site-packages (from scikit-learn>=0.20.3->mlxtend) (2.1.0)\n",
      "Requirement already satisfied: pytz>=2017.2 in c:\\anaconda3\\lib\\site-packages (from pandas>=0.24.2->mlxtend) (2020.1)\n",
      "Requirement already satisfied: six>=1.5 in c:\\anaconda3\\lib\\site-packages (from python-dateutil>=2.1->matplotlib>=3.0.0->mlxtend) (1.15.0)\n",
      "Installing collected packages: mlxtend\n",
      "Successfully installed mlxtend-0.19.0\n",
      "Note: you may need to restart the kernel to use updated packages.\n"
     ]
    }
   ],
   "source": [
    "#pip install mlxtend"
   ]
  },
  {
   "cell_type": "code",
   "execution_count": 152,
   "metadata": {},
   "outputs": [],
   "source": [
    "from sklearn.ensemble import RandomForestClassifier\n",
    "from sklearn.metrics import roc_auc_score\n",
    "from mlxtend.feature_selection import SequentialFeatureSelector as SFS"
   ]
  },
  {
   "cell_type": "code",
   "execution_count": 239,
   "metadata": {
    "scrolled": false
   },
   "outputs": [
    {
     "name": "stderr",
     "output_type": "stream",
     "text": [
      "[Parallel(n_jobs=-1)]: Using backend LokyBackend with 16 concurrent workers.\n",
      "[Parallel(n_jobs=-1)]: Done   9 tasks      | elapsed:    3.7s\n",
      "[Parallel(n_jobs=-1)]: Done 151 out of 151 | elapsed:   21.6s finished\n",
      "\n",
      "[2022-02-22 09:33:54] Features: 1/29 -- score: 0.8840686274509804[Parallel(n_jobs=-1)]: Using backend LokyBackend with 16 concurrent workers.\n",
      "[Parallel(n_jobs=-1)]: Done   9 tasks      | elapsed:    1.9s\n",
      "[Parallel(n_jobs=-1)]: Done 150 out of 150 | elapsed:   19.3s finished\n",
      "\n",
      "[2022-02-22 09:34:14] Features: 2/29 -- score: 0.8946078431372548[Parallel(n_jobs=-1)]: Using backend LokyBackend with 16 concurrent workers.\n",
      "[Parallel(n_jobs=-1)]: Done   9 tasks      | elapsed:    1.8s\n",
      "[Parallel(n_jobs=-1)]: Done 149 out of 149 | elapsed:   18.7s finished\n",
      "\n",
      "[2022-02-22 09:34:32] Features: 3/29 -- score: 0.8987745098039216[Parallel(n_jobs=-1)]: Using backend LokyBackend with 16 concurrent workers.\n",
      "[Parallel(n_jobs=-1)]: Done   9 tasks      | elapsed:    2.2s\n",
      "[Parallel(n_jobs=-1)]: Done 148 out of 148 | elapsed:   20.6s finished\n",
      "\n",
      "[2022-02-22 09:34:53] Features: 4/29 -- score: 0.8987745098039216[Parallel(n_jobs=-1)]: Using backend LokyBackend with 16 concurrent workers.\n",
      "[Parallel(n_jobs=-1)]: Done   9 tasks      | elapsed:    2.1s\n",
      "[Parallel(n_jobs=-1)]: Done 147 out of 147 | elapsed:   20.4s finished\n",
      "\n",
      "[2022-02-22 09:35:14] Features: 5/29 -- score: 0.899264705882353[Parallel(n_jobs=-1)]: Using backend LokyBackend with 16 concurrent workers.\n",
      "[Parallel(n_jobs=-1)]: Done   9 tasks      | elapsed:    2.1s\n",
      "[Parallel(n_jobs=-1)]: Done 146 out of 146 | elapsed:   20.3s finished\n",
      "\n",
      "[2022-02-22 09:35:34] Features: 6/29 -- score: 0.9004901960784313[Parallel(n_jobs=-1)]: Using backend LokyBackend with 16 concurrent workers.\n",
      "[Parallel(n_jobs=-1)]: Done   9 tasks      | elapsed:    2.1s\n",
      "[Parallel(n_jobs=-1)]: Done 145 out of 145 | elapsed:   20.3s finished\n",
      "\n",
      "[2022-02-22 09:35:54] Features: 7/29 -- score: 0.9041666666666667[Parallel(n_jobs=-1)]: Using backend LokyBackend with 16 concurrent workers.\n",
      "[Parallel(n_jobs=-1)]: Done   9 tasks      | elapsed:    2.2s\n",
      "[Parallel(n_jobs=-1)]: Done 144 out of 144 | elapsed:   20.8s finished\n",
      "\n",
      "[2022-02-22 09:36:15] Features: 8/29 -- score: 0.9176470588235294[Parallel(n_jobs=-1)]: Using backend LokyBackend with 16 concurrent workers.\n",
      "[Parallel(n_jobs=-1)]: Done   9 tasks      | elapsed:    2.5s\n",
      "[Parallel(n_jobs=-1)]: Done 143 out of 143 | elapsed:   25.5s finished\n",
      "\n",
      "[2022-02-22 09:36:41] Features: 9/29 -- score: 0.921813725490196[Parallel(n_jobs=-1)]: Using backend LokyBackend with 16 concurrent workers.\n",
      "[Parallel(n_jobs=-1)]: Done   9 tasks      | elapsed:    2.9s\n",
      "[Parallel(n_jobs=-1)]: Done 142 out of 142 | elapsed:   26.7s finished\n",
      "\n",
      "[2022-02-22 09:37:08] Features: 10/29 -- score: 0.9227941176470588[Parallel(n_jobs=-1)]: Using backend LokyBackend with 16 concurrent workers.\n",
      "[Parallel(n_jobs=-1)]: Done   9 tasks      | elapsed:    2.9s\n",
      "[Parallel(n_jobs=-1)]: Done 141 out of 141 | elapsed:   26.9s finished\n",
      "\n",
      "[2022-02-22 09:37:35] Features: 11/29 -- score: 0.9237745098039215[Parallel(n_jobs=-1)]: Using backend LokyBackend with 16 concurrent workers.\n",
      "[Parallel(n_jobs=-1)]: Done   9 tasks      | elapsed:    3.0s\n",
      "[Parallel(n_jobs=-1)]: Done 140 out of 140 | elapsed:   27.3s finished\n",
      "\n",
      "[2022-02-22 09:38:02] Features: 12/29 -- score: 0.926470588235294[Parallel(n_jobs=-1)]: Using backend LokyBackend with 16 concurrent workers.\n",
      "[Parallel(n_jobs=-1)]: Done   9 tasks      | elapsed:    3.3s\n",
      "[Parallel(n_jobs=-1)]: Done 139 out of 139 | elapsed:   27.9s finished\n",
      "\n",
      "[2022-02-22 09:38:30] Features: 13/29 -- score: 0.926470588235294[Parallel(n_jobs=-1)]: Using backend LokyBackend with 16 concurrent workers.\n",
      "[Parallel(n_jobs=-1)]: Done   9 tasks      | elapsed:    3.2s\n",
      "[Parallel(n_jobs=-1)]: Done 138 out of 138 | elapsed:   28.6s finished\n",
      "\n",
      "[2022-02-22 09:38:59] Features: 14/29 -- score: 0.926470588235294[Parallel(n_jobs=-1)]: Using backend LokyBackend with 16 concurrent workers.\n",
      "[Parallel(n_jobs=-1)]: Done   9 tasks      | elapsed:    3.3s\n",
      "[Parallel(n_jobs=-1)]: Done 137 out of 137 | elapsed:   28.6s finished\n",
      "\n",
      "[2022-02-22 09:39:27] Features: 15/29 -- score: 0.9269607843137254[Parallel(n_jobs=-1)]: Using backend LokyBackend with 16 concurrent workers.\n",
      "[Parallel(n_jobs=-1)]: Done   9 tasks      | elapsed:    4.2s\n",
      "[Parallel(n_jobs=-1)]: Done 136 out of 136 | elapsed:   35.2s finished\n",
      "\n",
      "[2022-02-22 09:40:03] Features: 16/29 -- score: 0.925735294117647[Parallel(n_jobs=-1)]: Using backend LokyBackend with 16 concurrent workers.\n",
      "[Parallel(n_jobs=-1)]: Done   9 tasks      | elapsed:    4.5s\n",
      "[Parallel(n_jobs=-1)]: Done 135 out of 135 | elapsed:   34.6s finished\n",
      "\n",
      "[2022-02-22 09:40:37] Features: 17/29 -- score: 0.9267156862745097[Parallel(n_jobs=-1)]: Using backend LokyBackend with 16 concurrent workers.\n",
      "[Parallel(n_jobs=-1)]: Done   9 tasks      | elapsed:    4.1s\n",
      "[Parallel(n_jobs=-1)]: Done 134 out of 134 | elapsed:   34.9s finished\n",
      "\n",
      "[2022-02-22 09:41:12] Features: 18/29 -- score: 0.9279411764705883[Parallel(n_jobs=-1)]: Using backend LokyBackend with 16 concurrent workers.\n",
      "[Parallel(n_jobs=-1)]: Done   9 tasks      | elapsed:    4.3s\n",
      "[Parallel(n_jobs=-1)]: Done 133 out of 133 | elapsed:   35.7s finished\n",
      "\n",
      "[2022-02-22 09:41:48] Features: 19/29 -- score: 0.9294117647058824[Parallel(n_jobs=-1)]: Using backend LokyBackend with 16 concurrent workers.\n",
      "[Parallel(n_jobs=-1)]: Done   9 tasks      | elapsed:    4.2s\n",
      "[Parallel(n_jobs=-1)]: Done 132 out of 132 | elapsed:   36.3s finished\n",
      "\n",
      "[2022-02-22 09:42:25] Features: 20/29 -- score: 0.9296568627450981[Parallel(n_jobs=-1)]: Using backend LokyBackend with 16 concurrent workers.\n",
      "[Parallel(n_jobs=-1)]: Done   9 tasks      | elapsed:    4.2s\n",
      "[Parallel(n_jobs=-1)]: Done 131 out of 131 | elapsed:   36.9s finished\n",
      "\n",
      "[2022-02-22 09:43:02] Features: 21/29 -- score: 0.9294117647058824[Parallel(n_jobs=-1)]: Using backend LokyBackend with 16 concurrent workers.\n",
      "[Parallel(n_jobs=-1)]: Done   9 tasks      | elapsed:    4.5s\n",
      "[Parallel(n_jobs=-1)]: Done 130 out of 130 | elapsed:   37.2s finished\n",
      "\n",
      "[2022-02-22 09:43:39] Features: 22/29 -- score: 0.9296568627450981[Parallel(n_jobs=-1)]: Using backend LokyBackend with 16 concurrent workers.\n",
      "[Parallel(n_jobs=-1)]: Done   9 tasks      | elapsed:    4.5s\n",
      "[Parallel(n_jobs=-1)]: Done 129 out of 129 | elapsed:   36.1s finished\n",
      "\n",
      "[2022-02-22 09:44:15] Features: 23/29 -- score: 0.9301470588235294[Parallel(n_jobs=-1)]: Using backend LokyBackend with 16 concurrent workers.\n",
      "[Parallel(n_jobs=-1)]: Done   9 tasks      | elapsed:    4.3s\n",
      "[Parallel(n_jobs=-1)]: Done 128 out of 128 | elapsed:   35.4s finished\n",
      "\n",
      "[2022-02-22 09:44:51] Features: 24/29 -- score: 0.9303921568627451[Parallel(n_jobs=-1)]: Using backend LokyBackend with 16 concurrent workers.\n",
      "[Parallel(n_jobs=-1)]: Done   9 tasks      | elapsed:    5.8s\n",
      "[Parallel(n_jobs=-1)]: Done 127 out of 127 | elapsed:   42.4s finished\n",
      "\n",
      "[2022-02-22 09:45:33] Features: 25/29 -- score: 0.9299019607843136[Parallel(n_jobs=-1)]: Using backend LokyBackend with 16 concurrent workers.\n",
      "[Parallel(n_jobs=-1)]: Done   9 tasks      | elapsed:    5.2s\n",
      "[Parallel(n_jobs=-1)]: Done 126 out of 126 | elapsed:   42.5s finished\n",
      "\n",
      "[2022-02-22 09:46:16] Features: 26/29 -- score: 0.9301470588235293[Parallel(n_jobs=-1)]: Using backend LokyBackend with 16 concurrent workers.\n",
      "[Parallel(n_jobs=-1)]: Done   9 tasks      | elapsed:    5.6s\n",
      "[Parallel(n_jobs=-1)]: Done 125 out of 125 | elapsed:   42.8s finished\n",
      "\n",
      "[2022-02-22 09:46:59] Features: 27/29 -- score: 0.9316176470588234[Parallel(n_jobs=-1)]: Using backend LokyBackend with 16 concurrent workers.\n",
      "[Parallel(n_jobs=-1)]: Done   9 tasks      | elapsed:    6.2s\n",
      "[Parallel(n_jobs=-1)]: Done 124 out of 124 | elapsed:   44.2s finished\n",
      "\n",
      "[2022-02-22 09:47:43] Features: 28/29 -- score: 0.9311274509803922[Parallel(n_jobs=-1)]: Using backend LokyBackend with 16 concurrent workers.\n",
      "[Parallel(n_jobs=-1)]: Done   9 tasks      | elapsed:    6.0s\n"
     ]
    },
    {
     "name": "stdout",
     "output_type": "stream",
     "text": [
      "895.094687461853\n"
     ]
    },
    {
     "name": "stderr",
     "output_type": "stream",
     "text": [
      "[Parallel(n_jobs=-1)]: Done 123 out of 123 | elapsed:   44.4s finished\n",
      "\n",
      "[2022-02-22 09:48:27] Features: 29/29 -- score: 0.9321078431372549"
     ]
    }
   ],
   "source": [
    "start = time.time()\n",
    "sel_SFS = SFS(RandomForestClassifier(n_estimators=100,random_state=0,n_jobs=-1),\n",
    "         k_features=29,\n",
    "         forward=True,\n",
    "         floating=False,\n",
    "         verbose=2,\n",
    "         scoring='accuracy',\n",
    "         cv=4,\n",
    "         n_jobs=-1).fit(df_MCTR_selMIG,Y_MCTR)\n",
    "end = time.time()\n",
    "print(end-start)"
   ]
  },
  {
   "cell_type": "code",
   "execution_count": 240,
   "metadata": {
    "scrolled": true
   },
   "outputs": [
    {
     "data": {
      "text/plain": [
       "('APAAC_Pc1.T',\n",
       " 'APAAC_Pc2.Hydrophobicity.3',\n",
       " 'PAAC_Xc1.L',\n",
       " 'DPC_HH',\n",
       " 'CKSAAP_HH.gap0',\n",
       " 'CKSAAP_HH.gap1',\n",
       " 'CKSAAP_HH.gap2',\n",
       " 'CKSAAP_HH.gap3',\n",
       " 'CKSAAP_IL.gap4',\n",
       " 'DDE_HH',\n",
       " 'DDE_KW',\n",
       " 'DDE_WN',\n",
       " 'CTDC_hydrophobicity_PRAM900101.G3',\n",
       " 'CTDC_hydrophobicity_PONP930101.G3',\n",
       " 'CTDC_hydrophobicity_CASG920101.G1',\n",
       " 'CTDC_secondarystruct.G3',\n",
       " 'CTDC_solventaccess.G1',\n",
       " 'CTDT_hydrophobicity_ZIMJ680101.Tr1221',\n",
       " 'CTDT_secondarystruct.Tr1221',\n",
       " 'CTDD_hydrophobicity_ZIMJ680101.1.residue0',\n",
       " 'CTDD_hydrophobicity_ZIMJ680101.2.residue0',\n",
       " 'CTDD_polarity.1.residue0',\n",
       " 'CTDD_polarizability.3.residue0',\n",
       " 'CTDD_solventaccess.3.residue25',\n",
       " 'CTriad_g2.g2.g4',\n",
       " 'CTriad_g3.g1.g3',\n",
       " 'CTriad_g3.g4.g2',\n",
       " 'CTriad_g4.g3.g6',\n",
       " 'SOCNumber_Schneider.lag15')"
      ]
     },
     "execution_count": 240,
     "metadata": {},
     "output_type": "execute_result"
    }
   ],
   "source": [
    "sel_SFS.k_feature_names_"
   ]
  },
  {
   "cell_type": "code",
   "execution_count": 241,
   "metadata": {},
   "outputs": [
    {
     "data": {
      "text/plain": [
       "0.9321078431372549"
      ]
     },
     "execution_count": 241,
     "metadata": {},
     "output_type": "execute_result"
    }
   ],
   "source": [
    "sel_SFS.k_score_"
   ]
  },
  {
   "cell_type": "code",
   "execution_count": 242,
   "metadata": {
    "scrolled": true
   },
   "outputs": [
    {
     "data": {
      "text/plain": [
       "(3,\n",
       " 5,\n",
       " 11,\n",
       " 12,\n",
       " 14,\n",
       " 16,\n",
       " 19,\n",
       " 22,\n",
       " 24,\n",
       " 39,\n",
       " 41,\n",
       " 51,\n",
       " 58,\n",
       " 62,\n",
       " 63,\n",
       " 72,\n",
       " 73,\n",
       " 77,\n",
       " 83,\n",
       " 87,\n",
       " 89,\n",
       " 100,\n",
       " 103,\n",
       " 110,\n",
       " 118,\n",
       " 121,\n",
       " 126,\n",
       " 128,\n",
       " 139)"
      ]
     },
     "execution_count": 242,
     "metadata": {},
     "output_type": "execute_result"
    }
   ],
   "source": [
    "sel_SFS.k_feature_idx_"
   ]
  },
  {
   "cell_type": "code",
   "execution_count": 243,
   "metadata": {},
   "outputs": [
    {
     "data": {
      "text/html": [
       "<div>\n",
       "<style scoped>\n",
       "    .dataframe tbody tr th:only-of-type {\n",
       "        vertical-align: middle;\n",
       "    }\n",
       "\n",
       "    .dataframe tbody tr th {\n",
       "        vertical-align: top;\n",
       "    }\n",
       "\n",
       "    .dataframe thead th {\n",
       "        text-align: right;\n",
       "    }\n",
       "</style>\n",
       "<table border=\"1\" class=\"dataframe\">\n",
       "  <thead>\n",
       "    <tr style=\"text-align: right;\">\n",
       "      <th></th>\n",
       "      <th>feature_idx</th>\n",
       "      <th>cv_scores</th>\n",
       "      <th>avg_score</th>\n",
       "      <th>feature_names</th>\n",
       "      <th>ci_bound</th>\n",
       "      <th>std_dev</th>\n",
       "      <th>std_err</th>\n",
       "    </tr>\n",
       "  </thead>\n",
       "  <tbody>\n",
       "    <tr>\n",
       "      <th>1</th>\n",
       "      <td>(12,)</td>\n",
       "      <td>[0.8794117647058823, 0.8852941176470588, 0.884...</td>\n",
       "      <td>0.884069</td>\n",
       "      <td>(DPC_HH,)</td>\n",
       "      <td>0.00463208</td>\n",
       "      <td>0.00288966</td>\n",
       "      <td>0.00166835</td>\n",
       "    </tr>\n",
       "    <tr>\n",
       "      <th>2</th>\n",
       "      <td>(12, 121)</td>\n",
       "      <td>[0.8872549019607843, 0.8980392156862745, 0.900...</td>\n",
       "      <td>0.894608</td>\n",
       "      <td>(DPC_HH, CTriad_g3.g1.g3)</td>\n",
       "      <td>0.00849946</td>\n",
       "      <td>0.00530228</td>\n",
       "      <td>0.00306127</td>\n",
       "    </tr>\n",
       "    <tr>\n",
       "      <th>3</th>\n",
       "      <td>(12, 22, 121)</td>\n",
       "      <td>[0.8950980392156863, 0.9049019607843137, 0.9, ...</td>\n",
       "      <td>0.898775</td>\n",
       "      <td>(DPC_HH, CKSAAP_HH.gap3, CTriad_g3.g1.g3)</td>\n",
       "      <td>0.0065153</td>\n",
       "      <td>0.00406449</td>\n",
       "      <td>0.00234664</td>\n",
       "    </tr>\n",
       "    <tr>\n",
       "      <th>4</th>\n",
       "      <td>(12, 16, 22, 121)</td>\n",
       "      <td>[0.8970588235294118, 0.9009803921568628, 0.900...</td>\n",
       "      <td>0.898775</td>\n",
       "      <td>(DPC_HH, CKSAAP_HH.gap1, CKSAAP_HH.gap3, CTria...</td>\n",
       "      <td>0.00357938</td>\n",
       "      <td>0.00223295</td>\n",
       "      <td>0.00128919</td>\n",
       "    </tr>\n",
       "    <tr>\n",
       "      <th>5</th>\n",
       "      <td>(12, 14, 16, 22, 121)</td>\n",
       "      <td>[0.8980392156862745, 0.8990196078431373, 0.901...</td>\n",
       "      <td>0.899265</td>\n",
       "      <td>(DPC_HH, CKSAAP_HH.gap0, CKSAAP_HH.gap1, CKSAA...</td>\n",
       "      <td>0.00257634</td>\n",
       "      <td>0.00160722</td>\n",
       "      <td>0.000927926</td>\n",
       "    </tr>\n",
       "    <tr>\n",
       "      <th>6</th>\n",
       "      <td>(12, 14, 16, 22, 121, 128)</td>\n",
       "      <td>[0.8901960784313725, 0.9019607843137255, 0.909...</td>\n",
       "      <td>0.90049</td>\n",
       "      <td>(DPC_HH, CKSAAP_HH.gap0, CKSAAP_HH.gap1, CKSAA...</td>\n",
       "      <td>0.0111956</td>\n",
       "      <td>0.00698422</td>\n",
       "      <td>0.00403234</td>\n",
       "    </tr>\n",
       "    <tr>\n",
       "      <th>7</th>\n",
       "      <td>(12, 14, 16, 22, 89, 121, 128)</td>\n",
       "      <td>[0.8539215686274509, 0.9254901960784314, 0.929...</td>\n",
       "      <td>0.904167</td>\n",
       "      <td>(DPC_HH, CKSAAP_HH.gap0, CKSAAP_HH.gap1, CKSAA...</td>\n",
       "      <td>0.04829</td>\n",
       "      <td>0.0301251</td>\n",
       "      <td>0.0173928</td>\n",
       "    </tr>\n",
       "    <tr>\n",
       "      <th>8</th>\n",
       "      <td>(12, 14, 16, 22, 62, 89, 121, 128)</td>\n",
       "      <td>[0.8852941176470588, 0.942156862745098, 0.9333...</td>\n",
       "      <td>0.917647</td>\n",
       "      <td>(DPC_HH, CKSAAP_HH.gap0, CKSAAP_HH.gap1, CKSAA...</td>\n",
       "      <td>0.0354384</td>\n",
       "      <td>0.0221078</td>\n",
       "      <td>0.0127639</td>\n",
       "    </tr>\n",
       "    <tr>\n",
       "      <th>9</th>\n",
       "      <td>(3, 12, 14, 16, 22, 62, 89, 121, 128)</td>\n",
       "      <td>[0.8921568627450981, 0.9392156862745098, 0.942...</td>\n",
       "      <td>0.921814</td>\n",
       "      <td>(APAAC_Pc1.T, DPC_HH, CKSAAP_HH.gap0, CKSAAP_H...</td>\n",
       "      <td>0.0326711</td>\n",
       "      <td>0.0203815</td>\n",
       "      <td>0.0117673</td>\n",
       "    </tr>\n",
       "    <tr>\n",
       "      <th>10</th>\n",
       "      <td>(3, 12, 14, 16, 22, 24, 62, 89, 121, 128)</td>\n",
       "      <td>[0.9009803921568628, 0.9352941176470588, 0.939...</td>\n",
       "      <td>0.922794</td>\n",
       "      <td>(APAAC_Pc1.T, DPC_HH, CKSAAP_HH.gap0, CKSAAP_H...</td>\n",
       "      <td>0.0247332</td>\n",
       "      <td>0.0154295</td>\n",
       "      <td>0.00890823</td>\n",
       "    </tr>\n",
       "    <tr>\n",
       "      <th>11</th>\n",
       "      <td>(3, 12, 14, 16, 22, 24, 39, 62, 89, 121, 128)</td>\n",
       "      <td>[0.8960784313725491, 0.9411764705882353, 0.943...</td>\n",
       "      <td>0.923775</td>\n",
       "      <td>(APAAC_Pc1.T, DPC_HH, CKSAAP_HH.gap0, CKSAAP_H...</td>\n",
       "      <td>0.0313203</td>\n",
       "      <td>0.0195388</td>\n",
       "      <td>0.0112807</td>\n",
       "    </tr>\n",
       "    <tr>\n",
       "      <th>12</th>\n",
       "      <td>(3, 12, 14, 16, 22, 24, 39, 62, 83, 89, 121, 128)</td>\n",
       "      <td>[0.9068627450980392, 0.9372549019607843, 0.945...</td>\n",
       "      <td>0.926471</td>\n",
       "      <td>(APAAC_Pc1.T, DPC_HH, CKSAAP_HH.gap0, CKSAAP_H...</td>\n",
       "      <td>0.0246237</td>\n",
       "      <td>0.0153612</td>\n",
       "      <td>0.0088688</td>\n",
       "    </tr>\n",
       "    <tr>\n",
       "      <th>13</th>\n",
       "      <td>(3, 12, 14, 16, 22, 24, 39, 62, 72, 83, 89, 12...</td>\n",
       "      <td>[0.8970588235294118, 0.9401960784313725, 0.947...</td>\n",
       "      <td>0.926471</td>\n",
       "      <td>(APAAC_Pc1.T, DPC_HH, CKSAAP_HH.gap0, CKSAAP_H...</td>\n",
       "      <td>0.0310555</td>\n",
       "      <td>0.0193736</td>\n",
       "      <td>0.0111854</td>\n",
       "    </tr>\n",
       "    <tr>\n",
       "      <th>14</th>\n",
       "      <td>(3, 12, 14, 16, 22, 24, 39, 41, 62, 72, 83, 89...</td>\n",
       "      <td>[0.9019607843137255, 0.9382352941176471, 0.945...</td>\n",
       "      <td>0.926471</td>\n",
       "      <td>(APAAC_Pc1.T, DPC_HH, CKSAAP_HH.gap0, CKSAAP_H...</td>\n",
       "      <td>0.0268317</td>\n",
       "      <td>0.0167386</td>\n",
       "      <td>0.00966403</td>\n",
       "    </tr>\n",
       "    <tr>\n",
       "      <th>15</th>\n",
       "      <td>(3, 12, 14, 16, 22, 24, 39, 41, 62, 72, 83, 89...</td>\n",
       "      <td>[0.9009803921568628, 0.9441176470588235, 0.944...</td>\n",
       "      <td>0.926961</td>\n",
       "      <td>(APAAC_Pc1.T, DPC_HH, CKSAAP_HH.gap0, CKSAAP_H...</td>\n",
       "      <td>0.0292642</td>\n",
       "      <td>0.0182561</td>\n",
       "      <td>0.0105402</td>\n",
       "    </tr>\n",
       "    <tr>\n",
       "      <th>16</th>\n",
       "      <td>(3, 12, 14, 16, 19, 22, 24, 39, 41, 62, 72, 83...</td>\n",
       "      <td>[0.9, 0.9401960784313725, 0.9411764705882353, ...</td>\n",
       "      <td>0.925735</td>\n",
       "      <td>(APAAC_Pc1.T, DPC_HH, CKSAAP_HH.gap0, CKSAAP_H...</td>\n",
       "      <td>0.0269092</td>\n",
       "      <td>0.016787</td>\n",
       "      <td>0.00969197</td>\n",
       "    </tr>\n",
       "    <tr>\n",
       "      <th>17</th>\n",
       "      <td>(3, 12, 14, 16, 19, 22, 24, 39, 41, 58, 62, 72...</td>\n",
       "      <td>[0.9019607843137255, 0.942156862745098, 0.9421...</td>\n",
       "      <td>0.926716</td>\n",
       "      <td>(APAAC_Pc1.T, DPC_HH, CKSAAP_HH.gap0, CKSAAP_H...</td>\n",
       "      <td>0.0269092</td>\n",
       "      <td>0.016787</td>\n",
       "      <td>0.00969197</td>\n",
       "    </tr>\n",
       "    <tr>\n",
       "      <th>18</th>\n",
       "      <td>(3, 12, 14, 16, 19, 22, 24, 39, 41, 58, 62, 72...</td>\n",
       "      <td>[0.9049019607843137, 0.9401960784313725, 0.942...</td>\n",
       "      <td>0.927941</td>\n",
       "      <td>(APAAC_Pc1.T, DPC_HH, CKSAAP_HH.gap0, CKSAAP_H...</td>\n",
       "      <td>0.0239758</td>\n",
       "      <td>0.014957</td>\n",
       "      <td>0.00863543</td>\n",
       "    </tr>\n",
       "    <tr>\n",
       "      <th>19</th>\n",
       "      <td>(3, 11, 12, 14, 16, 19, 22, 24, 39, 41, 58, 62...</td>\n",
       "      <td>[0.9029411764705882, 0.9441176470588235, 0.947...</td>\n",
       "      <td>0.929412</td>\n",
       "      <td>(APAAC_Pc1.T, PAAC_Xc1.L, DPC_HH, CKSAAP_HH.ga...</td>\n",
       "      <td>0.0284837</td>\n",
       "      <td>0.0177692</td>\n",
       "      <td>0.010259</td>\n",
       "    </tr>\n",
       "    <tr>\n",
       "      <th>20</th>\n",
       "      <td>(3, 5, 11, 12, 14, 16, 19, 22, 24, 39, 41, 58,...</td>\n",
       "      <td>[0.907843137254902, 0.9411764705882353, 0.9470...</td>\n",
       "      <td>0.929657</td>\n",
       "      <td>(APAAC_Pc1.T, APAAC_Pc2.Hydrophobicity.3, PAAC...</td>\n",
       "      <td>0.0248577</td>\n",
       "      <td>0.0155072</td>\n",
       "      <td>0.00895307</td>\n",
       "    </tr>\n",
       "    <tr>\n",
       "      <th>21</th>\n",
       "      <td>(3, 5, 11, 12, 14, 16, 19, 22, 24, 39, 41, 58,...</td>\n",
       "      <td>[0.9117647058823529, 0.9401960784313725, 0.941...</td>\n",
       "      <td>0.929412</td>\n",
       "      <td>(APAAC_Pc1.T, APAAC_Pc2.Hydrophobicity.3, PAAC...</td>\n",
       "      <td>0.0194707</td>\n",
       "      <td>0.0121466</td>\n",
       "      <td>0.00701283</td>\n",
       "    </tr>\n",
       "    <tr>\n",
       "      <th>22</th>\n",
       "      <td>(3, 5, 11, 12, 14, 16, 19, 22, 24, 39, 41, 58,...</td>\n",
       "      <td>[0.9068627450980392, 0.9392156862745098, 0.947...</td>\n",
       "      <td>0.929657</td>\n",
       "      <td>(APAAC_Pc1.T, APAAC_Pc2.Hydrophobicity.3, PAAC...</td>\n",
       "      <td>0.0244571</td>\n",
       "      <td>0.0152572</td>\n",
       "      <td>0.00880877</td>\n",
       "    </tr>\n",
       "    <tr>\n",
       "      <th>23</th>\n",
       "      <td>(3, 5, 11, 12, 14, 16, 19, 22, 24, 39, 41, 58,...</td>\n",
       "      <td>[0.9127450980392157, 0.942156862745098, 0.9421...</td>\n",
       "      <td>0.930147</td>\n",
       "      <td>(APAAC_Pc1.T, APAAC_Pc2.Hydrophobicity.3, PAAC...</td>\n",
       "      <td>0.0201984</td>\n",
       "      <td>0.0126005</td>\n",
       "      <td>0.00727491</td>\n",
       "    </tr>\n",
       "    <tr>\n",
       "      <th>24</th>\n",
       "      <td>(3, 5, 11, 12, 14, 16, 19, 22, 24, 39, 41, 58,...</td>\n",
       "      <td>[0.9137254901960784, 0.942156862745098, 0.9421...</td>\n",
       "      <td>0.930392</td>\n",
       "      <td>(APAAC_Pc1.T, APAAC_Pc2.Hydrophobicity.3, PAAC...</td>\n",
       "      <td>0.0196601</td>\n",
       "      <td>0.0122647</td>\n",
       "      <td>0.00708103</td>\n",
       "    </tr>\n",
       "    <tr>\n",
       "      <th>25</th>\n",
       "      <td>(3, 5, 11, 12, 14, 16, 19, 22, 24, 39, 41, 58,...</td>\n",
       "      <td>[0.9107843137254902, 0.9401960784313725, 0.947...</td>\n",
       "      <td>0.929902</td>\n",
       "      <td>(APAAC_Pc1.T, APAAC_Pc2.Hydrophobicity.3, PAAC...</td>\n",
       "      <td>0.0231637</td>\n",
       "      <td>0.0144504</td>\n",
       "      <td>0.00834294</td>\n",
       "    </tr>\n",
       "    <tr>\n",
       "      <th>26</th>\n",
       "      <td>(3, 5, 11, 12, 14, 16, 19, 22, 24, 39, 41, 58,...</td>\n",
       "      <td>[0.903921568627451, 0.9431372549019608, 0.9519...</td>\n",
       "      <td>0.930147</td>\n",
       "      <td>(APAAC_Pc1.T, APAAC_Pc2.Hydrophobicity.3, PAAC...</td>\n",
       "      <td>0.0300527</td>\n",
       "      <td>0.018748</td>\n",
       "      <td>0.0108242</td>\n",
       "    </tr>\n",
       "    <tr>\n",
       "      <th>27</th>\n",
       "      <td>(3, 5, 11, 12, 14, 16, 19, 22, 24, 39, 41, 58,...</td>\n",
       "      <td>[0.9107843137254902, 0.9411764705882353, 0.952...</td>\n",
       "      <td>0.931618</td>\n",
       "      <td>(APAAC_Pc1.T, APAAC_Pc2.Hydrophobicity.3, PAAC...</td>\n",
       "      <td>0.0263528</td>\n",
       "      <td>0.0164398</td>\n",
       "      <td>0.00949155</td>\n",
       "    </tr>\n",
       "    <tr>\n",
       "      <th>28</th>\n",
       "      <td>(3, 5, 11, 12, 14, 16, 19, 22, 24, 39, 41, 51,...</td>\n",
       "      <td>[0.9127450980392157, 0.9411764705882353, 0.948...</td>\n",
       "      <td>0.931127</td>\n",
       "      <td>(APAAC_Pc1.T, APAAC_Pc2.Hydrophobicity.3, PAAC...</td>\n",
       "      <td>0.0226482</td>\n",
       "      <td>0.0141288</td>\n",
       "      <td>0.00815726</td>\n",
       "    </tr>\n",
       "    <tr>\n",
       "      <th>29</th>\n",
       "      <td>(3, 5, 11, 12, 14, 16, 19, 22, 24, 39, 41, 51,...</td>\n",
       "      <td>[0.9088235294117647, 0.9441176470588235, 0.951...</td>\n",
       "      <td>0.932108</td>\n",
       "      <td>(APAAC_Pc1.T, APAAC_Pc2.Hydrophobicity.3, PAAC...</td>\n",
       "      <td>0.0272286</td>\n",
       "      <td>0.0169862</td>\n",
       "      <td>0.00980698</td>\n",
       "    </tr>\n",
       "  </tbody>\n",
       "</table>\n",
       "</div>"
      ],
      "text/plain": [
       "                                          feature_idx  \\\n",
       "1                                               (12,)   \n",
       "2                                           (12, 121)   \n",
       "3                                       (12, 22, 121)   \n",
       "4                                   (12, 16, 22, 121)   \n",
       "5                               (12, 14, 16, 22, 121)   \n",
       "6                          (12, 14, 16, 22, 121, 128)   \n",
       "7                      (12, 14, 16, 22, 89, 121, 128)   \n",
       "8                  (12, 14, 16, 22, 62, 89, 121, 128)   \n",
       "9               (3, 12, 14, 16, 22, 62, 89, 121, 128)   \n",
       "10          (3, 12, 14, 16, 22, 24, 62, 89, 121, 128)   \n",
       "11      (3, 12, 14, 16, 22, 24, 39, 62, 89, 121, 128)   \n",
       "12  (3, 12, 14, 16, 22, 24, 39, 62, 83, 89, 121, 128)   \n",
       "13  (3, 12, 14, 16, 22, 24, 39, 62, 72, 83, 89, 12...   \n",
       "14  (3, 12, 14, 16, 22, 24, 39, 41, 62, 72, 83, 89...   \n",
       "15  (3, 12, 14, 16, 22, 24, 39, 41, 62, 72, 83, 89...   \n",
       "16  (3, 12, 14, 16, 19, 22, 24, 39, 41, 62, 72, 83...   \n",
       "17  (3, 12, 14, 16, 19, 22, 24, 39, 41, 58, 62, 72...   \n",
       "18  (3, 12, 14, 16, 19, 22, 24, 39, 41, 58, 62, 72...   \n",
       "19  (3, 11, 12, 14, 16, 19, 22, 24, 39, 41, 58, 62...   \n",
       "20  (3, 5, 11, 12, 14, 16, 19, 22, 24, 39, 41, 58,...   \n",
       "21  (3, 5, 11, 12, 14, 16, 19, 22, 24, 39, 41, 58,...   \n",
       "22  (3, 5, 11, 12, 14, 16, 19, 22, 24, 39, 41, 58,...   \n",
       "23  (3, 5, 11, 12, 14, 16, 19, 22, 24, 39, 41, 58,...   \n",
       "24  (3, 5, 11, 12, 14, 16, 19, 22, 24, 39, 41, 58,...   \n",
       "25  (3, 5, 11, 12, 14, 16, 19, 22, 24, 39, 41, 58,...   \n",
       "26  (3, 5, 11, 12, 14, 16, 19, 22, 24, 39, 41, 58,...   \n",
       "27  (3, 5, 11, 12, 14, 16, 19, 22, 24, 39, 41, 58,...   \n",
       "28  (3, 5, 11, 12, 14, 16, 19, 22, 24, 39, 41, 51,...   \n",
       "29  (3, 5, 11, 12, 14, 16, 19, 22, 24, 39, 41, 51,...   \n",
       "\n",
       "                                            cv_scores avg_score  \\\n",
       "1   [0.8794117647058823, 0.8852941176470588, 0.884...  0.884069   \n",
       "2   [0.8872549019607843, 0.8980392156862745, 0.900...  0.894608   \n",
       "3   [0.8950980392156863, 0.9049019607843137, 0.9, ...  0.898775   \n",
       "4   [0.8970588235294118, 0.9009803921568628, 0.900...  0.898775   \n",
       "5   [0.8980392156862745, 0.8990196078431373, 0.901...  0.899265   \n",
       "6   [0.8901960784313725, 0.9019607843137255, 0.909...   0.90049   \n",
       "7   [0.8539215686274509, 0.9254901960784314, 0.929...  0.904167   \n",
       "8   [0.8852941176470588, 0.942156862745098, 0.9333...  0.917647   \n",
       "9   [0.8921568627450981, 0.9392156862745098, 0.942...  0.921814   \n",
       "10  [0.9009803921568628, 0.9352941176470588, 0.939...  0.922794   \n",
       "11  [0.8960784313725491, 0.9411764705882353, 0.943...  0.923775   \n",
       "12  [0.9068627450980392, 0.9372549019607843, 0.945...  0.926471   \n",
       "13  [0.8970588235294118, 0.9401960784313725, 0.947...  0.926471   \n",
       "14  [0.9019607843137255, 0.9382352941176471, 0.945...  0.926471   \n",
       "15  [0.9009803921568628, 0.9441176470588235, 0.944...  0.926961   \n",
       "16  [0.9, 0.9401960784313725, 0.9411764705882353, ...  0.925735   \n",
       "17  [0.9019607843137255, 0.942156862745098, 0.9421...  0.926716   \n",
       "18  [0.9049019607843137, 0.9401960784313725, 0.942...  0.927941   \n",
       "19  [0.9029411764705882, 0.9441176470588235, 0.947...  0.929412   \n",
       "20  [0.907843137254902, 0.9411764705882353, 0.9470...  0.929657   \n",
       "21  [0.9117647058823529, 0.9401960784313725, 0.941...  0.929412   \n",
       "22  [0.9068627450980392, 0.9392156862745098, 0.947...  0.929657   \n",
       "23  [0.9127450980392157, 0.942156862745098, 0.9421...  0.930147   \n",
       "24  [0.9137254901960784, 0.942156862745098, 0.9421...  0.930392   \n",
       "25  [0.9107843137254902, 0.9401960784313725, 0.947...  0.929902   \n",
       "26  [0.903921568627451, 0.9431372549019608, 0.9519...  0.930147   \n",
       "27  [0.9107843137254902, 0.9411764705882353, 0.952...  0.931618   \n",
       "28  [0.9127450980392157, 0.9411764705882353, 0.948...  0.931127   \n",
       "29  [0.9088235294117647, 0.9441176470588235, 0.951...  0.932108   \n",
       "\n",
       "                                        feature_names    ci_bound     std_dev  \\\n",
       "1                                           (DPC_HH,)  0.00463208  0.00288966   \n",
       "2                           (DPC_HH, CTriad_g3.g1.g3)  0.00849946  0.00530228   \n",
       "3           (DPC_HH, CKSAAP_HH.gap3, CTriad_g3.g1.g3)   0.0065153  0.00406449   \n",
       "4   (DPC_HH, CKSAAP_HH.gap1, CKSAAP_HH.gap3, CTria...  0.00357938  0.00223295   \n",
       "5   (DPC_HH, CKSAAP_HH.gap0, CKSAAP_HH.gap1, CKSAA...  0.00257634  0.00160722   \n",
       "6   (DPC_HH, CKSAAP_HH.gap0, CKSAAP_HH.gap1, CKSAA...   0.0111956  0.00698422   \n",
       "7   (DPC_HH, CKSAAP_HH.gap0, CKSAAP_HH.gap1, CKSAA...     0.04829   0.0301251   \n",
       "8   (DPC_HH, CKSAAP_HH.gap0, CKSAAP_HH.gap1, CKSAA...   0.0354384   0.0221078   \n",
       "9   (APAAC_Pc1.T, DPC_HH, CKSAAP_HH.gap0, CKSAAP_H...   0.0326711   0.0203815   \n",
       "10  (APAAC_Pc1.T, DPC_HH, CKSAAP_HH.gap0, CKSAAP_H...   0.0247332   0.0154295   \n",
       "11  (APAAC_Pc1.T, DPC_HH, CKSAAP_HH.gap0, CKSAAP_H...   0.0313203   0.0195388   \n",
       "12  (APAAC_Pc1.T, DPC_HH, CKSAAP_HH.gap0, CKSAAP_H...   0.0246237   0.0153612   \n",
       "13  (APAAC_Pc1.T, DPC_HH, CKSAAP_HH.gap0, CKSAAP_H...   0.0310555   0.0193736   \n",
       "14  (APAAC_Pc1.T, DPC_HH, CKSAAP_HH.gap0, CKSAAP_H...   0.0268317   0.0167386   \n",
       "15  (APAAC_Pc1.T, DPC_HH, CKSAAP_HH.gap0, CKSAAP_H...   0.0292642   0.0182561   \n",
       "16  (APAAC_Pc1.T, DPC_HH, CKSAAP_HH.gap0, CKSAAP_H...   0.0269092    0.016787   \n",
       "17  (APAAC_Pc1.T, DPC_HH, CKSAAP_HH.gap0, CKSAAP_H...   0.0269092    0.016787   \n",
       "18  (APAAC_Pc1.T, DPC_HH, CKSAAP_HH.gap0, CKSAAP_H...   0.0239758    0.014957   \n",
       "19  (APAAC_Pc1.T, PAAC_Xc1.L, DPC_HH, CKSAAP_HH.ga...   0.0284837   0.0177692   \n",
       "20  (APAAC_Pc1.T, APAAC_Pc2.Hydrophobicity.3, PAAC...   0.0248577   0.0155072   \n",
       "21  (APAAC_Pc1.T, APAAC_Pc2.Hydrophobicity.3, PAAC...   0.0194707   0.0121466   \n",
       "22  (APAAC_Pc1.T, APAAC_Pc2.Hydrophobicity.3, PAAC...   0.0244571   0.0152572   \n",
       "23  (APAAC_Pc1.T, APAAC_Pc2.Hydrophobicity.3, PAAC...   0.0201984   0.0126005   \n",
       "24  (APAAC_Pc1.T, APAAC_Pc2.Hydrophobicity.3, PAAC...   0.0196601   0.0122647   \n",
       "25  (APAAC_Pc1.T, APAAC_Pc2.Hydrophobicity.3, PAAC...   0.0231637   0.0144504   \n",
       "26  (APAAC_Pc1.T, APAAC_Pc2.Hydrophobicity.3, PAAC...   0.0300527    0.018748   \n",
       "27  (APAAC_Pc1.T, APAAC_Pc2.Hydrophobicity.3, PAAC...   0.0263528   0.0164398   \n",
       "28  (APAAC_Pc1.T, APAAC_Pc2.Hydrophobicity.3, PAAC...   0.0226482   0.0141288   \n",
       "29  (APAAC_Pc1.T, APAAC_Pc2.Hydrophobicity.3, PAAC...   0.0272286   0.0169862   \n",
       "\n",
       "        std_err  \n",
       "1    0.00166835  \n",
       "2    0.00306127  \n",
       "3    0.00234664  \n",
       "4    0.00128919  \n",
       "5   0.000927926  \n",
       "6    0.00403234  \n",
       "7     0.0173928  \n",
       "8     0.0127639  \n",
       "9     0.0117673  \n",
       "10   0.00890823  \n",
       "11    0.0112807  \n",
       "12    0.0088688  \n",
       "13    0.0111854  \n",
       "14   0.00966403  \n",
       "15    0.0105402  \n",
       "16   0.00969197  \n",
       "17   0.00969197  \n",
       "18   0.00863543  \n",
       "19     0.010259  \n",
       "20   0.00895307  \n",
       "21   0.00701283  \n",
       "22   0.00880877  \n",
       "23   0.00727491  \n",
       "24   0.00708103  \n",
       "25   0.00834294  \n",
       "26    0.0108242  \n",
       "27   0.00949155  \n",
       "28   0.00815726  \n",
       "29   0.00980698  "
      ]
     },
     "execution_count": 243,
     "metadata": {},
     "output_type": "execute_result"
    }
   ],
   "source": [
    "# Get the information of different feature combinations, you can see that when there are 59 feature combinations, the accuracy is the highest\n",
    "pd.DataFrame.from_dict(sel_SFS.get_metric_dict()).T"
   ]
  },
  {
   "cell_type": "code",
   "execution_count": 236,
   "metadata": {},
   "outputs": [],
   "source": [
    "#pd.DataFrame.from_dict(sel_SFS.get_metric_dict()).T .to_csv('C:/Python/internship/Features/MCTR_selSFS')"
   ]
  },
  {
   "cell_type": "code",
   "execution_count": 244,
   "metadata": {},
   "outputs": [
    {
     "name": "stdout",
     "output_type": "stream",
     "text": [
      "(4080, 29)\n"
     ]
    }
   ],
   "source": [
    "df_MCTR_selSFS = pd.DataFrame()\n",
    "for s in list(sel_SFS.k_feature_names_):\n",
    "    df_MCTR_selSFS[s] = df_MCTR[s]\n",
    "print(df_MCTR_selSFS.shape)\n",
    "df_MCTR_selSFS.to_csv('C:/Python/internship/Crystal_Features_new/df_MCTR_selSFS')"
   ]
  },
  {
   "cell_type": "code",
   "execution_count": 245,
   "metadata": {},
   "outputs": [
    {
     "name": "stdout",
     "output_type": "stream",
     "text": [
      "(1020, 29)\n"
     ]
    }
   ],
   "source": [
    "df_MCTE_selSFS = pd.DataFrame()\n",
    "for i in list(sel_SFS.k_feature_names_):\n",
    "    df_MCTE_selSFS[i] = df_MCTE[i]\n",
    "print(df_MCTE_selSFS.shape)\n",
    "df_MCTE_selSFS.to_csv('C:/Python/internship/Crystal_Features_new/df_MCTE_selSFS')"
   ]
  },
  {
   "cell_type": "markdown",
   "metadata": {},
   "source": [
    "## Compare performance"
   ]
  },
  {
   "cell_type": "code",
   "execution_count": 167,
   "metadata": {},
   "outputs": [],
   "source": [
    "from sklearn.preprocessing import StandardScaler\n",
    "from sklearn.decomposition import PCA\n",
    "from sklearn.pipeline import Pipeline\n",
    "from sklearn.linear_model import LogisticRegression\n",
    "from sklearn.tree import DecisionTreeClassifier\n",
    "from sklearn.ensemble import RandomForestClassifier\n",
    "from sklearn.metrics import accuracy_score\n",
    "from deepforest import CascadeForestClassifier\n",
    "from sklearn.svm import SVC"
   ]
  },
  {
   "cell_type": "code",
   "execution_count": 168,
   "metadata": {},
   "outputs": [
    {
     "data": {
      "text/plain": [
       "'C:\\\\Python\\\\internship\\\\Crystal_Features_new/'"
      ]
     },
     "execution_count": 168,
     "metadata": {},
     "output_type": "execute_result"
    }
   ],
   "source": [
    "sel_dir = os.path.join(cwd,'Crystal_Features_new/')\n",
    "sel_dir"
   ]
  },
  {
   "cell_type": "code",
   "execution_count": 248,
   "metadata": {},
   "outputs": [
    {
     "data": {
      "text/plain": [
       "['df_MCTE_selFest',\n",
       " 'df_MCTE_selGB',\n",
       " 'df_MCTE_selImportance',\n",
       " 'df_MCTE_selMIG',\n",
       " 'df_MCTE_selRFE',\n",
       " 'df_MCTE_selSFS',\n",
       " 'df_MCTR_selFest',\n",
       " 'df_MCTR_selGB',\n",
       " 'df_MCTR_selImportance',\n",
       " 'df_MCTR_selMIG',\n",
       " 'df_MCTR_selRFE',\n",
       " 'df_MCTR_selSFS']"
      ]
     },
     "execution_count": 248,
     "metadata": {},
     "output_type": "execute_result"
    }
   ],
   "source": [
    "sel_files = os.listdir(sel_dir)\n",
    "sel_files"
   ]
  },
  {
   "cell_type": "code",
   "execution_count": 255,
   "metadata": {},
   "outputs": [
    {
     "data": {
      "text/plain": [
       "12"
      ]
     },
     "execution_count": 255,
     "metadata": {},
     "output_type": "execute_result"
    }
   ],
   "source": [
    "len(sel_files)"
   ]
  },
  {
   "cell_type": "code",
   "execution_count": 256,
   "metadata": {},
   "outputs": [
    {
     "name": "stdout",
     "output_type": "stream",
     "text": [
      "['df_MCTR_selFest', 'df_MCTR_selGB', 'df_MCTR_selImportance', 'df_MCTR_selMIG', 'df_MCTR_selRFE', 'df_MCTR_selSFS'] ['df_MCTE_selFest', 'df_MCTE_selGB', 'df_MCTE_selImportance', 'df_MCTE_selMIG', 'df_MCTE_selRFE', 'df_MCTE_selSFS']\n"
     ]
    }
   ],
   "source": [
    "sel_TR = []\n",
    "sel_TE = []\n",
    "for s in sel_files:\n",
    "    if s[5:7] == 'TE':\n",
    "        sel_TE.append(s)\n",
    "    else:\n",
    "        sel_TR.append(s)\n",
    "print(sel_TR,sel_TE)"
   ]
  },
  {
   "cell_type": "code",
   "execution_count": 257,
   "metadata": {
    "scrolled": false
   },
   "outputs": [
    {
     "name": "stdout",
     "output_type": "stream",
     "text": [
      "df_MCTR_selFest df_MCTE_selFest\n",
      "The accuracy of model_LR is  0.8705882352941177\n",
      "The accuracy of model_DT is  0.8637254901960785\n",
      "The accuracy of model_RF is  0.9245098039215687\n",
      "The accuracy of model_SVC is  0.8735294117647059\n",
      "[2022-02-22 02:24:14.027] Start to fit the model:\n",
      "[2022-02-22 02:24:14.027] Fitting cascade layer = 0 \n",
      "[2022-02-22 02:24:32.683] layer = 0  | Val Acc = 91.765 % | Elapsed = 18.656 s\n",
      "[2022-02-22 02:24:32.699] Fitting cascade layer = 1 \n",
      "[2022-02-22 02:24:48.574] layer = 1  | Val Acc = 92.794 % | Elapsed = 15.875 s\n",
      "[2022-02-22 02:24:48.581] Fitting cascade layer = 2 \n",
      "[2022-02-22 02:25:04.441] layer = 2  | Val Acc = 92.966 % | Elapsed = 15.859 s\n",
      "[2022-02-22 02:25:04.448] Fitting cascade layer = 3 \n",
      "[2022-02-22 02:25:20.242] layer = 3  | Val Acc = 93.137 % | Elapsed = 15.795 s\n",
      "[2022-02-22 02:25:20.250] Fitting cascade layer = 4 \n",
      "[2022-02-22 02:25:36.022] layer = 4  | Val Acc = 93.162 % | Elapsed = 15.772 s\n",
      "[2022-02-22 02:25:36.028] Fitting cascade layer = 5 \n",
      "[2022-02-22 02:25:51.965] layer = 5  | Val Acc = 93.162 % | Elapsed = 15.938 s\n",
      "[2022-02-22 02:25:51.967] Early stopping counter: 1 out of 2\n",
      "[2022-02-22 02:25:51.973] Fitting cascade layer = 6 \n",
      "[2022-02-22 02:26:07.942] layer = 6  | Val Acc = 92.941 % | Elapsed = 15.970 s\n",
      "[2022-02-22 02:26:07.942] Early stopping counter: 2 out of 2\n",
      "[2022-02-22 02:26:07.942] Handling early stopping\n",
      "[2022-02-22 02:26:07.944] The optimal number of layers: 5\n",
      "[2022-02-22 02:26:07.946] Start to evalute the model:\n",
      "[2022-02-22 02:26:07.997] Evaluating cascade layer = 0 \n",
      "[2022-02-22 02:26:08.066] Evaluating cascade layer = 1 \n",
      "[2022-02-22 02:26:08.133] Evaluating cascade layer = 2 \n",
      "[2022-02-22 02:26:08.200] Evaluating cascade layer = 3 \n",
      "[2022-02-22 02:26:08.267] Evaluating cascade layer = 4 \n",
      "The accuracy of model_DCF is  0.9323529411764706\n",
      "The accuracy of model_GB is  0.9294117647058824\n",
      "============================================================ \n",
      "df_MCTR_selGB df_MCTE_selGB\n",
      "The accuracy of model_LR is  0.8725490196078431\n",
      "The accuracy of model_DT is  0.8647058823529412\n",
      "The accuracy of model_RF is  0.9284313725490196\n",
      "The accuracy of model_SVC is  0.8735294117647059\n",
      "[2022-02-22 02:28:10.823] Start to fit the model:\n",
      "[2022-02-22 02:28:10.823] Fitting cascade layer = 0 \n",
      "[2022-02-22 02:28:19.916] layer = 0  | Val Acc = 93.137 % | Elapsed = 9.093 s\n",
      "[2022-02-22 02:28:19.925] Fitting cascade layer = 1 \n",
      "[2022-02-22 02:28:27.588] layer = 1  | Val Acc = 93.407 % | Elapsed = 7.663 s\n",
      "[2022-02-22 02:28:27.594] Fitting cascade layer = 2 \n",
      "[2022-02-22 02:28:35.026] layer = 2  | Val Acc = 93.407 % | Elapsed = 7.432 s\n",
      "[2022-02-22 02:28:35.026] Early stopping counter: 1 out of 2\n",
      "[2022-02-22 02:28:35.033] Fitting cascade layer = 3 \n",
      "[2022-02-22 02:28:42.460] layer = 3  | Val Acc = 93.456 % | Elapsed = 7.427 s\n",
      "[2022-02-22 02:28:42.467] Fitting cascade layer = 4 \n",
      "[2022-02-22 02:28:49.973] layer = 4  | Val Acc = 93.529 % | Elapsed = 7.507 s\n",
      "[2022-02-22 02:28:49.980] Fitting cascade layer = 5 \n",
      "[2022-02-22 02:28:57.549] layer = 5  | Val Acc = 93.480 % | Elapsed = 7.569 s\n",
      "[2022-02-22 02:28:57.549] Early stopping counter: 1 out of 2\n",
      "[2022-02-22 02:28:57.556] Fitting cascade layer = 6 \n",
      "[2022-02-22 02:29:05.130] layer = 6  | Val Acc = 93.382 % | Elapsed = 7.574 s\n",
      "[2022-02-22 02:29:05.130] Early stopping counter: 2 out of 2\n",
      "[2022-02-22 02:29:05.130] Handling early stopping\n",
      "[2022-02-22 02:29:05.132] The optimal number of layers: 5\n",
      "[2022-02-22 02:29:05.133] Start to evalute the model:\n",
      "[2022-02-22 02:29:05.147] Evaluating cascade layer = 0 \n",
      "[2022-02-22 02:29:05.205] Evaluating cascade layer = 1 \n",
      "[2022-02-22 02:29:05.257] Evaluating cascade layer = 2 \n",
      "[2022-02-22 02:29:05.308] Evaluating cascade layer = 3 \n",
      "[2022-02-22 02:29:05.361] Evaluating cascade layer = 4 \n",
      "The accuracy of model_DCF is  0.9352941176470588\n",
      "The accuracy of model_GB is  0.9245098039215687\n",
      "============================================================ \n",
      "df_MCTR_selImportance df_MCTE_selImportance\n",
      "The accuracy of model_LR is  0.8725490196078431\n",
      "The accuracy of model_DT is  0.8411764705882353\n",
      "The accuracy of model_RF is  0.9333333333333333\n",
      "The accuracy of model_SVC is  0.8735294117647059\n",
      "[2022-02-22 02:29:53.250] Start to fit the model:\n",
      "[2022-02-22 02:29:53.250] Fitting cascade layer = 0 \n",
      "[2022-02-22 02:30:02.367] layer = 0  | Val Acc = 93.137 % | Elapsed = 9.117 s\n",
      "[2022-02-22 02:30:02.377] Fitting cascade layer = 1 \n",
      "[2022-02-22 02:30:10.030] layer = 1  | Val Acc = 93.407 % | Elapsed = 7.654 s\n",
      "[2022-02-22 02:30:10.036] Fitting cascade layer = 2 \n",
      "[2022-02-22 02:30:17.444] layer = 2  | Val Acc = 93.407 % | Elapsed = 7.408 s\n",
      "[2022-02-22 02:30:17.444] Early stopping counter: 1 out of 2\n",
      "[2022-02-22 02:30:17.451] Fitting cascade layer = 3 \n",
      "[2022-02-22 02:30:24.901] layer = 3  | Val Acc = 93.456 % | Elapsed = 7.450 s\n",
      "[2022-02-22 02:30:24.907] Fitting cascade layer = 4 \n",
      "[2022-02-22 02:30:32.416] layer = 4  | Val Acc = 93.529 % | Elapsed = 7.509 s\n",
      "[2022-02-22 02:30:32.423] Fitting cascade layer = 5 \n",
      "[2022-02-22 02:30:39.976] layer = 5  | Val Acc = 93.480 % | Elapsed = 7.553 s\n",
      "[2022-02-22 02:30:39.977] Early stopping counter: 1 out of 2\n",
      "[2022-02-22 02:30:39.984] Fitting cascade layer = 6 \n",
      "[2022-02-22 02:30:47.570] layer = 6  | Val Acc = 93.382 % | Elapsed = 7.586 s\n",
      "[2022-02-22 02:30:47.570] Early stopping counter: 2 out of 2\n",
      "[2022-02-22 02:30:47.571] Handling early stopping\n",
      "[2022-02-22 02:30:47.572] The optimal number of layers: 5\n",
      "[2022-02-22 02:30:47.574] Start to evalute the model:\n",
      "[2022-02-22 02:30:47.589] Evaluating cascade layer = 0 \n",
      "[2022-02-22 02:30:47.647] Evaluating cascade layer = 1 \n",
      "[2022-02-22 02:30:47.699] Evaluating cascade layer = 2 \n",
      "[2022-02-22 02:30:47.752] Evaluating cascade layer = 3 \n",
      "[2022-02-22 02:30:47.805] Evaluating cascade layer = 4 \n",
      "The accuracy of model_DCF is  0.9352941176470588\n",
      "The accuracy of model_GB is  0.9245098039215687\n",
      "============================================================ \n",
      "df_MCTR_selMIG df_MCTE_selMIG\n",
      "The accuracy of model_LR is  0.9215686274509803\n",
      "The accuracy of model_DT is  0.8803921568627451\n",
      "The accuracy of model_RF is  0.9264705882352942\n",
      "The accuracy of model_SVC is  0.9186274509803921\n",
      "[2022-02-22 02:31:22.634] Start to fit the model:\n",
      "[2022-02-22 02:31:22.634] Fitting cascade layer = 0 \n",
      "[2022-02-22 02:31:27.811] layer = 0  | Val Acc = 93.088 % | Elapsed = 5.177 s\n",
      "[2022-02-22 02:31:27.819] Fitting cascade layer = 1 \n",
      "[2022-02-22 02:31:32.104] layer = 1  | Val Acc = 93.284 % | Elapsed = 4.284 s\n",
      "[2022-02-22 02:31:32.111] Fitting cascade layer = 2 \n",
      "[2022-02-22 02:31:36.394] layer = 2  | Val Acc = 93.358 % | Elapsed = 4.283 s\n",
      "[2022-02-22 02:31:36.401] Fitting cascade layer = 3 \n",
      "[2022-02-22 02:31:40.625] layer = 3  | Val Acc = 93.382 % | Elapsed = 4.224 s\n",
      "[2022-02-22 02:31:40.632] Fitting cascade layer = 4 \n",
      "[2022-02-22 02:31:44.956] layer = 4  | Val Acc = 93.333 % | Elapsed = 4.324 s\n",
      "[2022-02-22 02:31:44.956] Early stopping counter: 1 out of 2\n",
      "[2022-02-22 02:31:44.963] Fitting cascade layer = 5 \n",
      "[2022-02-22 02:31:49.275] layer = 5  | Val Acc = 93.309 % | Elapsed = 4.311 s\n",
      "[2022-02-22 02:31:49.275] Early stopping counter: 2 out of 2\n",
      "[2022-02-22 02:31:49.275] Handling early stopping\n",
      "[2022-02-22 02:31:49.276] The optimal number of layers: 4\n",
      "[2022-02-22 02:31:49.278] Start to evalute the model:\n",
      "[2022-02-22 02:31:49.284] Evaluating cascade layer = 0 \n",
      "[2022-02-22 02:31:49.339] Evaluating cascade layer = 1 \n",
      "[2022-02-22 02:31:49.389] Evaluating cascade layer = 2 \n",
      "[2022-02-22 02:31:49.439] Evaluating cascade layer = 3 \n",
      "The accuracy of model_DCF is  0.9343137254901961\n",
      "The accuracy of model_GB is  0.9284313725490196\n",
      "============================================================ \n",
      "df_MCTR_selRFE df_MCTE_selRFE\n",
      "The accuracy of model_LR is  0.888235294117647\n",
      "The accuracy of model_DT is  0.8588235294117647\n",
      "The accuracy of model_RF is  0.9294117647058824\n",
      "The accuracy of model_SVC is  0.8735294117647059\n",
      "[2022-02-22 02:32:12.262] Start to fit the model:\n",
      "[2022-02-22 02:32:12.262] Fitting cascade layer = 0 \n",
      "[2022-02-22 02:32:18.554] layer = 0  | Val Acc = 93.260 % | Elapsed = 6.292 s\n",
      "[2022-02-22 02:32:18.561] Fitting cascade layer = 1 \n",
      "[2022-02-22 02:32:23.583] layer = 1  | Val Acc = 93.407 % | Elapsed = 5.021 s\n",
      "[2022-02-22 02:32:23.588] Fitting cascade layer = 2 \n"
     ]
    },
    {
     "name": "stdout",
     "output_type": "stream",
     "text": [
      "[2022-02-22 02:32:28.571] layer = 2  | Val Acc = 93.505 % | Elapsed = 4.982 s\n",
      "[2022-02-22 02:32:28.578] Fitting cascade layer = 3 \n",
      "[2022-02-22 02:32:33.659] layer = 3  | Val Acc = 93.578 % | Elapsed = 5.081 s\n",
      "[2022-02-22 02:32:33.665] Fitting cascade layer = 4 \n",
      "[2022-02-22 02:32:38.767] layer = 4  | Val Acc = 93.578 % | Elapsed = 5.102 s\n",
      "[2022-02-22 02:32:38.768] Early stopping counter: 1 out of 2\n",
      "[2022-02-22 02:32:38.774] Fitting cascade layer = 5 \n",
      "[2022-02-22 02:32:43.899] layer = 5  | Val Acc = 93.456 % | Elapsed = 5.125 s\n",
      "[2022-02-22 02:32:43.899] Early stopping counter: 2 out of 2\n",
      "[2022-02-22 02:32:43.899] Handling early stopping\n",
      "[2022-02-22 02:32:43.901] The optimal number of layers: 4\n",
      "[2022-02-22 02:32:43.902] Start to evalute the model:\n",
      "[2022-02-22 02:32:43.910] Evaluating cascade layer = 0 \n",
      "[2022-02-22 02:32:43.967] Evaluating cascade layer = 1 \n",
      "[2022-02-22 02:32:44.017] Evaluating cascade layer = 2 \n",
      "[2022-02-22 02:32:44.067] Evaluating cascade layer = 3 \n",
      "The accuracy of model_DCF is  0.9431372549019608\n",
      "The accuracy of model_GB is  0.9264705882352942\n",
      "============================================================ \n",
      "df_MCTR_selSFS df_MCTE_selSFS\n",
      "The accuracy of model_LR is  0.9186274509803921\n",
      "The accuracy of model_DT is  0.8764705882352941\n",
      "The accuracy of model_RF is  0.9313725490196079\n",
      "The accuracy of model_SVC is  0.9147058823529411\n",
      "[2022-02-22 02:33:00.515] Start to fit the model:\n",
      "[2022-02-22 02:33:00.516] Fitting cascade layer = 0 \n",
      "[2022-02-22 02:33:02.704] layer = 0  | Val Acc = 93.358 % | Elapsed = 2.189 s\n",
      "[2022-02-22 02:33:02.711] Fitting cascade layer = 1 \n",
      "[2022-02-22 02:33:04.953] layer = 1  | Val Acc = 93.407 % | Elapsed = 2.242 s\n",
      "[2022-02-22 02:33:04.960] Fitting cascade layer = 2 \n",
      "[2022-02-22 02:33:07.172] layer = 2  | Val Acc = 93.431 % | Elapsed = 2.212 s\n",
      "[2022-02-22 02:33:07.178] Fitting cascade layer = 3 \n",
      "[2022-02-22 02:33:09.365] layer = 3  | Val Acc = 93.431 % | Elapsed = 2.188 s\n",
      "[2022-02-22 02:33:09.365] Early stopping counter: 1 out of 2\n",
      "[2022-02-22 02:33:09.372] Fitting cascade layer = 4 \n",
      "[2022-02-22 02:33:11.539] layer = 4  | Val Acc = 93.235 % | Elapsed = 2.167 s\n",
      "[2022-02-22 02:33:11.539] Early stopping counter: 2 out of 2\n",
      "[2022-02-22 02:33:11.539] Handling early stopping\n",
      "[2022-02-22 02:33:11.541] The optimal number of layers: 3\n",
      "[2022-02-22 02:33:11.542] Start to evalute the model:\n",
      "[2022-02-22 02:33:11.546] Evaluating cascade layer = 0 \n",
      "[2022-02-22 02:33:11.603] Evaluating cascade layer = 1 \n",
      "[2022-02-22 02:33:11.654] Evaluating cascade layer = 2 \n",
      "The accuracy of model_DCF is  0.9294117647058824\n",
      "The accuracy of model_GB is  0.9294117647058824\n",
      "============================================================ \n",
      "596.4012944698334\n"
     ]
    }
   ],
   "source": [
    "start = time.time()\n",
    "for tr,te in zip(sel_TR,sel_TE):\n",
    "    X = pd.read_csv(sel_dir+tr)\n",
    "    X = X.drop(columns=['Unnamed: 0'])\n",
    "    x = pd.read_csv(sel_dir+te)\n",
    "    x = x.drop(columns=['Unnamed: 0'])\n",
    "    \n",
    "    print(tr,te)\n",
    "    model_LR = LogisticRegression(random_state=0)\n",
    "    model_LR.fit(X,Y_MCTR)\n",
    "    print('The accuracy of model_LR is ',model_LR.score(x, Y_MCTE))\n",
    "    \n",
    "    model_DT = DecisionTreeClassifier()\n",
    "    model_DT.fit(X,Y_MCTR)\n",
    "    print('The accuracy of model_DT is ',model_DT.score(x, Y_MCTE))\n",
    "    \n",
    "    model_RF = RandomForestClassifier()\n",
    "    model_RF.fit(X,Y_MCTR)\n",
    "    print('The accuracy of model_RF is ',model_RF.score(x, Y_MCTE))\n",
    "    \n",
    "    model_SVC = SVC(gamma='auto')\n",
    "    model_SVC.fit(X,Y_MCTR)\n",
    "    print('The accuracy of model_SVC is ',model_SVC.score(x, Y_MCTE))\n",
    "    \n",
    "    model_DCF = CascadeForestClassifier(random_state=0)\n",
    "    model_DCF.fit(X.values,Y_MCTR)\n",
    "    print('The accuracy of model_DCF is ',model_DCF.score(x, Y_MCTE))\n",
    "    \n",
    "    model_GB = GradientBoostingClassifier(n_estimators=100,random_state=0)\n",
    "    model_GB.fit(X,Y_MCTR)\n",
    "    print('The accuracy of model_GB is ',model_GB.score(x, Y_MCTE))\n",
    "    print('============================================================ ')\n",
    "end = time.time()\n",
    "print(end-start)"
   ]
  },
  {
   "cell_type": "code",
   "execution_count": null,
   "metadata": {},
   "outputs": [],
   "source": []
  },
  {
   "cell_type": "code",
   "execution_count": null,
   "metadata": {},
   "outputs": [],
   "source": []
  },
  {
   "cell_type": "code",
   "execution_count": null,
   "metadata": {},
   "outputs": [],
   "source": []
  },
  {
   "cell_type": "code",
   "execution_count": null,
   "metadata": {},
   "outputs": [],
   "source": []
  },
  {
   "cell_type": "code",
   "execution_count": null,
   "metadata": {},
   "outputs": [],
   "source": []
  },
  {
   "cell_type": "code",
   "execution_count": null,
   "metadata": {},
   "outputs": [],
   "source": []
  },
  {
   "cell_type": "code",
   "execution_count": null,
   "metadata": {},
   "outputs": [],
   "source": []
  },
  {
   "cell_type": "code",
   "execution_count": null,
   "metadata": {},
   "outputs": [],
   "source": []
  },
  {
   "cell_type": "code",
   "execution_count": null,
   "metadata": {},
   "outputs": [],
   "source": []
  },
  {
   "cell_type": "code",
   "execution_count": null,
   "metadata": {},
   "outputs": [],
   "source": []
  },
  {
   "cell_type": "code",
   "execution_count": null,
   "metadata": {},
   "outputs": [],
   "source": []
  }
 ],
 "metadata": {
  "kernelspec": {
   "display_name": "Python 3",
   "language": "python",
   "name": "python3"
  },
  "language_info": {
   "codemirror_mode": {
    "name": "ipython",
    "version": 3
   },
   "file_extension": ".py",
   "mimetype": "text/x-python",
   "name": "python",
   "nbconvert_exporter": "python",
   "pygments_lexer": "ipython3",
   "version": "3.8.3"
  }
 },
 "nbformat": 4,
 "nbformat_minor": 4
}
