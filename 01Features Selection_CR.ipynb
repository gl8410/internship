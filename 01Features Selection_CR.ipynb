{
 "cells": [
  {
   "cell_type": "markdown",
   "metadata": {},
   "source": [
    "# Features Selection"
   ]
  },
  {
   "cell_type": "code",
   "execution_count": 1,
   "metadata": {},
   "outputs": [],
   "source": [
    "import pandas as pd\n",
    "import numpy as np\n",
    "import os\n",
    "import time\n",
    "import warnings\n",
    "warnings.filterwarnings('ignore')"
   ]
  },
  {
   "cell_type": "code",
   "execution_count": 2,
   "metadata": {},
   "outputs": [
    {
     "data": {
      "text/plain": [
       "'C:\\\\Python\\\\internship'"
      ]
     },
     "execution_count": 2,
     "metadata": {},
     "output_type": "execute_result"
    }
   ],
   "source": [
    "cwd = os.getcwd()\n",
    "cwd"
   ]
  },
  {
   "cell_type": "markdown",
   "metadata": {},
   "source": [
    "## get list of files' name of features that be saved in csv"
   ]
  },
  {
   "cell_type": "code",
   "execution_count": 3,
   "metadata": {},
   "outputs": [
    {
     "data": {
      "text/plain": [
       "'C:\\\\Python\\\\internship\\\\Crystal_FeaturesConcat'"
      ]
     },
     "execution_count": 3,
     "metadata": {},
     "output_type": "execute_result"
    }
   ],
   "source": [
    "feature_dir = os.path.join(cwd,'Crystal_FeaturesConcat')  #join合并路径和文件夹名\n",
    "feature_dir"
   ]
  },
  {
   "cell_type": "code",
   "execution_count": 4,
   "metadata": {},
   "outputs": [
    {
     "data": {
      "text/plain": [
       "['CF_TE.csv',\n",
       " 'CF_TR.csv',\n",
       " 'CR_TE.csv',\n",
       " 'CR_TR.csv',\n",
       " 'MC_TE.csv',\n",
       " 'MC_TR.csv',\n",
       " 'MF_TE.csv',\n",
       " 'MF_TR.csv',\n",
       " 'PF_TE.csv',\n",
       " 'PF_TR.csv']"
      ]
     },
     "execution_count": 4,
     "metadata": {},
     "output_type": "execute_result"
    }
   ],
   "source": [
    "features_files = os.listdir(feature_dir)  #利用os.listdir()获得文件夹中的文件名\n",
    "features_files"
   ]
  },
  {
   "cell_type": "markdown",
   "metadata": {},
   "source": [
    "### Read CF Data"
   ]
  },
  {
   "cell_type": "code",
   "execution_count": 5,
   "metadata": {},
   "outputs": [
    {
     "data": {
      "text/plain": [
       "(2184, 4613)"
      ]
     },
     "execution_count": 5,
     "metadata": {},
     "output_type": "execute_result"
    }
   ],
   "source": [
    "#read CFTR data\n",
    "df_CFTR = pd.read_csv(feature_dir+'\\\\'+features_files[1])\n",
    "df_CFTR.shape"
   ]
  },
  {
   "cell_type": "code",
   "execution_count": 6,
   "metadata": {},
   "outputs": [
    {
     "data": {
      "text/html": [
       "<div>\n",
       "<style scoped>\n",
       "    .dataframe tbody tr th:only-of-type {\n",
       "        vertical-align: middle;\n",
       "    }\n",
       "\n",
       "    .dataframe tbody tr th {\n",
       "        vertical-align: top;\n",
       "    }\n",
       "\n",
       "    .dataframe thead th {\n",
       "        text-align: right;\n",
       "    }\n",
       "</style>\n",
       "<table border=\"1\" class=\"dataframe\">\n",
       "  <thead>\n",
       "    <tr style=\"text-align: right;\">\n",
       "      <th></th>\n",
       "      <th>Unnamed: 0</th>\n",
       "      <th>AAC_#</th>\n",
       "      <th>AAC_A</th>\n",
       "      <th>AAC_C</th>\n",
       "      <th>AAC_D</th>\n",
       "      <th>AAC_E</th>\n",
       "      <th>AAC_F</th>\n",
       "      <th>AAC_G</th>\n",
       "      <th>AAC_H</th>\n",
       "      <th>AAC_I</th>\n",
       "      <th>...</th>\n",
       "      <th>QSOrder_Grantham.Xd.21</th>\n",
       "      <th>QSOrder_Grantham.Xd.22</th>\n",
       "      <th>QSOrder_Grantham.Xd.23</th>\n",
       "      <th>QSOrder_Grantham.Xd.24</th>\n",
       "      <th>QSOrder_Grantham.Xd.25</th>\n",
       "      <th>QSOrder_Grantham.Xd.26</th>\n",
       "      <th>QSOrder_Grantham.Xd.27</th>\n",
       "      <th>QSOrder_Grantham.Xd.28</th>\n",
       "      <th>QSOrder_Grantham.Xd.29</th>\n",
       "      <th>QSOrder_Grantham.Xd.30</th>\n",
       "    </tr>\n",
       "  </thead>\n",
       "  <tbody>\n",
       "    <tr>\n",
       "      <th>0</th>\n",
       "      <td>0</td>\n",
       "      <td>IDP92036_CSGID</td>\n",
       "      <td>0.067114</td>\n",
       "      <td>0.020134</td>\n",
       "      <td>0.093960</td>\n",
       "      <td>0.073826</td>\n",
       "      <td>0.046980</td>\n",
       "      <td>0.053691</td>\n",
       "      <td>0.020134</td>\n",
       "      <td>0.040268</td>\n",
       "      <td>...</td>\n",
       "      <td>0.030636</td>\n",
       "      <td>0.034159</td>\n",
       "      <td>0.029084</td>\n",
       "      <td>0.033031</td>\n",
       "      <td>0.028998</td>\n",
       "      <td>0.030467</td>\n",
       "      <td>0.028874</td>\n",
       "      <td>0.030541</td>\n",
       "      <td>0.026172</td>\n",
       "      <td>0.030052</td>\n",
       "    </tr>\n",
       "    <tr>\n",
       "      <th>1</th>\n",
       "      <td>1</td>\n",
       "      <td>IDP92042_CSGID</td>\n",
       "      <td>0.063415</td>\n",
       "      <td>0.014634</td>\n",
       "      <td>0.048780</td>\n",
       "      <td>0.087805</td>\n",
       "      <td>0.034146</td>\n",
       "      <td>0.024390</td>\n",
       "      <td>0.019512</td>\n",
       "      <td>0.068293</td>\n",
       "      <td>...</td>\n",
       "      <td>0.033240</td>\n",
       "      <td>0.036351</td>\n",
       "      <td>0.030841</td>\n",
       "      <td>0.031635</td>\n",
       "      <td>0.031748</td>\n",
       "      <td>0.031496</td>\n",
       "      <td>0.029082</td>\n",
       "      <td>0.029750</td>\n",
       "      <td>0.028907</td>\n",
       "      <td>0.028552</td>\n",
       "    </tr>\n",
       "    <tr>\n",
       "      <th>2</th>\n",
       "      <td>2</td>\n",
       "      <td>IDP92048_CSGID</td>\n",
       "      <td>0.112150</td>\n",
       "      <td>0.014019</td>\n",
       "      <td>0.046729</td>\n",
       "      <td>0.074766</td>\n",
       "      <td>0.058411</td>\n",
       "      <td>0.081776</td>\n",
       "      <td>0.018692</td>\n",
       "      <td>0.025701</td>\n",
       "      <td>...</td>\n",
       "      <td>0.034691</td>\n",
       "      <td>0.033407</td>\n",
       "      <td>0.032269</td>\n",
       "      <td>0.032535</td>\n",
       "      <td>0.031427</td>\n",
       "      <td>0.031140</td>\n",
       "      <td>0.032030</td>\n",
       "      <td>0.033337</td>\n",
       "      <td>0.031283</td>\n",
       "      <td>0.031961</td>\n",
       "    </tr>\n",
       "    <tr>\n",
       "      <th>3</th>\n",
       "      <td>3</td>\n",
       "      <td>IDP92620_CSGID</td>\n",
       "      <td>0.107232</td>\n",
       "      <td>0.012469</td>\n",
       "      <td>0.069825</td>\n",
       "      <td>0.079800</td>\n",
       "      <td>0.032419</td>\n",
       "      <td>0.082294</td>\n",
       "      <td>0.012469</td>\n",
       "      <td>0.069825</td>\n",
       "      <td>...</td>\n",
       "      <td>0.032865</td>\n",
       "      <td>0.030976</td>\n",
       "      <td>0.034349</td>\n",
       "      <td>0.032010</td>\n",
       "      <td>0.032210</td>\n",
       "      <td>0.031403</td>\n",
       "      <td>0.033012</td>\n",
       "      <td>0.030558</td>\n",
       "      <td>0.032283</td>\n",
       "      <td>0.031141</td>\n",
       "    </tr>\n",
       "    <tr>\n",
       "      <th>4</th>\n",
       "      <td>4</td>\n",
       "      <td>IDP92716_CSGID</td>\n",
       "      <td>0.064220</td>\n",
       "      <td>0.002294</td>\n",
       "      <td>0.057339</td>\n",
       "      <td>0.066514</td>\n",
       "      <td>0.036697</td>\n",
       "      <td>0.061927</td>\n",
       "      <td>0.004587</td>\n",
       "      <td>0.052752</td>\n",
       "      <td>...</td>\n",
       "      <td>0.035018</td>\n",
       "      <td>0.032644</td>\n",
       "      <td>0.031678</td>\n",
       "      <td>0.033558</td>\n",
       "      <td>0.034079</td>\n",
       "      <td>0.032266</td>\n",
       "      <td>0.029438</td>\n",
       "      <td>0.032888</td>\n",
       "      <td>0.033711</td>\n",
       "      <td>0.033603</td>\n",
       "    </tr>\n",
       "    <tr>\n",
       "      <th>...</th>\n",
       "      <td>...</td>\n",
       "      <td>...</td>\n",
       "      <td>...</td>\n",
       "      <td>...</td>\n",
       "      <td>...</td>\n",
       "      <td>...</td>\n",
       "      <td>...</td>\n",
       "      <td>...</td>\n",
       "      <td>...</td>\n",
       "      <td>...</td>\n",
       "      <td>...</td>\n",
       "      <td>...</td>\n",
       "      <td>...</td>\n",
       "      <td>...</td>\n",
       "      <td>...</td>\n",
       "      <td>...</td>\n",
       "      <td>...</td>\n",
       "      <td>...</td>\n",
       "      <td>...</td>\n",
       "      <td>...</td>\n",
       "      <td>...</td>\n",
       "    </tr>\n",
       "    <tr>\n",
       "      <th>541</th>\n",
       "      <td>541</td>\n",
       "      <td>PsaeA_00980_a_SSGCID</td>\n",
       "      <td>0.113573</td>\n",
       "      <td>0.005540</td>\n",
       "      <td>0.072022</td>\n",
       "      <td>0.063712</td>\n",
       "      <td>0.033241</td>\n",
       "      <td>0.077562</td>\n",
       "      <td>0.011080</td>\n",
       "      <td>0.044321</td>\n",
       "      <td>...</td>\n",
       "      <td>0.034006</td>\n",
       "      <td>0.030275</td>\n",
       "      <td>0.031519</td>\n",
       "      <td>0.032817</td>\n",
       "      <td>0.030499</td>\n",
       "      <td>0.032630</td>\n",
       "      <td>0.032354</td>\n",
       "      <td>0.033769</td>\n",
       "      <td>0.030995</td>\n",
       "      <td>0.031613</td>\n",
       "    </tr>\n",
       "    <tr>\n",
       "      <th>542</th>\n",
       "      <td>542</td>\n",
       "      <td>PsaeA_01294_a_SSGCID</td>\n",
       "      <td>0.136842</td>\n",
       "      <td>0.010526</td>\n",
       "      <td>0.060150</td>\n",
       "      <td>0.069173</td>\n",
       "      <td>0.034586</td>\n",
       "      <td>0.093233</td>\n",
       "      <td>0.030075</td>\n",
       "      <td>0.048120</td>\n",
       "      <td>...</td>\n",
       "      <td>0.032597</td>\n",
       "      <td>0.034143</td>\n",
       "      <td>0.032178</td>\n",
       "      <td>0.033725</td>\n",
       "      <td>0.032667</td>\n",
       "      <td>0.033103</td>\n",
       "      <td>0.032030</td>\n",
       "      <td>0.033421</td>\n",
       "      <td>0.033162</td>\n",
       "      <td>0.030354</td>\n",
       "    </tr>\n",
       "    <tr>\n",
       "      <th>543</th>\n",
       "      <td>543</td>\n",
       "      <td>RityA_18390_a_2_SSGCID</td>\n",
       "      <td>0.043103</td>\n",
       "      <td>0.004310</td>\n",
       "      <td>0.030172</td>\n",
       "      <td>0.043103</td>\n",
       "      <td>0.051724</td>\n",
       "      <td>0.021552</td>\n",
       "      <td>0.012931</td>\n",
       "      <td>0.116379</td>\n",
       "      <td>...</td>\n",
       "      <td>0.031744</td>\n",
       "      <td>0.032232</td>\n",
       "      <td>0.033065</td>\n",
       "      <td>0.033763</td>\n",
       "      <td>0.031102</td>\n",
       "      <td>0.031488</td>\n",
       "      <td>0.034336</td>\n",
       "      <td>0.031886</td>\n",
       "      <td>0.030253</td>\n",
       "      <td>0.030779</td>\n",
       "    </tr>\n",
       "    <tr>\n",
       "      <th>544</th>\n",
       "      <td>544</td>\n",
       "      <td>TogoA_00914_a_SSGCID</td>\n",
       "      <td>0.091176</td>\n",
       "      <td>0.017647</td>\n",
       "      <td>0.061765</td>\n",
       "      <td>0.041176</td>\n",
       "      <td>0.035294</td>\n",
       "      <td>0.091176</td>\n",
       "      <td>0.026471</td>\n",
       "      <td>0.058824</td>\n",
       "      <td>...</td>\n",
       "      <td>0.032904</td>\n",
       "      <td>0.033967</td>\n",
       "      <td>0.033085</td>\n",
       "      <td>0.032026</td>\n",
       "      <td>0.031240</td>\n",
       "      <td>0.033177</td>\n",
       "      <td>0.032331</td>\n",
       "      <td>0.030270</td>\n",
       "      <td>0.029732</td>\n",
       "      <td>0.030599</td>\n",
       "    </tr>\n",
       "    <tr>\n",
       "      <th>545</th>\n",
       "      <td>545</td>\n",
       "      <td>TogoA_01236_a_SSGCID</td>\n",
       "      <td>0.115473</td>\n",
       "      <td>0.018476</td>\n",
       "      <td>0.032333</td>\n",
       "      <td>0.066975</td>\n",
       "      <td>0.041570</td>\n",
       "      <td>0.085450</td>\n",
       "      <td>0.018476</td>\n",
       "      <td>0.050808</td>\n",
       "      <td>...</td>\n",
       "      <td>0.032702</td>\n",
       "      <td>0.035054</td>\n",
       "      <td>0.033906</td>\n",
       "      <td>0.032438</td>\n",
       "      <td>0.033381</td>\n",
       "      <td>0.033561</td>\n",
       "      <td>0.032952</td>\n",
       "      <td>0.032215</td>\n",
       "      <td>0.032221</td>\n",
       "      <td>0.032847</td>\n",
       "    </tr>\n",
       "  </tbody>\n",
       "</table>\n",
       "<p>546 rows × 4613 columns</p>\n",
       "</div>"
      ],
      "text/plain": [
       "     Unnamed: 0                   AAC_#     AAC_A     AAC_C     AAC_D  \\\n",
       "0             0          IDP92036_CSGID  0.067114  0.020134  0.093960   \n",
       "1             1          IDP92042_CSGID  0.063415  0.014634  0.048780   \n",
       "2             2          IDP92048_CSGID  0.112150  0.014019  0.046729   \n",
       "3             3          IDP92620_CSGID  0.107232  0.012469  0.069825   \n",
       "4             4          IDP92716_CSGID  0.064220  0.002294  0.057339   \n",
       "..          ...                     ...       ...       ...       ...   \n",
       "541         541    PsaeA_00980_a_SSGCID  0.113573  0.005540  0.072022   \n",
       "542         542    PsaeA_01294_a_SSGCID  0.136842  0.010526  0.060150   \n",
       "543         543  RityA_18390_a_2_SSGCID  0.043103  0.004310  0.030172   \n",
       "544         544    TogoA_00914_a_SSGCID  0.091176  0.017647  0.061765   \n",
       "545         545    TogoA_01236_a_SSGCID  0.115473  0.018476  0.032333   \n",
       "\n",
       "        AAC_E     AAC_F     AAC_G     AAC_H     AAC_I  ...  \\\n",
       "0    0.073826  0.046980  0.053691  0.020134  0.040268  ...   \n",
       "1    0.087805  0.034146  0.024390  0.019512  0.068293  ...   \n",
       "2    0.074766  0.058411  0.081776  0.018692  0.025701  ...   \n",
       "3    0.079800  0.032419  0.082294  0.012469  0.069825  ...   \n",
       "4    0.066514  0.036697  0.061927  0.004587  0.052752  ...   \n",
       "..        ...       ...       ...       ...       ...  ...   \n",
       "541  0.063712  0.033241  0.077562  0.011080  0.044321  ...   \n",
       "542  0.069173  0.034586  0.093233  0.030075  0.048120  ...   \n",
       "543  0.043103  0.051724  0.021552  0.012931  0.116379  ...   \n",
       "544  0.041176  0.035294  0.091176  0.026471  0.058824  ...   \n",
       "545  0.066975  0.041570  0.085450  0.018476  0.050808  ...   \n",
       "\n",
       "     QSOrder_Grantham.Xd.21  QSOrder_Grantham.Xd.22  QSOrder_Grantham.Xd.23  \\\n",
       "0                  0.030636                0.034159                0.029084   \n",
       "1                  0.033240                0.036351                0.030841   \n",
       "2                  0.034691                0.033407                0.032269   \n",
       "3                  0.032865                0.030976                0.034349   \n",
       "4                  0.035018                0.032644                0.031678   \n",
       "..                      ...                     ...                     ...   \n",
       "541                0.034006                0.030275                0.031519   \n",
       "542                0.032597                0.034143                0.032178   \n",
       "543                0.031744                0.032232                0.033065   \n",
       "544                0.032904                0.033967                0.033085   \n",
       "545                0.032702                0.035054                0.033906   \n",
       "\n",
       "     QSOrder_Grantham.Xd.24  QSOrder_Grantham.Xd.25  QSOrder_Grantham.Xd.26  \\\n",
       "0                  0.033031                0.028998                0.030467   \n",
       "1                  0.031635                0.031748                0.031496   \n",
       "2                  0.032535                0.031427                0.031140   \n",
       "3                  0.032010                0.032210                0.031403   \n",
       "4                  0.033558                0.034079                0.032266   \n",
       "..                      ...                     ...                     ...   \n",
       "541                0.032817                0.030499                0.032630   \n",
       "542                0.033725                0.032667                0.033103   \n",
       "543                0.033763                0.031102                0.031488   \n",
       "544                0.032026                0.031240                0.033177   \n",
       "545                0.032438                0.033381                0.033561   \n",
       "\n",
       "     QSOrder_Grantham.Xd.27  QSOrder_Grantham.Xd.28  QSOrder_Grantham.Xd.29  \\\n",
       "0                  0.028874                0.030541                0.026172   \n",
       "1                  0.029082                0.029750                0.028907   \n",
       "2                  0.032030                0.033337                0.031283   \n",
       "3                  0.033012                0.030558                0.032283   \n",
       "4                  0.029438                0.032888                0.033711   \n",
       "..                      ...                     ...                     ...   \n",
       "541                0.032354                0.033769                0.030995   \n",
       "542                0.032030                0.033421                0.033162   \n",
       "543                0.034336                0.031886                0.030253   \n",
       "544                0.032331                0.030270                0.029732   \n",
       "545                0.032952                0.032215                0.032221   \n",
       "\n",
       "     QSOrder_Grantham.Xd.30  \n",
       "0                  0.030052  \n",
       "1                  0.028552  \n",
       "2                  0.031961  \n",
       "3                  0.031141  \n",
       "4                  0.033603  \n",
       "..                      ...  \n",
       "541                0.031613  \n",
       "542                0.030354  \n",
       "543                0.030779  \n",
       "544                0.030599  \n",
       "545                0.032847  \n",
       "\n",
       "[546 rows x 4613 columns]"
      ]
     },
     "execution_count": 6,
     "metadata": {},
     "output_type": "execute_result"
    }
   ],
   "source": [
    "#read CFTE data\n",
    "df_CFTE = pd.read_csv(feature_dir+'\\\\'+features_files[0])\n",
    "df_CFTE.drop_duplicates()"
   ]
  },
  {
   "cell_type": "markdown",
   "metadata": {},
   "source": [
    "### Read CRYS Data"
   ]
  },
  {
   "cell_type": "code",
   "execution_count": 7,
   "metadata": {},
   "outputs": [
    {
     "data": {
      "text/plain": [
       "(19791, 4613)"
      ]
     },
     "execution_count": 7,
     "metadata": {},
     "output_type": "execute_result"
    }
   ],
   "source": [
    "#read CRTR data\n",
    "df_CRTR = pd.read_csv(feature_dir+'\\\\'+features_files[3])\n",
    "df_CRTR.shape"
   ]
  },
  {
   "cell_type": "code",
   "execution_count": 8,
   "metadata": {},
   "outputs": [
    {
     "data": {
      "text/plain": [
       "(4947, 4613)"
      ]
     },
     "execution_count": 8,
     "metadata": {},
     "output_type": "execute_result"
    }
   ],
   "source": [
    "#read CFTE data\n",
    "df_CRTE = pd.read_csv(feature_dir+'\\\\'+features_files[2])\n",
    "df_CRTE.shape"
   ]
  },
  {
   "cell_type": "markdown",
   "metadata": {},
   "source": [
    "## Read the lable data"
   ]
  },
  {
   "cell_type": "code",
   "execution_count": 9,
   "metadata": {},
   "outputs": [
    {
     "data": {
      "text/plain": [
       "'C:\\\\Python\\\\internship\\\\Crystal_y_label_Csv/'"
      ]
     },
     "execution_count": 9,
     "metadata": {},
     "output_type": "execute_result"
    }
   ],
   "source": [
    "label_dir = os.path.join(cwd,'Crystal_y_label_Csv/')\n",
    "label_dir"
   ]
  },
  {
   "cell_type": "code",
   "execution_count": 10,
   "metadata": {},
   "outputs": [
    {
     "data": {
      "text/plain": [
       "['df_CF_TE_Label',\n",
       " 'df_CF_TR_Label',\n",
       " 'df_CR_TE_label',\n",
       " 'df_CR_TR_Label',\n",
       " 'df_MC_TE_Label',\n",
       " 'df_MC_TR_Label',\n",
       " 'df_MF_TE_Label',\n",
       " 'df_MF_TR_Label',\n",
       " 'df_PF_TE_Label',\n",
       " 'df_PF_TR_Label']"
      ]
     },
     "execution_count": 10,
     "metadata": {},
     "output_type": "execute_result"
    }
   ],
   "source": [
    "label_files = os.listdir(label_dir)\n",
    "label_files "
   ]
  },
  {
   "cell_type": "markdown",
   "metadata": {},
   "source": [
    "### Read CF Label"
   ]
  },
  {
   "cell_type": "code",
   "execution_count": 11,
   "metadata": {},
   "outputs": [
    {
     "data": {
      "text/plain": [
       "Index(['Unnamed: 0', 'id', 'y'], dtype='object')"
      ]
     },
     "execution_count": 11,
     "metadata": {},
     "output_type": "execute_result"
    }
   ],
   "source": [
    "dy_CFTR = pd.read_csv(label_dir+'\\\\'+label_files[1])\n",
    "dy_CFTR.columns"
   ]
  },
  {
   "cell_type": "code",
   "execution_count": 12,
   "metadata": {},
   "outputs": [
    {
     "data": {
      "text/plain": [
       "Index(['Unnamed: 0', 'id', 'y'], dtype='object')"
      ]
     },
     "execution_count": 12,
     "metadata": {},
     "output_type": "execute_result"
    }
   ],
   "source": [
    "dy_CFTE = pd.read_csv(label_dir+'\\\\'+label_files[0])\n",
    "dy_CFTE.columns"
   ]
  },
  {
   "cell_type": "markdown",
   "metadata": {},
   "source": [
    "### Read CR Label"
   ]
  },
  {
   "cell_type": "code",
   "execution_count": 13,
   "metadata": {},
   "outputs": [
    {
     "data": {
      "text/plain": [
       "Index(['Unnamed: 0', 'id', 'y'], dtype='object')"
      ]
     },
     "execution_count": 13,
     "metadata": {},
     "output_type": "execute_result"
    }
   ],
   "source": [
    "dy_CRTR = pd.read_csv(label_dir+'\\\\'+label_files[3])\n",
    "dy_CRTR.columns"
   ]
  },
  {
   "cell_type": "code",
   "execution_count": 14,
   "metadata": {},
   "outputs": [
    {
     "data": {
      "text/plain": [
       "Index(['Unnamed: 0', 'id', 'y'], dtype='object')"
      ]
     },
     "execution_count": 14,
     "metadata": {},
     "output_type": "execute_result"
    }
   ],
   "source": [
    "dy_CRTE = pd.read_csv(label_dir+'\\\\'+label_files[2])\n",
    "dy_CRTE.columns"
   ]
  },
  {
   "cell_type": "markdown",
   "metadata": {},
   "source": [
    "### Create the train and test data of CF"
   ]
  },
  {
   "cell_type": "code",
   "execution_count": 15,
   "metadata": {},
   "outputs": [],
   "source": [
    "#create train and test dataset with label\n",
    "X_CFTR = df_CFTR.iloc[:,2:]\n",
    "Y_CFTR = dy_CFTR.iloc[:,2]\n",
    "X_CFTE = df_CFTE.iloc[:,2:]\n",
    "Y_CFTE = dy_CFTE.iloc[:,2]"
   ]
  },
  {
   "cell_type": "code",
   "execution_count": 16,
   "metadata": {},
   "outputs": [
    {
     "data": {
      "text/plain": [
       "((2184, 4611), (2184,))"
      ]
     },
     "execution_count": 16,
     "metadata": {},
     "output_type": "execute_result"
    }
   ],
   "source": [
    "X_CFTR.shape,Y_CFTR.shape"
   ]
  },
  {
   "cell_type": "code",
   "execution_count": 17,
   "metadata": {},
   "outputs": [
    {
     "data": {
      "text/plain": [
       "((546, 4611), (546,))"
      ]
     },
     "execution_count": 17,
     "metadata": {},
     "output_type": "execute_result"
    }
   ],
   "source": [
    "X_CFTE.shape,Y_CFTE.shape"
   ]
  },
  {
   "cell_type": "markdown",
   "metadata": {},
   "source": [
    "### Create the train and test data of CR"
   ]
  },
  {
   "cell_type": "code",
   "execution_count": 18,
   "metadata": {},
   "outputs": [],
   "source": [
    "#create train and test dataset with label\n",
    "X_CRTR = df_CRTR.iloc[:,2:]\n",
    "Y_CRTR = dy_CRTR.iloc[:,2]\n",
    "X_CRTE = df_CRTE.iloc[:,2:]\n",
    "Y_CRTE = dy_CRTE.iloc[:,2]"
   ]
  },
  {
   "cell_type": "code",
   "execution_count": 19,
   "metadata": {},
   "outputs": [
    {
     "data": {
      "text/plain": [
       "((19791, 4611), (19791,))"
      ]
     },
     "execution_count": 19,
     "metadata": {},
     "output_type": "execute_result"
    }
   ],
   "source": [
    "X_CRTR.shape,Y_CRTR.shape"
   ]
  },
  {
   "cell_type": "code",
   "execution_count": 20,
   "metadata": {},
   "outputs": [
    {
     "data": {
      "text/plain": [
       "((4947, 4611), (4947,))"
      ]
     },
     "execution_count": 20,
     "metadata": {},
     "output_type": "execute_result"
    }
   ],
   "source": [
    "X_CRTE.shape,Y_CRTE.shape"
   ]
  },
  {
   "cell_type": "markdown",
   "metadata": {},
   "source": [
    "# Method_1: fisher_score+importance+RFE+GradientBoosting"
   ]
  },
  {
   "cell_type": "markdown",
   "metadata": {},
   "source": [
    "## Step1:Select features based on Univariate(ANOVA) Test"
   ]
  },
  {
   "cell_type": "code",
   "execution_count": 21,
   "metadata": {},
   "outputs": [],
   "source": [
    "from sklearn.feature_selection import VarianceThreshold\n",
    "from sklearn.feature_selection import f_classif"
   ]
  },
  {
   "cell_type": "code",
   "execution_count": 22,
   "metadata": {},
   "outputs": [
    {
     "data": {
      "text/plain": [
       "VarianceThreshold(threshold=1e-06)"
      ]
     },
     "execution_count": 22,
     "metadata": {},
     "output_type": "execute_result"
    }
   ],
   "source": [
    "# Remove Constant, Quasi Constant and Correlated Features\n",
    "sel_Constant = VarianceThreshold(threshold=0.000001)\n",
    "sel_Constant.fit(X_CRTR)"
   ]
  },
  {
   "cell_type": "code",
   "execution_count": 23,
   "metadata": {},
   "outputs": [
    {
     "data": {
      "text/plain": [
       "array([[0.06956005, 0.00475624, 0.07015458, ..., 0.03208218, 0.03345562,\n",
       "        0.03345423],\n",
       "       [0.06125874, 0.04811189, 0.05818182, ..., 0.03179398, 0.03326414,\n",
       "        0.03252838],\n",
       "       [0.08396369, 0.0075643 , 0.05295008, ..., 0.03275952, 0.033282  ,\n",
       "        0.03294235],\n",
       "       ...,\n",
       "       [0.08333333, 0.02298851, 0.05172414, ..., 0.03220139, 0.03065616,\n",
       "        0.03219337],\n",
       "       [0.08050847, 0.02542373, 0.05084746, ..., 0.03145542, 0.02986208,\n",
       "        0.02849569],\n",
       "       [0.13175676, 0.00337838, 0.06081081, ..., 0.03419172, 0.02960942,\n",
       "        0.03240897]])"
      ]
     },
     "execution_count": 23,
     "metadata": {},
     "output_type": "execute_result"
    }
   ],
   "source": [
    "X_CRTR_Constant = sel_Constant.transform(X_CRTR)\n",
    "X_CRTR_Constant"
   ]
  },
  {
   "cell_type": "code",
   "execution_count": 24,
   "metadata": {},
   "outputs": [
    {
     "data": {
      "text/plain": [
       "19791"
      ]
     },
     "execution_count": 24,
     "metadata": {},
     "output_type": "execute_result"
    }
   ],
   "source": [
    "len(X_CRTR_Constant)"
   ]
  },
  {
   "cell_type": "code",
   "execution_count": 25,
   "metadata": {},
   "outputs": [],
   "source": [
    "X_CRTR_ConstantT = X_CRTR_Constant.T # 倒置获取筛选后的特征集"
   ]
  },
  {
   "cell_type": "code",
   "execution_count": 26,
   "metadata": {},
   "outputs": [
    {
     "data": {
      "text/plain": [
       "4571"
      ]
     },
     "execution_count": 26,
     "metadata": {},
     "output_type": "execute_result"
    }
   ],
   "source": [
    "len(X_CRTR_ConstantT)                # remove some features in this step"
   ]
  },
  {
   "cell_type": "code",
   "execution_count": 30,
   "metadata": {},
   "outputs": [
    {
     "data": {
      "text/plain": [
       "Index(['AAC_A', 'AAC_C', 'AAC_D', 'AAC_E', 'AAC_F', 'AAC_G', 'AAC_H', 'AAC_I',\n",
       "       'AAC_K', 'AAC_L',\n",
       "       ...\n",
       "       'QSOrder_Grantham.Xd.21', 'QSOrder_Grantham.Xd.22',\n",
       "       'QSOrder_Grantham.Xd.23', 'QSOrder_Grantham.Xd.24',\n",
       "       'QSOrder_Grantham.Xd.25', 'QSOrder_Grantham.Xd.26',\n",
       "       'QSOrder_Grantham.Xd.27', 'QSOrder_Grantham.Xd.28',\n",
       "       'QSOrder_Grantham.Xd.29', 'QSOrder_Grantham.Xd.30'],\n",
       "      dtype='object', length=4571)"
      ]
     },
     "execution_count": 30,
     "metadata": {},
     "output_type": "execute_result"
    }
   ],
   "source": [
    "sel_featuresConstant = X_CRTR.columns[sel_Constant.get_support()]\n",
    "sel_featuresConstant"
   ]
  },
  {
   "cell_type": "code",
   "execution_count": 32,
   "metadata": {},
   "outputs": [
    {
     "name": "stdout",
     "output_type": "stream",
     "text": [
      "(19791, 4571)\n"
     ]
    }
   ],
   "source": [
    "df_CRTR_selConstant = pd.DataFrame()\n",
    "for c in list(sel_featuresConstant):\n",
    "    df_CRTR_selConstant[c] = df_CRTR[c]\n",
    "print(df_CRTR_selConstant.shape)\n",
    "df_CRTR_selConstant.to_csv('C:/Python/internship/Crystal_Features_new/df_CRTR_selConstant')"
   ]
  },
  {
   "cell_type": "code",
   "execution_count": 33,
   "metadata": {},
   "outputs": [
    {
     "data": {
      "text/plain": [
       "(array([ 16.37460222,  66.48102964,  99.96208836, ...,  89.21211245,\n",
       "        103.29175449, 117.69140432]),\n",
       " array([5.21744576e-05, 3.74139801e-16, 1.76611486e-23, ...,\n",
       "        3.92945903e-21, 3.31695879e-24, 2.41861921e-27]))"
      ]
     },
     "execution_count": 33,
     "metadata": {},
     "output_type": "execute_result"
    }
   ],
   "source": [
    "# check  independence of features based on F-test\n",
    "sel_Ftest = f_classif(df_CRTR_selConstant,Y_CRTR)\n",
    "sel_Ftest"
   ]
  },
  {
   "cell_type": "code",
   "execution_count": 34,
   "metadata": {},
   "outputs": [
    {
     "data": {
      "text/plain": [
       "AAC_A                     5.217446e-05\n",
       "AAC_C                     3.741398e-16\n",
       "AAC_D                     1.766115e-23\n",
       "AAC_E                     5.766693e-36\n",
       "AAC_F                     3.008303e-01\n",
       "                              ...     \n",
       "QSOrder_Grantham.Xd.26    4.679483e-24\n",
       "QSOrder_Grantham.Xd.27    1.066192e-18\n",
       "QSOrder_Grantham.Xd.28    3.929459e-21\n",
       "QSOrder_Grantham.Xd.29    3.316959e-24\n",
       "QSOrder_Grantham.Xd.30    2.418619e-27\n",
       "Length: 4571, dtype: float64"
      ]
     },
     "execution_count": 34,
     "metadata": {},
     "output_type": "execute_result"
    }
   ],
   "source": [
    "p_values = pd.Series(sel_Ftest[1])\n",
    "p_values.index = df_CRTR_selConstant.columns\n",
    "p_values"
   ]
  },
  {
   "cell_type": "code",
   "execution_count": 25,
   "metadata": {},
   "outputs": [
    {
     "data": {
      "text/plain": [
       "<matplotlib.axes._subplots.AxesSubplot at 0x16c44375fa0>"
      ]
     },
     "execution_count": 25,
     "metadata": {},
     "output_type": "execute_result"
    },
    {
     "data": {
      "image/png": "[encoded data removed]",
      "text/plain": [
       "<Figure size 1152x360 with 1 Axes>"
      ]
     },
     "metadata": {
      "needs_background": "light"
     },
     "output_type": "display_data"
    }
   ],
   "source": [
    "P_vlues = p_values.sort_values(ascending=True,inplace=False)\n",
    "P_vlues.plot.bar(figsize=(16,5))"
   ]
  },
  {
   "cell_type": "code",
   "execution_count": 35,
   "metadata": {},
   "outputs": [
    {
     "data": {
      "text/plain": [
       "AAC_A                     5.217446e-05\n",
       "AAC_C                     3.741398e-16\n",
       "AAC_D                     1.766115e-23\n",
       "AAC_E                     5.766693e-36\n",
       "AAC_K                     2.440961e-08\n",
       "                              ...     \n",
       "QSOrder_Grantham.Xd.26    4.679483e-24\n",
       "QSOrder_Grantham.Xd.27    1.066192e-18\n",
       "QSOrder_Grantham.Xd.28    3.929459e-21\n",
       "QSOrder_Grantham.Xd.29    3.316959e-24\n",
       "QSOrder_Grantham.Xd.30    2.418619e-27\n",
       "Length: 2545, dtype: float64"
      ]
     },
     "execution_count": 35,
     "metadata": {},
     "output_type": "execute_result"
    }
   ],
   "source": [
    "#Select features with p-value less than 0.05\n",
    "p_values[p_values<0.05]"
   ]
  },
  {
   "cell_type": "code",
   "execution_count": 38,
   "metadata": {},
   "outputs": [
    {
     "name": "stdout",
     "output_type": "stream",
     "text": [
      "(19791, 2545)\n"
     ]
    }
   ],
   "source": [
    "df_CRTR_selFest = pd.DataFrame()\n",
    "for v in p_values[p_values<0.05].index:\n",
    "    df_CRTR_selFest[v] = df_CRTR[v]\n",
    "print(df_CRTR_selFest.shape)\n",
    "df_CRTR_selFest.to_csv('C:/Python/internship/Crystal_Features_new/df_CRTR_selFest')"
   ]
  },
  {
   "cell_type": "code",
   "execution_count": 39,
   "metadata": {},
   "outputs": [
    {
     "name": "stdout",
     "output_type": "stream",
     "text": [
      "(4947, 2545)\n"
     ]
    }
   ],
   "source": [
    "df_CRTE_selFest = pd.DataFrame()\n",
    "for v in p_values[p_values<0.05].index:\n",
    "    df_CRTE_selFest[v] = df_CRTE[v]\n",
    "print(df_CRTE_selFest.shape)\n",
    "df_CRTE_selFest.to_csv('C:/Python/internship/Crystal_Features_new/df_CRTE_selFest')"
   ]
  },
  {
   "cell_type": "markdown",
   "metadata": {},
   "source": [
    "## Step2_1:Select features by feature importance of random forest classifier"
   ]
  },
  {
   "cell_type": "code",
   "execution_count": 40,
   "metadata": {},
   "outputs": [],
   "source": [
    "#conda upgrade scikit-learn"
   ]
  },
  {
   "cell_type": "code",
   "execution_count": 40,
   "metadata": {},
   "outputs": [],
   "source": [
    "import matplotlib.pyplot as plt\n",
    "from sklearn.feature_selection import RFE\n",
    "from sklearn.ensemble import RandomForestClassifier\n",
    "from sklearn.feature_selection import SelectFromModel\n",
    "from sklearn.metrics import accuracy_score\n",
    "%matplotlib inline"
   ]
  },
  {
   "cell_type": "code",
   "execution_count": 41,
   "metadata": {},
   "outputs": [
    {
     "data": {
      "text/plain": [
       "array([False,  True,  True, ...,  True,  True,  True])"
      ]
     },
     "execution_count": 41,
     "metadata": {},
     "output_type": "execute_result"
    }
   ],
   "source": [
    "sel_importance = SelectFromModel(RandomForestClassifier(n_estimators=100,random_state=0,n_jobs=-1))\n",
    "sel_importance.fit(df_CRTR_selFest,Y_CRTR)\n",
    "sel_importance.get_support()\n",
    "# The features with true are selected."
   ]
  },
  {
   "cell_type": "code",
   "execution_count": 42,
   "metadata": {},
   "outputs": [
    {
     "data": {
      "text/plain": [
       "array([0.00036934, 0.00045831, 0.00056823, ..., 0.00048947, 0.00049774,\n",
       "       0.00060252])"
      ]
     },
     "execution_count": 42,
     "metadata": {},
     "output_type": "execute_result"
    }
   ],
   "source": [
    "#check the values of importance of each feature\n",
    "sel_importance.estimator_.feature_importances_"
   ]
  },
  {
   "cell_type": "code",
   "execution_count": 43,
   "metadata": {},
   "outputs": [
    {
     "data": {
      "text/plain": [
       "0.0003929273084479371"
      ]
     },
     "execution_count": 43,
     "metadata": {},
     "output_type": "execute_result"
    }
   ],
   "source": [
    "#check the mean value of importance of all feature\n",
    "np.mean(sel_importance.estimator_.feature_importances_)"
   ]
  },
  {
   "cell_type": "code",
   "execution_count": 44,
   "metadata": {},
   "outputs": [
    {
     "data": {
      "text/plain": [
       "Index(['AAC_C', 'AAC_D', 'AAC_E', 'AAC_L', 'AAC_M', 'AAC_R', 'AAC_S', 'AAC_V',\n",
       "       'AAC_Y', 'APAAC_Pc1.A',\n",
       "       ...\n",
       "       'QSOrder_Grantham.Xd.21', 'QSOrder_Grantham.Xd.22',\n",
       "       'QSOrder_Grantham.Xd.23', 'QSOrder_Grantham.Xd.24',\n",
       "       'QSOrder_Grantham.Xd.25', 'QSOrder_Grantham.Xd.26',\n",
       "       'QSOrder_Grantham.Xd.27', 'QSOrder_Grantham.Xd.28',\n",
       "       'QSOrder_Grantham.Xd.29', 'QSOrder_Grantham.Xd.30'],\n",
       "      dtype='object', length=1117)"
      ]
     },
     "execution_count": 44,
     "metadata": {},
     "output_type": "execute_result"
    }
   ],
   "source": [
    "sel_featuresImportance = df_CRTR_selFest.columns[sel_importance.get_support()]\n",
    "sel_featuresImportance"
   ]
  },
  {
   "cell_type": "code",
   "execution_count": 45,
   "metadata": {},
   "outputs": [
    {
     "data": {
      "text/plain": [
       "1117"
      ]
     },
     "execution_count": 45,
     "metadata": {},
     "output_type": "execute_result"
    }
   ],
   "source": [
    "len(sel_featuresImportance)"
   ]
  },
  {
   "cell_type": "code",
   "execution_count": 46,
   "metadata": {},
   "outputs": [
    {
     "name": "stdout",
     "output_type": "stream",
     "text": [
      "(19791, 1117)\n"
     ]
    }
   ],
   "source": [
    "df_CRTR_selImportance = pd.DataFrame()\n",
    "for i in list(sel_featuresImportance):\n",
    "    df_CRTR_selImportance[i] = df_CRTR[i]\n",
    "print(df_CRTR_selImportance.shape)\n",
    "df_CRTR_selImportance.to_csv('C:/Python/internship/Crystal_Features_new/df_CRTR_selImportance')"
   ]
  },
  {
   "cell_type": "code",
   "execution_count": 47,
   "metadata": {},
   "outputs": [
    {
     "name": "stdout",
     "output_type": "stream",
     "text": [
      "(4947, 1117)\n"
     ]
    }
   ],
   "source": [
    "df_CRTE_selImportance = pd.DataFrame()\n",
    "for i in list(sel_featuresImportance):\n",
    "    df_CRTE_selImportance[i] = df_CRTE[i]\n",
    "print(df_CRTE_selImportance.shape)\n",
    "df_CRTE_selImportance.to_csv('C:/Python/internship/Crystal_Features_new/df_CRTE_selImportance')"
   ]
  },
  {
   "cell_type": "markdown",
   "metadata": {},
   "source": [
    "## Select features by Recursive Feature Elimination of random forest classifier"
   ]
  },
  {
   "cell_type": "code",
   "execution_count": 54,
   "metadata": {},
   "outputs": [
    {
     "name": "stdout",
     "output_type": "stream",
     "text": [
      "3335.9838156700134\n"
     ]
    }
   ],
   "source": [
    "#create selector based on RFE\n",
    "start = time.time()\n",
    "sel_RFE = RFE(RandomForestClassifier(n_estimators=100,random_state=0,n_jobs=-1))\n",
    "sel_RFE.fit(df_CRTR_selImportance,Y_CRTR)\n",
    "end = time.time()\n",
    "print(end-start)"
   ]
  },
  {
   "cell_type": "code",
   "execution_count": 55,
   "metadata": {},
   "outputs": [
    {
     "data": {
      "text/plain": [
       "array([False,  True,  True, ...,  True, False,  True])"
      ]
     },
     "execution_count": 55,
     "metadata": {},
     "output_type": "execute_result"
    }
   ],
   "source": [
    "sel_RFE.get_support()"
   ]
  },
  {
   "cell_type": "code",
   "execution_count": 56,
   "metadata": {},
   "outputs": [
    {
     "data": {
      "text/plain": [
       "Index(['AAC_D', 'AAC_E', 'AAC_L', 'AAC_M', 'AAC_R', 'AAC_S', 'AAC_Y',\n",
       "       'APAAC_Pc1.R', 'APAAC_Pc1.Q', 'APAAC_Pc1.E',\n",
       "       ...\n",
       "       'QSOrder_Grantham.Xd.18', 'QSOrder_Grantham.Xd.19',\n",
       "       'QSOrder_Grantham.Xd.20', 'QSOrder_Grantham.Xd.21',\n",
       "       'QSOrder_Grantham.Xd.23', 'QSOrder_Grantham.Xd.25',\n",
       "       'QSOrder_Grantham.Xd.26', 'QSOrder_Grantham.Xd.27',\n",
       "       'QSOrder_Grantham.Xd.28', 'QSOrder_Grantham.Xd.30'],\n",
       "      dtype='object', length=558)"
      ]
     },
     "execution_count": 56,
     "metadata": {},
     "output_type": "execute_result"
    }
   ],
   "source": [
    "sel_featuresRFE = df_CRTR_selImportance.columns[sel_RFE.get_support()]\n",
    "sel_featuresRFE"
   ]
  },
  {
   "cell_type": "code",
   "execution_count": 57,
   "metadata": {},
   "outputs": [
    {
     "name": "stdout",
     "output_type": "stream",
     "text": [
      "(19791, 558)\n"
     ]
    }
   ],
   "source": [
    "df_CRTR_selRFE = pd.DataFrame()\n",
    "for i in list(sel_featuresRFE):\n",
    "    df_CRTR_selRFE[i] = df_CRTR[i]\n",
    "print(df_CRTR_selRFE.shape)\n",
    "df_CRTR_selRFE.to_csv('C:/Python/internship/Crystal_Features_new/df_CRTR_selRFE')"
   ]
  },
  {
   "cell_type": "code",
   "execution_count": 58,
   "metadata": {},
   "outputs": [
    {
     "name": "stdout",
     "output_type": "stream",
     "text": [
      "(4947, 558)\n"
     ]
    }
   ],
   "source": [
    "df_CRTE_selRFE = pd.DataFrame()\n",
    "for i in list(sel_featuresRFE):\n",
    "    df_CRTE_selRFE[i] = df_CRTE[i]\n",
    "print(df_CRTE_selRFE.shape)\n",
    "df_CRTE_selRFE.to_csv('C:/Python/internship/Crystal_Features_new/df_CRTE_selRFE')"
   ]
  },
  {
   "cell_type": "markdown",
   "metadata": {},
   "source": [
    "## Select features by using Based on GradientBoost Tree Importance"
   ]
  },
  {
   "cell_type": "code",
   "execution_count": 26,
   "metadata": {},
   "outputs": [],
   "source": [
    "from sklearn.ensemble import GradientBoostingClassifier"
   ]
  },
  {
   "cell_type": "code",
   "execution_count": 61,
   "metadata": {},
   "outputs": [
    {
     "name": "stdout",
     "output_type": "stream",
     "text": [
      "432.7830762863159\n"
     ]
    }
   ],
   "source": [
    "start = time.time()\n",
    "sel_GB = RFE(GradientBoostingClassifier(n_estimators=100,random_state=0),n_features_to_select=1117)\n",
    "sel_GB.fit(df_CRTR_selImportance,Y_CRTR)\n",
    "end = time.time()\n",
    "print(end-start)"
   ]
  },
  {
   "cell_type": "code",
   "execution_count": 62,
   "metadata": {},
   "outputs": [
    {
     "data": {
      "text/plain": [
       "array([ True,  True,  True, ...,  True,  True,  True])"
      ]
     },
     "execution_count": 62,
     "metadata": {},
     "output_type": "execute_result"
    }
   ],
   "source": [
    "sel_GB.get_support()"
   ]
  },
  {
   "cell_type": "code",
   "execution_count": 63,
   "metadata": {},
   "outputs": [
    {
     "data": {
      "text/plain": [
       "Index(['AAC_C', 'AAC_D', 'AAC_E', 'AAC_L', 'AAC_M', 'AAC_R', 'AAC_S', 'AAC_V',\n",
       "       'AAC_Y', 'APAAC_Pc1.A',\n",
       "       ...\n",
       "       'QSOrder_Grantham.Xd.21', 'QSOrder_Grantham.Xd.22',\n",
       "       'QSOrder_Grantham.Xd.23', 'QSOrder_Grantham.Xd.24',\n",
       "       'QSOrder_Grantham.Xd.25', 'QSOrder_Grantham.Xd.26',\n",
       "       'QSOrder_Grantham.Xd.27', 'QSOrder_Grantham.Xd.28',\n",
       "       'QSOrder_Grantham.Xd.29', 'QSOrder_Grantham.Xd.30'],\n",
       "      dtype='object', length=1117)"
      ]
     },
     "execution_count": 63,
     "metadata": {},
     "output_type": "execute_result"
    }
   ],
   "source": [
    "sel_featuresGB = df_CRTR_selImportance.columns[sel_GB.get_support()]\n",
    "sel_featuresGB"
   ]
  },
  {
   "cell_type": "code",
   "execution_count": 92,
   "metadata": {},
   "outputs": [
    {
     "name": "stdout",
     "output_type": "stream",
     "text": [
      "(19791, 1117)\n"
     ]
    }
   ],
   "source": [
    "df_CRTR_selGB = pd.DataFrame()\n",
    "for i in list(sel_featuresGB):\n",
    "    df_CRTR_selGB[i] = df_CRTR[i]\n",
    "print(df_CRTR_selGB.shape)\n",
    "df_CRTR_selGB.to_csv('C:/Python/internship/Crystal_Features_new/df_CRTR_selGB')"
   ]
  },
  {
   "cell_type": "code",
   "execution_count": 89,
   "metadata": {},
   "outputs": [
    {
     "name": "stdout",
     "output_type": "stream",
     "text": [
      "(4947, 1117)\n"
     ]
    }
   ],
   "source": [
    "df_CRTE_selGB = pd.DataFrame()\n",
    "for i in list(sel_featuresGB):\n",
    "    df_CRTE_selGB[i] = df_CRTE[i]\n",
    "print(df_CRTE_selGB.shape)\n",
    "df_CRTE_selGB.to_csv('C:/Python/internship/Crystal_Features_new/df_CRTE_selGB')"
   ]
  },
  {
   "cell_type": "markdown",
   "metadata": {},
   "source": [
    "## Step2_2:Select features by using Based on Mutual Information Gain"
   ]
  },
  {
   "cell_type": "code",
   "execution_count": 48,
   "metadata": {},
   "outputs": [],
   "source": [
    "from sklearn.feature_selection import SelectKBest,SelectPercentile\n",
    "import seaborn as sns\n",
    "from sklearn.ensemble import RandomForestClassifier\n",
    "from sklearn.feature_selection import mutual_info_classif"
   ]
  },
  {
   "cell_type": "code",
   "execution_count": 49,
   "metadata": {},
   "outputs": [
    {
     "name": "stdout",
     "output_type": "stream",
     "text": [
      "2545\n",
      "357.7574722766876\n"
     ]
    }
   ],
   "source": [
    "# Calculate the Mutual Information\n",
    "start = time.time()\n",
    "sel_MI = mutual_info_classif(df_CRTR_selFest,Y_CRTR)\n",
    "print(len(sel_MI))\n",
    "end = time.time()\n",
    "print(end-start)"
   ]
  },
  {
   "cell_type": "code",
   "execution_count": 50,
   "metadata": {},
   "outputs": [
    {
     "data": {
      "text/plain": [
       "AAC_A                     0.001173\n",
       "AAC_C                     0.004655\n",
       "AAC_D                     0.005121\n",
       "AAC_E                     0.002350\n",
       "AAC_K                     0.002330\n",
       "                            ...   \n",
       "QSOrder_Grantham.Xd.26    0.002874\n",
       "QSOrder_Grantham.Xd.27    0.004181\n",
       "QSOrder_Grantham.Xd.28    0.003720\n",
       "QSOrder_Grantham.Xd.29    0.005959\n",
       "QSOrder_Grantham.Xd.30    0.004686\n",
       "Length: 2545, dtype: float64"
      ]
     },
     "execution_count": 50,
     "metadata": {},
     "output_type": "execute_result"
    }
   ],
   "source": [
    "sel_MI_s = pd.Series(sel_MI)\n",
    "sel_MI_s.index = df_CRTR_selFest.columns\n",
    "sel_MI_s"
   ]
  },
  {
   "cell_type": "code",
   "execution_count": 69,
   "metadata": {},
   "outputs": [
    {
     "data": {
      "text/plain": [
       "<matplotlib.axes._subplots.AxesSubplot at 0x17414126850>"
      ]
     },
     "execution_count": 69,
     "metadata": {},
     "output_type": "execute_result"
    },
    {
     "data": {
      "image/png": "[encoded data removed]",
      "text/plain": [
       "<Figure size 1152x360 with 1 Axes>"
      ]
     },
     "metadata": {
      "needs_background": "light"
     },
     "output_type": "display_data"
    }
   ],
   "source": [
    "sel_MI_s.sort_values(ascending=False,inplace=True)\n",
    "sel_MI_s.plot.bar(figsize = (16,5))"
   ]
  },
  {
   "cell_type": "code",
   "execution_count": 51,
   "metadata": {},
   "outputs": [
    {
     "data": {
      "text/plain": [
       "Index(['APAAC_Pc1.A', 'APAAC_Pc1.R', 'APAAC_Pc1.D', 'APAAC_Pc1.C',\n",
       "       'APAAC_Pc1.E', 'APAAC_Pc1.G', 'APAAC_Pc1.H', 'APAAC_Pc1.I',\n",
       "       'APAAC_Pc1.L', 'APAAC_Pc1.K',\n",
       "       ...\n",
       "       'SOCNumber_Schneider.lag26', 'QSOrder_Schneider.Xr.D',\n",
       "       'QSOrder_Schneider.Xr.E', 'QSOrder_Schneider.Xd.2',\n",
       "       'QSOrder_Schneider.Xd.19', 'QSOrder_Schneider.Xd.29',\n",
       "       'QSOrder_Schneider.Xd.30', 'QSOrder_Grantham.Xd.1',\n",
       "       'QSOrder_Grantham.Xd.3', 'QSOrder_Grantham.Xd.29'],\n",
       "      dtype='object', length=255)"
      ]
     },
     "execution_count": 51,
     "metadata": {},
     "output_type": "execute_result"
    }
   ],
   "source": [
    "sel_featuresMIG= SelectPercentile(mutual_info_classif,percentile=10).fit(df_CRTR_selFest,Y_CRTR)\n",
    "df_CRTR_selFest.columns[sel_featuresMIG.get_support()]"
   ]
  },
  {
   "cell_type": "code",
   "execution_count": 52,
   "metadata": {
    "scrolled": true
   },
   "outputs": [
    {
     "data": {
      "text/plain": [
       "['APAAC_Pc1.A',\n",
       " 'APAAC_Pc1.R',\n",
       " 'APAAC_Pc1.D',\n",
       " 'APAAC_Pc1.C',\n",
       " 'APAAC_Pc1.E',\n",
       " 'APAAC_Pc1.G',\n",
       " 'APAAC_Pc1.H',\n",
       " 'APAAC_Pc1.I',\n",
       " 'APAAC_Pc1.L',\n",
       " 'APAAC_Pc1.K',\n",
       " 'APAAC_Pc1.M',\n",
       " 'APAAC_Pc1.F',\n",
       " 'APAAC_Pc1.P',\n",
       " 'APAAC_Pc1.S',\n",
       " 'APAAC_Pc1.T',\n",
       " 'APAAC_Pc1.V',\n",
       " 'GAAC_negativecharge',\n",
       " 'PAAC_Xc1.A',\n",
       " 'PAAC_Xc1.R',\n",
       " 'PAAC_Xc1.D',\n",
       " 'PAAC_Xc1.Q',\n",
       " 'PAAC_Xc1.G',\n",
       " 'PAAC_Xc1.H',\n",
       " 'PAAC_Xc1.I',\n",
       " 'PAAC_Xc1.L',\n",
       " 'PAAC_Xc1.F',\n",
       " 'PAAC_Xc1.P',\n",
       " 'PAAC_Xc1.S',\n",
       " 'PAAC_Xc1.V',\n",
       " 'DPC_EN',\n",
       " 'DPC_SR',\n",
       " 'CKSAAP_EG.gap0',\n",
       " 'CKSAAP_EH.gap0',\n",
       " 'CKSAAP_EI.gap0',\n",
       " 'CKSAAP_EM.gap0',\n",
       " 'CKSAAP_IE.gap0',\n",
       " 'CKSAAP_LH.gap0',\n",
       " 'CKSAAP_ND.gap0',\n",
       " 'CKSAAP_RW.gap0',\n",
       " 'CKSAAP_WK.gap0',\n",
       " 'CKSAAP_YE.gap0',\n",
       " 'CKSAAP_CA.gap1',\n",
       " 'CKSAAP_EC.gap1',\n",
       " 'CKSAAP_GY.gap1',\n",
       " 'CKSAAP_KW.gap1',\n",
       " 'CKSAAP_LR.gap1',\n",
       " 'CKSAAP_PI.gap1',\n",
       " 'CKSAAP_PP.gap1',\n",
       " 'CKSAAP_RR.gap1',\n",
       " 'CKSAAP_SA.gap1',\n",
       " 'CKSAAP_TR.gap1',\n",
       " 'CKSAAP_YD.gap1',\n",
       " 'CKSAAP_CC.gap2',\n",
       " 'CKSAAP_DH.gap2',\n",
       " 'CKSAAP_EY.gap2',\n",
       " 'CKSAAP_GY.gap2',\n",
       " 'CKSAAP_LC.gap2',\n",
       " 'CKSAAP_LD.gap2',\n",
       " 'CKSAAP_PR.gap2',\n",
       " 'CKSAAP_RG.gap2',\n",
       " 'CKSAAP_VE.gap2',\n",
       " 'CKSAAP_WT.gap2',\n",
       " 'CKSAAP_YD.gap2',\n",
       " 'CKSAAP_YE.gap2',\n",
       " 'CKSAAP_YT.gap2',\n",
       " 'CKSAAP_EM.gap3',\n",
       " 'CKSAAP_EV.gap3',\n",
       " 'CKSAAP_FR.gap3',\n",
       " 'CKSAAP_GD.gap3',\n",
       " 'CKSAAP_IF.gap3',\n",
       " 'CKSAAP_LL.gap3',\n",
       " 'CKSAAP_MD.gap3',\n",
       " 'CKSAAP_NE.gap3',\n",
       " 'CKSAAP_SA.gap3',\n",
       " 'CKSAAP_YC.gap3',\n",
       " 'CKSAAP_CL.gap4',\n",
       " 'CKSAAP_DI.gap4',\n",
       " 'CKSAAP_EV.gap4',\n",
       " 'CKSAAP_GE.gap4',\n",
       " 'CKSAAP_RR.gap4',\n",
       " 'CKSAAP_DQ.gap5',\n",
       " 'CKSAAP_DV.gap5',\n",
       " 'CKSAAP_FC.gap5',\n",
       " 'CKSAAP_KA.gap5',\n",
       " 'CKSAAP_QW.gap5',\n",
       " 'CKSAAP_SR.gap5',\n",
       " 'CKSAAP_TM.gap5',\n",
       " 'CKSAAP_YQ.gap5',\n",
       " 'CKSAAP_YV.gap5',\n",
       " 'DDE_AW',\n",
       " 'DDE_CG',\n",
       " 'DDE_CH',\n",
       " 'DDE_DM',\n",
       " 'DDE_DN',\n",
       " 'DDE_EW',\n",
       " 'DDE_HC',\n",
       " 'DDE_HW',\n",
       " 'DDE_HY',\n",
       " 'DDE_ME',\n",
       " 'DDE_MG',\n",
       " 'DDE_MT',\n",
       " 'DDE_ND',\n",
       " 'DDE_NE',\n",
       " 'DDE_NH',\n",
       " 'DDE_NW',\n",
       " 'DDE_NY',\n",
       " 'DDE_PC',\n",
       " 'DDE_PY',\n",
       " 'DDE_RC',\n",
       " 'DDE_RS',\n",
       " 'DDE_TC',\n",
       " 'DDE_VM',\n",
       " 'DDE_VW',\n",
       " 'DDE_WE',\n",
       " 'DDE_WH',\n",
       " 'DDE_WK',\n",
       " 'DDE_WL',\n",
       " 'DDE_WT',\n",
       " 'DDE_YE',\n",
       " 'DDE_YH',\n",
       " 'DDE_YM',\n",
       " 'DDE_YN',\n",
       " 'DDE_YP',\n",
       " 'DDE_YT',\n",
       " 'DDE_YY',\n",
       " 'Moran_CIDH920105.lag4',\n",
       " 'Moran_CIDH920105.lag8',\n",
       " 'NMBroto_CIDH920105.lag5',\n",
       " 'NMBroto_CIDH920105.lag6',\n",
       " 'NMBroto_CHAM820102.lag3',\n",
       " 'CTDC_hydrophobicity_PONP930101.G1',\n",
       " 'CTDC_charge.G3',\n",
       " 'CTDC_solventaccess.G1',\n",
       " 'CTDT_charge.Tr2332',\n",
       " 'CTDD_hydrophobicity_PRAM900101.3.residue0',\n",
       " 'CTDD_hydrophobicity_ARGP820101.2.residue0',\n",
       " 'CTDD_hydrophobicity_ARGP820101.3.residue0',\n",
       " 'CTDD_hydrophobicity_ZIMJ680101.2.residue0',\n",
       " 'CTDD_hydrophobicity_ZIMJ680101.3.residue0',\n",
       " 'CTDD_hydrophobicity_PONP930101.3.residue0',\n",
       " 'CTDD_hydrophobicity_CASG920101.1.residue0',\n",
       " 'CTDD_hydrophobicity_CASG920101.2.residue0',\n",
       " 'CTDD_hydrophobicity_ENGD860101.1.residue0',\n",
       " 'CTDD_hydrophobicity_ENGD860101.3.residue0',\n",
       " 'CTDD_hydrophobicity_FASG890101.1.residue100',\n",
       " 'CTDD_hydrophobicity_FASG890101.3.residue0',\n",
       " 'CTDD_normwaalsvolume.3.residue0',\n",
       " 'CTDD_polarity.1.residue0',\n",
       " 'CTDD_polarizability.3.residue0',\n",
       " 'CTDD_charge.2.residue0',\n",
       " 'CTDD_secondarystruct.1.residue0',\n",
       " 'CTDD_solventaccess.1.residue0',\n",
       " 'CTDD_solventaccess.3.residue0',\n",
       " 'CTriad_g1.g1.g1',\n",
       " 'CTriad_g1.g1.g2',\n",
       " 'CTriad_g1.g1.g5',\n",
       " 'CTriad_g1.g2.g1',\n",
       " 'CTriad_g1.g2.g2',\n",
       " 'CTriad_g1.g2.g6',\n",
       " 'CTriad_g1.g3.g3',\n",
       " 'CTriad_g1.g3.g6',\n",
       " 'CTriad_g1.g4.g3',\n",
       " 'CTriad_g1.g4.g6',\n",
       " 'CTriad_g1.g5.g5',\n",
       " 'CTriad_g1.g5.g6',\n",
       " 'CTriad_g1.g6.g1',\n",
       " 'CTriad_g1.g6.g2',\n",
       " 'CTriad_g1.g6.g3',\n",
       " 'CTriad_g1.g6.g4',\n",
       " 'CTriad_g1.g6.g5',\n",
       " 'CTriad_g1.g6.g6',\n",
       " 'CTriad_g1.g7.g5',\n",
       " 'CTriad_g2.g1.g1',\n",
       " 'CTriad_g2.g1.g2',\n",
       " 'CTriad_g2.g1.g6',\n",
       " 'CTriad_g2.g2.g1',\n",
       " 'CTriad_g2.g2.g2',\n",
       " 'CTriad_g2.g2.g3',\n",
       " 'CTriad_g2.g2.g4',\n",
       " 'CTriad_g2.g2.g5',\n",
       " 'CTriad_g2.g2.g6',\n",
       " 'CTriad_g2.g3.g2',\n",
       " 'CTriad_g2.g5.g2',\n",
       " 'CTriad_g2.g5.g3',\n",
       " 'CTriad_g2.g5.g5',\n",
       " 'CTriad_g2.g5.g6',\n",
       " 'CTriad_g2.g6.g1',\n",
       " 'CTriad_g2.g6.g2',\n",
       " 'CTriad_g2.g6.g3',\n",
       " 'CTriad_g2.g6.g6',\n",
       " 'CTriad_g2.g7.g2',\n",
       " 'CTriad_g3.g1.g1',\n",
       " 'CTriad_g3.g1.g3',\n",
       " 'CTriad_g3.g1.g6',\n",
       " 'CTriad_g3.g2.g2',\n",
       " 'CTriad_g3.g2.g6',\n",
       " 'CTriad_g3.g3.g6',\n",
       " 'CTriad_g3.g4.g1',\n",
       " 'CTriad_g3.g4.g3',\n",
       " 'CTriad_g3.g4.g6',\n",
       " 'CTriad_g3.g5.g2',\n",
       " 'CTriad_g3.g5.g5',\n",
       " 'CTriad_g3.g6.g1',\n",
       " 'CTriad_g3.g6.g3',\n",
       " 'CTriad_g3.g6.g5',\n",
       " 'CTriad_g3.g6.g6',\n",
       " 'CTriad_g4.g1.g1',\n",
       " 'CTriad_g4.g1.g3',\n",
       " 'CTriad_g4.g1.g6',\n",
       " 'CTriad_g4.g3.g1',\n",
       " 'CTriad_g4.g5.g5',\n",
       " 'CTriad_g4.g6.g1',\n",
       " 'CTriad_g5.g1.g3',\n",
       " 'CTriad_g5.g2.g2',\n",
       " 'CTriad_g5.g2.g4',\n",
       " 'CTriad_g5.g2.g6',\n",
       " 'CTriad_g5.g3.g5',\n",
       " 'CTriad_g5.g5.g1',\n",
       " 'CTriad_g5.g5.g3',\n",
       " 'CTriad_g5.g5.g4',\n",
       " 'CTriad_g5.g5.g5',\n",
       " 'CTriad_g5.g6.g6',\n",
       " 'CTriad_g6.g1.g1',\n",
       " 'CTriad_g6.g1.g2',\n",
       " 'CTriad_g6.g1.g3',\n",
       " 'CTriad_g6.g1.g4',\n",
       " 'CTriad_g6.g1.g6',\n",
       " 'CTriad_g6.g2.g1',\n",
       " 'CTriad_g6.g2.g3',\n",
       " 'CTriad_g6.g2.g5',\n",
       " 'CTriad_g6.g3.g1',\n",
       " 'CTriad_g6.g3.g2',\n",
       " 'CTriad_g6.g3.g3',\n",
       " 'CTriad_g6.g3.g4',\n",
       " 'CTriad_g6.g3.g6',\n",
       " 'CTriad_g6.g4.g1',\n",
       " 'CTriad_g6.g4.g2',\n",
       " 'CTriad_g6.g5.g1',\n",
       " 'CTriad_g6.g5.g3',\n",
       " 'CTriad_g6.g6.g1',\n",
       " 'CTriad_g6.g6.g2',\n",
       " 'CTriad_g7.g2.g2',\n",
       " 'SOCNumber_Schneider.lag1',\n",
       " 'SOCNumber_Schneider.lag3',\n",
       " 'SOCNumber_Schneider.lag16',\n",
       " 'SOCNumber_Schneider.lag26',\n",
       " 'QSOrder_Schneider.Xr.D',\n",
       " 'QSOrder_Schneider.Xr.E',\n",
       " 'QSOrder_Schneider.Xd.2',\n",
       " 'QSOrder_Schneider.Xd.19',\n",
       " 'QSOrder_Schneider.Xd.29',\n",
       " 'QSOrder_Schneider.Xd.30',\n",
       " 'QSOrder_Grantham.Xd.1',\n",
       " 'QSOrder_Grantham.Xd.3',\n",
       " 'QSOrder_Grantham.Xd.29']"
      ]
     },
     "execution_count": 52,
     "metadata": {},
     "output_type": "execute_result"
    }
   ],
   "source": [
    "sel_MIGlist = list(df_CRTR_selFest.columns[sel_featuresMIG.get_support()])\n",
    "sel_MIGlist"
   ]
  },
  {
   "cell_type": "code",
   "execution_count": 56,
   "metadata": {},
   "outputs": [
    {
     "name": "stdout",
     "output_type": "stream",
     "text": [
      "(19791, 255)\n"
     ]
    }
   ],
   "source": [
    "# remove features and create new dataframe\n",
    "df_CRTR_selMIG = pd.DataFrame()\n",
    "for s in sel_MIGlist:\n",
    "    df_CRTR_selMIG[s] = df_CRTR[s]\n",
    "print(df_CRTR_selMIG.shape)\n",
    "df_CRTR_selMIG.to_csv('C:/Python/internship/Crystal_Features_new/df_CRTR_selMIG')"
   ]
  },
  {
   "cell_type": "code",
   "execution_count": 57,
   "metadata": {},
   "outputs": [
    {
     "name": "stdout",
     "output_type": "stream",
     "text": [
      "(4947, 255)\n"
     ]
    }
   ],
   "source": [
    "df_CRTE_selMIG = pd.DataFrame()\n",
    "for s in sel_MIGlist:\n",
    "    df_CRTE_selMIG[s] = df_CRTE[s]\n",
    "print(df_CRTE_selMIG.shape)\n",
    "df_CRTE_selMIG.to_csv('C:/Python/internship/Crystal_Features_new/df_CRTE_selMIG')"
   ]
  },
  {
   "cell_type": "markdown",
   "metadata": {},
   "source": [
    "## Step Forward Feature Selection of Wrapper Method"
   ]
  },
  {
   "cell_type": "code",
   "execution_count": 109,
   "metadata": {
    "collapsed": true
   },
   "outputs": [
    {
     "name": "stdout",
     "output_type": "stream",
     "text": [
      "Collecting mlxtend\n",
      "  Downloading mlxtend-0.19.0-py2.py3-none-any.whl (1.3 MB)\n",
      "Requirement already satisfied: matplotlib>=3.0.0 in c:\\anaconda3\\lib\\site-packages (from mlxtend) (3.2.2)\n",
      "Requirement already satisfied: numpy>=1.16.2 in c:\\anaconda3\\lib\\site-packages (from mlxtend) (1.18.5)\n",
      "Requirement already satisfied: joblib>=0.13.2 in c:\\anaconda3\\lib\\site-packages (from mlxtend) (0.16.0)\n",
      "Requirement already satisfied: scipy>=1.2.1 in c:\\anaconda3\\lib\\site-packages (from mlxtend) (1.5.0)\n",
      "Requirement already satisfied: scikit-learn>=0.20.3 in c:\\anaconda3\\lib\\site-packages (from mlxtend) (0.23.1)\n",
      "Requirement already satisfied: setuptools in c:\\anaconda3\\lib\\site-packages (from mlxtend) (49.2.0.post20200714)\n",
      "Requirement already satisfied: pandas>=0.24.2 in c:\\anaconda3\\lib\\site-packages (from mlxtend) (1.0.5)\n",
      "Requirement already satisfied: python-dateutil>=2.1 in c:\\anaconda3\\lib\\site-packages (from matplotlib>=3.0.0->mlxtend) (2.8.1)\n",
      "Requirement already satisfied: kiwisolver>=1.0.1 in c:\\anaconda3\\lib\\site-packages (from matplotlib>=3.0.0->mlxtend) (1.2.0)\n",
      "Requirement already satisfied: pyparsing!=2.0.4,!=2.1.2,!=2.1.6,>=2.0.1 in c:\\anaconda3\\lib\\site-packages (from matplotlib>=3.0.0->mlxtend) (2.4.7)\n",
      "Requirement already satisfied: cycler>=0.10 in c:\\anaconda3\\lib\\site-packages (from matplotlib>=3.0.0->mlxtend) (0.10.0)\n",
      "Requirement already satisfied: threadpoolctl>=2.0.0 in c:\\anaconda3\\lib\\site-packages (from scikit-learn>=0.20.3->mlxtend) (2.1.0)\n",
      "Requirement already satisfied: pytz>=2017.2 in c:\\anaconda3\\lib\\site-packages (from pandas>=0.24.2->mlxtend) (2020.1)\n",
      "Requirement already satisfied: six>=1.5 in c:\\anaconda3\\lib\\site-packages (from python-dateutil>=2.1->matplotlib>=3.0.0->mlxtend) (1.15.0)\n",
      "Installing collected packages: mlxtend\n",
      "Successfully installed mlxtend-0.19.0\n",
      "Note: you may need to restart the kernel to use updated packages.\n"
     ]
    }
   ],
   "source": [
    "#pip install mlxtend"
   ]
  },
  {
   "cell_type": "code",
   "execution_count": 55,
   "metadata": {},
   "outputs": [],
   "source": [
    "from sklearn.ensemble import RandomForestClassifier\n",
    "from sklearn.metrics import roc_auc_score\n",
    "from mlxtend.feature_selection import SequentialFeatureSelector as SFS"
   ]
  },
  {
   "cell_type": "code",
   "execution_count": 58,
   "metadata": {
    "scrolled": false
   },
   "outputs": [
    {
     "name": "stderr",
     "output_type": "stream",
     "text": [
      "[Parallel(n_jobs=-1)]: Using backend LokyBackend with 16 concurrent workers.\n",
      "[Parallel(n_jobs=-1)]: Done   9 tasks      | elapsed:   12.9s\n",
      "[Parallel(n_jobs=-1)]: Done 130 tasks      | elapsed:  1.0min\n",
      "[Parallel(n_jobs=-1)]: Done 255 out of 255 | elapsed:  1.6min finished\n",
      "\n",
      "[2022-02-24 14:35:46] Features: 1/255 -- score: 0.9376989663594979[Parallel(n_jobs=-1)]: Using backend LokyBackend with 16 concurrent workers.\n",
      "[Parallel(n_jobs=-1)]: Done   9 tasks      | elapsed:    7.4s\n",
      "[Parallel(n_jobs=-1)]: Done 130 tasks      | elapsed:   47.7s\n",
      "[Parallel(n_jobs=-1)]: Done 254 out of 254 | elapsed:  1.3min finished\n",
      "\n",
      "[2022-02-24 14:37:06] Features: 2/255 -- score: 0.9376989663594979[Parallel(n_jobs=-1)]: Using backend LokyBackend with 16 concurrent workers.\n",
      "[Parallel(n_jobs=-1)]: Done   9 tasks      | elapsed:    7.1s\n",
      "[Parallel(n_jobs=-1)]: Done 130 tasks      | elapsed:   46.8s\n",
      "[Parallel(n_jobs=-1)]: Done 253 out of 253 | elapsed:  1.3min finished\n",
      "\n",
      "[2022-02-24 14:38:24] Features: 3/255 -- score: 0.9375979154298295[Parallel(n_jobs=-1)]: Using backend LokyBackend with 16 concurrent workers.\n",
      "[Parallel(n_jobs=-1)]: Done   9 tasks      | elapsed:    7.5s\n",
      "[Parallel(n_jobs=-1)]: Done 130 tasks      | elapsed:   50.8s\n",
      "[Parallel(n_jobs=-1)]: Done 252 out of 252 | elapsed:  1.4min finished\n",
      "\n",
      "[2022-02-24 14:39:51] Features: 4/255 -- score: 0.9370421148899433[Parallel(n_jobs=-1)]: Using backend LokyBackend with 16 concurrent workers.\n",
      "[Parallel(n_jobs=-1)]: Done   9 tasks      | elapsed:    7.4s\n",
      "[Parallel(n_jobs=-1)]: Done 130 tasks      | elapsed:   50.2s\n",
      "[Parallel(n_jobs=-1)]: Done 251 out of 251 | elapsed:  1.4min finished\n",
      "\n",
      "[2022-02-24 14:41:17] Features: 5/255 -- score: 0.9365873652797259[Parallel(n_jobs=-1)]: Using backend LokyBackend with 16 concurrent workers.\n",
      "[Parallel(n_jobs=-1)]: Done   9 tasks      | elapsed:    6.6s\n",
      "[Parallel(n_jobs=-1)]: Done 130 tasks      | elapsed:   49.1s\n",
      "[Parallel(n_jobs=-1)]: Done 250 out of 250 | elapsed:  1.4min finished\n",
      "\n",
      "[2022-02-24 14:42:42] Features: 6/255 -- score: 0.9362842227040746[Parallel(n_jobs=-1)]: Using backend LokyBackend with 16 concurrent workers.\n",
      "[Parallel(n_jobs=-1)]: Done   9 tasks      | elapsed:    6.1s\n",
      "[Parallel(n_jobs=-1)]: Done 130 tasks      | elapsed:   49.0s\n",
      "[Parallel(n_jobs=-1)]: Done 249 out of 249 | elapsed:  1.4min finished\n",
      "\n",
      "[2022-02-24 14:44:09] Features: 7/255 -- score: 0.9353747336969942[Parallel(n_jobs=-1)]: Using backend LokyBackend with 16 concurrent workers.\n",
      "[Parallel(n_jobs=-1)]: Done   9 tasks      | elapsed:    6.2s\n",
      "[Parallel(n_jobs=-1)]: Done 130 tasks      | elapsed:   49.9s\n",
      "[Parallel(n_jobs=-1)]: Done 248 out of 248 | elapsed:  1.5min finished\n",
      "\n",
      "[2022-02-24 14:45:36] Features: 8/255 -- score: 0.9345662445528096[Parallel(n_jobs=-1)]: Using backend LokyBackend with 16 concurrent workers.\n",
      "[Parallel(n_jobs=-1)]: Done   9 tasks      | elapsed:    8.2s\n",
      "[Parallel(n_jobs=-1)]: Done 130 tasks      | elapsed:   59.7s\n",
      "[Parallel(n_jobs=-1)]: Done 247 out of 247 | elapsed:  1.7min finished\n",
      "\n",
      "[2022-02-24 14:47:20] Features: 9/255 -- score: 0.9336566636255381[Parallel(n_jobs=-1)]: Using backend LokyBackend with 16 concurrent workers.\n",
      "[Parallel(n_jobs=-1)]: Done   9 tasks      | elapsed:    7.6s\n",
      "[Parallel(n_jobs=-1)]: Done 130 tasks      | elapsed:  1.0min\n",
      "[Parallel(n_jobs=-1)]: Done 246 out of 246 | elapsed:  1.8min finished\n",
      "\n",
      "[2022-02-24 14:49:09] Features: 10/255 -- score: 0.9336061279473495[Parallel(n_jobs=-1)]: Using backend LokyBackend with 16 concurrent workers.\n",
      "[Parallel(n_jobs=-1)]: Done   9 tasks      | elapsed:    8.4s\n",
      "[Parallel(n_jobs=-1)]: Done 130 tasks      | elapsed:  1.1min\n",
      "[Parallel(n_jobs=-1)]: Done 245 out of 245 | elapsed:  1.8min finished\n",
      "\n",
      "[2022-02-24 14:50:59] Features: 11/255 -- score: 0.9339598470546076[Parallel(n_jobs=-1)]: Using backend LokyBackend with 16 concurrent workers.\n",
      "[Parallel(n_jobs=-1)]: Done   9 tasks      | elapsed:    8.5s\n",
      "[Parallel(n_jobs=-1)]: Done 130 tasks      | elapsed:  1.1min\n",
      "[Parallel(n_jobs=-1)]: Done 244 out of 244 | elapsed:  1.8min finished\n",
      "\n",
      "[2022-02-24 14:52:50] Features: 12/255 -- score: 0.9336061994408311[Parallel(n_jobs=-1)]: Using backend LokyBackend with 16 concurrent workers.\n",
      "[Parallel(n_jobs=-1)]: Done   9 tasks      | elapsed:    8.4s\n",
      "[Parallel(n_jobs=-1)]: Done 130 tasks      | elapsed:  1.1min\n",
      "[Parallel(n_jobs=-1)]: Done 243 out of 243 | elapsed:  1.9min finished\n",
      "\n",
      "[2022-02-24 14:54:44] Features: 13/255 -- score: 0.9344146068781796[Parallel(n_jobs=-1)]: Using backend LokyBackend with 16 concurrent workers.\n",
      "[Parallel(n_jobs=-1)]: Done   9 tasks      | elapsed:    8.2s\n",
      "[Parallel(n_jobs=-1)]: Done 130 tasks      | elapsed:  1.1min\n",
      "[Parallel(n_jobs=-1)]: Done 242 out of 242 | elapsed:  2.0min finished\n",
      "\n",
      "[2022-02-24 14:56:44] Features: 14/255 -- score: 0.9349704176314202[Parallel(n_jobs=-1)]: Using backend LokyBackend with 16 concurrent workers.\n",
      "[Parallel(n_jobs=-1)]: Done   9 tasks      | elapsed:    8.9s\n",
      "[Parallel(n_jobs=-1)]: Done 130 tasks      | elapsed:  1.2min\n",
      "[Parallel(n_jobs=-1)]: Done 241 out of 241 | elapsed:  2.1min finished\n",
      "\n",
      "[2022-02-24 14:58:48] Features: 15/255 -- score: 0.9364356867516777[Parallel(n_jobs=-1)]: Using backend LokyBackend with 16 concurrent workers.\n",
      "[Parallel(n_jobs=-1)]: Done   9 tasks      | elapsed:   11.8s\n",
      "[Parallel(n_jobs=-1)]: Done 130 tasks      | elapsed:  1.6min\n",
      "[Parallel(n_jobs=-1)]: Done 240 out of 240 | elapsed:  2.7min finished\n",
      "\n",
      "[2022-02-24 15:01:32] Features: 16/255 -- score: 0.9378505223272919[Parallel(n_jobs=-1)]: Using backend LokyBackend with 16 concurrent workers.\n",
      "[Parallel(n_jobs=-1)]: Done   9 tasks      | elapsed:   11.5s\n",
      "[Parallel(n_jobs=-1)]: Done 130 tasks      | elapsed:  1.6min\n",
      "[Parallel(n_jobs=-1)]: Done 239 out of 239 | elapsed:  2.7min finished\n",
      "\n",
      "[2022-02-24 15:04:17] Features: 17/255 -- score: 0.9380526343999835[Parallel(n_jobs=-1)]: Using backend LokyBackend with 16 concurrent workers.\n",
      "[Parallel(n_jobs=-1)]: Done   9 tasks      | elapsed:   12.5s\n",
      "[Parallel(n_jobs=-1)]: Done 130 tasks      | elapsed:  1.6min\n",
      "[Parallel(n_jobs=-1)]: Done 238 out of 238 | elapsed:  2.8min finished\n",
      "\n",
      "[2022-02-24 15:07:05] Features: 18/255 -- score: 0.9380021191485037[Parallel(n_jobs=-1)]: Using backend LokyBackend with 16 concurrent workers.\n",
      "[Parallel(n_jobs=-1)]: Done   9 tasks      | elapsed:   11.8s\n",
      "[Parallel(n_jobs=-1)]: Done 130 tasks      | elapsed:  1.7min\n",
      "[Parallel(n_jobs=-1)]: Done 237 out of 237 | elapsed:  2.9min finished\n",
      "\n",
      "[2022-02-24 15:09:56] Features: 19/255 -- score: 0.9381031700781723[Parallel(n_jobs=-1)]: Using backend LokyBackend with 16 concurrent workers.\n",
      "[Parallel(n_jobs=-1)]: Done   9 tasks      | elapsed:   13.4s\n",
      "[Parallel(n_jobs=-1)]: Done 130 tasks      | elapsed:  1.7min\n",
      "[Parallel(n_jobs=-1)]: Done 236 out of 236 | elapsed:  2.9min finished\n",
      "\n",
      "[2022-02-24 15:12:48] Features: 20/255 -- score: 0.9380021089351491[Parallel(n_jobs=-1)]: Using backend LokyBackend with 16 concurrent workers.\n",
      "[Parallel(n_jobs=-1)]: Done   9 tasks      | elapsed:   13.4s\n",
      "[Parallel(n_jobs=-1)]: Done 130 tasks      | elapsed:  1.7min\n",
      "[Parallel(n_jobs=-1)]: Done 235 out of 235 | elapsed:  2.9min finished\n",
      "\n",
      "[2022-02-24 15:15:43] Features: 21/255 -- score: 0.9380020987217947[Parallel(n_jobs=-1)]: Using backend LokyBackend with 16 concurrent workers.\n",
      "[Parallel(n_jobs=-1)]: Done   9 tasks      | elapsed:   12.0s\n",
      "[Parallel(n_jobs=-1)]: Done 130 tasks      | elapsed:  1.8min\n",
      "[Parallel(n_jobs=-1)]: Done 234 out of 234 | elapsed:  3.0min finished\n",
      "\n",
      "[2022-02-24 15:18:41] Features: 22/255 -- score: 0.9381031598648177[Parallel(n_jobs=-1)]: Using backend LokyBackend with 16 concurrent workers.\n",
      "[Parallel(n_jobs=-1)]: Done   9 tasks      | elapsed:   14.0s\n",
      "[Parallel(n_jobs=-1)]: Done 130 tasks      | elapsed:  1.8min\n",
      "[Parallel(n_jobs=-1)]: Done 233 out of 233 | elapsed:  3.0min finished\n",
      "\n",
      "[2022-02-24 15:21:41] Features: 23/255 -- score: 0.9381536955430065[Parallel(n_jobs=-1)]: Using backend LokyBackend with 16 concurrent workers.\n",
      "[Parallel(n_jobs=-1)]: Done   9 tasks      | elapsed:   13.5s\n",
      "[Parallel(n_jobs=-1)]: Done 130 tasks      | elapsed:  1.8min\n",
      "[Parallel(n_jobs=-1)]: Done 232 out of 232 | elapsed:  3.0min finished\n",
      "\n",
      "[2022-02-24 15:24:38] Features: 24/255 -- score: 0.9381537057563609[Parallel(n_jobs=-1)]: Using backend LokyBackend with 16 concurrent workers.\n"
     ]
    },
    {
     "name": "stderr",
     "output_type": "stream",
     "text": [
      "[Parallel(n_jobs=-1)]: Done   9 tasks      | elapsed:   15.8s\n",
      "[Parallel(n_jobs=-1)]: Done 130 tasks      | elapsed:  2.1min\n",
      "[Parallel(n_jobs=-1)]: Done 231 out of 231 | elapsed:  3.5min finished\n",
      "\n",
      "[2022-02-24 15:28:10] Features: 25/255 -- score: 0.9380021191485037[Parallel(n_jobs=-1)]: Using backend LokyBackend with 16 concurrent workers.\n",
      "[Parallel(n_jobs=-1)]: Done   9 tasks      | elapsed:   14.8s\n",
      "[Parallel(n_jobs=-1)]: Done 130 tasks      | elapsed:  2.1min\n",
      "[Parallel(n_jobs=-1)]: Done 230 out of 230 | elapsed:  3.6min finished\n",
      "\n",
      "[2022-02-24 15:31:44] Features: 26/255 -- score: 0.9380526446133379[Parallel(n_jobs=-1)]: Using backend LokyBackend with 16 concurrent workers.\n",
      "[Parallel(n_jobs=-1)]: Done   9 tasks      | elapsed:   16.6s\n",
      "[Parallel(n_jobs=-1)]: Done 130 tasks      | elapsed:  2.1min\n",
      "[Parallel(n_jobs=-1)]: Done 229 out of 229 | elapsed:  3.5min finished\n",
      "\n",
      "[2022-02-24 15:35:17] Features: 27/255 -- score: 0.9380021191485037[Parallel(n_jobs=-1)]: Using backend LokyBackend with 16 concurrent workers.\n",
      "[Parallel(n_jobs=-1)]: Done   9 tasks      | elapsed:   15.9s\n",
      "[Parallel(n_jobs=-1)]: Done 130 tasks      | elapsed:  2.1min\n",
      "[Parallel(n_jobs=-1)]: Done 228 out of 228 | elapsed:  3.5min finished\n",
      "\n",
      "[2022-02-24 15:38:49] Features: 28/255 -- score: 0.9379010580054805[Parallel(n_jobs=-1)]: Using backend LokyBackend with 16 concurrent workers.\n",
      "[Parallel(n_jobs=-1)]: Done   9 tasks      | elapsed:   16.8s\n",
      "[Parallel(n_jobs=-1)]: Done 130 tasks      | elapsed:  2.1min\n",
      "[Parallel(n_jobs=-1)]: Done 227 out of 227 | elapsed:  3.5min finished\n",
      "\n",
      "[2022-02-24 15:42:21] Features: 29/255 -- score: 0.9379515936836693[Parallel(n_jobs=-1)]: Using backend LokyBackend with 16 concurrent workers.\n",
      "[Parallel(n_jobs=-1)]: Done   9 tasks      | elapsed:   15.9s\n",
      "[Parallel(n_jobs=-1)]: Done 130 tasks      | elapsed:  2.2min\n",
      "[Parallel(n_jobs=-1)]: Done 226 out of 226 | elapsed:  3.6min finished\n",
      "\n",
      "[2022-02-24 15:45:55] Features: 30/255 -- score: 0.9379515834703149[Parallel(n_jobs=-1)]: Using backend LokyBackend with 16 concurrent workers.\n",
      "[Parallel(n_jobs=-1)]: Done   9 tasks      | elapsed:   15.6s\n",
      "[Parallel(n_jobs=-1)]: Done 130 tasks      | elapsed:  2.1min\n",
      "[Parallel(n_jobs=-1)]: Done 225 out of 225 | elapsed:  3.5min finished\n",
      "\n",
      "[2022-02-24 15:49:25] Features: 31/255 -- score: 0.9379515936836693[Parallel(n_jobs=-1)]: Using backend LokyBackend with 16 concurrent workers.\n",
      "[Parallel(n_jobs=-1)]: Done   9 tasks      | elapsed:   15.4s\n",
      "[Parallel(n_jobs=-1)]: Done 130 tasks      | elapsed:  2.1min\n",
      "[Parallel(n_jobs=-1)]: Done 224 out of 224 | elapsed:  3.5min finished\n",
      "\n",
      "[2022-02-24 15:52:53] Features: 32/255 -- score: 0.9379010682188351[Parallel(n_jobs=-1)]: Using backend LokyBackend with 16 concurrent workers.\n",
      "[Parallel(n_jobs=-1)]: Done   9 tasks      | elapsed:   16.6s\n",
      "[Parallel(n_jobs=-1)]: Done 130 tasks      | elapsed:  2.2min\n",
      "[Parallel(n_jobs=-1)]: Done 223 out of 223 | elapsed:  3.5min finished\n",
      "\n",
      "[2022-02-24 15:56:26] Features: 33/255 -- score: 0.9379010682188351[Parallel(n_jobs=-1)]: Using backend LokyBackend with 16 concurrent workers.\n",
      "[Parallel(n_jobs=-1)]: Done   9 tasks      | elapsed:   17.9s\n",
      "[Parallel(n_jobs=-1)]: Done 130 tasks      | elapsed:  2.3min\n",
      "[Parallel(n_jobs=-1)]: Done 222 out of 222 | elapsed:  3.6min finished\n",
      "\n",
      "[2022-02-24 16:00:03] Features: 34/255 -- score: 0.9378505427540009[Parallel(n_jobs=-1)]: Using backend LokyBackend with 16 concurrent workers.\n",
      "[Parallel(n_jobs=-1)]: Done   9 tasks      | elapsed:   16.7s\n",
      "[Parallel(n_jobs=-1)]: Done 130 tasks      | elapsed:  2.2min\n",
      "[Parallel(n_jobs=-1)]: Done 221 out of 221 | elapsed:  3.6min finished\n",
      "\n",
      "[2022-02-24 16:03:36] Features: 35/255 -- score: 0.9378505427540009[Parallel(n_jobs=-1)]: Using backend LokyBackend with 16 concurrent workers.\n",
      "[Parallel(n_jobs=-1)]: Done   9 tasks      | elapsed:   19.4s\n",
      "[Parallel(n_jobs=-1)]: Done 130 tasks      | elapsed:  2.6min\n",
      "[Parallel(n_jobs=-1)]: Done 220 out of 220 | elapsed:  4.2min finished\n",
      "\n",
      "[2022-02-24 16:07:47] Features: 36/255 -- score: 0.9378505529673553[Parallel(n_jobs=-1)]: Using backend LokyBackend with 16 concurrent workers.\n",
      "[Parallel(n_jobs=-1)]: Done   9 tasks      | elapsed:   18.8s\n",
      "[Parallel(n_jobs=-1)]: Done 130 tasks      | elapsed:  2.6min\n",
      "[Parallel(n_jobs=-1)]: Done 219 out of 219 | elapsed:  4.1min finished\n",
      "\n",
      "[2022-02-24 16:11:56] Features: 37/255 -- score: 0.9379010682188351[Parallel(n_jobs=-1)]: Using backend LokyBackend with 16 concurrent workers.\n",
      "[Parallel(n_jobs=-1)]: Done   9 tasks      | elapsed:   21.2s\n",
      "[Parallel(n_jobs=-1)]: Done 130 tasks      | elapsed:  2.7min\n",
      "[Parallel(n_jobs=-1)]: Done 218 out of 218 | elapsed:  4.2min finished\n",
      "\n",
      "[2022-02-24 16:16:06] Features: 38/255 -- score: 0.9378505427540009[Parallel(n_jobs=-1)]: Using backend LokyBackend with 16 concurrent workers.\n",
      "[Parallel(n_jobs=-1)]: Done   9 tasks      | elapsed:   19.1s\n",
      "[Parallel(n_jobs=-1)]: Done 130 tasks      | elapsed:  2.6min\n",
      "[Parallel(n_jobs=-1)]: Done 217 out of 217 | elapsed:  4.1min finished\n",
      "\n",
      "[2022-02-24 16:20:11] Features: 39/255 -- score: 0.9378000172891665[Parallel(n_jobs=-1)]: Using backend LokyBackend with 16 concurrent workers.\n",
      "[Parallel(n_jobs=-1)]: Done   9 tasks      | elapsed:   19.4s\n",
      "[Parallel(n_jobs=-1)]: Done 130 tasks      | elapsed:  2.6min\n",
      "[Parallel(n_jobs=-1)]: Done 216 out of 216 | elapsed:  4.2min finished\n",
      "\n",
      "[2022-02-24 16:24:23] Features: 40/255 -- score: 0.9378000172891665[Parallel(n_jobs=-1)]: Using backend LokyBackend with 16 concurrent workers.\n",
      "[Parallel(n_jobs=-1)]: Done   9 tasks      | elapsed:   20.0s\n",
      "[Parallel(n_jobs=-1)]: Done 130 tasks      | elapsed:  2.8min\n",
      "[Parallel(n_jobs=-1)]: Done 215 out of 215 | elapsed:  4.2min finished\n",
      "\n",
      "[2022-02-24 16:28:37] Features: 41/255 -- score: 0.9378000172891665[Parallel(n_jobs=-1)]: Using backend LokyBackend with 16 concurrent workers.\n",
      "[Parallel(n_jobs=-1)]: Done   9 tasks      | elapsed:   21.0s\n",
      "[Parallel(n_jobs=-1)]: Done 130 tasks      | elapsed:  2.7min\n",
      "[Parallel(n_jobs=-1)]: Done 214 out of 214 | elapsed:  4.2min finished\n",
      "\n",
      "[2022-02-24 16:32:51] Features: 42/255 -- score: 0.9378000172891665[Parallel(n_jobs=-1)]: Using backend LokyBackend with 16 concurrent workers.\n",
      "[Parallel(n_jobs=-1)]: Done   9 tasks      | elapsed:   20.7s\n",
      "[Parallel(n_jobs=-1)]: Done 130 tasks      | elapsed:  2.8min\n",
      "[Parallel(n_jobs=-1)]: Done 213 out of 213 | elapsed:  4.2min finished\n",
      "\n",
      "[2022-02-24 16:37:06] Features: 43/255 -- score: 0.9378000172891665[Parallel(n_jobs=-1)]: Using backend LokyBackend with 16 concurrent workers.\n",
      "[Parallel(n_jobs=-1)]: Done   9 tasks      | elapsed:   22.0s\n",
      "[Parallel(n_jobs=-1)]: Done 130 tasks      | elapsed:  2.8min\n",
      "[Parallel(n_jobs=-1)]: Done 212 out of 212 | elapsed:  4.3min finished\n",
      "\n",
      "[2022-02-24 16:41:22] Features: 44/255 -- score: 0.9378000172891665[Parallel(n_jobs=-1)]: Using backend LokyBackend with 16 concurrent workers.\n",
      "[Parallel(n_jobs=-1)]: Done   9 tasks      | elapsed:   20.6s\n",
      "[Parallel(n_jobs=-1)]: Done 130 tasks      | elapsed:  2.8min\n",
      "[Parallel(n_jobs=-1)]: Done 211 out of 211 | elapsed:  4.3min finished\n",
      "\n",
      "[2022-02-24 16:45:42] Features: 45/255 -- score: 0.9378000172891665[Parallel(n_jobs=-1)]: Using backend LokyBackend with 16 concurrent workers.\n",
      "[Parallel(n_jobs=-1)]: Done   9 tasks      | elapsed:   21.2s\n",
      "[Parallel(n_jobs=-1)]: Done 130 tasks      | elapsed:  2.8min\n",
      "[Parallel(n_jobs=-1)]: Done 210 out of 210 | elapsed:  4.3min finished\n",
      "\n",
      "[2022-02-24 16:50:02] Features: 46/255 -- score: 0.9377494918243323[Parallel(n_jobs=-1)]: Using backend LokyBackend with 16 concurrent workers.\n",
      "[Parallel(n_jobs=-1)]: Done   9 tasks      | elapsed:   23.0s\n",
      "[Parallel(n_jobs=-1)]: Done 130 tasks      | elapsed:  2.9min\n",
      "[Parallel(n_jobs=-1)]: Done 209 out of 209 | elapsed:  4.4min finished\n",
      "\n",
      "[2022-02-24 16:54:24] Features: 47/255 -- score: 0.9377494918243323[Parallel(n_jobs=-1)]: Using backend LokyBackend with 16 concurrent workers.\n",
      "[Parallel(n_jobs=-1)]: Done   9 tasks      | elapsed:   19.9s\n",
      "[Parallel(n_jobs=-1)]: Done 130 tasks      | elapsed:  2.9min\n",
      "[Parallel(n_jobs=-1)]: Done 208 out of 208 | elapsed:  4.3min finished\n",
      "\n",
      "[2022-02-24 16:58:45] Features: 48/255 -- score: 0.9377494918243323[Parallel(n_jobs=-1)]: Using backend LokyBackend with 16 concurrent workers.\n",
      "[Parallel(n_jobs=-1)]: Done   9 tasks      | elapsed:   26.5s\n"
     ]
    },
    {
     "name": "stderr",
     "output_type": "stream",
     "text": [
      "[Parallel(n_jobs=-1)]: Done 130 tasks      | elapsed:  3.3min\n",
      "[Parallel(n_jobs=-1)]: Done 207 out of 207 | elapsed:  5.0min finished\n",
      "\n",
      "[2022-02-24 17:03:48] Features: 49/255 -- score: 0.9377495020376867[Parallel(n_jobs=-1)]: Using backend LokyBackend with 16 concurrent workers.\n",
      "[Parallel(n_jobs=-1)]: Done   9 tasks      | elapsed:   27.8s\n",
      "[Parallel(n_jobs=-1)]: Done 130 tasks      | elapsed:  3.3min\n",
      "[Parallel(n_jobs=-1)]: Done 206 out of 206 | elapsed:  5.0min finished\n",
      "\n",
      "[2022-02-24 17:08:49] Features: 50/255 -- score: 0.9377494918243323[Parallel(n_jobs=-1)]: Using backend LokyBackend with 16 concurrent workers.\n",
      "[Parallel(n_jobs=-1)]: Done   9 tasks      | elapsed:   28.3s\n",
      "[Parallel(n_jobs=-1)]: Done 130 tasks      | elapsed:  3.3min\n",
      "[Parallel(n_jobs=-1)]: Done 205 out of 205 | elapsed:  5.0min finished\n",
      "\n",
      "[2022-02-24 17:13:50] Features: 51/255 -- score: 0.9377494918243323[Parallel(n_jobs=-1)]: Using backend LokyBackend with 16 concurrent workers.\n",
      "[Parallel(n_jobs=-1)]: Done   9 tasks      | elapsed:   24.1s\n",
      "[Parallel(n_jobs=-1)]: Done 130 tasks      | elapsed:  3.3min\n",
      "[Parallel(n_jobs=-1)]: Done 204 out of 204 | elapsed:  5.0min finished\n",
      "\n",
      "[2022-02-24 17:18:48] Features: 52/255 -- score: 0.9377495020376867[Parallel(n_jobs=-1)]: Using backend LokyBackend with 16 concurrent workers.\n",
      "[Parallel(n_jobs=-1)]: Done   9 tasks      | elapsed:   23.5s\n",
      "[Parallel(n_jobs=-1)]: Done 130 tasks      | elapsed:  3.3min\n",
      "[Parallel(n_jobs=-1)]: Done 203 out of 203 | elapsed:  5.0min finished\n",
      "\n",
      "[2022-02-24 17:23:46] Features: 53/255 -- score: 0.9376989663594979[Parallel(n_jobs=-1)]: Using backend LokyBackend with 16 concurrent workers.\n",
      "[Parallel(n_jobs=-1)]: Done   9 tasks      | elapsed:   26.9s\n",
      "[Parallel(n_jobs=-1)]: Done 130 tasks      | elapsed:  3.4min\n",
      "[Parallel(n_jobs=-1)]: Done 202 out of 202 | elapsed:  4.9min finished\n",
      "\n",
      "[2022-02-24 17:28:41] Features: 54/255 -- score: 0.9377494918243323[Parallel(n_jobs=-1)]: Using backend LokyBackend with 16 concurrent workers.\n",
      "[Parallel(n_jobs=-1)]: Done   9 tasks      | elapsed:   27.2s\n",
      "[Parallel(n_jobs=-1)]: Done 130 tasks      | elapsed:  3.3min\n",
      "[Parallel(n_jobs=-1)]: Done 201 out of 201 | elapsed:  4.9min finished\n",
      "\n",
      "[2022-02-24 17:33:35] Features: 55/255 -- score: 0.9376989663594979[Parallel(n_jobs=-1)]: Using backend LokyBackend with 16 concurrent workers.\n",
      "[Parallel(n_jobs=-1)]: Done   9 tasks      | elapsed:   22.8s\n",
      "[Parallel(n_jobs=-1)]: Done 130 tasks      | elapsed:  3.4min\n",
      "[Parallel(n_jobs=-1)]: Done 200 out of 200 | elapsed:  4.9min finished\n",
      "\n",
      "[2022-02-24 17:38:31] Features: 56/255 -- score: 0.9376989663594979[Parallel(n_jobs=-1)]: Using backend LokyBackend with 16 concurrent workers.\n",
      "[Parallel(n_jobs=-1)]: Done   9 tasks      | elapsed:   24.7s\n",
      "[Parallel(n_jobs=-1)]: Done 130 tasks      | elapsed:  3.5min\n",
      "[Parallel(n_jobs=-1)]: Done 199 out of 199 | elapsed:  4.9min finished\n",
      "\n",
      "[2022-02-24 17:43:28] Features: 57/255 -- score: 0.9376989663594979[Parallel(n_jobs=-1)]: Using backend LokyBackend with 16 concurrent workers.\n",
      "[Parallel(n_jobs=-1)]: Done   9 tasks      | elapsed:   26.0s\n",
      "[Parallel(n_jobs=-1)]: Done 130 tasks      | elapsed:  3.5min\n",
      "[Parallel(n_jobs=-1)]: Done 198 out of 198 | elapsed:  4.9min finished\n",
      "\n",
      "[2022-02-24 17:48:24] Features: 58/255 -- score: 0.9376989663594979[Parallel(n_jobs=-1)]: Using backend LokyBackend with 16 concurrent workers.\n",
      "[Parallel(n_jobs=-1)]: Done   9 tasks      | elapsed:   28.2s\n",
      "[Parallel(n_jobs=-1)]: Done 130 tasks      | elapsed:  3.4min\n",
      "[Parallel(n_jobs=-1)]: Done 197 out of 197 | elapsed:  4.9min finished\n",
      "\n",
      "[2022-02-24 17:53:16] Features: 59/255 -- score: 0.9376989663594979[Parallel(n_jobs=-1)]: Using backend LokyBackend with 16 concurrent workers.\n",
      "[Parallel(n_jobs=-1)]: Done   9 tasks      | elapsed:   28.5s\n",
      "[Parallel(n_jobs=-1)]: Done 130 tasks      | elapsed:  3.5min\n",
      "[Parallel(n_jobs=-1)]: Done 196 out of 196 | elapsed:  4.9min finished\n",
      "\n",
      "[2022-02-24 17:58:11] Features: 60/255 -- score: 0.9376989663594979[Parallel(n_jobs=-1)]: Using backend LokyBackend with 16 concurrent workers.\n",
      "[Parallel(n_jobs=-1)]: Done   9 tasks      | elapsed:   26.7s\n",
      "[Parallel(n_jobs=-1)]: Done 130 tasks      | elapsed:  3.5min\n",
      "[Parallel(n_jobs=-1)]: Done 195 out of 195 | elapsed:  4.9min finished\n",
      "\n",
      "[2022-02-24 18:03:06] Features: 61/255 -- score: 0.9376989663594979[Parallel(n_jobs=-1)]: Using backend LokyBackend with 16 concurrent workers.\n",
      "[Parallel(n_jobs=-1)]: Done   9 tasks      | elapsed:   25.7s\n",
      "[Parallel(n_jobs=-1)]: Done 130 tasks      | elapsed:  3.5min\n",
      "[Parallel(n_jobs=-1)]: Done 194 out of 194 | elapsed:  5.0min finished\n",
      "\n",
      "[2022-02-24 18:08:04] Features: 62/255 -- score: 0.9376989663594979[Parallel(n_jobs=-1)]: Using backend LokyBackend with 16 concurrent workers.\n",
      "[Parallel(n_jobs=-1)]: Done   9 tasks      | elapsed:   26.4s\n",
      "[Parallel(n_jobs=-1)]: Done 130 tasks      | elapsed:  3.5min\n",
      "[Parallel(n_jobs=-1)]: Done 193 out of 193 | elapsed:  4.9min finished\n",
      "\n",
      "[2022-02-24 18:13:01] Features: 63/255 -- score: 0.9377494918243323[Parallel(n_jobs=-1)]: Using backend LokyBackend with 16 concurrent workers.\n",
      "[Parallel(n_jobs=-1)]: Done   9 tasks      | elapsed:   32.3s\n",
      "[Parallel(n_jobs=-1)]: Done 130 tasks      | elapsed:  4.0min\n",
      "[Parallel(n_jobs=-1)]: Done 192 out of 192 | elapsed:  5.6min finished\n",
      "\n",
      "[2022-02-24 18:18:36] Features: 64/255 -- score: 0.9377494918243323[Parallel(n_jobs=-1)]: Using backend LokyBackend with 16 concurrent workers.\n",
      "[Parallel(n_jobs=-1)]: Done   9 tasks      | elapsed:   27.3s\n",
      "[Parallel(n_jobs=-1)]: Done 130 tasks      | elapsed:  4.0min\n",
      "[Parallel(n_jobs=-1)]: Done 191 out of 191 | elapsed:  5.6min finished\n",
      "\n",
      "[2022-02-24 18:24:11] Features: 65/255 -- score: 0.9377494918243323[Parallel(n_jobs=-1)]: Using backend LokyBackend with 16 concurrent workers.\n",
      "[Parallel(n_jobs=-1)]: Done   9 tasks      | elapsed:   29.8s\n",
      "[Parallel(n_jobs=-1)]: Done 130 tasks      | elapsed:  4.1min\n",
      "[Parallel(n_jobs=-1)]: Done 190 out of 190 | elapsed:  5.6min finished\n",
      "\n",
      "[2022-02-24 18:29:45] Features: 66/255 -- score: 0.9377494918243323[Parallel(n_jobs=-1)]: Using backend LokyBackend with 16 concurrent workers.\n",
      "[Parallel(n_jobs=-1)]: Done   9 tasks      | elapsed:   30.0s\n",
      "[Parallel(n_jobs=-1)]: Done 130 tasks      | elapsed:  4.1min\n",
      "[Parallel(n_jobs=-1)]: Done 189 out of 189 | elapsed:  5.5min finished\n",
      "\n",
      "[2022-02-24 18:35:17] Features: 67/255 -- score: 0.9376989663594979[Parallel(n_jobs=-1)]: Using backend LokyBackend with 16 concurrent workers.\n",
      "[Parallel(n_jobs=-1)]: Done   9 tasks      | elapsed:   31.2s\n",
      "[Parallel(n_jobs=-1)]: Done 130 tasks      | elapsed:  4.1min\n",
      "[Parallel(n_jobs=-1)]: Done 188 out of 188 | elapsed:  5.5min finished\n",
      "\n",
      "[2022-02-24 18:40:49] Features: 68/255 -- score: 0.9376989663594979[Parallel(n_jobs=-1)]: Using backend LokyBackend with 16 concurrent workers.\n",
      "[Parallel(n_jobs=-1)]: Done   9 tasks      | elapsed:   30.4s\n",
      "[Parallel(n_jobs=-1)]: Done 130 tasks      | elapsed:  4.2min\n",
      "[Parallel(n_jobs=-1)]: Done 187 out of 187 | elapsed:  5.5min finished\n",
      "\n",
      "[2022-02-24 18:46:20] Features: 69/255 -- score: 0.9376989663594979[Parallel(n_jobs=-1)]: Using backend LokyBackend with 16 concurrent workers.\n",
      "[Parallel(n_jobs=-1)]: Done   9 tasks      | elapsed:   34.4s\n",
      "[Parallel(n_jobs=-1)]: Done 130 tasks      | elapsed:  4.2min\n",
      "[Parallel(n_jobs=-1)]: Done 186 out of 186 | elapsed:  5.5min finished\n",
      "\n",
      "[2022-02-24 18:51:53] Features: 70/255 -- score: 0.9376989663594979[Parallel(n_jobs=-1)]: Using backend LokyBackend with 16 concurrent workers.\n",
      "[Parallel(n_jobs=-1)]: Done   9 tasks      | elapsed:   31.1s\n",
      "[Parallel(n_jobs=-1)]: Done 130 tasks      | elapsed:  4.1min\n",
      "[Parallel(n_jobs=-1)]: Done 185 out of 185 | elapsed:  5.6min finished\n",
      "\n",
      "[2022-02-24 18:57:27] Features: 71/255 -- score: 0.9376989663594979[Parallel(n_jobs=-1)]: Using backend LokyBackend with 16 concurrent workers.\n",
      "[Parallel(n_jobs=-1)]: Done   9 tasks      | elapsed:   33.0s\n",
      "[Parallel(n_jobs=-1)]: Done 130 tasks      | elapsed:  4.2min\n",
      "[Parallel(n_jobs=-1)]: Done 184 out of 184 | elapsed:  5.7min finished\n",
      "\n",
      "[2022-02-24 19:03:07] Features: 72/255 -- score: 0.9376989663594979[Parallel(n_jobs=-1)]: Using backend LokyBackend with 16 concurrent workers.\n",
      "[Parallel(n_jobs=-1)]: Done   9 tasks      | elapsed:   34.4s\n",
      "[Parallel(n_jobs=-1)]: Done 130 tasks      | elapsed:  4.2min\n"
     ]
    },
    {
     "name": "stderr",
     "output_type": "stream",
     "text": [
      "[Parallel(n_jobs=-1)]: Done 183 out of 183 | elapsed:  5.6min finished\n",
      "\n",
      "[2022-02-24 19:08:46] Features: 73/255 -- score: 0.9376989663594979[Parallel(n_jobs=-1)]: Using backend LokyBackend with 16 concurrent workers.\n",
      "[Parallel(n_jobs=-1)]: Done   9 tasks      | elapsed:   31.9s\n",
      "[Parallel(n_jobs=-1)]: Done 130 tasks      | elapsed:  4.3min\n",
      "[Parallel(n_jobs=-1)]: Done 182 out of 182 | elapsed:  5.6min finished\n",
      "\n",
      "[2022-02-24 19:14:21] Features: 74/255 -- score: 0.9376484408946637[Parallel(n_jobs=-1)]: Using backend LokyBackend with 16 concurrent workers.\n",
      "[Parallel(n_jobs=-1)]: Done   9 tasks      | elapsed:   31.2s\n",
      "[Parallel(n_jobs=-1)]: Done 130 tasks      | elapsed:  4.2min\n",
      "[Parallel(n_jobs=-1)]: Done 181 out of 181 | elapsed:  5.5min finished\n",
      "\n",
      "[2022-02-24 19:19:54] Features: 75/255 -- score: 0.9376484408946637[Parallel(n_jobs=-1)]: Using backend LokyBackend with 16 concurrent workers.\n",
      "[Parallel(n_jobs=-1)]: Done   9 tasks      | elapsed:   30.4s\n",
      "[Parallel(n_jobs=-1)]: Done 130 tasks      | elapsed:  4.3min\n",
      "[Parallel(n_jobs=-1)]: Done 180 out of 180 | elapsed:  5.5min finished\n",
      "\n",
      "[2022-02-24 19:25:24] Features: 76/255 -- score: 0.9376989663594979[Parallel(n_jobs=-1)]: Using backend LokyBackend with 16 concurrent workers.\n",
      "[Parallel(n_jobs=-1)]: Done   9 tasks      | elapsed:   33.2s\n",
      "[Parallel(n_jobs=-1)]: Done 130 tasks      | elapsed:  4.2min\n",
      "[Parallel(n_jobs=-1)]: Done 179 out of 179 | elapsed:  5.5min finished\n",
      "\n",
      "[2022-02-24 19:30:55] Features: 77/255 -- score: 0.9376484408946637[Parallel(n_jobs=-1)]: Using backend LokyBackend with 16 concurrent workers.\n",
      "[Parallel(n_jobs=-1)]: Done   9 tasks      | elapsed:   35.0s\n",
      "[Parallel(n_jobs=-1)]: Done 130 tasks      | elapsed:  4.3min\n",
      "[Parallel(n_jobs=-1)]: Done 178 out of 178 | elapsed:  5.5min finished\n",
      "\n",
      "[2022-02-24 19:36:25] Features: 78/255 -- score: 0.9376484408946637[Parallel(n_jobs=-1)]: Using backend LokyBackend with 16 concurrent workers.\n",
      "[Parallel(n_jobs=-1)]: Done   9 tasks      | elapsed:   32.9s\n",
      "[Parallel(n_jobs=-1)]: Done 130 tasks      | elapsed:  4.2min\n",
      "[Parallel(n_jobs=-1)]: Done 177 out of 177 | elapsed:  5.5min finished\n",
      "\n",
      "[2022-02-24 19:41:54] Features: 79/255 -- score: 0.9376989663594979[Parallel(n_jobs=-1)]: Using backend LokyBackend with 16 concurrent workers.\n",
      "[Parallel(n_jobs=-1)]: Done   9 tasks      | elapsed:   31.8s\n",
      "[Parallel(n_jobs=-1)]: Done 130 tasks      | elapsed:  4.2min\n",
      "[Parallel(n_jobs=-1)]: Done 176 out of 176 | elapsed:  5.4min finished\n",
      "\n",
      "[2022-02-24 19:47:16] Features: 80/255 -- score: 0.9376989663594979[Parallel(n_jobs=-1)]: Using backend LokyBackend with 16 concurrent workers.\n",
      "[Parallel(n_jobs=-1)]: Done   9 tasks      | elapsed:   35.9s\n",
      "[Parallel(n_jobs=-1)]: Done 130 tasks      | elapsed:  4.7min\n",
      "[Parallel(n_jobs=-1)]: Done 175 out of 175 | elapsed:  6.1min finished\n",
      "\n",
      "[2022-02-24 19:53:20] Features: 81/255 -- score: 0.9376484408946637[Parallel(n_jobs=-1)]: Using backend LokyBackend with 16 concurrent workers.\n",
      "[Parallel(n_jobs=-1)]: Done   9 tasks      | elapsed:   36.5s\n",
      "[Parallel(n_jobs=-1)]: Done 130 tasks      | elapsed:  4.7min\n",
      "[Parallel(n_jobs=-1)]: Done 174 out of 174 | elapsed:  6.0min finished\n",
      "\n",
      "[2022-02-24 19:59:23] Features: 82/255 -- score: 0.9376484408946637[Parallel(n_jobs=-1)]: Using backend LokyBackend with 16 concurrent workers.\n",
      "[Parallel(n_jobs=-1)]: Done   9 tasks      | elapsed:   38.2s\n",
      "[Parallel(n_jobs=-1)]: Done 130 tasks      | elapsed:  5.0min\n",
      "[Parallel(n_jobs=-1)]: Done 173 out of 173 | elapsed:  6.1min finished\n",
      "\n",
      "[2022-02-24 20:05:26] Features: 83/255 -- score: 0.9376989663594979[Parallel(n_jobs=-1)]: Using backend LokyBackend with 16 concurrent workers.\n",
      "[Parallel(n_jobs=-1)]: Done   9 tasks      | elapsed:   36.8s\n",
      "[Parallel(n_jobs=-1)]: Done 130 tasks      | elapsed:  4.9min\n",
      "[Parallel(n_jobs=-1)]: Done 172 out of 172 | elapsed:  6.0min finished\n",
      "\n",
      "[2022-02-24 20:11:27] Features: 84/255 -- score: 0.9376989663594981[Parallel(n_jobs=-1)]: Using backend LokyBackend with 16 concurrent workers.\n",
      "[Parallel(n_jobs=-1)]: Done   9 tasks      | elapsed:   39.7s\n",
      "[Parallel(n_jobs=-1)]: Done 130 tasks      | elapsed:  4.9min\n",
      "[Parallel(n_jobs=-1)]: Done 171 out of 171 | elapsed:  6.0min finished\n",
      "\n",
      "[2022-02-24 20:17:27] Features: 85/255 -- score: 0.9376484306813091[Parallel(n_jobs=-1)]: Using backend LokyBackend with 16 concurrent workers.\n",
      "[Parallel(n_jobs=-1)]: Done   9 tasks      | elapsed:   37.9s\n",
      "[Parallel(n_jobs=-1)]: Done 130 tasks      | elapsed:  4.8min\n",
      "[Parallel(n_jobs=-1)]: Done 170 out of 170 | elapsed:  6.0min finished\n",
      "\n",
      "[2022-02-24 20:23:24] Features: 86/255 -- score: 0.9376484306813091[Parallel(n_jobs=-1)]: Using backend LokyBackend with 16 concurrent workers.\n",
      "[Parallel(n_jobs=-1)]: Done   9 tasks      | elapsed:   39.7s\n",
      "[Parallel(n_jobs=-1)]: Done 130 tasks      | elapsed:  4.9min\n",
      "[Parallel(n_jobs=-1)]: Done 169 out of 169 | elapsed:  5.9min finished\n",
      "\n",
      "[2022-02-24 20:29:21] Features: 87/255 -- score: 0.9376484408946637[Parallel(n_jobs=-1)]: Using backend LokyBackend with 16 concurrent workers.\n",
      "[Parallel(n_jobs=-1)]: Done   9 tasks      | elapsed:   37.5s\n",
      "[Parallel(n_jobs=-1)]: Done 130 tasks      | elapsed:  5.0min\n",
      "[Parallel(n_jobs=-1)]: Done 168 out of 168 | elapsed:  6.0min finished\n",
      "\n",
      "[2022-02-24 20:35:19] Features: 88/255 -- score: 0.9376484306813091[Parallel(n_jobs=-1)]: Using backend LokyBackend with 16 concurrent workers.\n",
      "[Parallel(n_jobs=-1)]: Done   9 tasks      | elapsed:   36.3s\n",
      "[Parallel(n_jobs=-1)]: Done 130 tasks      | elapsed:  5.0min\n",
      "[Parallel(n_jobs=-1)]: Done 167 out of 167 | elapsed:  6.0min finished\n",
      "\n",
      "[2022-02-24 20:41:19] Features: 89/255 -- score: 0.9376484408946637[Parallel(n_jobs=-1)]: Using backend LokyBackend with 16 concurrent workers.\n",
      "[Parallel(n_jobs=-1)]: Done   9 tasks      | elapsed:   40.0s\n",
      "[Parallel(n_jobs=-1)]: Done 130 tasks      | elapsed:  4.9min\n",
      "[Parallel(n_jobs=-1)]: Done 166 out of 166 | elapsed:  6.0min finished\n",
      "\n",
      "[2022-02-24 20:47:16] Features: 90/255 -- score: 0.9376484408946637[Parallel(n_jobs=-1)]: Using backend LokyBackend with 16 concurrent workers.\n",
      "[Parallel(n_jobs=-1)]: Done   9 tasks      | elapsed:   41.9s\n",
      "[Parallel(n_jobs=-1)]: Done 130 tasks      | elapsed:  5.0min\n",
      "[Parallel(n_jobs=-1)]: Done 165 out of 165 | elapsed:  5.9min finished\n",
      "\n",
      "[2022-02-24 20:53:13] Features: 91/255 -- score: 0.9376484408946637[Parallel(n_jobs=-1)]: Using backend LokyBackend with 16 concurrent workers.\n",
      "[Parallel(n_jobs=-1)]: Done   9 tasks      | elapsed:   37.8s\n",
      "[Parallel(n_jobs=-1)]: Done 130 tasks      | elapsed:  5.0min\n",
      "[Parallel(n_jobs=-1)]: Done 164 out of 164 | elapsed:  5.9min finished\n",
      "\n",
      "[2022-02-24 20:59:07] Features: 92/255 -- score: 0.9376484408946637[Parallel(n_jobs=-1)]: Using backend LokyBackend with 16 concurrent workers.\n",
      "[Parallel(n_jobs=-1)]: Done   9 tasks      | elapsed:   39.8s\n",
      "[Parallel(n_jobs=-1)]: Done 130 tasks      | elapsed:  5.0min\n",
      "[Parallel(n_jobs=-1)]: Done 163 out of 163 | elapsed:  5.9min finished\n",
      "\n",
      "[2022-02-24 21:05:00] Features: 93/255 -- score: 0.9376484408946637[Parallel(n_jobs=-1)]: Using backend LokyBackend with 16 concurrent workers.\n",
      "[Parallel(n_jobs=-1)]: Done   9 tasks      | elapsed:   36.7s\n",
      "[Parallel(n_jobs=-1)]: Done 130 tasks      | elapsed:  5.0min\n",
      "[Parallel(n_jobs=-1)]: Done 162 out of 162 | elapsed:  5.9min finished\n",
      "\n",
      "[2022-02-24 21:10:54] Features: 94/255 -- score: 0.9376484408946637[Parallel(n_jobs=-1)]: Using backend LokyBackend with 16 concurrent workers.\n",
      "[Parallel(n_jobs=-1)]: Done   9 tasks      | elapsed:   41.5s\n",
      "[Parallel(n_jobs=-1)]: Done 130 tasks      | elapsed:  5.0min\n",
      "[Parallel(n_jobs=-1)]: Done 161 out of 161 | elapsed:  5.9min finished\n",
      "\n",
      "[2022-02-24 21:16:45] Features: 95/255 -- score: 0.9376484408946637[Parallel(n_jobs=-1)]: Using backend LokyBackend with 16 concurrent workers.\n",
      "[Parallel(n_jobs=-1)]: Done   9 tasks      | elapsed:   36.3s\n",
      "[Parallel(n_jobs=-1)]: Done 160 out of 160 | elapsed:  5.8min finished\n",
      "\n",
      "[2022-02-24 21:22:31] Features: 96/255 -- score: 0.9376484408946637[Parallel(n_jobs=-1)]: Using backend LokyBackend with 16 concurrent workers.\n",
      "[Parallel(n_jobs=-1)]: Done   9 tasks      | elapsed:   41.4s\n",
      "[Parallel(n_jobs=-1)]: Done 159 out of 159 | elapsed:  5.8min finished\n",
      "\n",
      "[2022-02-24 21:28:18] Features: 97/255 -- score: 0.9376484408946637[Parallel(n_jobs=-1)]: Using backend LokyBackend with 16 concurrent workers.\n"
     ]
    },
    {
     "name": "stderr",
     "output_type": "stream",
     "text": [
      "[Parallel(n_jobs=-1)]: Done   9 tasks      | elapsed:   37.6s\n",
      "[Parallel(n_jobs=-1)]: Done 158 out of 158 | elapsed:  5.7min finished\n",
      "\n",
      "[2022-02-24 21:34:00] Features: 98/255 -- score: 0.9376484306813091[Parallel(n_jobs=-1)]: Using backend LokyBackend with 16 concurrent workers.\n",
      "[Parallel(n_jobs=-1)]: Done   9 tasks      | elapsed:   38.4s\n",
      "[Parallel(n_jobs=-1)]: Done 157 out of 157 | elapsed:  5.7min finished\n",
      "\n",
      "[2022-02-24 21:39:42] Features: 99/255 -- score: 0.9376989663594979[Parallel(n_jobs=-1)]: Using backend LokyBackend with 16 concurrent workers.\n",
      "[Parallel(n_jobs=-1)]: Done   9 tasks      | elapsed:   41.0s\n",
      "[Parallel(n_jobs=-1)]: Done 156 out of 156 | elapsed:  6.3min finished\n",
      "\n",
      "[2022-02-24 21:46:00] Features: 100/255 -- score: 0.9376484408946637[Parallel(n_jobs=-1)]: Using backend LokyBackend with 16 concurrent workers.\n",
      "[Parallel(n_jobs=-1)]: Done   9 tasks      | elapsed:   44.1s\n",
      "[Parallel(n_jobs=-1)]: Done 155 out of 155 | elapsed:  6.3min finished\n",
      "\n",
      "[2022-02-24 21:52:17] Features: 101/255 -- score: 0.9376484408946637[Parallel(n_jobs=-1)]: Using backend LokyBackend with 16 concurrent workers.\n",
      "[Parallel(n_jobs=-1)]: Done   9 tasks      | elapsed:   40.4s\n",
      "[Parallel(n_jobs=-1)]: Done 154 out of 154 | elapsed:  6.3min finished\n",
      "\n",
      "[2022-02-24 21:58:37] Features: 102/255 -- score: 0.9376484408946637[Parallel(n_jobs=-1)]: Using backend LokyBackend with 16 concurrent workers.\n",
      "[Parallel(n_jobs=-1)]: Done   9 tasks      | elapsed:   44.0s\n",
      "[Parallel(n_jobs=-1)]: Done 153 out of 153 | elapsed:  6.2min finished\n",
      "\n",
      "[2022-02-24 22:04:51] Features: 103/255 -- score: 0.9376484408946637[Parallel(n_jobs=-1)]: Using backend LokyBackend with 16 concurrent workers.\n",
      "[Parallel(n_jobs=-1)]: Done   9 tasks      | elapsed:   42.1s\n",
      "[Parallel(n_jobs=-1)]: Done 152 out of 152 | elapsed:  6.2min finished\n",
      "\n",
      "[2022-02-24 22:11:06] Features: 104/255 -- score: 0.9376484408946637[Parallel(n_jobs=-1)]: Using backend LokyBackend with 16 concurrent workers.\n",
      "[Parallel(n_jobs=-1)]: Done   9 tasks      | elapsed:   47.9s\n",
      "[Parallel(n_jobs=-1)]: Done 151 out of 151 | elapsed:  6.3min finished\n",
      "\n",
      "[2022-02-24 22:17:23] Features: 105/255 -- score: 0.9376484306813091[Parallel(n_jobs=-1)]: Using backend LokyBackend with 16 concurrent workers.\n",
      "[Parallel(n_jobs=-1)]: Done   9 tasks      | elapsed:   44.0s\n",
      "[Parallel(n_jobs=-1)]: Done 150 out of 150 | elapsed:  6.3min finished\n",
      "\n",
      "[2022-02-24 22:23:38] Features: 106/255 -- score: 0.9376484306813091[Parallel(n_jobs=-1)]: Using backend LokyBackend with 16 concurrent workers.\n",
      "[Parallel(n_jobs=-1)]: Done   9 tasks      | elapsed:   46.6s\n",
      "[Parallel(n_jobs=-1)]: Done 149 out of 149 | elapsed:  6.2min finished\n",
      "\n",
      "[2022-02-24 22:29:50] Features: 107/255 -- score: 0.9376484306813091[Parallel(n_jobs=-1)]: Using backend LokyBackend with 16 concurrent workers.\n",
      "[Parallel(n_jobs=-1)]: Done   9 tasks      | elapsed:   42.0s\n",
      "[Parallel(n_jobs=-1)]: Done 148 out of 148 | elapsed:  6.2min finished\n",
      "\n",
      "[2022-02-24 22:36:01] Features: 108/255 -- score: 0.9376484306813091[Parallel(n_jobs=-1)]: Using backend LokyBackend with 16 concurrent workers.\n",
      "[Parallel(n_jobs=-1)]: Done   9 tasks      | elapsed:   44.2s\n",
      "[Parallel(n_jobs=-1)]: Done 147 out of 147 | elapsed:  6.1min finished\n",
      "\n",
      "[2022-02-24 22:42:09] Features: 109/255 -- score: 0.9376484306813091[Parallel(n_jobs=-1)]: Using backend LokyBackend with 16 concurrent workers.\n",
      "[Parallel(n_jobs=-1)]: Done   9 tasks      | elapsed:   42.6s\n",
      "[Parallel(n_jobs=-1)]: Done 146 out of 146 | elapsed:  6.1min finished\n",
      "\n",
      "[2022-02-24 22:48:15] Features: 110/255 -- score: 0.9376484408946637[Parallel(n_jobs=-1)]: Using backend LokyBackend with 16 concurrent workers.\n",
      "[Parallel(n_jobs=-1)]: Done   9 tasks      | elapsed:   46.5s\n",
      "[Parallel(n_jobs=-1)]: Done 145 out of 145 | elapsed:  6.1min finished\n",
      "\n",
      "[2022-02-24 22:54:18] Features: 111/255 -- score: 0.9376484408946637[Parallel(n_jobs=-1)]: Using backend LokyBackend with 16 concurrent workers.\n",
      "[Parallel(n_jobs=-1)]: Done   9 tasks      | elapsed:   44.5s\n",
      "[Parallel(n_jobs=-1)]: Done 144 out of 144 | elapsed:  5.9min finished\n",
      "\n",
      "[2022-02-24 23:00:14] Features: 112/255 -- score: 0.9376484306813091[Parallel(n_jobs=-1)]: Using backend LokyBackend with 16 concurrent workers.\n",
      "[Parallel(n_jobs=-1)]: Done   9 tasks      | elapsed:   45.5s\n",
      "[Parallel(n_jobs=-1)]: Done 143 out of 143 | elapsed:  6.0min finished\n",
      "\n",
      "[2022-02-24 23:06:13] Features: 113/255 -- score: 0.9376484408946637[Parallel(n_jobs=-1)]: Using backend LokyBackend with 16 concurrent workers.\n",
      "[Parallel(n_jobs=-1)]: Done   9 tasks      | elapsed:   45.3s\n",
      "[Parallel(n_jobs=-1)]: Done 142 out of 142 | elapsed:  5.9min finished\n",
      "\n",
      "[2022-02-24 23:12:11] Features: 114/255 -- score: 0.9376484306813093[Parallel(n_jobs=-1)]: Using backend LokyBackend with 16 concurrent workers.\n",
      "[Parallel(n_jobs=-1)]: Done   9 tasks      | elapsed:   40.2s\n",
      "[Parallel(n_jobs=-1)]: Done 141 out of 141 | elapsed:  6.0min finished\n",
      "\n",
      "[2022-02-24 23:18:08] Features: 115/255 -- score: 0.9376484408946637[Parallel(n_jobs=-1)]: Using backend LokyBackend with 16 concurrent workers.\n",
      "[Parallel(n_jobs=-1)]: Done   9 tasks      | elapsed:   42.3s\n",
      "[Parallel(n_jobs=-1)]: Done 140 out of 140 | elapsed:  6.0min finished\n",
      "\n",
      "[2022-02-24 23:24:07] Features: 116/255 -- score: 0.9376484306813091[Parallel(n_jobs=-1)]: Using backend LokyBackend with 16 concurrent workers.\n",
      "[Parallel(n_jobs=-1)]: Done   9 tasks      | elapsed:   43.8s\n",
      "[Parallel(n_jobs=-1)]: Done 139 out of 139 | elapsed:  5.9min finished\n",
      "\n",
      "[2022-02-24 23:30:01] Features: 117/255 -- score: 0.9376484408946637[Parallel(n_jobs=-1)]: Using backend LokyBackend with 16 concurrent workers.\n",
      "[Parallel(n_jobs=-1)]: Done   9 tasks      | elapsed:   41.1s\n",
      "[Parallel(n_jobs=-1)]: Done 138 out of 138 | elapsed:  5.9min finished\n",
      "\n",
      "[2022-02-24 23:35:55] Features: 118/255 -- score: 0.9376484408946637[Parallel(n_jobs=-1)]: Using backend LokyBackend with 16 concurrent workers.\n",
      "[Parallel(n_jobs=-1)]: Done   9 tasks      | elapsed:   47.9s\n",
      "[Parallel(n_jobs=-1)]: Done 137 out of 137 | elapsed:  5.8min finished\n",
      "\n",
      "[2022-02-24 23:41:46] Features: 119/255 -- score: 0.9376484408946637[Parallel(n_jobs=-1)]: Using backend LokyBackend with 16 concurrent workers.\n",
      "[Parallel(n_jobs=-1)]: Done   9 tasks      | elapsed:   45.8s\n",
      "[Parallel(n_jobs=-1)]: Done 136 out of 136 | elapsed:  5.8min finished\n",
      "\n",
      "[2022-02-24 23:47:32] Features: 120/255 -- score: 0.9376484306813091[Parallel(n_jobs=-1)]: Using backend LokyBackend with 16 concurrent workers.\n",
      "[Parallel(n_jobs=-1)]: Done   9 tasks      | elapsed:   51.7s\n",
      "[Parallel(n_jobs=-1)]: Done 135 out of 135 | elapsed:  6.4min finished\n",
      "\n",
      "[2022-02-24 23:53:56] Features: 121/255 -- score: 0.9376484408946637[Parallel(n_jobs=-1)]: Using backend LokyBackend with 16 concurrent workers.\n",
      "[Parallel(n_jobs=-1)]: Done   9 tasks      | elapsed:   50.4s\n",
      "[Parallel(n_jobs=-1)]: Done 134 out of 134 | elapsed:  6.3min finished\n",
      "\n",
      "[2022-02-25 00:00:17] Features: 122/255 -- score: 0.9376484306813091[Parallel(n_jobs=-1)]: Using backend LokyBackend with 16 concurrent workers.\n",
      "[Parallel(n_jobs=-1)]: Done   9 tasks      | elapsed:   50.2s\n",
      "[Parallel(n_jobs=-1)]: Done 133 out of 133 | elapsed:  6.3min finished\n",
      "\n",
      "[2022-02-25 00:06:34] Features: 123/255 -- score: 0.9376484408946637[Parallel(n_jobs=-1)]: Using backend LokyBackend with 16 concurrent workers.\n",
      "[Parallel(n_jobs=-1)]: Done   9 tasks      | elapsed:   46.2s\n",
      "[Parallel(n_jobs=-1)]: Done 132 out of 132 | elapsed:  6.3min finished\n",
      "\n",
      "[2022-02-25 00:12:50] Features: 124/255 -- score: 0.9376484408946637[Parallel(n_jobs=-1)]: Using backend LokyBackend with 16 concurrent workers.\n",
      "[Parallel(n_jobs=-1)]: Done   9 tasks      | elapsed:   49.9s\n",
      "[Parallel(n_jobs=-1)]: Done 131 out of 131 | elapsed:  6.2min finished\n",
      "\n",
      "[2022-02-25 00:19:01] Features: 125/255 -- score: 0.9376484408946637[Parallel(n_jobs=-1)]: Using backend LokyBackend with 16 concurrent workers.\n",
      "[Parallel(n_jobs=-1)]: Done   9 tasks      | elapsed:   50.6s\n",
      "[Parallel(n_jobs=-1)]: Done 130 out of 130 | elapsed:  6.1min finished\n",
      "\n",
      "[2022-02-25 00:25:10] Features: 126/255 -- score: 0.9376484408946637[Parallel(n_jobs=-1)]: Using backend LokyBackend with 16 concurrent workers.\n",
      "[Parallel(n_jobs=-1)]: Done   9 tasks      | elapsed:   48.8s\n",
      "[Parallel(n_jobs=-1)]: Done 129 out of 129 | elapsed:  6.1min finished\n"
     ]
    },
    {
     "name": "stderr",
     "output_type": "stream",
     "text": [
      "\n",
      "[2022-02-25 00:31:17] Features: 127/255 -- score: 0.9376484408946637[Parallel(n_jobs=-1)]: Using backend LokyBackend with 16 concurrent workers.\n",
      "[Parallel(n_jobs=-1)]: Done   9 tasks      | elapsed:   52.1s\n",
      "[Parallel(n_jobs=-1)]: Done 128 out of 128 | elapsed:  6.2min finished\n",
      "\n",
      "[2022-02-25 00:37:29] Features: 128/255 -- score: 0.9376484408946637[Parallel(n_jobs=-1)]: Using backend LokyBackend with 16 concurrent workers.\n",
      "[Parallel(n_jobs=-1)]: Done   9 tasks      | elapsed:   53.0s\n",
      "[Parallel(n_jobs=-1)]: Done 127 out of 127 | elapsed:  6.1min finished\n",
      "\n",
      "[2022-02-25 00:43:36] Features: 129/255 -- score: 0.9376484408946637[Parallel(n_jobs=-1)]: Using backend LokyBackend with 16 concurrent workers.\n",
      "[Parallel(n_jobs=-1)]: Done   9 tasks      | elapsed:   51.9s\n",
      "[Parallel(n_jobs=-1)]: Done 126 out of 126 | elapsed:  6.0min finished\n",
      "\n",
      "[2022-02-25 00:49:38] Features: 130/255 -- score: 0.9376484408946637[Parallel(n_jobs=-1)]: Using backend LokyBackend with 16 concurrent workers.\n",
      "[Parallel(n_jobs=-1)]: Done   9 tasks      | elapsed:   46.7s\n",
      "[Parallel(n_jobs=-1)]: Done 125 out of 125 | elapsed:  6.1min finished\n",
      "\n",
      "[2022-02-25 00:55:42] Features: 131/255 -- score: 0.9376484408946637[Parallel(n_jobs=-1)]: Using backend LokyBackend with 16 concurrent workers.\n",
      "[Parallel(n_jobs=-1)]: Done   9 tasks      | elapsed:   48.7s\n",
      "[Parallel(n_jobs=-1)]: Done 124 out of 124 | elapsed:  5.9min finished\n",
      "\n",
      "[2022-02-25 01:01:40] Features: 132/255 -- score: 0.9376484306813091[Parallel(n_jobs=-1)]: Using backend LokyBackend with 16 concurrent workers.\n",
      "[Parallel(n_jobs=-1)]: Done   9 tasks      | elapsed:   52.0s\n",
      "[Parallel(n_jobs=-1)]: Done 123 out of 123 | elapsed:  5.9min finished\n",
      "\n",
      "[2022-02-25 01:07:35] Features: 133/255 -- score: 0.9376484306813091[Parallel(n_jobs=-1)]: Using backend LokyBackend with 16 concurrent workers.\n",
      "[Parallel(n_jobs=-1)]: Done   9 tasks      | elapsed:   51.0s\n",
      "[Parallel(n_jobs=-1)]: Done 122 out of 122 | elapsed:  5.9min finished\n",
      "\n",
      "[2022-02-25 01:13:28] Features: 134/255 -- score: 0.9376989663594979[Parallel(n_jobs=-1)]: Using backend LokyBackend with 16 concurrent workers.\n",
      "[Parallel(n_jobs=-1)]: Done   9 tasks      | elapsed:   49.4s\n",
      "[Parallel(n_jobs=-1)]: Done 121 out of 121 | elapsed:  5.8min finished\n",
      "\n",
      "[2022-02-25 01:19:18] Features: 135/255 -- score: 0.9376484408946637[Parallel(n_jobs=-1)]: Using backend LokyBackend with 16 concurrent workers.\n",
      "[Parallel(n_jobs=-1)]: Done   9 tasks      | elapsed:   46.7s\n",
      "[Parallel(n_jobs=-1)]: Done 120 out of 120 | elapsed:  5.7min finished\n",
      "\n",
      "[2022-02-25 01:25:03] Features: 136/255 -- score: 0.9376484408946637[Parallel(n_jobs=-1)]: Using backend LokyBackend with 16 concurrent workers.\n",
      "[Parallel(n_jobs=-1)]: Done   9 tasks      | elapsed:   50.0s\n",
      "[Parallel(n_jobs=-1)]: Done 119 out of 119 | elapsed:  5.7min finished\n",
      "\n",
      "[2022-02-25 01:30:45] Features: 137/255 -- score: 0.9375979154298295[Parallel(n_jobs=-1)]: Using backend LokyBackend with 16 concurrent workers.\n",
      "[Parallel(n_jobs=-1)]: Done   9 tasks      | elapsed:   55.1s\n",
      "[Parallel(n_jobs=-1)]: Done 118 out of 118 | elapsed:  5.7min finished\n",
      "\n",
      "[2022-02-25 01:36:24] Features: 138/255 -- score: 0.9376484408946637[Parallel(n_jobs=-1)]: Using backend LokyBackend with 16 concurrent workers.\n",
      "[Parallel(n_jobs=-1)]: Done   9 tasks      | elapsed:   48.0s\n",
      "[Parallel(n_jobs=-1)]: Done 117 out of 117 | elapsed:  5.6min finished\n",
      "\n",
      "[2022-02-25 01:42:00] Features: 139/255 -- score: 0.9376989663594979[Parallel(n_jobs=-1)]: Using backend LokyBackend with 16 concurrent workers.\n",
      "[Parallel(n_jobs=-1)]: Done   9 tasks      | elapsed:   54.4s\n",
      "[Parallel(n_jobs=-1)]: Done 116 out of 116 | elapsed:  5.6min finished\n",
      "\n",
      "[2022-02-25 01:47:36] Features: 140/255 -- score: 0.9376484408946637[Parallel(n_jobs=-1)]: Using backend LokyBackend with 16 concurrent workers.\n",
      "[Parallel(n_jobs=-1)]: Done   9 tasks      | elapsed:   46.1s\n",
      "[Parallel(n_jobs=-1)]: Done 115 out of 115 | elapsed:  5.5min finished\n",
      "\n",
      "[2022-02-25 01:53:06] Features: 141/255 -- score: 0.9376484408946637[Parallel(n_jobs=-1)]: Using backend LokyBackend with 16 concurrent workers.\n",
      "[Parallel(n_jobs=-1)]: Done   9 tasks      | elapsed:   47.9s\n",
      "[Parallel(n_jobs=-1)]: Done 114 out of 114 | elapsed:  5.4min finished\n",
      "\n",
      "[2022-02-25 01:58:32] Features: 142/255 -- score: 0.9376484408946637[Parallel(n_jobs=-1)]: Using backend LokyBackend with 16 concurrent workers.\n",
      "[Parallel(n_jobs=-1)]: Done   9 tasks      | elapsed:   43.7s\n",
      "[Parallel(n_jobs=-1)]: Done 113 out of 113 | elapsed:  5.4min finished\n",
      "\n",
      "[2022-02-25 02:03:56] Features: 143/255 -- score: 0.9375979052164749[Parallel(n_jobs=-1)]: Using backend LokyBackend with 16 concurrent workers.\n",
      "[Parallel(n_jobs=-1)]: Done   9 tasks      | elapsed:   54.2s\n",
      "[Parallel(n_jobs=-1)]: Done 112 out of 112 | elapsed:  5.8min finished\n",
      "\n",
      "[2022-02-25 02:09:45] Features: 144/255 -- score: 0.9375979052164749[Parallel(n_jobs=-1)]: Using backend LokyBackend with 16 concurrent workers.\n",
      "[Parallel(n_jobs=-1)]: Done   9 tasks      | elapsed:   54.7s\n",
      "[Parallel(n_jobs=-1)]: Done 111 out of 111 | elapsed:  5.9min finished\n",
      "\n",
      "[2022-02-25 02:15:36] Features: 145/255 -- score: 0.9375979052164749[Parallel(n_jobs=-1)]: Using backend LokyBackend with 16 concurrent workers.\n",
      "[Parallel(n_jobs=-1)]: Done   9 tasks      | elapsed:   53.3s\n",
      "[Parallel(n_jobs=-1)]: Done 110 out of 110 | elapsed:  5.8min finished\n",
      "\n",
      "[2022-02-25 02:21:23] Features: 146/255 -- score: 0.9375979052164749[Parallel(n_jobs=-1)]: Using backend LokyBackend with 16 concurrent workers.\n",
      "[Parallel(n_jobs=-1)]: Done   9 tasks      | elapsed:   55.8s\n",
      "[Parallel(n_jobs=-1)]: Done 109 out of 109 | elapsed:  5.7min finished\n",
      "\n",
      "[2022-02-25 02:27:04] Features: 147/255 -- score: 0.9375979154298295[Parallel(n_jobs=-1)]: Using backend LokyBackend with 16 concurrent workers.\n",
      "[Parallel(n_jobs=-1)]: Done   9 tasks      | elapsed:   56.0s\n",
      "[Parallel(n_jobs=-1)]: Done 108 out of 108 | elapsed:  5.6min finished\n",
      "\n",
      "[2022-02-25 02:32:41] Features: 148/255 -- score: 0.9375979052164749[Parallel(n_jobs=-1)]: Using backend LokyBackend with 16 concurrent workers.\n",
      "[Parallel(n_jobs=-1)]: Done   9 tasks      | elapsed:   52.9s\n",
      "[Parallel(n_jobs=-1)]: Done 107 out of 107 | elapsed:  5.6min finished\n",
      "\n",
      "[2022-02-25 02:38:17] Features: 149/255 -- score: 0.9376989561461435[Parallel(n_jobs=-1)]: Using backend LokyBackend with 16 concurrent workers.\n",
      "[Parallel(n_jobs=-1)]: Done   9 tasks      | elapsed:  1.1min\n",
      "[Parallel(n_jobs=-1)]: Done 106 out of 106 | elapsed:  5.6min finished\n",
      "\n",
      "[2022-02-25 02:43:50] Features: 150/255 -- score: 0.9375979052164749[Parallel(n_jobs=-1)]: Using backend LokyBackend with 16 concurrent workers.\n",
      "[Parallel(n_jobs=-1)]: Done   9 tasks      | elapsed:   56.3s\n",
      "[Parallel(n_jobs=-1)]: Done 105 out of 105 | elapsed:  5.5min finished\n",
      "\n",
      "[2022-02-25 02:49:19] Features: 151/255 -- score: 0.9375979154298295[Parallel(n_jobs=-1)]: Using backend LokyBackend with 16 concurrent workers.\n",
      "[Parallel(n_jobs=-1)]: Done   9 tasks      | elapsed:   57.8s\n",
      "[Parallel(n_jobs=-1)]: Done 104 out of 104 | elapsed:  5.4min finished\n",
      "\n",
      "[2022-02-25 02:54:45] Features: 152/255 -- score: 0.9375979052164749[Parallel(n_jobs=-1)]: Using backend LokyBackend with 16 concurrent workers.\n",
      "[Parallel(n_jobs=-1)]: Done   9 tasks      | elapsed:   56.9s\n",
      "[Parallel(n_jobs=-1)]: Done 103 out of 103 | elapsed:  5.4min finished\n",
      "\n",
      "[2022-02-25 03:00:06] Features: 153/255 -- score: 0.9375979154298295[Parallel(n_jobs=-1)]: Using backend LokyBackend with 16 concurrent workers.\n",
      "[Parallel(n_jobs=-1)]: Done   9 tasks      | elapsed:  1.0min\n",
      "[Parallel(n_jobs=-1)]: Done 102 out of 102 | elapsed:  5.4min finished\n",
      "\n",
      "[2022-02-25 03:05:28] Features: 154/255 -- score: 0.9376484306813091[Parallel(n_jobs=-1)]: Using backend LokyBackend with 16 concurrent workers.\n",
      "[Parallel(n_jobs=-1)]: Done   9 tasks      | elapsed:   56.1s\n",
      "[Parallel(n_jobs=-1)]: Done 101 out of 101 | elapsed:  5.3min finished\n",
      "\n",
      "[2022-02-25 03:10:47] Features: 155/255 -- score: 0.9375979052164749[Parallel(n_jobs=-1)]: Using backend LokyBackend with 16 concurrent workers.\n",
      "[Parallel(n_jobs=-1)]: Done   9 tasks      | elapsed:   51.1s\n",
      "[Parallel(n_jobs=-1)]: Done 100 out of 100 | elapsed:  5.2min finished\n",
      "\n",
      "[2022-02-25 03:16:01] Features: 156/255 -- score: 0.9375979154298295[Parallel(n_jobs=-1)]: Using backend LokyBackend with 16 concurrent workers.\n"
     ]
    },
    {
     "name": "stderr",
     "output_type": "stream",
     "text": [
      "[Parallel(n_jobs=-1)]: Done   9 tasks      | elapsed:   54.7s\n",
      "[Parallel(n_jobs=-1)]: Done  99 out of  99 | elapsed:  5.2min finished\n",
      "\n",
      "[2022-02-25 03:21:12] Features: 157/255 -- score: 0.9375979154298295[Parallel(n_jobs=-1)]: Using backend LokyBackend with 16 concurrent workers.\n",
      "[Parallel(n_jobs=-1)]: Done   9 tasks      | elapsed:   56.8s\n",
      "[Parallel(n_jobs=-1)]: Done  98 out of  98 | elapsed:  5.2min finished\n",
      "\n",
      "[2022-02-25 03:26:23] Features: 158/255 -- score: 0.9376484408946637[Parallel(n_jobs=-1)]: Using backend LokyBackend with 16 concurrent workers.\n",
      "[Parallel(n_jobs=-1)]: Done   9 tasks      | elapsed:   53.8s\n",
      "[Parallel(n_jobs=-1)]: Done  97 out of  97 | elapsed:  5.1min finished\n",
      "\n",
      "[2022-02-25 03:31:29] Features: 159/255 -- score: 0.9375979052164749[Parallel(n_jobs=-1)]: Using backend LokyBackend with 16 concurrent workers.\n",
      "[Parallel(n_jobs=-1)]: Done   9 tasks      | elapsed:   57.0s\n",
      "[Parallel(n_jobs=-1)]: Done  96 out of  96 | elapsed:  5.0min finished\n",
      "\n",
      "[2022-02-25 03:36:29] Features: 160/255 -- score: 0.9375979052164749[Parallel(n_jobs=-1)]: Using backend LokyBackend with 16 concurrent workers.\n",
      "[Parallel(n_jobs=-1)]: Done   9 tasks      | elapsed:   54.6s\n",
      "[Parallel(n_jobs=-1)]: Done  95 out of  95 | elapsed:  5.0min finished\n",
      "\n",
      "[2022-02-25 03:41:29] Features: 161/255 -- score: 0.9375979052164749[Parallel(n_jobs=-1)]: Using backend LokyBackend with 16 concurrent workers.\n",
      "[Parallel(n_jobs=-1)]: Done   9 tasks      | elapsed:   57.3s\n",
      "[Parallel(n_jobs=-1)]: Done  94 out of  94 | elapsed:  4.9min finished\n",
      "\n",
      "[2022-02-25 03:46:25] Features: 162/255 -- score: 0.9375979154298295[Parallel(n_jobs=-1)]: Using backend LokyBackend with 16 concurrent workers.\n",
      "[Parallel(n_jobs=-1)]: Done   9 tasks      | elapsed:   57.2s\n",
      "[Parallel(n_jobs=-1)]: Done  93 out of  93 | elapsed:  4.9min finished\n",
      "\n",
      "[2022-02-25 03:51:18] Features: 163/255 -- score: 0.9376989663594979[Parallel(n_jobs=-1)]: Using backend LokyBackend with 16 concurrent workers.\n",
      "[Parallel(n_jobs=-1)]: Done   9 tasks      | elapsed:   53.3s\n",
      "[Parallel(n_jobs=-1)]: Done  92 out of  92 | elapsed:  4.9min finished\n",
      "\n",
      "[2022-02-25 03:56:11] Features: 164/255 -- score: 0.9376484306813091[Parallel(n_jobs=-1)]: Using backend LokyBackend with 16 concurrent workers.\n",
      "[Parallel(n_jobs=-1)]: Done   9 tasks      | elapsed:   51.8s\n",
      "[Parallel(n_jobs=-1)]: Done  91 out of  91 | elapsed:  4.8min finished\n",
      "\n",
      "[2022-02-25 04:01:02] Features: 165/255 -- score: 0.9375979154298295[Parallel(n_jobs=-1)]: Using backend LokyBackend with 16 concurrent workers.\n",
      "[Parallel(n_jobs=-1)]: Done   9 tasks      | elapsed:   50.0s\n",
      "[Parallel(n_jobs=-1)]: Done  90 out of  90 | elapsed:  4.9min finished\n",
      "\n",
      "[2022-02-25 04:05:55] Features: 166/255 -- score: 0.9376484306813091[Parallel(n_jobs=-1)]: Using backend LokyBackend with 16 concurrent workers.\n",
      "[Parallel(n_jobs=-1)]: Done   9 tasks      | elapsed:   54.2s\n",
      "[Parallel(n_jobs=-1)]: Done  89 out of  89 | elapsed:  4.9min finished\n",
      "\n",
      "[2022-02-25 04:10:48] Features: 167/255 -- score: 0.9375979052164749[Parallel(n_jobs=-1)]: Using backend LokyBackend with 16 concurrent workers.\n",
      "[Parallel(n_jobs=-1)]: Done   9 tasks      | elapsed:   58.5s\n",
      "[Parallel(n_jobs=-1)]: Done  88 out of  88 | elapsed:  4.7min finished\n",
      "\n",
      "[2022-02-25 04:15:33] Features: 168/255 -- score: 0.9376484306813091[Parallel(n_jobs=-1)]: Using backend LokyBackend with 16 concurrent workers.\n",
      "[Parallel(n_jobs=-1)]: Done   9 tasks      | elapsed:  1.1min\n",
      "[Parallel(n_jobs=-1)]: Done  87 out of  87 | elapsed:  5.1min finished\n",
      "\n",
      "[2022-02-25 04:20:39] Features: 169/255 -- score: 0.9375979154298295[Parallel(n_jobs=-1)]: Using backend LokyBackend with 16 concurrent workers.\n",
      "[Parallel(n_jobs=-1)]: Done   9 tasks      | elapsed:  1.1min\n",
      "[Parallel(n_jobs=-1)]: Done  86 out of  86 | elapsed:  5.0min finished\n",
      "\n",
      "[2022-02-25 04:25:39] Features: 170/255 -- score: 0.9375979052164749[Parallel(n_jobs=-1)]: Using backend LokyBackend with 16 concurrent workers.\n",
      "[Parallel(n_jobs=-1)]: Done   9 tasks      | elapsed:   59.4s\n",
      "[Parallel(n_jobs=-1)]: Done  85 out of  85 | elapsed:  5.0min finished\n",
      "\n",
      "[2022-02-25 04:30:38] Features: 171/255 -- score: 0.9376484408946637[Parallel(n_jobs=-1)]: Using backend LokyBackend with 16 concurrent workers.\n",
      "[Parallel(n_jobs=-1)]: Done   9 tasks      | elapsed:   59.0s\n",
      "[Parallel(n_jobs=-1)]: Done  84 out of  84 | elapsed:  4.9min finished\n",
      "\n",
      "[2022-02-25 04:35:32] Features: 172/255 -- score: 0.9376484408946637[Parallel(n_jobs=-1)]: Using backend LokyBackend with 16 concurrent workers.\n",
      "[Parallel(n_jobs=-1)]: Done   9 tasks      | elapsed:  1.1min\n",
      "[Parallel(n_jobs=-1)]: Done  83 out of  83 | elapsed:  4.9min finished\n",
      "\n",
      "[2022-02-25 04:40:24] Features: 173/255 -- score: 0.9376484408946637[Parallel(n_jobs=-1)]: Using backend LokyBackend with 16 concurrent workers.\n",
      "[Parallel(n_jobs=-1)]: Done   9 tasks      | elapsed:  1.1min\n",
      "[Parallel(n_jobs=-1)]: Done  82 out of  82 | elapsed:  4.8min finished\n",
      "\n",
      "[2022-02-25 04:45:13] Features: 174/255 -- score: 0.9375979052164749[Parallel(n_jobs=-1)]: Using backend LokyBackend with 16 concurrent workers.\n",
      "[Parallel(n_jobs=-1)]: Done   9 tasks      | elapsed:  1.1min\n",
      "[Parallel(n_jobs=-1)]: Done  81 out of  81 | elapsed:  4.8min finished\n",
      "\n",
      "[2022-02-25 04:50:00] Features: 175/255 -- score: 0.9375979052164749[Parallel(n_jobs=-1)]: Using backend LokyBackend with 16 concurrent workers.\n",
      "[Parallel(n_jobs=-1)]: Done   9 tasks      | elapsed:   55.5s\n",
      "[Parallel(n_jobs=-1)]: Done  80 out of  80 | elapsed:  4.7min finished\n",
      "\n",
      "[2022-02-25 04:54:41] Features: 176/255 -- score: 0.9375979052164749[Parallel(n_jobs=-1)]: Using backend LokyBackend with 16 concurrent workers.\n",
      "[Parallel(n_jobs=-1)]: Done   9 tasks      | elapsed:  1.1min\n",
      "[Parallel(n_jobs=-1)]: Done  79 out of  79 | elapsed:  4.7min finished\n",
      "\n",
      "[2022-02-25 04:59:22] Features: 177/255 -- score: 0.9376484306813091[Parallel(n_jobs=-1)]: Using backend LokyBackend with 16 concurrent workers.\n",
      "[Parallel(n_jobs=-1)]: Done   9 tasks      | elapsed:  1.0min\n",
      "[Parallel(n_jobs=-1)]: Done  78 out of  78 | elapsed:  4.6min finished\n",
      "\n",
      "[2022-02-25 05:03:59] Features: 178/255 -- score: 0.9376484306813091[Parallel(n_jobs=-1)]: Using backend LokyBackend with 16 concurrent workers.\n",
      "[Parallel(n_jobs=-1)]: Done   9 tasks      | elapsed:   59.4s\n",
      "[Parallel(n_jobs=-1)]: Done  77 out of  77 | elapsed:  4.6min finished\n",
      "\n",
      "[2022-02-25 05:08:33] Features: 179/255 -- score: 0.9375979052164749[Parallel(n_jobs=-1)]: Using backend LokyBackend with 16 concurrent workers.\n",
      "[Parallel(n_jobs=-1)]: Done   9 tasks      | elapsed:  1.0min\n",
      "[Parallel(n_jobs=-1)]: Done  76 out of  76 | elapsed:  4.5min finished\n",
      "\n",
      "[2022-02-25 05:13:03] Features: 180/255 -- score: 0.9376484306813091[Parallel(n_jobs=-1)]: Using backend LokyBackend with 16 concurrent workers.\n",
      "[Parallel(n_jobs=-1)]: Done   9 tasks      | elapsed:   59.0s\n",
      "[Parallel(n_jobs=-1)]: Done  75 out of  75 | elapsed:  4.4min finished\n",
      "\n",
      "[2022-02-25 05:17:30] Features: 181/255 -- score: 0.9375979052164749[Parallel(n_jobs=-1)]: Using backend LokyBackend with 16 concurrent workers.\n",
      "[Parallel(n_jobs=-1)]: Done   9 tasks      | elapsed:   58.2s\n",
      "[Parallel(n_jobs=-1)]: Done  74 out of  74 | elapsed:  4.4min finished\n",
      "\n",
      "[2022-02-25 05:21:56] Features: 182/255 -- score: 0.9376484306813091[Parallel(n_jobs=-1)]: Using backend LokyBackend with 16 concurrent workers.\n",
      "[Parallel(n_jobs=-1)]: Done   9 tasks      | elapsed:  1.1min\n",
      "[Parallel(n_jobs=-1)]: Done  73 out of  73 | elapsed:  4.4min finished\n",
      "\n",
      "[2022-02-25 05:26:22] Features: 183/255 -- score: 0.9376484306813091[Parallel(n_jobs=-1)]: Using backend LokyBackend with 16 concurrent workers.\n",
      "[Parallel(n_jobs=-1)]: Done   9 tasks      | elapsed:  1.0min\n",
      "[Parallel(n_jobs=-1)]: Done  72 out of  72 | elapsed:  4.3min finished\n",
      "\n",
      "[2022-02-25 05:30:42] Features: 184/255 -- score: 0.9376484306813091[Parallel(n_jobs=-1)]: Using backend LokyBackend with 16 concurrent workers.\n",
      "[Parallel(n_jobs=-1)]: Done   9 tasks      | elapsed:   56.7s\n",
      "[Parallel(n_jobs=-1)]: Done  71 out of  71 | elapsed:  4.3min finished\n",
      "\n",
      "[2022-02-25 05:34:59] Features: 185/255 -- score: 0.9375979052164749[Parallel(n_jobs=-1)]: Using backend LokyBackend with 16 concurrent workers.\n",
      "[Parallel(n_jobs=-1)]: Done   9 tasks      | elapsed:  1.1min\n",
      "[Parallel(n_jobs=-1)]: Done  70 out of  70 | elapsed:  4.2min finished\n"
     ]
    },
    {
     "name": "stderr",
     "output_type": "stream",
     "text": [
      "\n",
      "[2022-02-25 05:39:12] Features: 186/255 -- score: 0.9376484306813091[Parallel(n_jobs=-1)]: Using backend LokyBackend with 16 concurrent workers.\n",
      "[Parallel(n_jobs=-1)]: Done   9 tasks      | elapsed:  1.0min\n",
      "[Parallel(n_jobs=-1)]: Done  69 out of  69 | elapsed:  4.1min finished\n",
      "\n",
      "[2022-02-25 05:43:21] Features: 187/255 -- score: 0.9375979052164749[Parallel(n_jobs=-1)]: Using backend LokyBackend with 16 concurrent workers.\n",
      "[Parallel(n_jobs=-1)]: Done   9 tasks      | elapsed:  1.1min\n",
      "[Parallel(n_jobs=-1)]: Done  68 out of  68 | elapsed:  4.1min finished\n",
      "\n",
      "[2022-02-25 05:47:27] Features: 188/255 -- score: 0.9375979052164749[Parallel(n_jobs=-1)]: Using backend LokyBackend with 16 concurrent workers.\n",
      "[Parallel(n_jobs=-1)]: Done   9 tasks      | elapsed:  1.1min\n",
      "[Parallel(n_jobs=-1)]: Done  67 out of  67 | elapsed:  4.0min finished\n",
      "\n",
      "[2022-02-25 05:51:29] Features: 189/255 -- score: 0.9375979154298295[Parallel(n_jobs=-1)]: Using backend LokyBackend with 16 concurrent workers.\n",
      "[Parallel(n_jobs=-1)]: Done   9 tasks      | elapsed:  1.0min\n",
      "[Parallel(n_jobs=-1)]: Done  66 out of  66 | elapsed:  4.0min finished\n",
      "\n",
      "[2022-02-25 05:55:26] Features: 190/255 -- score: 0.9375979154298295[Parallel(n_jobs=-1)]: Using backend LokyBackend with 16 concurrent workers.\n",
      "[Parallel(n_jobs=-1)]: Done   9 tasks      | elapsed:  1.0min\n",
      "[Parallel(n_jobs=-1)]: Done  65 out of  65 | elapsed:  3.9min finished\n",
      "\n",
      "[2022-02-25 05:59:20] Features: 191/255 -- score: 0.9375979154298295[Parallel(n_jobs=-1)]: Using backend LokyBackend with 16 concurrent workers.\n",
      "[Parallel(n_jobs=-1)]: Done   9 tasks      | elapsed:  1.1min\n",
      "[Parallel(n_jobs=-1)]: Done  64 out of  64 | elapsed:  3.8min finished\n",
      "\n",
      "[2022-02-25 06:03:08] Features: 192/255 -- score: 0.9375979052164749[Parallel(n_jobs=-1)]: Using backend LokyBackend with 16 concurrent workers.\n",
      "[Parallel(n_jobs=-1)]: Done   9 tasks      | elapsed:  1.0min\n",
      "[Parallel(n_jobs=-1)]: Done  63 out of  63 | elapsed:  3.8min finished\n",
      "\n",
      "[2022-02-25 06:06:56] Features: 193/255 -- score: 0.9375979052164749[Parallel(n_jobs=-1)]: Using backend LokyBackend with 16 concurrent workers.\n",
      "[Parallel(n_jobs=-1)]: Done   9 tasks      | elapsed:   59.9s\n",
      "[Parallel(n_jobs=-1)]: Done  62 out of  62 | elapsed:  3.7min finished\n",
      "\n",
      "[2022-02-25 06:10:38] Features: 194/255 -- score: 0.9375979154298295[Parallel(n_jobs=-1)]: Using backend LokyBackend with 16 concurrent workers.\n",
      "[Parallel(n_jobs=-1)]: Done   9 tasks      | elapsed:   54.9s\n",
      "[Parallel(n_jobs=-1)]: Done  61 out of  61 | elapsed:  3.7min remaining:    0.0s\n",
      "[Parallel(n_jobs=-1)]: Done  61 out of  61 | elapsed:  3.7min finished\n",
      "\n",
      "[2022-02-25 06:14:18] Features: 195/255 -- score: 0.9375979052164749[Parallel(n_jobs=-1)]: Using backend LokyBackend with 16 concurrent workers.\n",
      "[Parallel(n_jobs=-1)]: Done   9 tasks      | elapsed:  1.2min\n",
      "[Parallel(n_jobs=-1)]: Done  60 out of  60 | elapsed:  3.9min remaining:    0.0s\n",
      "[Parallel(n_jobs=-1)]: Done  60 out of  60 | elapsed:  3.9min finished\n",
      "\n",
      "[2022-02-25 06:18:11] Features: 196/255 -- score: 0.9376484306813091[Parallel(n_jobs=-1)]: Using backend LokyBackend with 16 concurrent workers.\n",
      "[Parallel(n_jobs=-1)]: Done   9 tasks      | elapsed:  1.1min\n",
      "[Parallel(n_jobs=-1)]: Done  59 out of  59 | elapsed:  3.8min finished\n",
      "\n",
      "[2022-02-25 06:21:59] Features: 197/255 -- score: 0.9376484306813091[Parallel(n_jobs=-1)]: Using backend LokyBackend with 16 concurrent workers.\n",
      "[Parallel(n_jobs=-1)]: Done   9 tasks      | elapsed:  1.1min\n",
      "[Parallel(n_jobs=-1)]: Done  58 out of  58 | elapsed:  3.8min finished\n",
      "\n",
      "[2022-02-25 06:25:46] Features: 198/255 -- score: 0.9375979052164749[Parallel(n_jobs=-1)]: Using backend LokyBackend with 16 concurrent workers.\n",
      "[Parallel(n_jobs=-1)]: Done   9 tasks      | elapsed:  1.1min\n",
      "[Parallel(n_jobs=-1)]: Done  55 out of  57 | elapsed:  3.7min remaining:    8.0s\n",
      "[Parallel(n_jobs=-1)]: Done  57 out of  57 | elapsed:  3.7min finished\n",
      "\n",
      "[2022-02-25 06:29:28] Features: 199/255 -- score: 0.9375473797516407[Parallel(n_jobs=-1)]: Using backend LokyBackend with 16 concurrent workers.\n",
      "[Parallel(n_jobs=-1)]: Done   9 tasks      | elapsed:  1.1min\n",
      "[Parallel(n_jobs=-1)]: Done  54 out of  56 | elapsed:  3.6min remaining:    8.0s\n",
      "[Parallel(n_jobs=-1)]: Done  56 out of  56 | elapsed:  3.6min finished\n",
      "\n",
      "[2022-02-25 06:33:07] Features: 200/255 -- score: 0.9375979052164749[Parallel(n_jobs=-1)]: Using backend LokyBackend with 16 concurrent workers.\n",
      "[Parallel(n_jobs=-1)]: Done   9 tasks      | elapsed:  1.1min\n",
      "[Parallel(n_jobs=-1)]: Done  52 out of  55 | elapsed:  3.6min remaining:   12.2s\n",
      "[Parallel(n_jobs=-1)]: Done  55 out of  55 | elapsed:  3.6min finished\n",
      "\n",
      "[2022-02-25 06:36:41] Features: 201/255 -- score: 0.9375979052164749[Parallel(n_jobs=-1)]: Using backend LokyBackend with 16 concurrent workers.\n",
      "[Parallel(n_jobs=-1)]: Done   9 tasks      | elapsed:  1.2min\n",
      "[Parallel(n_jobs=-1)]: Done  51 out of  54 | elapsed:  3.5min remaining:   12.3s\n",
      "[Parallel(n_jobs=-1)]: Done  54 out of  54 | elapsed:  3.5min finished\n",
      "\n",
      "[2022-02-25 06:40:12] Features: 202/255 -- score: 0.9376484306813091[Parallel(n_jobs=-1)]: Using backend LokyBackend with 16 concurrent workers.\n",
      "[Parallel(n_jobs=-1)]: Done   9 tasks      | elapsed:  1.1min\n",
      "[Parallel(n_jobs=-1)]: Done  49 out of  53 | elapsed:  3.4min remaining:   16.5s\n",
      "[Parallel(n_jobs=-1)]: Done  53 out of  53 | elapsed:  3.4min finished\n",
      "\n",
      "[2022-02-25 06:43:39] Features: 203/255 -- score: 0.9375979052164749[Parallel(n_jobs=-1)]: Using backend LokyBackend with 16 concurrent workers.\n",
      "[Parallel(n_jobs=-1)]: Done   9 tasks      | elapsed:  1.1min\n",
      "[Parallel(n_jobs=-1)]: Done  48 out of  52 | elapsed:  3.3min remaining:   16.5s\n",
      "[Parallel(n_jobs=-1)]: Done  52 out of  52 | elapsed:  3.4min finished\n",
      "\n",
      "[2022-02-25 06:47:02] Features: 204/255 -- score: 0.9375979052164749[Parallel(n_jobs=-1)]: Using backend LokyBackend with 16 concurrent workers.\n",
      "[Parallel(n_jobs=-1)]: Done   9 tasks      | elapsed:  1.1min\n",
      "[Parallel(n_jobs=-1)]: Done  46 out of  51 | elapsed:  3.3min remaining:   21.4s\n",
      "[Parallel(n_jobs=-1)]: Done  51 out of  51 | elapsed:  3.3min finished\n",
      "\n",
      "[2022-02-25 06:50:21] Features: 205/255 -- score: 0.9375979052164749[Parallel(n_jobs=-1)]: Using backend LokyBackend with 16 concurrent workers.\n",
      "[Parallel(n_jobs=-1)]: Done   9 tasks      | elapsed:  1.1min\n",
      "[Parallel(n_jobs=-1)]: Done  45 out of  50 | elapsed:  3.2min remaining:   21.5s\n",
      "[Parallel(n_jobs=-1)]: Done  50 out of  50 | elapsed:  3.2min finished\n",
      "\n",
      "[2022-02-25 06:53:36] Features: 206/255 -- score: 0.9375979052164749[Parallel(n_jobs=-1)]: Using backend LokyBackend with 16 concurrent workers.\n",
      "[Parallel(n_jobs=-1)]: Done   9 tasks      | elapsed:  1.1min\n",
      "[Parallel(n_jobs=-1)]: Done  43 out of  49 | elapsed:  3.2min remaining:   26.4s\n",
      "[Parallel(n_jobs=-1)]: Done  49 out of  49 | elapsed:  3.2min finished\n",
      "\n",
      "[2022-02-25 06:56:48] Features: 207/255 -- score: 0.9375979052164749[Parallel(n_jobs=-1)]: Using backend LokyBackend with 16 concurrent workers.\n",
      "[Parallel(n_jobs=-1)]: Done   9 tasks      | elapsed:  1.1min\n",
      "[Parallel(n_jobs=-1)]: Done  42 out of  48 | elapsed:  3.0min remaining:   26.0s\n",
      "[Parallel(n_jobs=-1)]: Done  48 out of  48 | elapsed:  3.1min finished\n",
      "\n",
      "[2022-02-25 06:59:54] Features: 208/255 -- score: 0.9375979052164749[Parallel(n_jobs=-1)]: Using backend LokyBackend with 16 concurrent workers.\n",
      "[Parallel(n_jobs=-1)]: Done   9 tasks      | elapsed:  1.2min\n",
      "[Parallel(n_jobs=-1)]: Done  40 out of  47 | elapsed:  2.8min remaining:   29.8s\n",
      "[Parallel(n_jobs=-1)]: Done  47 out of  47 | elapsed:  3.1min finished\n",
      "\n",
      "[2022-02-25 07:03:00] Features: 209/255 -- score: 0.9375979154298295[Parallel(n_jobs=-1)]: Using backend LokyBackend with 16 concurrent workers.\n",
      "[Parallel(n_jobs=-1)]: Done   9 tasks      | elapsed:  1.0min\n",
      "[Parallel(n_jobs=-1)]: Done  39 out of  46 | elapsed:  2.8min remaining:   30.5s\n",
      "[Parallel(n_jobs=-1)]: Done  46 out of  46 | elapsed:  3.0min finished\n",
      "\n",
      "[2022-02-25 07:06:01] Features: 210/255 -- score: 0.9375979154298295[Parallel(n_jobs=-1)]: Using backend LokyBackend with 16 concurrent workers.\n",
      "[Parallel(n_jobs=-1)]: Done   9 tasks      | elapsed:  1.1min\n",
      "[Parallel(n_jobs=-1)]: Done  37 out of  45 | elapsed:  2.9min remaining:   37.1s\n",
      "[Parallel(n_jobs=-1)]: Done  45 out of  45 | elapsed:  2.9min finished\n",
      "\n",
      "[2022-02-25 07:08:57] Features: 211/255 -- score: 0.9375979052164749[Parallel(n_jobs=-1)]: Using backend LokyBackend with 16 concurrent workers.\n"
     ]
    },
    {
     "name": "stderr",
     "output_type": "stream",
     "text": [
      "[Parallel(n_jobs=-1)]: Done   9 tasks      | elapsed:  1.2min\n",
      "[Parallel(n_jobs=-1)]: Done  36 out of  44 | elapsed:  2.9min remaining:   38.0s\n",
      "[Parallel(n_jobs=-1)]: Done  44 out of  44 | elapsed:  2.9min finished\n",
      "\n",
      "[2022-02-25 07:11:50] Features: 212/255 -- score: 0.9375979052164749[Parallel(n_jobs=-1)]: Using backend LokyBackend with 16 concurrent workers.\n",
      "[Parallel(n_jobs=-1)]: Done   9 tasks      | elapsed:  1.0min\n",
      "[Parallel(n_jobs=-1)]: Done  34 out of  43 | elapsed:  2.8min remaining:   43.9s\n",
      "[Parallel(n_jobs=-1)]: Done  43 out of  43 | elapsed:  2.8min finished\n",
      "\n",
      "[2022-02-25 07:14:40] Features: 213/255 -- score: 0.9376484306813091[Parallel(n_jobs=-1)]: Using backend LokyBackend with 16 concurrent workers.\n",
      "[Parallel(n_jobs=-1)]: Done   9 tasks      | elapsed:  1.2min\n",
      "[Parallel(n_jobs=-1)]: Done  33 out of  42 | elapsed:  2.6min remaining:   43.1s\n",
      "[Parallel(n_jobs=-1)]: Done  42 out of  42 | elapsed:  2.8min finished\n",
      "\n",
      "[2022-02-25 07:17:25] Features: 214/255 -- score: 0.9375979052164749[Parallel(n_jobs=-1)]: Using backend LokyBackend with 16 concurrent workers.\n",
      "[Parallel(n_jobs=-1)]: Done   9 tasks      | elapsed:  1.1min\n",
      "[Parallel(n_jobs=-1)]: Done  31 out of  41 | elapsed:  2.2min remaining:   42.7s\n",
      "[Parallel(n_jobs=-1)]: Done  41 out of  41 | elapsed:  2.7min finished\n",
      "\n",
      "[2022-02-25 07:20:06] Features: 215/255 -- score: 0.9375979052164749[Parallel(n_jobs=-1)]: Using backend LokyBackend with 16 concurrent workers.\n",
      "[Parallel(n_jobs=-1)]: Done   9 tasks      | elapsed:  1.1min\n",
      "[Parallel(n_jobs=-1)]: Done  30 out of  40 | elapsed:  2.3min remaining:   45.4s\n",
      "[Parallel(n_jobs=-1)]: Done  40 out of  40 | elapsed:  2.6min finished\n",
      "\n",
      "[2022-02-25 07:22:43] Features: 216/255 -- score: 0.9375979052164749[Parallel(n_jobs=-1)]: Using backend LokyBackend with 16 concurrent workers.\n",
      "[Parallel(n_jobs=-1)]: Done  28 out of  39 | elapsed:  2.2min remaining:   51.8s\n",
      "[Parallel(n_jobs=-1)]: Done  39 out of  39 | elapsed:  2.5min finished\n",
      "\n",
      "[2022-02-25 07:25:15] Features: 217/255 -- score: 0.9375979052164749[Parallel(n_jobs=-1)]: Using backend LokyBackend with 16 concurrent workers.\n",
      "[Parallel(n_jobs=-1)]: Done  27 out of  38 | elapsed:  2.3min remaining:   56.3s\n",
      "[Parallel(n_jobs=-1)]: Done  38 out of  38 | elapsed:  2.5min finished\n",
      "\n",
      "[2022-02-25 07:27:45] Features: 218/255 -- score: 0.9375979052164749[Parallel(n_jobs=-1)]: Using backend LokyBackend with 16 concurrent workers.\n",
      "[Parallel(n_jobs=-1)]: Done  25 out of  37 | elapsed:  2.3min remaining:  1.1min\n",
      "[Parallel(n_jobs=-1)]: Done  37 out of  37 | elapsed:  2.4min finished\n",
      "\n",
      "[2022-02-25 07:30:11] Features: 219/255 -- score: 0.9375473797516407[Parallel(n_jobs=-1)]: Using backend LokyBackend with 16 concurrent workers.\n",
      "[Parallel(n_jobs=-1)]: Done  24 out of  36 | elapsed:  2.1min remaining:  1.0min\n",
      "[Parallel(n_jobs=-1)]: Done  36 out of  36 | elapsed:  2.3min finished\n",
      "\n",
      "[2022-02-25 07:32:31] Features: 220/255 -- score: 0.9375473797516407[Parallel(n_jobs=-1)]: Using backend LokyBackend with 16 concurrent workers.\n",
      "[Parallel(n_jobs=-1)]: Done  22 out of  35 | elapsed:  1.9min remaining:  1.1min\n",
      "[Parallel(n_jobs=-1)]: Done  35 out of  35 | elapsed:  2.3min finished\n",
      "\n",
      "[2022-02-25 07:34:48] Features: 221/255 -- score: 0.9374463186086175[Parallel(n_jobs=-1)]: Using backend LokyBackend with 16 concurrent workers.\n",
      "[Parallel(n_jobs=-1)]: Done  21 out of  34 | elapsed:  1.9min remaining:  1.2min\n",
      "[Parallel(n_jobs=-1)]: Done  34 out of  34 | elapsed:  2.2min finished\n",
      "\n",
      "[2022-02-25 07:37:03] Features: 222/255 -- score: 0.9375473797516407[Parallel(n_jobs=-1)]: Using backend LokyBackend with 16 concurrent workers.\n",
      "[Parallel(n_jobs=-1)]: Done  19 out of  33 | elapsed:  1.9min remaining:  1.4min\n",
      "[Parallel(n_jobs=-1)]: Done  33 out of  33 | elapsed:  2.2min finished\n",
      "\n",
      "[2022-02-25 07:39:15] Features: 223/255 -- score: 0.9373958033571379[Parallel(n_jobs=-1)]: Using backend LokyBackend with 16 concurrent workers.\n",
      "[Parallel(n_jobs=-1)]: Done  18 out of  32 | elapsed:  1.9min remaining:  1.5min\n",
      "[Parallel(n_jobs=-1)]: Done  32 out of  32 | elapsed:  2.1min finished\n",
      "\n",
      "[2022-02-25 07:41:21] Features: 224/255 -- score: 0.9373958033571379[Parallel(n_jobs=-1)]: Using backend LokyBackend with 16 concurrent workers.\n",
      "[Parallel(n_jobs=-1)]: Done  16 out of  31 | elapsed:  1.3min remaining:  1.2min\n",
      "[Parallel(n_jobs=-1)]: Done  31 out of  31 | elapsed:  2.2min finished\n",
      "\n",
      "[2022-02-25 07:43:33] Features: 225/255 -- score: 0.9372947422141147[Parallel(n_jobs=-1)]: Using backend LokyBackend with 16 concurrent workers.\n",
      "[Parallel(n_jobs=-1)]: Done  15 out of  30 | elapsed:  1.4min remaining:  1.4min\n",
      "[Parallel(n_jobs=-1)]: Done  30 out of  30 | elapsed:  2.1min finished\n",
      "\n",
      "[2022-02-25 07:45:42] Features: 226/255 -- score: 0.9374463288219721[Parallel(n_jobs=-1)]: Using backend LokyBackend with 16 concurrent workers.\n",
      "[Parallel(n_jobs=-1)]: Done  13 out of  29 | elapsed:  1.2min remaining:  1.5min\n",
      "[Parallel(n_jobs=-1)]: Done  29 out of  29 | elapsed:  2.1min finished\n",
      "\n",
      "[2022-02-25 07:47:46] Features: 227/255 -- score: 0.9373452778923035[Parallel(n_jobs=-1)]: Using backend LokyBackend with 16 concurrent workers.\n",
      "[Parallel(n_jobs=-1)]: Done  12 out of  28 | elapsed:  1.2min remaining:  1.6min\n",
      "[Parallel(n_jobs=-1)]: Done  28 out of  28 | elapsed:  2.0min finished\n",
      "\n",
      "[2022-02-25 07:49:47] Features: 228/255 -- score: 0.9373452676789491[Parallel(n_jobs=-1)]: Using backend LokyBackend with 16 concurrent workers.\n",
      "[Parallel(n_jobs=-1)]: Done  10 out of  27 | elapsed:  1.3min remaining:  2.1min\n",
      "[Parallel(n_jobs=-1)]: Done  24 out of  27 | elapsed:  1.9min remaining:   14.3s\n",
      "[Parallel(n_jobs=-1)]: Done  27 out of  27 | elapsed:  1.9min finished\n",
      "\n",
      "[2022-02-25 07:51:42] Features: 229/255 -- score: 0.9372947524274693[Parallel(n_jobs=-1)]: Using backend LokyBackend with 16 concurrent workers.\n",
      "[Parallel(n_jobs=-1)]: Done   9 out of  26 | elapsed:  1.1min remaining:  2.2min\n",
      "[Parallel(n_jobs=-1)]: Done  23 out of  26 | elapsed:  1.8min remaining:   14.3s\n",
      "[Parallel(n_jobs=-1)]: Done  26 out of  26 | elapsed:  1.8min finished\n",
      "\n",
      "[2022-02-25 07:53:33] Features: 230/255 -- score: 0.9372442269626349[Parallel(n_jobs=-1)]: Using backend LokyBackend with 16 concurrent workers.\n",
      "[Parallel(n_jobs=-1)]: Done   7 out of  25 | elapsed:  1.2min remaining:  3.1min\n",
      "[Parallel(n_jobs=-1)]: Done  20 out of  25 | elapsed:  1.8min remaining:   26.6s\n",
      "[Parallel(n_jobs=-1)]: Done  25 out of  25 | elapsed:  1.8min finished\n",
      "\n",
      "[2022-02-25 07:55:21] Features: 231/255 -- score: 0.9372947524274693[Parallel(n_jobs=-1)]: Using backend LokyBackend with 16 concurrent workers.\n",
      "[Parallel(n_jobs=-1)]: Done   6 out of  24 | elapsed:  1.1min remaining:  3.4min\n",
      "[Parallel(n_jobs=-1)]: Done  19 out of  24 | elapsed:  1.7min remaining:   26.8s\n",
      "[Parallel(n_jobs=-1)]: Done  24 out of  24 | elapsed:  1.7min finished\n",
      "\n",
      "[2022-02-25 07:57:05] Features: 232/255 -- score: 0.9374463288219721[Parallel(n_jobs=-1)]: Using backend LokyBackend with 16 concurrent workers.\n",
      "[Parallel(n_jobs=-1)]: Done   4 out of  23 | elapsed:   59.8s remaining:  4.7min\n",
      "[Parallel(n_jobs=-1)]: Done  16 out of  23 | elapsed:  1.3min remaining:   33.3s\n",
      "[Parallel(n_jobs=-1)]: Done  23 out of  23 | elapsed:  1.7min finished\n",
      "\n",
      "[2022-02-25 07:58:44] Features: 233/255 -- score: 0.9373958033571379[Parallel(n_jobs=-1)]: Using backend LokyBackend with 16 concurrent workers.\n",
      "[Parallel(n_jobs=-1)]: Done   3 out of  22 | elapsed:  1.0min remaining:  6.6min\n",
      "[Parallel(n_jobs=-1)]: Done  15 out of  22 | elapsed:  1.2min remaining:   34.5s\n",
      "[Parallel(n_jobs=-1)]: Done  22 out of  22 | elapsed:  1.6min finished\n",
      "\n",
      "[2022-02-25 08:00:19] Features: 234/255 -- score: 0.9372947524274693[Parallel(n_jobs=-1)]: Using backend LokyBackend with 16 concurrent workers.\n",
      "[Parallel(n_jobs=-1)]: Done  12 out of  21 | elapsed:  1.2min remaining:   55.4s\n",
      "[Parallel(n_jobs=-1)]: Done  21 out of  21 | elapsed:  1.5min finished\n",
      "\n",
      "[2022-02-25 08:01:50] Features: 235/255 -- score: 0.9374463288219721[Parallel(n_jobs=-1)]: Using backend LokyBackend with 16 concurrent workers.\n",
      "[Parallel(n_jobs=-1)]: Done  11 out of  20 | elapsed:  1.2min remaining:   57.5s\n",
      "[Parallel(n_jobs=-1)]: Done  20 out of  20 | elapsed:  1.4min finished\n",
      "\n",
      "[2022-02-25 08:03:16] Features: 236/255 -- score: 0.9372947524274693[Parallel(n_jobs=-1)]: Using backend LokyBackend with 16 concurrent workers.\n"
     ]
    },
    {
     "name": "stderr",
     "output_type": "stream",
     "text": [
      "[Parallel(n_jobs=-1)]: Done   8 out of  19 | elapsed:  1.1min remaining:  1.6min\n",
      "[Parallel(n_jobs=-1)]: Done  19 out of  19 | elapsed:  1.4min finished\n",
      "\n",
      "[2022-02-25 08:04:38] Features: 237/255 -- score: 0.9371431453929029[Parallel(n_jobs=-1)]: Using backend LokyBackend with 16 concurrent workers.\n",
      "[Parallel(n_jobs=-1)]: Done   7 out of  18 | elapsed:  1.2min remaining:  1.8min\n",
      "[Parallel(n_jobs=-1)]: Done  18 out of  18 | elapsed:  1.3min finished\n",
      "\n",
      "[2022-02-25 08:05:56] Features: 238/255 -- score: 0.9370926505681321[Parallel(n_jobs=-1)]: Using backend LokyBackend with 16 concurrent workers.\n",
      "[Parallel(n_jobs=-1)]: Done   4 out of  17 | elapsed:  1.0min remaining:  3.4min\n",
      "[Parallel(n_jobs=-1)]: Done  13 out of  17 | elapsed:  1.2min remaining:   22.3s\n",
      "[Parallel(n_jobs=-1)]: Done  17 out of  17 | elapsed:  1.2min finished\n",
      "\n",
      "[2022-02-25 08:07:11] Features: 239/255 -- score: 0.9372442269626349[Parallel(n_jobs=-1)]: Using backend LokyBackend with 16 concurrent workers.\n",
      "[Parallel(n_jobs=-1)]: Done   3 out of  16 | elapsed:  1.1min remaining:  4.8min\n",
      "[Parallel(n_jobs=-1)]: Done  12 out of  16 | elapsed:  1.1min remaining:   22.3s\n",
      "[Parallel(n_jobs=-1)]: Done  16 out of  16 | elapsed:  1.1min finished\n",
      "\n",
      "[2022-02-25 08:08:19] Features: 240/255 -- score: 0.9371937014978007[Parallel(n_jobs=-1)]: Using backend LokyBackend with 16 concurrent workers.\n",
      "[Parallel(n_jobs=-1)]: Done   8 out of  15 | elapsed:  1.0min remaining:   54.8s\n",
      "[Parallel(n_jobs=-1)]: Done  15 out of  15 | elapsed:  1.1min finished\n",
      "\n",
      "[2022-02-25 08:09:24] Features: 241/255 -- score: 0.9372947320007603[Parallel(n_jobs=-1)]: Using backend LokyBackend with 16 concurrent workers.\n",
      "[Parallel(n_jobs=-1)]: Done   7 out of  14 | elapsed:   57.6s remaining:   57.6s\n",
      "[Parallel(n_jobs=-1)]: Done  14 out of  14 | elapsed:  1.0min finished\n",
      "\n",
      "[2022-02-25 08:10:25] Features: 242/255 -- score: 0.9371431760329665[Parallel(n_jobs=-1)]: Using backend LokyBackend with 16 concurrent workers.\n",
      "[Parallel(n_jobs=-1)]: Done   3 out of  13 | elapsed:   55.4s remaining:  3.1min\n",
      "[Parallel(n_jobs=-1)]: Done  10 out of  13 | elapsed:   56.1s remaining:   16.8s\n",
      "[Parallel(n_jobs=-1)]: Done  13 out of  13 | elapsed:   56.9s finished\n",
      "\n",
      "[2022-02-25 08:11:22] Features: 243/255 -- score: 0.9371937014978007[Parallel(n_jobs=-1)]: Using backend LokyBackend with 16 concurrent workers.\n",
      "[Parallel(n_jobs=-1)]: Done   2 out of  12 | elapsed:   34.4s remaining:  2.9min\n",
      "[Parallel(n_jobs=-1)]: Done   9 out of  12 | elapsed:   51.9s remaining:   17.2s\n",
      "[Parallel(n_jobs=-1)]: Done  12 out of  12 | elapsed:   52.0s finished\n",
      "\n",
      "[2022-02-25 08:12:14] Features: 244/255 -- score: 0.9372442167492805[Parallel(n_jobs=-1)]: Using backend LokyBackend with 16 concurrent workers.\n",
      "[Parallel(n_jobs=-1)]: Done   4 out of  11 | elapsed:   43.3s remaining:  1.3min\n",
      "[Parallel(n_jobs=-1)]: Done  11 out of  11 | elapsed:   47.2s finished\n",
      "\n",
      "[2022-02-25 08:13:02] Features: 245/255 -- score: 0.9370926301414231[Parallel(n_jobs=-1)]: Using backend LokyBackend with 16 concurrent workers.\n",
      "[Parallel(n_jobs=-1)]: Done   3 out of  10 | elapsed:   40.5s remaining:  1.6min\n",
      "[Parallel(n_jobs=-1)]: Done  10 out of  10 | elapsed:   43.2s finished\n",
      "\n",
      "[2022-02-25 08:13:45] Features: 246/255 -- score: 0.9371936912844461[Parallel(n_jobs=-1)]: Using backend LokyBackend with 16 concurrent workers.\n",
      "[Parallel(n_jobs=-1)]: Done   3 out of   9 | elapsed:   39.1s remaining:  1.3min\n",
      "[Parallel(n_jobs=-1)]: Done   9 out of   9 | elapsed:   39.2s finished\n",
      "\n",
      "[2022-02-25 08:14:24] Features: 247/255 -- score: 0.9370421148899433[Parallel(n_jobs=-1)]: Using backend LokyBackend with 16 concurrent workers.\n",
      "[Parallel(n_jobs=-1)]: Done   2 out of   8 | elapsed:   33.6s remaining:  1.7min\n",
      "[Parallel(n_jobs=-1)]: Done   8 out of   8 | elapsed:   34.8s finished\n",
      "\n",
      "[2022-02-25 08:14:59] Features: 248/255 -- score: 0.9372947524274693[Parallel(n_jobs=-1)]: Using backend LokyBackend with 16 concurrent workers.\n",
      "[Parallel(n_jobs=-1)]: Done   4 out of   7 | elapsed:   30.3s remaining:   22.7s\n",
      "[Parallel(n_jobs=-1)]: Done   7 out of   7 | elapsed:   30.4s finished\n",
      "\n",
      "[2022-02-25 08:15:30] Features: 249/255 -- score: 0.9369410639602749[Parallel(n_jobs=-1)]: Using backend LokyBackend with 16 concurrent workers.\n",
      "[Parallel(n_jobs=-1)]: Done   3 out of   6 | elapsed:   24.1s remaining:   24.1s\n",
      "[Parallel(n_jobs=-1)]: Done   6 out of   6 | elapsed:   25.9s finished\n",
      "\n",
      "[2022-02-25 08:15:56] Features: 250/255 -- score: 0.9370926505681321[Parallel(n_jobs=-1)]: Using backend LokyBackend with 16 concurrent workers.\n",
      "[Parallel(n_jobs=-1)]: Done   5 out of   5 | elapsed:   21.7s finished\n",
      "\n",
      "[2022-02-25 08:16:18] Features: 251/255 -- score: 0.9371937014978007[Parallel(n_jobs=-1)]: Using backend LokyBackend with 16 concurrent workers.\n",
      "[Parallel(n_jobs=-1)]: Done   4 out of   4 | elapsed:   17.6s finished\n",
      "\n",
      "[2022-02-25 08:16:36] Features: 252/255 -- score: 0.9370421251032979[Parallel(n_jobs=-1)]: Using backend LokyBackend with 16 concurrent workers.\n",
      "[Parallel(n_jobs=-1)]: Done   3 out of   3 | elapsed:   13.0s finished\n",
      "\n",
      "[2022-02-25 08:16:49] Features: 253/255 -- score: 0.9368400232439607[Parallel(n_jobs=-1)]: Using backend LokyBackend with 16 concurrent workers.\n",
      "[Parallel(n_jobs=-1)]: Done   2 out of   2 | elapsed:    9.0s finished\n",
      "\n",
      "[2022-02-25 08:16:58] Features: 254/255 -- score: 0.9368400028172517[Parallel(n_jobs=-1)]: Using backend LokyBackend with 16 concurrent workers.\n",
      "[Parallel(n_jobs=-1)]: Done   1 out of   1 | elapsed:    5.0s finished\n",
      "\n",
      "[2022-02-25 08:17:03] Features: 255/255 -- score: 0.9362842329174292"
     ]
    }
   ],
   "source": [
    "sel_SFS = SFS(RandomForestClassifier(n_estimators=100,random_state=0,n_jobs=-1),\n",
    "         k_features=255,\n",
    "         forward=True,\n",
    "         floating=False,\n",
    "         verbose=2,\n",
    "         scoring='accuracy',\n",
    "         cv=4,\n",
    "         n_jobs=-1).fit(df_CRTR_selMIG,Y_CRTR)"
   ]
  },
  {
   "cell_type": "code",
   "execution_count": 59,
   "metadata": {},
   "outputs": [
    {
     "data": {
      "text/plain": [
       "('APAAC_Pc1.A',\n",
       " 'APAAC_Pc1.R',\n",
       " 'APAAC_Pc1.D',\n",
       " 'APAAC_Pc1.C',\n",
       " 'APAAC_Pc1.E',\n",
       " 'APAAC_Pc1.G',\n",
       " 'APAAC_Pc1.H',\n",
       " 'APAAC_Pc1.I',\n",
       " 'APAAC_Pc1.L',\n",
       " 'APAAC_Pc1.K',\n",
       " 'APAAC_Pc1.M',\n",
       " 'APAAC_Pc1.F',\n",
       " 'APAAC_Pc1.P',\n",
       " 'APAAC_Pc1.S',\n",
       " 'APAAC_Pc1.T',\n",
       " 'APAAC_Pc1.V',\n",
       " 'GAAC_negativecharge',\n",
       " 'PAAC_Xc1.A',\n",
       " 'PAAC_Xc1.R',\n",
       " 'PAAC_Xc1.D',\n",
       " 'PAAC_Xc1.Q',\n",
       " 'PAAC_Xc1.G',\n",
       " 'PAAC_Xc1.H',\n",
       " 'PAAC_Xc1.I',\n",
       " 'PAAC_Xc1.L',\n",
       " 'PAAC_Xc1.F',\n",
       " 'PAAC_Xc1.P',\n",
       " 'PAAC_Xc1.S',\n",
       " 'PAAC_Xc1.V',\n",
       " 'DPC_EN',\n",
       " 'DPC_SR',\n",
       " 'CKSAAP_EG.gap0',\n",
       " 'CKSAAP_EH.gap0',\n",
       " 'CKSAAP_EI.gap0',\n",
       " 'CKSAAP_EM.gap0',\n",
       " 'CKSAAP_IE.gap0',\n",
       " 'CKSAAP_LH.gap0',\n",
       " 'CKSAAP_ND.gap0',\n",
       " 'CKSAAP_RW.gap0',\n",
       " 'CKSAAP_WK.gap0',\n",
       " 'CKSAAP_YE.gap0',\n",
       " 'CKSAAP_CA.gap1',\n",
       " 'CKSAAP_EC.gap1',\n",
       " 'CKSAAP_GY.gap1',\n",
       " 'CKSAAP_KW.gap1',\n",
       " 'CKSAAP_LR.gap1',\n",
       " 'CKSAAP_PI.gap1',\n",
       " 'CKSAAP_PP.gap1',\n",
       " 'CKSAAP_RR.gap1',\n",
       " 'CKSAAP_SA.gap1',\n",
       " 'CKSAAP_TR.gap1',\n",
       " 'CKSAAP_YD.gap1',\n",
       " 'CKSAAP_CC.gap2',\n",
       " 'CKSAAP_DH.gap2',\n",
       " 'CKSAAP_EY.gap2',\n",
       " 'CKSAAP_GY.gap2',\n",
       " 'CKSAAP_LC.gap2',\n",
       " 'CKSAAP_LD.gap2',\n",
       " 'CKSAAP_PR.gap2',\n",
       " 'CKSAAP_RG.gap2',\n",
       " 'CKSAAP_VE.gap2',\n",
       " 'CKSAAP_WT.gap2',\n",
       " 'CKSAAP_YD.gap2',\n",
       " 'CKSAAP_YE.gap2',\n",
       " 'CKSAAP_YT.gap2',\n",
       " 'CKSAAP_EM.gap3',\n",
       " 'CKSAAP_EV.gap3',\n",
       " 'CKSAAP_FR.gap3',\n",
       " 'CKSAAP_GD.gap3',\n",
       " 'CKSAAP_IF.gap3',\n",
       " 'CKSAAP_LL.gap3',\n",
       " 'CKSAAP_MD.gap3',\n",
       " 'CKSAAP_NE.gap3',\n",
       " 'CKSAAP_SA.gap3',\n",
       " 'CKSAAP_YC.gap3',\n",
       " 'CKSAAP_CL.gap4',\n",
       " 'CKSAAP_DI.gap4',\n",
       " 'CKSAAP_EV.gap4',\n",
       " 'CKSAAP_GE.gap4',\n",
       " 'CKSAAP_RR.gap4',\n",
       " 'CKSAAP_DQ.gap5',\n",
       " 'CKSAAP_DV.gap5',\n",
       " 'CKSAAP_FC.gap5',\n",
       " 'CKSAAP_KA.gap5',\n",
       " 'CKSAAP_QW.gap5',\n",
       " 'CKSAAP_SR.gap5',\n",
       " 'CKSAAP_TM.gap5',\n",
       " 'CKSAAP_YQ.gap5',\n",
       " 'CKSAAP_YV.gap5',\n",
       " 'DDE_AW',\n",
       " 'DDE_CG',\n",
       " 'DDE_CH',\n",
       " 'DDE_DM',\n",
       " 'DDE_DN',\n",
       " 'DDE_EW',\n",
       " 'DDE_HC',\n",
       " 'DDE_HW',\n",
       " 'DDE_HY',\n",
       " 'DDE_ME',\n",
       " 'DDE_MG',\n",
       " 'DDE_MT',\n",
       " 'DDE_ND',\n",
       " 'DDE_NE',\n",
       " 'DDE_NH',\n",
       " 'DDE_NW',\n",
       " 'DDE_NY',\n",
       " 'DDE_PC',\n",
       " 'DDE_PY',\n",
       " 'DDE_RC',\n",
       " 'DDE_RS',\n",
       " 'DDE_TC',\n",
       " 'DDE_VM',\n",
       " 'DDE_VW',\n",
       " 'DDE_WE',\n",
       " 'DDE_WH',\n",
       " 'DDE_WK',\n",
       " 'DDE_WL',\n",
       " 'DDE_WT',\n",
       " 'DDE_YE',\n",
       " 'DDE_YH',\n",
       " 'DDE_YM',\n",
       " 'DDE_YN',\n",
       " 'DDE_YP',\n",
       " 'DDE_YT',\n",
       " 'DDE_YY',\n",
       " 'Moran_CIDH920105.lag4',\n",
       " 'Moran_CIDH920105.lag8',\n",
       " 'NMBroto_CIDH920105.lag5',\n",
       " 'NMBroto_CIDH920105.lag6',\n",
       " 'NMBroto_CHAM820102.lag3',\n",
       " 'CTDC_hydrophobicity_PONP930101.G1',\n",
       " 'CTDC_charge.G3',\n",
       " 'CTDC_solventaccess.G1',\n",
       " 'CTDT_charge.Tr2332',\n",
       " 'CTDD_hydrophobicity_PRAM900101.3.residue0',\n",
       " 'CTDD_hydrophobicity_ARGP820101.2.residue0',\n",
       " 'CTDD_hydrophobicity_ARGP820101.3.residue0',\n",
       " 'CTDD_hydrophobicity_ZIMJ680101.2.residue0',\n",
       " 'CTDD_hydrophobicity_ZIMJ680101.3.residue0',\n",
       " 'CTDD_hydrophobicity_PONP930101.3.residue0',\n",
       " 'CTDD_hydrophobicity_CASG920101.1.residue0',\n",
       " 'CTDD_hydrophobicity_CASG920101.2.residue0',\n",
       " 'CTDD_hydrophobicity_ENGD860101.1.residue0',\n",
       " 'CTDD_hydrophobicity_ENGD860101.3.residue0',\n",
       " 'CTDD_hydrophobicity_FASG890101.1.residue100',\n",
       " 'CTDD_hydrophobicity_FASG890101.3.residue0',\n",
       " 'CTDD_normwaalsvolume.3.residue0',\n",
       " 'CTDD_polarity.1.residue0',\n",
       " 'CTDD_polarizability.3.residue0',\n",
       " 'CTDD_charge.2.residue0',\n",
       " 'CTDD_secondarystruct.1.residue0',\n",
       " 'CTDD_solventaccess.1.residue0',\n",
       " 'CTDD_solventaccess.3.residue0',\n",
       " 'CTriad_g1.g1.g1',\n",
       " 'CTriad_g1.g1.g2',\n",
       " 'CTriad_g1.g1.g5',\n",
       " 'CTriad_g1.g2.g1',\n",
       " 'CTriad_g1.g2.g2',\n",
       " 'CTriad_g1.g2.g6',\n",
       " 'CTriad_g1.g3.g3',\n",
       " 'CTriad_g1.g3.g6',\n",
       " 'CTriad_g1.g4.g3',\n",
       " 'CTriad_g1.g4.g6',\n",
       " 'CTriad_g1.g5.g5',\n",
       " 'CTriad_g1.g5.g6',\n",
       " 'CTriad_g1.g6.g1',\n",
       " 'CTriad_g1.g6.g2',\n",
       " 'CTriad_g1.g6.g3',\n",
       " 'CTriad_g1.g6.g4',\n",
       " 'CTriad_g1.g6.g5',\n",
       " 'CTriad_g1.g6.g6',\n",
       " 'CTriad_g1.g7.g5',\n",
       " 'CTriad_g2.g1.g1',\n",
       " 'CTriad_g2.g1.g2',\n",
       " 'CTriad_g2.g1.g6',\n",
       " 'CTriad_g2.g2.g1',\n",
       " 'CTriad_g2.g2.g2',\n",
       " 'CTriad_g2.g2.g3',\n",
       " 'CTriad_g2.g2.g4',\n",
       " 'CTriad_g2.g2.g5',\n",
       " 'CTriad_g2.g2.g6',\n",
       " 'CTriad_g2.g3.g2',\n",
       " 'CTriad_g2.g5.g2',\n",
       " 'CTriad_g2.g5.g3',\n",
       " 'CTriad_g2.g5.g5',\n",
       " 'CTriad_g2.g5.g6',\n",
       " 'CTriad_g2.g6.g1',\n",
       " 'CTriad_g2.g6.g2',\n",
       " 'CTriad_g2.g6.g3',\n",
       " 'CTriad_g2.g6.g6',\n",
       " 'CTriad_g2.g7.g2',\n",
       " 'CTriad_g3.g1.g1',\n",
       " 'CTriad_g3.g1.g3',\n",
       " 'CTriad_g3.g1.g6',\n",
       " 'CTriad_g3.g2.g2',\n",
       " 'CTriad_g3.g2.g6',\n",
       " 'CTriad_g3.g3.g6',\n",
       " 'CTriad_g3.g4.g1',\n",
       " 'CTriad_g3.g4.g3',\n",
       " 'CTriad_g3.g4.g6',\n",
       " 'CTriad_g3.g5.g2',\n",
       " 'CTriad_g3.g5.g5',\n",
       " 'CTriad_g3.g6.g1',\n",
       " 'CTriad_g3.g6.g3',\n",
       " 'CTriad_g3.g6.g5',\n",
       " 'CTriad_g3.g6.g6',\n",
       " 'CTriad_g4.g1.g1',\n",
       " 'CTriad_g4.g1.g3',\n",
       " 'CTriad_g4.g1.g6',\n",
       " 'CTriad_g4.g3.g1',\n",
       " 'CTriad_g4.g5.g5',\n",
       " 'CTriad_g4.g6.g1',\n",
       " 'CTriad_g5.g1.g3',\n",
       " 'CTriad_g5.g2.g2',\n",
       " 'CTriad_g5.g2.g4',\n",
       " 'CTriad_g5.g2.g6',\n",
       " 'CTriad_g5.g3.g5',\n",
       " 'CTriad_g5.g5.g1',\n",
       " 'CTriad_g5.g5.g3',\n",
       " 'CTriad_g5.g5.g4',\n",
       " 'CTriad_g5.g5.g5',\n",
       " 'CTriad_g5.g6.g6',\n",
       " 'CTriad_g6.g1.g1',\n",
       " 'CTriad_g6.g1.g2',\n",
       " 'CTriad_g6.g1.g3',\n",
       " 'CTriad_g6.g1.g4',\n",
       " 'CTriad_g6.g1.g6',\n",
       " 'CTriad_g6.g2.g1',\n",
       " 'CTriad_g6.g2.g3',\n",
       " 'CTriad_g6.g2.g5',\n",
       " 'CTriad_g6.g3.g1',\n",
       " 'CTriad_g6.g3.g2',\n",
       " 'CTriad_g6.g3.g3',\n",
       " 'CTriad_g6.g3.g4',\n",
       " 'CTriad_g6.g3.g6',\n",
       " 'CTriad_g6.g4.g1',\n",
       " 'CTriad_g6.g4.g2',\n",
       " 'CTriad_g6.g5.g1',\n",
       " 'CTriad_g6.g5.g3',\n",
       " 'CTriad_g6.g6.g1',\n",
       " 'CTriad_g6.g6.g2',\n",
       " 'CTriad_g7.g2.g2',\n",
       " 'SOCNumber_Schneider.lag1',\n",
       " 'SOCNumber_Schneider.lag3',\n",
       " 'SOCNumber_Schneider.lag16',\n",
       " 'SOCNumber_Schneider.lag26',\n",
       " 'QSOrder_Schneider.Xr.D',\n",
       " 'QSOrder_Schneider.Xr.E',\n",
       " 'QSOrder_Schneider.Xd.2',\n",
       " 'QSOrder_Schneider.Xd.19',\n",
       " 'QSOrder_Schneider.Xd.29',\n",
       " 'QSOrder_Schneider.Xd.30',\n",
       " 'QSOrder_Grantham.Xd.1',\n",
       " 'QSOrder_Grantham.Xd.3',\n",
       " 'QSOrder_Grantham.Xd.29')"
      ]
     },
     "execution_count": 59,
     "metadata": {},
     "output_type": "execute_result"
    }
   ],
   "source": [
    "sel_SFS.k_feature_names_"
   ]
  },
  {
   "cell_type": "code",
   "execution_count": 77,
   "metadata": {},
   "outputs": [
    {
     "data": {
      "text/plain": [
       "0.9378000070758121"
      ]
     },
     "execution_count": 77,
     "metadata": {},
     "output_type": "execute_result"
    }
   ],
   "source": [
    "sel_SFS.k_score_"
   ]
  },
  {
   "cell_type": "code",
   "execution_count": 60,
   "metadata": {
    "scrolled": true
   },
   "outputs": [
    {
     "data": {
      "text/plain": [
       "(0,\n",
       " 1,\n",
       " 2,\n",
       " 3,\n",
       " 4,\n",
       " 5,\n",
       " 6,\n",
       " 7,\n",
       " 8,\n",
       " 9,\n",
       " 10,\n",
       " 11,\n",
       " 12,\n",
       " 13,\n",
       " 14,\n",
       " 15,\n",
       " 16,\n",
       " 17,\n",
       " 18,\n",
       " 19,\n",
       " 20,\n",
       " 21,\n",
       " 22,\n",
       " 23,\n",
       " 24,\n",
       " 25,\n",
       " 26,\n",
       " 27,\n",
       " 28,\n",
       " 29,\n",
       " 30,\n",
       " 31,\n",
       " 32,\n",
       " 33,\n",
       " 34,\n",
       " 35,\n",
       " 36,\n",
       " 37,\n",
       " 38,\n",
       " 39,\n",
       " 40,\n",
       " 41,\n",
       " 42,\n",
       " 43,\n",
       " 44,\n",
       " 45,\n",
       " 46,\n",
       " 47,\n",
       " 48,\n",
       " 49,\n",
       " 50,\n",
       " 51,\n",
       " 52,\n",
       " 53,\n",
       " 54,\n",
       " 55,\n",
       " 56,\n",
       " 57,\n",
       " 58,\n",
       " 59,\n",
       " 60,\n",
       " 61,\n",
       " 62,\n",
       " 63,\n",
       " 64,\n",
       " 65,\n",
       " 66,\n",
       " 67,\n",
       " 68,\n",
       " 69,\n",
       " 70,\n",
       " 71,\n",
       " 72,\n",
       " 73,\n",
       " 74,\n",
       " 75,\n",
       " 76,\n",
       " 77,\n",
       " 78,\n",
       " 79,\n",
       " 80,\n",
       " 81,\n",
       " 82,\n",
       " 83,\n",
       " 84,\n",
       " 85,\n",
       " 86,\n",
       " 87,\n",
       " 88,\n",
       " 89,\n",
       " 90,\n",
       " 91,\n",
       " 92,\n",
       " 93,\n",
       " 94,\n",
       " 95,\n",
       " 96,\n",
       " 97,\n",
       " 98,\n",
       " 99,\n",
       " 100,\n",
       " 101,\n",
       " 102,\n",
       " 103,\n",
       " 104,\n",
       " 105,\n",
       " 106,\n",
       " 107,\n",
       " 108,\n",
       " 109,\n",
       " 110,\n",
       " 111,\n",
       " 112,\n",
       " 113,\n",
       " 114,\n",
       " 115,\n",
       " 116,\n",
       " 117,\n",
       " 118,\n",
       " 119,\n",
       " 120,\n",
       " 121,\n",
       " 122,\n",
       " 123,\n",
       " 124,\n",
       " 125,\n",
       " 126,\n",
       " 127,\n",
       " 128,\n",
       " 129,\n",
       " 130,\n",
       " 131,\n",
       " 132,\n",
       " 133,\n",
       " 134,\n",
       " 135,\n",
       " 136,\n",
       " 137,\n",
       " 138,\n",
       " 139,\n",
       " 140,\n",
       " 141,\n",
       " 142,\n",
       " 143,\n",
       " 144,\n",
       " 145,\n",
       " 146,\n",
       " 147,\n",
       " 148,\n",
       " 149,\n",
       " 150,\n",
       " 151,\n",
       " 152,\n",
       " 153,\n",
       " 154,\n",
       " 155,\n",
       " 156,\n",
       " 157,\n",
       " 158,\n",
       " 159,\n",
       " 160,\n",
       " 161,\n",
       " 162,\n",
       " 163,\n",
       " 164,\n",
       " 165,\n",
       " 166,\n",
       " 167,\n",
       " 168,\n",
       " 169,\n",
       " 170,\n",
       " 171,\n",
       " 172,\n",
       " 173,\n",
       " 174,\n",
       " 175,\n",
       " 176,\n",
       " 177,\n",
       " 178,\n",
       " 179,\n",
       " 180,\n",
       " 181,\n",
       " 182,\n",
       " 183,\n",
       " 184,\n",
       " 185,\n",
       " 186,\n",
       " 187,\n",
       " 188,\n",
       " 189,\n",
       " 190,\n",
       " 191,\n",
       " 192,\n",
       " 193,\n",
       " 194,\n",
       " 195,\n",
       " 196,\n",
       " 197,\n",
       " 198,\n",
       " 199,\n",
       " 200,\n",
       " 201,\n",
       " 202,\n",
       " 203,\n",
       " 204,\n",
       " 205,\n",
       " 206,\n",
       " 207,\n",
       " 208,\n",
       " 209,\n",
       " 210,\n",
       " 211,\n",
       " 212,\n",
       " 213,\n",
       " 214,\n",
       " 215,\n",
       " 216,\n",
       " 217,\n",
       " 218,\n",
       " 219,\n",
       " 220,\n",
       " 221,\n",
       " 222,\n",
       " 223,\n",
       " 224,\n",
       " 225,\n",
       " 226,\n",
       " 227,\n",
       " 228,\n",
       " 229,\n",
       " 230,\n",
       " 231,\n",
       " 232,\n",
       " 233,\n",
       " 234,\n",
       " 235,\n",
       " 236,\n",
       " 237,\n",
       " 238,\n",
       " 239,\n",
       " 240,\n",
       " 241,\n",
       " 242,\n",
       " 243,\n",
       " 244,\n",
       " 245,\n",
       " 246,\n",
       " 247,\n",
       " 248,\n",
       " 249,\n",
       " 250,\n",
       " 251,\n",
       " 252,\n",
       " 253,\n",
       " 254)"
      ]
     },
     "execution_count": 60,
     "metadata": {},
     "output_type": "execute_result"
    }
   ],
   "source": [
    "sel_SFS.k_feature_idx_"
   ]
  },
  {
   "cell_type": "code",
   "execution_count": 62,
   "metadata": {},
   "outputs": [
    {
     "data": {
      "text/html": [
       "<div>\n",
       "<style scoped>\n",
       "    .dataframe tbody tr th:only-of-type {\n",
       "        vertical-align: middle;\n",
       "    }\n",
       "\n",
       "    .dataframe tbody tr th {\n",
       "        vertical-align: top;\n",
       "    }\n",
       "\n",
       "    .dataframe thead th {\n",
       "        text-align: right;\n",
       "    }\n",
       "</style>\n",
       "<table border=\"1\" class=\"dataframe\">\n",
       "  <thead>\n",
       "    <tr style=\"text-align: right;\">\n",
       "      <th></th>\n",
       "      <th>feature_idx</th>\n",
       "      <th>cv_scores</th>\n",
       "      <th>avg_score</th>\n",
       "      <th>feature_names</th>\n",
       "      <th>ci_bound</th>\n",
       "      <th>std_dev</th>\n",
       "      <th>std_err</th>\n",
       "    </tr>\n",
       "  </thead>\n",
       "  <tbody>\n",
       "    <tr>\n",
       "      <th>1</th>\n",
       "      <td>(169,)</td>\n",
       "      <td>[0.9379547291835085, 0.9373484236054972, 0.937...</td>\n",
       "      <td>0.937699</td>\n",
       "      <td>(CTriad_g1.g6.g5,)</td>\n",
       "      <td>0.00041607</td>\n",
       "      <td>0.00025956</td>\n",
       "      <td>0.000149857</td>\n",
       "    </tr>\n",
       "    <tr>\n",
       "      <th>2</th>\n",
       "      <td>(169, 241)</td>\n",
       "      <td>[0.9379547291835085, 0.9373484236054972, 0.937...</td>\n",
       "      <td>0.937699</td>\n",
       "      <td>(CTriad_g1.g6.g5, CTriad_g7.g2.g2)</td>\n",
       "      <td>0.00041607</td>\n",
       "      <td>0.00025956</td>\n",
       "      <td>0.000149857</td>\n",
       "    </tr>\n",
       "    <tr>\n",
       "      <th>3</th>\n",
       "      <td>(169, 171, 241)</td>\n",
       "      <td>[0.9379547291835085, 0.936944219886823, 0.9375...</td>\n",
       "      <td>0.937598</td>\n",
       "      <td>(CTriad_g1.g6.g5, CTriad_g1.g7.g5, CTriad_g7.g...</td>\n",
       "      <td>0.000658688</td>\n",
       "      <td>0.000410914</td>\n",
       "      <td>0.000237242</td>\n",
       "    </tr>\n",
       "    <tr>\n",
       "      <th>4</th>\n",
       "      <td>(169, 171, 219, 241)</td>\n",
       "      <td>[0.9375505254648343, 0.9361358124494745, 0.936...</td>\n",
       "      <td>0.937042</td>\n",
       "      <td>(CTriad_g1.g6.g5, CTriad_g1.g7.g5, CTriad_g5.g...</td>\n",
       "      <td>0.000926148</td>\n",
       "      <td>0.000577766</td>\n",
       "      <td>0.000333573</td>\n",
       "    </tr>\n",
       "    <tr>\n",
       "      <th>5</th>\n",
       "      <td>(169, 171, 210, 219, 241)</td>\n",
       "      <td>[0.9371463217461601, 0.9357316087308003, 0.936...</td>\n",
       "      <td>0.936587</td>\n",
       "      <td>(CTriad_g1.g6.g5, CTriad_g1.g7.g5, CTriad_g4.g...</td>\n",
       "      <td>0.000950153</td>\n",
       "      <td>0.000592741</td>\n",
       "      <td>0.000342219</td>\n",
       "    </tr>\n",
       "    <tr>\n",
       "      <th>...</th>\n",
       "      <td>...</td>\n",
       "      <td>...</td>\n",
       "      <td>...</td>\n",
       "      <td>...</td>\n",
       "      <td>...</td>\n",
       "      <td>...</td>\n",
       "      <td>...</td>\n",
       "    </tr>\n",
       "    <tr>\n",
       "      <th>251</th>\n",
       "      <td>(0, 1, 2, 3, 4, 5, 6, 7, 8, 9, 10, 11, 12, 13,...</td>\n",
       "      <td>[0.9363379143088116, 0.9373484236054972, 0.937...</td>\n",
       "      <td>0.937194</td>\n",
       "      <td>(APAAC_Pc1.A, APAAC_Pc1.R, APAAC_Pc1.D, APAAC_...</td>\n",
       "      <td>0.000832448</td>\n",
       "      <td>0.000519312</td>\n",
       "      <td>0.000299825</td>\n",
       "    </tr>\n",
       "    <tr>\n",
       "      <th>252</th>\n",
       "      <td>(0, 1, 2, 3, 4, 5, 6, 7, 8, 9, 10, 11, 12, 13,...</td>\n",
       "      <td>[0.9353274050121261, 0.9375505254648343, 0.937...</td>\n",
       "      <td>0.937042</td>\n",
       "      <td>(APAAC_Pc1.A, APAAC_Pc1.R, APAAC_Pc1.D, APAAC_...</td>\n",
       "      <td>0.00159178</td>\n",
       "      <td>0.000993013</td>\n",
       "      <td>0.000573316</td>\n",
       "    </tr>\n",
       "    <tr>\n",
       "      <th>253</th>\n",
       "      <td>(0, 1, 2, 3, 4, 5, 6, 7, 8, 9, 10, 11, 12, 13,...</td>\n",
       "      <td>[0.9347210994341147, 0.9373484236054972, 0.937...</td>\n",
       "      <td>0.93684</td>\n",
       "      <td>(APAAC_Pc1.A, APAAC_Pc1.R, APAAC_Pc1.D, APAAC_...</td>\n",
       "      <td>0.00197355</td>\n",
       "      <td>0.00123117</td>\n",
       "      <td>0.000710819</td>\n",
       "    </tr>\n",
       "    <tr>\n",
       "      <th>254</th>\n",
       "      <td>(0, 1, 2, 3, 4, 5, 6, 7, 8, 9, 10, 11, 12, 13,...</td>\n",
       "      <td>[0.9349232012934519, 0.9375505254648343, 0.937...</td>\n",
       "      <td>0.93684</td>\n",
       "      <td>(APAAC_Pc1.A, APAAC_Pc1.R, APAAC_Pc1.D, APAAC_...</td>\n",
       "      <td>0.00177952</td>\n",
       "      <td>0.00111013</td>\n",
       "      <td>0.000640936</td>\n",
       "    </tr>\n",
       "    <tr>\n",
       "      <th>255</th>\n",
       "      <td>(0, 1, 2, 3, 4, 5, 6, 7, 8, 9, 10, 11, 12, 13,...</td>\n",
       "      <td>[0.9327000808407437, 0.9375505254648343, 0.937...</td>\n",
       "      <td>0.936284</td>\n",
       "      <td>(APAAC_Pc1.A, APAAC_Pc1.R, APAAC_Pc1.D, APAAC_...</td>\n",
       "      <td>0.00331955</td>\n",
       "      <td>0.00207086</td>\n",
       "      <td>0.00119561</td>\n",
       "    </tr>\n",
       "  </tbody>\n",
       "</table>\n",
       "<p>255 rows × 7 columns</p>\n",
       "</div>"
      ],
      "text/plain": [
       "                                           feature_idx  \\\n",
       "1                                               (169,)   \n",
       "2                                           (169, 241)   \n",
       "3                                      (169, 171, 241)   \n",
       "4                                 (169, 171, 219, 241)   \n",
       "5                            (169, 171, 210, 219, 241)   \n",
       "..                                                 ...   \n",
       "251  (0, 1, 2, 3, 4, 5, 6, 7, 8, 9, 10, 11, 12, 13,...   \n",
       "252  (0, 1, 2, 3, 4, 5, 6, 7, 8, 9, 10, 11, 12, 13,...   \n",
       "253  (0, 1, 2, 3, 4, 5, 6, 7, 8, 9, 10, 11, 12, 13,...   \n",
       "254  (0, 1, 2, 3, 4, 5, 6, 7, 8, 9, 10, 11, 12, 13,...   \n",
       "255  (0, 1, 2, 3, 4, 5, 6, 7, 8, 9, 10, 11, 12, 13,...   \n",
       "\n",
       "                                             cv_scores avg_score  \\\n",
       "1    [0.9379547291835085, 0.9373484236054972, 0.937...  0.937699   \n",
       "2    [0.9379547291835085, 0.9373484236054972, 0.937...  0.937699   \n",
       "3    [0.9379547291835085, 0.936944219886823, 0.9375...  0.937598   \n",
       "4    [0.9375505254648343, 0.9361358124494745, 0.936...  0.937042   \n",
       "5    [0.9371463217461601, 0.9357316087308003, 0.936...  0.936587   \n",
       "..                                                 ...       ...   \n",
       "251  [0.9363379143088116, 0.9373484236054972, 0.937...  0.937194   \n",
       "252  [0.9353274050121261, 0.9375505254648343, 0.937...  0.937042   \n",
       "253  [0.9347210994341147, 0.9373484236054972, 0.937...   0.93684   \n",
       "254  [0.9349232012934519, 0.9375505254648343, 0.937...   0.93684   \n",
       "255  [0.9327000808407437, 0.9375505254648343, 0.937...  0.936284   \n",
       "\n",
       "                                         feature_names     ci_bound  \\\n",
       "1                                   (CTriad_g1.g6.g5,)   0.00041607   \n",
       "2                   (CTriad_g1.g6.g5, CTriad_g7.g2.g2)   0.00041607   \n",
       "3    (CTriad_g1.g6.g5, CTriad_g1.g7.g5, CTriad_g7.g...  0.000658688   \n",
       "4    (CTriad_g1.g6.g5, CTriad_g1.g7.g5, CTriad_g5.g...  0.000926148   \n",
       "5    (CTriad_g1.g6.g5, CTriad_g1.g7.g5, CTriad_g4.g...  0.000950153   \n",
       "..                                                 ...          ...   \n",
       "251  (APAAC_Pc1.A, APAAC_Pc1.R, APAAC_Pc1.D, APAAC_...  0.000832448   \n",
       "252  (APAAC_Pc1.A, APAAC_Pc1.R, APAAC_Pc1.D, APAAC_...   0.00159178   \n",
       "253  (APAAC_Pc1.A, APAAC_Pc1.R, APAAC_Pc1.D, APAAC_...   0.00197355   \n",
       "254  (APAAC_Pc1.A, APAAC_Pc1.R, APAAC_Pc1.D, APAAC_...   0.00177952   \n",
       "255  (APAAC_Pc1.A, APAAC_Pc1.R, APAAC_Pc1.D, APAAC_...   0.00331955   \n",
       "\n",
       "         std_dev      std_err  \n",
       "1     0.00025956  0.000149857  \n",
       "2     0.00025956  0.000149857  \n",
       "3    0.000410914  0.000237242  \n",
       "4    0.000577766  0.000333573  \n",
       "5    0.000592741  0.000342219  \n",
       "..           ...          ...  \n",
       "251  0.000519312  0.000299825  \n",
       "252  0.000993013  0.000573316  \n",
       "253   0.00123117  0.000710819  \n",
       "254   0.00111013  0.000640936  \n",
       "255   0.00207086   0.00119561  \n",
       "\n",
       "[255 rows x 7 columns]"
      ]
     },
     "execution_count": 62,
     "metadata": {},
     "output_type": "execute_result"
    }
   ],
   "source": [
    "# Get the information of different feature combinations, you can see that when there are 59 feature combinations, the accuracy is the highest\n",
    "pd.DataFrame.from_dict(sel_SFS.get_metric_dict()).T "
   ]
  },
  {
   "cell_type": "code",
   "execution_count": 63,
   "metadata": {},
   "outputs": [],
   "source": [
    "pd.DataFrame.from_dict(sel_SFS.get_metric_dict()).T .to_csv('C:/Python/internship/Features/CRTR_selSFS')"
   ]
  },
  {
   "cell_type": "code",
   "execution_count": 80,
   "metadata": {},
   "outputs": [
    {
     "name": "stdout",
     "output_type": "stream",
     "text": [
      "(19791, 30)\n"
     ]
    }
   ],
   "source": [
    "df_CRTR_selSFS = pd.DataFrame()\n",
    "for s in list(sel_SFS.k_feature_names_):\n",
    "    df_CRTR_selSFS[s] = df_CRTR[s]\n",
    "print(df_CRTR_selSFS.shape)\n",
    "df_CRTR_selSFS.to_csv('C:/Python/internship/Crystal_Features_new/df_CRTR_selSFS')"
   ]
  },
  {
   "cell_type": "code",
   "execution_count": 96,
   "metadata": {},
   "outputs": [
    {
     "name": "stdout",
     "output_type": "stream",
     "text": [
      "(4947, 30)\n"
     ]
    }
   ],
   "source": [
    "df_CRTE_selSFS = pd.DataFrame()\n",
    "for i in list(sel_SFS.k_feature_names_):\n",
    "    df_CRTE_selSFS[i] = df_CRTE[i]\n",
    "print(df_CRTE_selSFS.shape)\n",
    "df_CRTE_selSFS.to_csv('C:/Python/internship/Crystal_Features_new/df_CRTE_selSFS')"
   ]
  },
  {
   "cell_type": "markdown",
   "metadata": {},
   "source": [
    "## Compare performance"
   ]
  },
  {
   "cell_type": "code",
   "execution_count": 6,
   "metadata": {},
   "outputs": [],
   "source": [
    "from sklearn.preprocessing import StandardScaler\n",
    "from sklearn.decomposition import PCA\n",
    "from sklearn.pipeline import Pipeline\n",
    "from sklearn.linear_model import LogisticRegression\n",
    "from sklearn.tree import DecisionTreeClassifier\n",
    "from sklearn.ensemble import RandomForestClassifier\n",
    "from sklearn.metrics import accuracy_score\n",
    "from deepforest import CascadeForestClassifier\n",
    "from sklearn.svm import SVC"
   ]
  },
  {
   "cell_type": "code",
   "execution_count": 7,
   "metadata": {},
   "outputs": [
    {
     "data": {
      "text/plain": [
       "'C:\\\\Python\\\\internship\\\\Crystal_Features_new/'"
      ]
     },
     "execution_count": 7,
     "metadata": {},
     "output_type": "execute_result"
    }
   ],
   "source": [
    "sel_dir = os.path.join(cwd,'Crystal_Features_new/')\n",
    "sel_dir"
   ]
  },
  {
   "cell_type": "code",
   "execution_count": 8,
   "metadata": {},
   "outputs": [
    {
     "data": {
      "text/plain": [
       "['df_CFTE_selFest',\n",
       " 'df_CFTE_selGB',\n",
       " 'df_CFTE_selImportance',\n",
       " 'df_CFTE_selMIG',\n",
       " 'df_CFTE_selRFE',\n",
       " 'df_CFTE_selSFS',\n",
       " 'df_CFTR_selFest',\n",
       " 'df_CFTR_selGB',\n",
       " 'df_CFTR_selImportance',\n",
       " 'df_CFTR_selMIG',\n",
       " 'df_CFTR_selRFE',\n",
       " 'df_CFTR_selSFS',\n",
       " 'df_CRTE_selFest',\n",
       " 'df_CRTE_selGB',\n",
       " 'df_CRTE_selImportance',\n",
       " 'df_CRTE_selMIG',\n",
       " 'df_CRTE_selRFE',\n",
       " 'df_CRTE_selSFS',\n",
       " 'df_CRTR_selFest',\n",
       " 'df_CRTR_selGB',\n",
       " 'df_CRTR_selImportance',\n",
       " 'df_CRTR_selRFE',\n",
       " 'df_CRTR_selSFS',\n",
       " 'df_MCTE_selFest',\n",
       " 'df_MCTE_selGB',\n",
       " 'df_MCTE_selImportance',\n",
       " 'df_MCTE_selMIG',\n",
       " 'df_MCTE_selRFE',\n",
       " 'df_MCTE_selSFS',\n",
       " 'df_MCTR_selConstant',\n",
       " 'df_MCTR_selFest',\n",
       " 'df_MCTR_selGB',\n",
       " 'df_MCTR_selImportance',\n",
       " 'df_MCTR_selMIG',\n",
       " 'df_MCTR_selRFE',\n",
       " 'df_MCTR_selSFS',\n",
       " 'df_MFTE_selFest',\n",
       " 'df_MFTE_selGB',\n",
       " 'df_MFTE_selImportance',\n",
       " 'df_MFTE_selMIG',\n",
       " 'df_MFTE_selRFE',\n",
       " 'df_MFTE_selSFS',\n",
       " 'df_MFTR_selConstant',\n",
       " 'df_MFTR_selFest',\n",
       " 'df_MFTR_selGB',\n",
       " 'df_MFTR_selImportance',\n",
       " 'df_MFTR_selMIG',\n",
       " 'df_MFTR_selRFE',\n",
       " 'df_MFTR_selSFS',\n",
       " 'df_PFTE_selFest',\n",
       " 'df_PFTE_selGB',\n",
       " 'df_PFTE_selImportance',\n",
       " 'df_PFTE_selMIG',\n",
       " 'df_PFTE_selRFE',\n",
       " 'df_PFTE_selSFS',\n",
       " 'df_PFTR_selFest',\n",
       " 'df_PFTR_selGB',\n",
       " 'df_PFTR_selImportance',\n",
       " 'df_PFTR_selMIG',\n",
       " 'df_PFTR_selRFE',\n",
       " 'df_PFTR_selSFS']"
      ]
     },
     "execution_count": 8,
     "metadata": {},
     "output_type": "execute_result"
    }
   ],
   "source": [
    "sel_files = os.listdir(sel_dir)\n",
    "sel_files"
   ]
  },
  {
   "cell_type": "code",
   "execution_count": 61,
   "metadata": {},
   "outputs": [
    {
     "ename": "NameError",
     "evalue": "name 'sel_files' is not defined",
     "output_type": "error",
     "traceback": [
      "\u001b[1;31m---------------------------------------------------------------------------\u001b[0m",
      "\u001b[1;31mNameError\u001b[0m                                 Traceback (most recent call last)",
      "\u001b[1;32m<ipython-input-61-d61051ffea20>\u001b[0m in \u001b[0;36m<module>\u001b[1;34m\u001b[0m\n\u001b[1;32m----> 1\u001b[1;33m \u001b[0mlen\u001b[0m\u001b[1;33m(\u001b[0m\u001b[0msel_files\u001b[0m\u001b[1;33m)\u001b[0m\u001b[1;33m\u001b[0m\u001b[1;33m\u001b[0m\u001b[0m\n\u001b[0m",
      "\u001b[1;31mNameError\u001b[0m: name 'sel_files' is not defined"
     ]
    }
   ],
   "source": [
    "len(sel_files)"
   ]
  },
  {
   "cell_type": "code",
   "execution_count": 13,
   "metadata": {},
   "outputs": [
    {
     "name": "stdout",
     "output_type": "stream",
     "text": [
      "df_CFTE_selFest (546, 1234)\n",
      "df_CFTE_selGB (546, 559)\n",
      "df_CFTE_selImportance (4947, 1118)\n",
      "df_CFTE_selMIG (546, 125)\n",
      "df_CFTE_selRFE (546, 276)\n",
      "df_CFTE_selSFS (4947, 31)\n",
      "df_CFTR_selFest (2184, 1234)\n",
      "df_CFTR_selGB (2184, 1118)\n",
      "df_CFTR_selImportance (2184, 551)\n",
      "df_CFTR_selMIG (2184, 125)\n",
      "df_CFTR_selRFE (2184, 276)\n",
      "df_CFTR_selSFS (2184, 25)\n",
      "df_CRTE_selFest (4947, 2546)\n",
      "df_CRTE_selGB (4947, 1118)\n",
      "df_CRTE_selImportance (4947, 1118)\n",
      "df_CRTE_selMIG (4947, 256)\n",
      "df_CRTE_selRFE (4947, 559)\n",
      "df_CRTE_selSFS (4947, 31)\n",
      "df_CRTR_selFest (19791, 2546)\n",
      "df_CRTR_selGB (19791, 1118)\n",
      "df_CRTR_selImportance (19791, 1118)\n",
      "df_CRTR_selRFE (19791, 559)\n",
      "df_CRTR_selSFS (19791, 31)\n",
      "df_MCTE_selFest (1020, 1512)\n",
      "df_MCTE_selGB (1020, 367)\n",
      "df_MCTE_selImportance (1020, 367)\n",
      "df_MCTE_selMIG (1020, 152)\n",
      "df_MCTE_selRFE (1020, 184)\n",
      "df_MCTE_selSFS (1020, 30)\n",
      "df_MCTR_selConstant (4080, 2653)\n",
      "df_MCTR_selFest (4080, 1512)\n",
      "df_MCTR_selGB (4080, 367)\n",
      "df_MCTR_selImportance (4080, 367)\n",
      "df_MCTR_selMIG (4080, 152)\n",
      "df_MCTR_selRFE (4080, 184)\n",
      "df_MCTR_selSFS (4080, 30)\n",
      "df_MFTE_selFest (4947, 2065)\n",
      "df_MFTE_selGB (4947, 932)\n",
      "df_MFTE_selImportance (4947, 932)\n",
      "df_MFTE_selMIG (4947, 208)\n",
      "df_MFTE_selRFE (4947, 466)\n",
      "df_MFTE_selSFS (4947, 40)\n",
      "df_MFTR_selConstant (19791, 3096)\n",
      "df_MFTR_selFest (19791, 2065)\n",
      "df_MFTR_selGB (19791, 932)\n",
      "df_MFTR_selImportance (19791, 932)\n",
      "df_MFTR_selMIG (19791, 208)\n",
      "df_MFTR_selRFE (19791, 466)\n",
      "df_MFTR_selSFS (19791, 40)\n",
      "df_PFTE_selFest (1849, 1169)\n",
      "df_PFTE_selGB (1849, 548)\n",
      "df_PFTE_selImportance (1849, 548)\n",
      "df_PFTE_selMIG (1849, 118)\n",
      "df_PFTE_selRFE (1849, 274)\n",
      "df_PFTE_selSFS (1849, 28)\n",
      "df_PFTR_selFest (7399, 1169)\n",
      "df_PFTR_selGB (7399, 548)\n",
      "df_PFTR_selImportance (7399, 548)\n",
      "df_PFTR_selMIG (7399, 118)\n",
      "df_PFTR_selRFE (7399, 274)\n",
      "df_PFTR_selSFS (7399, 28)\n"
     ]
    }
   ],
   "source": [
    "for s in sel_files:\n",
    "    df = pd.read_csv(sel_dir+s)\n",
    "    print(s,df.shape)"
   ]
  },
  {
   "cell_type": "code",
   "execution_count": 24,
   "metadata": {},
   "outputs": [
    {
     "name": "stdout",
     "output_type": "stream",
     "text": [
      "['df_CRTR_selFest', 'df_CRTR_selGB', 'df_CRTR_selImportance', 'df_CRTR_selMIG', 'df_CRTR_selRFE', 'df_CRTR_selSFS'] ['df_CRTE_selFest', 'df_CRTE_selGB', 'df_CRTE_selImportance', 'df_CRTE_selMIG', 'df_CRTE_selRFE', 'df_CRTE_selSFS']\n"
     ]
    }
   ],
   "source": [
    "sel_TR = []\n",
    "sel_TE = []\n",
    "for s in sel_files:\n",
    "    if s[5:7] == 'TE':\n",
    "        sel_TE.append(s)\n",
    "    else:\n",
    "        sel_TR.append(s)\n",
    "print(sel_TR,sel_TE)"
   ]
  },
  {
   "cell_type": "code",
   "execution_count": 27,
   "metadata": {
    "scrolled": false
   },
   "outputs": [
    {
     "name": "stdout",
     "output_type": "stream",
     "text": [
      "df_CRTR_selFest df_CRTE_selFest\n",
      "The accuracy of model_LR is  0.9349100464928239\n",
      "The accuracy of model_DT is  0.8744693753790176\n",
      "The accuracy of model_RF is  0.9349100464928239\n",
      "The accuracy of model_SVC is  0.9351121892055791\n",
      "[2022-02-19 16:23:26.867] Start to fit the model:\n",
      "[2022-02-19 16:23:26.867] Fitting cascade layer = 0 \n",
      "[2022-02-19 16:25:44.293] layer = 0  | Val Acc = 93.765 % | Elapsed = 137.426 s\n",
      "[2022-02-19 16:25:44.443] Fitting cascade layer = 1 \n",
      "[2022-02-19 16:27:23.983] layer = 1  | Val Acc = 93.765 % | Elapsed = 99.540 s\n",
      "[2022-02-19 16:27:23.983] Early stopping counter: 1 out of 2\n",
      "[2022-02-19 16:27:24.004] Fitting cascade layer = 2 \n",
      "[2022-02-19 16:29:04.111] layer = 2  | Val Acc = 93.765 % | Elapsed = 100.108 s\n",
      "[2022-02-19 16:29:04.111] Early stopping counter: 2 out of 2\n",
      "[2022-02-19 16:29:04.111] Handling early stopping\n",
      "[2022-02-19 16:29:04.111] The optimal number of layers: 1\n",
      "[2022-02-19 16:29:04.131] Start to evalute the model:\n",
      "[2022-02-19 16:29:04.481] Evaluating cascade layer = 0 \n",
      "The accuracy of model_DCF is  0.9351121892055791\n",
      "The accuracy of model_GB is  0.9338993329290479\n",
      "============================================================ \n",
      "df_CRTR_selGB df_CRTE_selGB\n",
      "The accuracy of model_LR is  0.9349100464928239\n",
      "The accuracy of model_DT is  0.8793208004851425\n",
      "The accuracy of model_RF is  0.9349100464928239\n",
      "The accuracy of model_SVC is  0.9351121892055791\n",
      "[2022-02-19 17:05:17.889] Start to fit the model:\n",
      "[2022-02-19 17:05:17.889] Fitting cascade layer = 0 \n",
      "[2022-02-19 17:06:37.759] layer = 0  | Val Acc = 93.765 % | Elapsed = 79.870 s\n",
      "[2022-02-19 17:06:37.819] Fitting cascade layer = 1 \n",
      "[2022-02-19 17:07:45.619] layer = 1  | Val Acc = 93.765 % | Elapsed = 67.800 s\n",
      "[2022-02-19 17:07:45.619] Early stopping counter: 1 out of 2\n",
      "[2022-02-19 17:07:45.639] Fitting cascade layer = 2 \n",
      "[2022-02-19 17:08:53.048] layer = 2  | Val Acc = 93.765 % | Elapsed = 67.409 s\n",
      "[2022-02-19 17:08:53.048] Early stopping counter: 2 out of 2\n",
      "[2022-02-19 17:08:53.048] Handling early stopping\n",
      "[2022-02-19 17:08:53.048] The optimal number of layers: 1\n",
      "[2022-02-19 17:08:53.058] Start to evalute the model:\n",
      "[2022-02-19 17:08:53.198] Evaluating cascade layer = 0 \n",
      "The accuracy of model_DCF is  0.9351121892055791\n",
      "The accuracy of model_GB is  0.9351121892055791\n",
      "============================================================ \n",
      "df_CRTR_selImportance df_CRTE_selImportance\n",
      "The accuracy of model_LR is  0.9349100464928239\n",
      "The accuracy of model_DT is  0.872852233676976\n",
      "The accuracy of model_RF is  0.9351121892055791\n",
      "The accuracy of model_SVC is  0.9351121892055791\n",
      "[2022-02-19 17:39:57.394] Start to fit the model:\n",
      "[2022-02-19 17:39:57.394] Fitting cascade layer = 0 \n",
      "[2022-02-19 17:41:16.995] layer = 0  | Val Acc = 93.765 % | Elapsed = 79.601 s\n",
      "[2022-02-19 17:41:17.055] Fitting cascade layer = 1 \n",
      "[2022-02-19 17:42:24.844] layer = 1  | Val Acc = 93.765 % | Elapsed = 67.790 s\n",
      "[2022-02-19 17:42:24.844] Early stopping counter: 1 out of 2\n",
      "[2022-02-19 17:42:24.854] Fitting cascade layer = 2 \n",
      "[2022-02-19 17:43:32.205] layer = 2  | Val Acc = 93.765 % | Elapsed = 67.351 s\n",
      "[2022-02-19 17:43:32.205] Early stopping counter: 2 out of 2\n",
      "[2022-02-19 17:43:32.205] Handling early stopping\n",
      "[2022-02-19 17:43:32.205] The optimal number of layers: 1\n",
      "[2022-02-19 17:43:32.205] Start to evalute the model:\n",
      "[2022-02-19 17:43:32.355] Evaluating cascade layer = 0 \n",
      "The accuracy of model_DCF is  0.9351121892055791\n",
      "The accuracy of model_GB is  0.9351121892055791\n",
      "============================================================ \n",
      "df_CRTR_selMIG df_CRTE_selMIG\n",
      "The accuracy of model_LR is  0.9349100464928239\n",
      "The accuracy of model_DT is  0.8772993733575905\n",
      "The accuracy of model_RF is  0.9351121892055791\n",
      "The accuracy of model_SVC is  0.9351121892055791\n",
      "[2022-02-19 17:54:09.512] Start to fit the model:\n",
      "[2022-02-19 17:54:09.512] Fitting cascade layer = 0 \n",
      "[2022-02-19 17:54:31.754] layer = 0  | Val Acc = 93.765 % | Elapsed = 22.242 s\n",
      "[2022-02-19 17:54:31.784] Fitting cascade layer = 1 \n",
      "[2022-02-19 17:54:53.372] layer = 1  | Val Acc = 93.765 % | Elapsed = 21.588 s\n",
      "[2022-02-19 17:54:53.372] Early stopping counter: 1 out of 2\n",
      "[2022-02-19 17:54:53.393] Fitting cascade layer = 2 \n",
      "[2022-02-19 17:55:15.062] layer = 2  | Val Acc = 93.765 % | Elapsed = 21.669 s\n",
      "[2022-02-19 17:55:15.062] Early stopping counter: 2 out of 2\n",
      "[2022-02-19 17:55:15.062] Handling early stopping\n",
      "[2022-02-19 17:55:15.062] The optimal number of layers: 1\n",
      "[2022-02-19 17:55:15.062] Start to evalute the model:\n",
      "[2022-02-19 17:55:15.102] Evaluating cascade layer = 0 \n",
      "The accuracy of model_DCF is  0.9351121892055791\n",
      "The accuracy of model_GB is  0.9349100464928239\n",
      "============================================================ \n",
      "df_CRTR_selRFE df_CRTE_selRFE\n",
      "The accuracy of model_LR is  0.9351121892055791\n",
      "The accuracy of model_DT is  0.8762886597938144\n",
      "The accuracy of model_RF is  0.9347079037800687\n",
      "The accuracy of model_SVC is  0.9351121892055791\n",
      "[2022-02-19 18:04:08.944] Start to fit the model:\n",
      "[2022-02-19 18:04:08.944] Fitting cascade layer = 0 \n",
      "[2022-02-19 18:05:00.169] layer = 0  | Val Acc = 93.765 % | Elapsed = 51.225 s\n",
      "[2022-02-19 18:05:00.209] Fitting cascade layer = 1 \n",
      "[2022-02-19 18:05:47.384] layer = 1  | Val Acc = 93.765 % | Elapsed = 47.175 s\n",
      "[2022-02-19 18:05:47.384] Early stopping counter: 1 out of 2\n",
      "[2022-02-19 18:05:47.404] Fitting cascade layer = 2 \n",
      "[2022-02-19 18:06:33.838] layer = 2  | Val Acc = 93.765 % | Elapsed = 46.435 s\n",
      "[2022-02-19 18:06:33.838] Early stopping counter: 2 out of 2\n",
      "[2022-02-19 18:06:33.838] Handling early stopping\n",
      "[2022-02-19 18:06:33.838] The optimal number of layers: 1\n",
      "[2022-02-19 18:06:33.848] Start to evalute the model:\n",
      "[2022-02-19 18:06:33.919] Evaluating cascade layer = 0 \n",
      "The accuracy of model_DCF is  0.9351121892055791\n",
      "The accuracy of model_GB is  0.9349100464928239\n",
      "============================================================ \n",
      "df_CRTR_selSFS df_CRTE_selSFS\n",
      "The accuracy of model_LR is  0.9351121892055791\n",
      "The accuracy of model_DT is  0.8791186577723873\n",
      "The accuracy of model_RF is  0.9351121892055791\n",
      "The accuracy of model_SVC is  0.9351121892055791\n",
      "[2022-02-19 18:10:55.499] Start to fit the model:\n",
      "[2022-02-19 18:10:55.499] Fitting cascade layer = 0 \n",
      "[2022-02-19 18:11:02.120] layer = 0  | Val Acc = 93.775 % | Elapsed = 6.622 s\n",
      "[2022-02-19 18:11:02.130] Fitting cascade layer = 1 \n",
      "[2022-02-19 18:11:09.961] layer = 1  | Val Acc = 93.770 % | Elapsed = 7.831 s\n",
      "[2022-02-19 18:11:09.961] Early stopping counter: 1 out of 2\n",
      "[2022-02-19 18:11:09.981] Fitting cascade layer = 2 \n",
      "[2022-02-19 18:11:17.791] layer = 2  | Val Acc = 93.775 % | Elapsed = 7.810 s\n",
      "[2022-02-19 18:11:17.791] Early stopping counter: 2 out of 2\n",
      "[2022-02-19 18:11:17.791] Handling early stopping\n",
      "[2022-02-19 18:11:17.791] The optimal number of layers: 1\n",
      "[2022-02-19 18:11:17.801] Start to evalute the model:\n",
      "[2022-02-19 18:11:17.811] Evaluating cascade layer = 0 \n",
      "The accuracy of model_DCF is  0.9351121892055791\n",
      "The accuracy of model_GB is  0.9349100464928239\n",
      "============================================================ \n",
      "9538.258705615997\n"
     ]
    }
   ],
   "source": [
    "start = time.time()\n",
    "for tr,te in zip(sel_TR,sel_TE):\n",
    "    X = pd.read_csv(sel_dir+tr)\n",
    "    X = X.drop(columns=['Unnamed: 0'])\n",
    "    x = pd.read_csv(sel_dir+te)\n",
    "    x = x.drop(columns=['Unnamed: 0'])\n",
    "    \n",
    "    print(tr,te)\n",
    "    model_LR = LogisticRegression(random_state=0)\n",
    "    model_LR.fit(X,Y_CRTR)\n",
    "    print('The accuracy of model_LR is ',model_LR.score(x, Y_CRTE))\n",
    "    \n",
    "    model_DT = DecisionTreeClassifier()\n",
    "    model_DT.fit(X,Y_CRTR)\n",
    "    print('The accuracy of model_DT is ',model_DT.score(x, Y_CRTE))\n",
    "    \n",
    "    model_RF = RandomForestClassifier()\n",
    "    model_RF.fit(X,Y_CRTR)\n",
    "    print('The accuracy of model_RF is ',model_RF.score(x, Y_CRTE))\n",
    "    \n",
    "    model_SVC = SVC(gamma='auto')\n",
    "    model_SVC.fit(X,Y_CRTR)\n",
    "    print('The accuracy of model_SVC is ',model_SVC.score(x, Y_CRTE))\n",
    "    \n",
    "    model_DCF = CascadeForestClassifier(random_state=0)\n",
    "    model_DCF.fit(X.values,Y_CRTR)\n",
    "    print('The accuracy of model_DCF is ',model_DCF.score(x, Y_CRTE))\n",
    "    \n",
    "    model_GB = GradientBoostingClassifier(n_estimators=100,random_state=0)\n",
    "    model_GB.fit(X,Y_CRTR)\n",
    "    print('The accuracy of model_GB is ',model_GB.score(x, Y_CRTE))\n",
    "    print('============================================================ ')\n",
    "end = time.time()\n",
    "print(end-start)"
   ]
  },
  {
   "cell_type": "code",
   "execution_count": null,
   "metadata": {},
   "outputs": [],
   "source": []
  },
  {
   "cell_type": "code",
   "execution_count": null,
   "metadata": {},
   "outputs": [],
   "source": []
  },
  {
   "cell_type": "code",
   "execution_count": null,
   "metadata": {},
   "outputs": [],
   "source": []
  },
  {
   "cell_type": "code",
   "execution_count": null,
   "metadata": {},
   "outputs": [],
   "source": []
  },
  {
   "cell_type": "code",
   "execution_count": null,
   "metadata": {},
   "outputs": [],
   "source": []
  },
  {
   "cell_type": "code",
   "execution_count": null,
   "metadata": {},
   "outputs": [],
   "source": []
  },
  {
   "cell_type": "code",
   "execution_count": null,
   "metadata": {},
   "outputs": [],
   "source": []
  },
  {
   "cell_type": "code",
   "execution_count": null,
   "metadata": {},
   "outputs": [],
   "source": []
  },
  {
   "cell_type": "code",
   "execution_count": null,
   "metadata": {},
   "outputs": [],
   "source": []
  },
  {
   "cell_type": "code",
   "execution_count": null,
   "metadata": {},
   "outputs": [],
   "source": []
  },
  {
   "cell_type": "code",
   "execution_count": null,
   "metadata": {},
   "outputs": [],
   "source": []
  }
 ],
 "metadata": {
  "kernelspec": {
   "display_name": "Python 3",
   "language": "python",
   "name": "python3"
  },
  "language_info": {
   "codemirror_mode": {
    "name": "ipython",
    "version": 3
   },
   "file_extension": ".py",
   "mimetype": "text/x-python",
   "name": "python",
   "nbconvert_exporter": "python",
   "pygments_lexer": "ipython3",
   "version": "3.8.3"
  }
 },
 "nbformat": 4,
 "nbformat_minor": 4
}
